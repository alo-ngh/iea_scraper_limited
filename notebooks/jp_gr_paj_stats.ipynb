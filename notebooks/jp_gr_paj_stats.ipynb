{
 "cells": [
  {
   "cell_type": "markdown",
   "metadata": {},
   "source": [
    "# Scraper for PAJ Oil Statistics Weekly\n",
    "\n",
    "Japanese Oil Statistics weekly from Petroleum Association of Japan.\n",
    "\n",
    "Source: https://stats.paj.gr.jp/en/d-member/index.html\n",
    "\n",
    "Authentication: HTTP Digest authentication.\n",
    "\n",
    "Japanese weekly data are published usually on Wednesdays lunchtime. More details and schedule can be found on Petroleum Association of Japan Weekly data website.\n",
    "\n",
    "We subscribe to Member data, Data for Analizing course member (Charged).\n",
    "\n",
    "Data is separated by year (2018, 2019 and 2020) and the region (All Japan, East Japan  and West Japan). We use All Japan data only.\n",
    "\n",
    "Column names are defined in the template file: https://stats.paj.gr.jp/en/d-member/csvs/FormY_EP.xlt\n"
   ]
  },
  {
   "cell_type": "code",
   "execution_count": 1,
   "metadata": {},
   "outputs": [
    {
     "name": "stdout",
     "output_type": "stream",
     "text": [
      "C:\\Users\\ROSA_L\\PycharmProjects\\scraper\n"
     ]
    }
   ],
   "source": [
    "%cd .."
   ]
  },
  {
   "cell_type": "code",
   "execution_count": 5,
   "metadata": {},
   "outputs": [
    {
     "ename": "SSLError",
     "evalue": "HTTPSConnectionPool(host='stats.paj.gr.jp', port=443): Max retries exceeded with url: /en/d-member/index.html (Caused by SSLError(SSLError(1, '[SSL: CERTIFICATE_VERIFY_FAILED] certificate verify failed (_ssl.c:833)'),))",
     "output_type": "error",
     "traceback": [
      "\u001b[1;31m---------------------------------------------------------------------------\u001b[0m",
      "\u001b[1;31mSSLError\u001b[0m                                  Traceback (most recent call last)",
      "\u001b[1;32mc:\\users\\rosa_l\\pycharmprojects\\scraper\\venv\\lib\\site-packages\\urllib3\\connectionpool.py\u001b[0m in \u001b[0;36murlopen\u001b[1;34m(self, method, url, body, headers, retries, redirect, assert_same_host, timeout, pool_timeout, release_conn, chunked, body_pos, **response_kw)\u001b[0m\n\u001b[0;32m    599\u001b[0m                                                   \u001b[0mbody\u001b[0m\u001b[1;33m=\u001b[0m\u001b[0mbody\u001b[0m\u001b[1;33m,\u001b[0m \u001b[0mheaders\u001b[0m\u001b[1;33m=\u001b[0m\u001b[0mheaders\u001b[0m\u001b[1;33m,\u001b[0m\u001b[1;33m\u001b[0m\u001b[0m\n\u001b[1;32m--> 600\u001b[1;33m                                                   chunked=chunked)\n\u001b[0m\u001b[0;32m    601\u001b[0m \u001b[1;33m\u001b[0m\u001b[0m\n",
      "\u001b[1;32mc:\\users\\rosa_l\\pycharmprojects\\scraper\\venv\\lib\\site-packages\\urllib3\\connectionpool.py\u001b[0m in \u001b[0;36m_make_request\u001b[1;34m(self, conn, method, url, timeout, chunked, **httplib_request_kw)\u001b[0m\n\u001b[0;32m    342\u001b[0m         \u001b[1;32mtry\u001b[0m\u001b[1;33m:\u001b[0m\u001b[1;33m\u001b[0m\u001b[0m\n\u001b[1;32m--> 343\u001b[1;33m             \u001b[0mself\u001b[0m\u001b[1;33m.\u001b[0m\u001b[0m_validate_conn\u001b[0m\u001b[1;33m(\u001b[0m\u001b[0mconn\u001b[0m\u001b[1;33m)\u001b[0m\u001b[1;33m\u001b[0m\u001b[0m\n\u001b[0m\u001b[0;32m    344\u001b[0m         \u001b[1;32mexcept\u001b[0m \u001b[1;33m(\u001b[0m\u001b[0mSocketTimeout\u001b[0m\u001b[1;33m,\u001b[0m \u001b[0mBaseSSLError\u001b[0m\u001b[1;33m)\u001b[0m \u001b[1;32mas\u001b[0m \u001b[0me\u001b[0m\u001b[1;33m:\u001b[0m\u001b[1;33m\u001b[0m\u001b[0m\n",
      "\u001b[1;32mc:\\users\\rosa_l\\pycharmprojects\\scraper\\venv\\lib\\site-packages\\urllib3\\connectionpool.py\u001b[0m in \u001b[0;36m_validate_conn\u001b[1;34m(self, conn)\u001b[0m\n\u001b[0;32m    848\u001b[0m         \u001b[1;32mif\u001b[0m \u001b[1;32mnot\u001b[0m \u001b[0mgetattr\u001b[0m\u001b[1;33m(\u001b[0m\u001b[0mconn\u001b[0m\u001b[1;33m,\u001b[0m \u001b[1;34m'sock'\u001b[0m\u001b[1;33m,\u001b[0m \u001b[1;32mNone\u001b[0m\u001b[1;33m)\u001b[0m\u001b[1;33m:\u001b[0m  \u001b[1;31m# AppEngine might not have  `.sock`\u001b[0m\u001b[1;33m\u001b[0m\u001b[0m\n\u001b[1;32m--> 849\u001b[1;33m             \u001b[0mconn\u001b[0m\u001b[1;33m.\u001b[0m\u001b[0mconnect\u001b[0m\u001b[1;33m(\u001b[0m\u001b[1;33m)\u001b[0m\u001b[1;33m\u001b[0m\u001b[0m\n\u001b[0m\u001b[0;32m    850\u001b[0m \u001b[1;33m\u001b[0m\u001b[0m\n",
      "\u001b[1;32mc:\\users\\rosa_l\\pycharmprojects\\scraper\\venv\\lib\\site-packages\\urllib3\\connection.py\u001b[0m in \u001b[0;36mconnect\u001b[1;34m(self)\u001b[0m\n\u001b[0;32m    355\u001b[0m             \u001b[0mserver_hostname\u001b[0m\u001b[1;33m=\u001b[0m\u001b[0mhostname\u001b[0m\u001b[1;33m,\u001b[0m\u001b[1;33m\u001b[0m\u001b[0m\n\u001b[1;32m--> 356\u001b[1;33m             ssl_context=context)\n\u001b[0m\u001b[0;32m    357\u001b[0m \u001b[1;33m\u001b[0m\u001b[0m\n",
      "\u001b[1;32mc:\\users\\rosa_l\\pycharmprojects\\scraper\\venv\\lib\\site-packages\\urllib3\\util\\ssl_.py\u001b[0m in \u001b[0;36mssl_wrap_socket\u001b[1;34m(sock, keyfile, certfile, cert_reqs, ca_certs, server_hostname, ssl_version, ciphers, ssl_context, ca_cert_dir)\u001b[0m\n\u001b[0;32m    358\u001b[0m         \u001b[1;32mif\u001b[0m \u001b[0mHAS_SNI\u001b[0m \u001b[1;32mand\u001b[0m \u001b[0mserver_hostname\u001b[0m \u001b[1;32mis\u001b[0m \u001b[1;32mnot\u001b[0m \u001b[1;32mNone\u001b[0m\u001b[1;33m:\u001b[0m\u001b[1;33m\u001b[0m\u001b[0m\n\u001b[1;32m--> 359\u001b[1;33m             \u001b[1;32mreturn\u001b[0m \u001b[0mcontext\u001b[0m\u001b[1;33m.\u001b[0m\u001b[0mwrap_socket\u001b[0m\u001b[1;33m(\u001b[0m\u001b[0msock\u001b[0m\u001b[1;33m,\u001b[0m \u001b[0mserver_hostname\u001b[0m\u001b[1;33m=\u001b[0m\u001b[0mserver_hostname\u001b[0m\u001b[1;33m)\u001b[0m\u001b[1;33m\u001b[0m\u001b[0m\n\u001b[0m\u001b[0;32m    360\u001b[0m \u001b[1;33m\u001b[0m\u001b[0m\n",
      "\u001b[1;32m~\\AppData\\Local\\Continuum\\Anaconda3\\lib\\ssl.py\u001b[0m in \u001b[0;36mwrap_socket\u001b[1;34m(self, sock, server_side, do_handshake_on_connect, suppress_ragged_eofs, server_hostname, session)\u001b[0m\n\u001b[0;32m    406\u001b[0m                          \u001b[0mserver_hostname\u001b[0m\u001b[1;33m=\u001b[0m\u001b[0mserver_hostname\u001b[0m\u001b[1;33m,\u001b[0m\u001b[1;33m\u001b[0m\u001b[0m\n\u001b[1;32m--> 407\u001b[1;33m                          _context=self, _session=session)\n\u001b[0m\u001b[0;32m    408\u001b[0m \u001b[1;33m\u001b[0m\u001b[0m\n",
      "\u001b[1;32m~\\AppData\\Local\\Continuum\\Anaconda3\\lib\\ssl.py\u001b[0m in \u001b[0;36m__init__\u001b[1;34m(self, sock, keyfile, certfile, server_side, cert_reqs, ssl_version, ca_certs, do_handshake_on_connect, family, type, proto, fileno, suppress_ragged_eofs, npn_protocols, ciphers, server_hostname, _context, _session)\u001b[0m\n\u001b[0;32m    813\u001b[0m                         \u001b[1;32mraise\u001b[0m \u001b[0mValueError\u001b[0m\u001b[1;33m(\u001b[0m\u001b[1;34m\"do_handshake_on_connect should not be specified for non-blocking sockets\"\u001b[0m\u001b[1;33m)\u001b[0m\u001b[1;33m\u001b[0m\u001b[0m\n\u001b[1;32m--> 814\u001b[1;33m                     \u001b[0mself\u001b[0m\u001b[1;33m.\u001b[0m\u001b[0mdo_handshake\u001b[0m\u001b[1;33m(\u001b[0m\u001b[1;33m)\u001b[0m\u001b[1;33m\u001b[0m\u001b[0m\n\u001b[0m\u001b[0;32m    815\u001b[0m \u001b[1;33m\u001b[0m\u001b[0m\n",
      "\u001b[1;32m~\\AppData\\Local\\Continuum\\Anaconda3\\lib\\ssl.py\u001b[0m in \u001b[0;36mdo_handshake\u001b[1;34m(self, block)\u001b[0m\n\u001b[0;32m   1067\u001b[0m                 \u001b[0mself\u001b[0m\u001b[1;33m.\u001b[0m\u001b[0msettimeout\u001b[0m\u001b[1;33m(\u001b[0m\u001b[1;32mNone\u001b[0m\u001b[1;33m)\u001b[0m\u001b[1;33m\u001b[0m\u001b[0m\n\u001b[1;32m-> 1068\u001b[1;33m             \u001b[0mself\u001b[0m\u001b[1;33m.\u001b[0m\u001b[0m_sslobj\u001b[0m\u001b[1;33m.\u001b[0m\u001b[0mdo_handshake\u001b[0m\u001b[1;33m(\u001b[0m\u001b[1;33m)\u001b[0m\u001b[1;33m\u001b[0m\u001b[0m\n\u001b[0m\u001b[0;32m   1069\u001b[0m         \u001b[1;32mfinally\u001b[0m\u001b[1;33m:\u001b[0m\u001b[1;33m\u001b[0m\u001b[0m\n",
      "\u001b[1;32m~\\AppData\\Local\\Continuum\\Anaconda3\\lib\\ssl.py\u001b[0m in \u001b[0;36mdo_handshake\u001b[1;34m(self)\u001b[0m\n\u001b[0;32m    688\u001b[0m         \u001b[1;34m\"\"\"Start the SSL/TLS handshake.\"\"\"\u001b[0m\u001b[1;33m\u001b[0m\u001b[0m\n\u001b[1;32m--> 689\u001b[1;33m         \u001b[0mself\u001b[0m\u001b[1;33m.\u001b[0m\u001b[0m_sslobj\u001b[0m\u001b[1;33m.\u001b[0m\u001b[0mdo_handshake\u001b[0m\u001b[1;33m(\u001b[0m\u001b[1;33m)\u001b[0m\u001b[1;33m\u001b[0m\u001b[0m\n\u001b[0m\u001b[0;32m    690\u001b[0m         \u001b[1;32mif\u001b[0m \u001b[0mself\u001b[0m\u001b[1;33m.\u001b[0m\u001b[0mcontext\u001b[0m\u001b[1;33m.\u001b[0m\u001b[0mcheck_hostname\u001b[0m\u001b[1;33m:\u001b[0m\u001b[1;33m\u001b[0m\u001b[0m\n",
      "\u001b[1;31mSSLError\u001b[0m: [SSL: CERTIFICATE_VERIFY_FAILED] certificate verify failed (_ssl.c:833)",
      "\nDuring handling of the above exception, another exception occurred:\n",
      "\u001b[1;31mMaxRetryError\u001b[0m                             Traceback (most recent call last)",
      "\u001b[1;32mc:\\users\\rosa_l\\pycharmprojects\\scraper\\venv\\lib\\site-packages\\requests\\adapters.py\u001b[0m in \u001b[0;36msend\u001b[1;34m(self, request, stream, timeout, verify, cert, proxies)\u001b[0m\n\u001b[0;32m    444\u001b[0m                     \u001b[0mretries\u001b[0m\u001b[1;33m=\u001b[0m\u001b[0mself\u001b[0m\u001b[1;33m.\u001b[0m\u001b[0mmax_retries\u001b[0m\u001b[1;33m,\u001b[0m\u001b[1;33m\u001b[0m\u001b[0m\n\u001b[1;32m--> 445\u001b[1;33m                     \u001b[0mtimeout\u001b[0m\u001b[1;33m=\u001b[0m\u001b[0mtimeout\u001b[0m\u001b[1;33m\u001b[0m\u001b[0m\n\u001b[0m\u001b[0;32m    446\u001b[0m                 )\n",
      "\u001b[1;32mc:\\users\\rosa_l\\pycharmprojects\\scraper\\venv\\lib\\site-packages\\urllib3\\connectionpool.py\u001b[0m in \u001b[0;36murlopen\u001b[1;34m(self, method, url, body, headers, retries, redirect, assert_same_host, timeout, pool_timeout, release_conn, chunked, body_pos, **response_kw)\u001b[0m\n\u001b[0;32m    637\u001b[0m             retries = retries.increment(method, url, error=e, _pool=self,\n\u001b[1;32m--> 638\u001b[1;33m                                         _stacktrace=sys.exc_info()[2])\n\u001b[0m\u001b[0;32m    639\u001b[0m             \u001b[0mretries\u001b[0m\u001b[1;33m.\u001b[0m\u001b[0msleep\u001b[0m\u001b[1;33m(\u001b[0m\u001b[1;33m)\u001b[0m\u001b[1;33m\u001b[0m\u001b[0m\n",
      "\u001b[1;32mc:\\users\\rosa_l\\pycharmprojects\\scraper\\venv\\lib\\site-packages\\urllib3\\util\\retry.py\u001b[0m in \u001b[0;36mincrement\u001b[1;34m(self, method, url, response, error, _pool, _stacktrace)\u001b[0m\n\u001b[0;32m    397\u001b[0m         \u001b[1;32mif\u001b[0m \u001b[0mnew_retry\u001b[0m\u001b[1;33m.\u001b[0m\u001b[0mis_exhausted\u001b[0m\u001b[1;33m(\u001b[0m\u001b[1;33m)\u001b[0m\u001b[1;33m:\u001b[0m\u001b[1;33m\u001b[0m\u001b[0m\n\u001b[1;32m--> 398\u001b[1;33m             \u001b[1;32mraise\u001b[0m \u001b[0mMaxRetryError\u001b[0m\u001b[1;33m(\u001b[0m\u001b[0m_pool\u001b[0m\u001b[1;33m,\u001b[0m \u001b[0murl\u001b[0m\u001b[1;33m,\u001b[0m \u001b[0merror\u001b[0m \u001b[1;32mor\u001b[0m \u001b[0mResponseError\u001b[0m\u001b[1;33m(\u001b[0m\u001b[0mcause\u001b[0m\u001b[1;33m)\u001b[0m\u001b[1;33m)\u001b[0m\u001b[1;33m\u001b[0m\u001b[0m\n\u001b[0m\u001b[0;32m    399\u001b[0m \u001b[1;33m\u001b[0m\u001b[0m\n",
      "\u001b[1;31mMaxRetryError\u001b[0m: HTTPSConnectionPool(host='stats.paj.gr.jp', port=443): Max retries exceeded with url: /en/d-member/index.html (Caused by SSLError(SSLError(1, '[SSL: CERTIFICATE_VERIFY_FAILED] certificate verify failed (_ssl.c:833)'),))",
      "\nDuring handling of the above exception, another exception occurred:\n",
      "\u001b[1;31mSSLError\u001b[0m                                  Traceback (most recent call last)",
      "\u001b[1;32m<ipython-input-5-83cf0bd4e5fa>\u001b[0m in \u001b[0;36m<module>\u001b[1;34m()\u001b[0m\n\u001b[0;32m      9\u001b[0m \u001b[0ms\u001b[0m \u001b[1;33m=\u001b[0m \u001b[0mrequests\u001b[0m\u001b[1;33m.\u001b[0m\u001b[0mSession\u001b[0m\u001b[1;33m(\u001b[0m\u001b[1;33m)\u001b[0m\u001b[1;33m\u001b[0m\u001b[0m\n\u001b[0;32m     10\u001b[0m \u001b[0ms\u001b[0m\u001b[1;33m.\u001b[0m\u001b[0mauth\u001b[0m\u001b[1;33m=\u001b[0m\u001b[0mHTTPDigestAuth\u001b[0m\u001b[1;33m(\u001b[0m\u001b[0mPAJ_USERNAME\u001b[0m\u001b[1;33m,\u001b[0m \u001b[0mPAJ_PASSWORD\u001b[0m\u001b[1;33m)\u001b[0m\u001b[1;33m\u001b[0m\u001b[0m\n\u001b[1;32m---> 11\u001b[1;33m \u001b[0mresult\u001b[0m \u001b[1;33m=\u001b[0m \u001b[0ms\u001b[0m\u001b[1;33m.\u001b[0m\u001b[0mget\u001b[0m\u001b[1;33m(\u001b[0m\u001b[1;34mf'{ROOT_URL}/index.html'\u001b[0m\u001b[1;33m)\u001b[0m\u001b[1;33m\u001b[0m\u001b[0m\n\u001b[0m\u001b[0;32m     12\u001b[0m \u001b[1;33m\u001b[0m\u001b[0m\n\u001b[0;32m     13\u001b[0m \u001b[0mprint\u001b[0m\u001b[1;33m(\u001b[0m\u001b[0mresult\u001b[0m\u001b[1;33m)\u001b[0m\u001b[1;33m\u001b[0m\u001b[0m\n",
      "\u001b[1;32mc:\\users\\rosa_l\\pycharmprojects\\scraper\\venv\\lib\\site-packages\\requests\\sessions.py\u001b[0m in \u001b[0;36mget\u001b[1;34m(self, url, **kwargs)\u001b[0m\n\u001b[0;32m    523\u001b[0m \u001b[1;33m\u001b[0m\u001b[0m\n\u001b[0;32m    524\u001b[0m         \u001b[0mkwargs\u001b[0m\u001b[1;33m.\u001b[0m\u001b[0msetdefault\u001b[0m\u001b[1;33m(\u001b[0m\u001b[1;34m'allow_redirects'\u001b[0m\u001b[1;33m,\u001b[0m \u001b[1;32mTrue\u001b[0m\u001b[1;33m)\u001b[0m\u001b[1;33m\u001b[0m\u001b[0m\n\u001b[1;32m--> 525\u001b[1;33m         \u001b[1;32mreturn\u001b[0m \u001b[0mself\u001b[0m\u001b[1;33m.\u001b[0m\u001b[0mrequest\u001b[0m\u001b[1;33m(\u001b[0m\u001b[1;34m'GET'\u001b[0m\u001b[1;33m,\u001b[0m \u001b[0murl\u001b[0m\u001b[1;33m,\u001b[0m \u001b[1;33m**\u001b[0m\u001b[0mkwargs\u001b[0m\u001b[1;33m)\u001b[0m\u001b[1;33m\u001b[0m\u001b[0m\n\u001b[0m\u001b[0;32m    526\u001b[0m \u001b[1;33m\u001b[0m\u001b[0m\n\u001b[0;32m    527\u001b[0m     \u001b[1;32mdef\u001b[0m \u001b[0moptions\u001b[0m\u001b[1;33m(\u001b[0m\u001b[0mself\u001b[0m\u001b[1;33m,\u001b[0m \u001b[0murl\u001b[0m\u001b[1;33m,\u001b[0m \u001b[1;33m**\u001b[0m\u001b[0mkwargs\u001b[0m\u001b[1;33m)\u001b[0m\u001b[1;33m:\u001b[0m\u001b[1;33m\u001b[0m\u001b[0m\n",
      "\u001b[1;32mc:\\users\\rosa_l\\pycharmprojects\\scraper\\venv\\lib\\site-packages\\requests\\sessions.py\u001b[0m in \u001b[0;36mrequest\u001b[1;34m(self, method, url, params, data, headers, cookies, files, auth, timeout, allow_redirects, proxies, hooks, stream, verify, cert, json)\u001b[0m\n\u001b[0;32m    510\u001b[0m         }\n\u001b[0;32m    511\u001b[0m         \u001b[0msend_kwargs\u001b[0m\u001b[1;33m.\u001b[0m\u001b[0mupdate\u001b[0m\u001b[1;33m(\u001b[0m\u001b[0msettings\u001b[0m\u001b[1;33m)\u001b[0m\u001b[1;33m\u001b[0m\u001b[0m\n\u001b[1;32m--> 512\u001b[1;33m         \u001b[0mresp\u001b[0m \u001b[1;33m=\u001b[0m \u001b[0mself\u001b[0m\u001b[1;33m.\u001b[0m\u001b[0msend\u001b[0m\u001b[1;33m(\u001b[0m\u001b[0mprep\u001b[0m\u001b[1;33m,\u001b[0m \u001b[1;33m**\u001b[0m\u001b[0msend_kwargs\u001b[0m\u001b[1;33m)\u001b[0m\u001b[1;33m\u001b[0m\u001b[0m\n\u001b[0m\u001b[0;32m    513\u001b[0m \u001b[1;33m\u001b[0m\u001b[0m\n\u001b[0;32m    514\u001b[0m         \u001b[1;32mreturn\u001b[0m \u001b[0mresp\u001b[0m\u001b[1;33m\u001b[0m\u001b[0m\n",
      "\u001b[1;32mc:\\users\\rosa_l\\pycharmprojects\\scraper\\venv\\lib\\site-packages\\requests\\sessions.py\u001b[0m in \u001b[0;36msend\u001b[1;34m(self, request, **kwargs)\u001b[0m\n\u001b[0;32m    620\u001b[0m \u001b[1;33m\u001b[0m\u001b[0m\n\u001b[0;32m    621\u001b[0m         \u001b[1;31m# Send the request\u001b[0m\u001b[1;33m\u001b[0m\u001b[1;33m\u001b[0m\u001b[0m\n\u001b[1;32m--> 622\u001b[1;33m         \u001b[0mr\u001b[0m \u001b[1;33m=\u001b[0m \u001b[0madapter\u001b[0m\u001b[1;33m.\u001b[0m\u001b[0msend\u001b[0m\u001b[1;33m(\u001b[0m\u001b[0mrequest\u001b[0m\u001b[1;33m,\u001b[0m \u001b[1;33m**\u001b[0m\u001b[0mkwargs\u001b[0m\u001b[1;33m)\u001b[0m\u001b[1;33m\u001b[0m\u001b[0m\n\u001b[0m\u001b[0;32m    623\u001b[0m \u001b[1;33m\u001b[0m\u001b[0m\n\u001b[0;32m    624\u001b[0m         \u001b[1;31m# Total elapsed time of the request (approximately)\u001b[0m\u001b[1;33m\u001b[0m\u001b[1;33m\u001b[0m\u001b[0m\n",
      "\u001b[1;32mc:\\users\\rosa_l\\pycharmprojects\\scraper\\venv\\lib\\site-packages\\requests\\adapters.py\u001b[0m in \u001b[0;36msend\u001b[1;34m(self, request, stream, timeout, verify, cert, proxies)\u001b[0m\n\u001b[0;32m    509\u001b[0m             \u001b[1;32mif\u001b[0m \u001b[0misinstance\u001b[0m\u001b[1;33m(\u001b[0m\u001b[0me\u001b[0m\u001b[1;33m.\u001b[0m\u001b[0mreason\u001b[0m\u001b[1;33m,\u001b[0m \u001b[0m_SSLError\u001b[0m\u001b[1;33m)\u001b[0m\u001b[1;33m:\u001b[0m\u001b[1;33m\u001b[0m\u001b[0m\n\u001b[0;32m    510\u001b[0m                 \u001b[1;31m# This branch is for urllib3 v1.22 and later.\u001b[0m\u001b[1;33m\u001b[0m\u001b[1;33m\u001b[0m\u001b[0m\n\u001b[1;32m--> 511\u001b[1;33m                 \u001b[1;32mraise\u001b[0m \u001b[0mSSLError\u001b[0m\u001b[1;33m(\u001b[0m\u001b[0me\u001b[0m\u001b[1;33m,\u001b[0m \u001b[0mrequest\u001b[0m\u001b[1;33m=\u001b[0m\u001b[0mrequest\u001b[0m\u001b[1;33m)\u001b[0m\u001b[1;33m\u001b[0m\u001b[0m\n\u001b[0m\u001b[0;32m    512\u001b[0m \u001b[1;33m\u001b[0m\u001b[0m\n\u001b[0;32m    513\u001b[0m             \u001b[1;32mraise\u001b[0m \u001b[0mConnectionError\u001b[0m\u001b[1;33m(\u001b[0m\u001b[0me\u001b[0m\u001b[1;33m,\u001b[0m \u001b[0mrequest\u001b[0m\u001b[1;33m=\u001b[0m\u001b[0mrequest\u001b[0m\u001b[1;33m)\u001b[0m\u001b[1;33m\u001b[0m\u001b[0m\n",
      "\u001b[1;31mSSLError\u001b[0m: HTTPSConnectionPool(host='stats.paj.gr.jp', port=443): Max retries exceeded with url: /en/d-member/index.html (Caused by SSLError(SSLError(1, '[SSL: CERTIFICATE_VERIFY_FAILED] certificate verify failed (_ssl.c:833)'),))"
     ]
    }
   ],
   "source": [
    "# Testing with Session object, getting login from settings\n",
    "import requests\n",
    "from requests.auth import HTTPDigestAuth\n",
    "\n",
    "from scraper.settings import PAJ_USERNAME, PAJ_PASSWORD\n",
    "\n",
    "ROOT_URL = 'https://stats.paj.gr.jp/en/d-member'\n",
    "\n",
    "s = requests.Session()\n",
    "s.auth=HTTPDigestAuth(PAJ_USERNAME, PAJ_PASSWORD)\n",
    "result = s.get(f'{ROOT_URL}/index.html')\n",
    "\n",
    "print(result)"
   ]
  },
  {
   "cell_type": "code",
   "execution_count": 6,
   "metadata": {},
   "outputs": [
    {
     "name": "stdout",
     "output_type": "stream",
     "text": [
      "['./csvs/2020.csv', './csvs/2019.csv', './csvs/2018.csv']\n"
     ]
    }
   ],
   "source": [
    "# Get URLs to the csv files\n",
    "from bs4 import BeautifulSoup\n",
    "\n",
    "files_to_download = [a['href'] for a in BeautifulSoup(result.text, 'html.parser').find_all('a') if a.text == 'All Japan']\n",
    "print(files_to_download)"
   ]
  },
  {
   "cell_type": "code",
   "execution_count": 26,
   "metadata": {},
   "outputs": [
    {
     "name": "stdout",
     "output_type": "stream",
     "text": [
      "2020.csv\n",
      "https://stats.paj.gr.jp/en/d-member/./csvs/2020.csv\n",
      "<Response [200]>\n",
      "file filestore\\jp_gr_paj_all_japan_2020.csv written.\n",
      "2019.csv\n",
      "https://stats.paj.gr.jp/en/d-member/./csvs/2019.csv\n",
      "<Response [200]>\n",
      "file filestore\\jp_gr_paj_all_japan_2019.csv written.\n",
      "2018.csv\n",
      "https://stats.paj.gr.jp/en/d-member/./csvs/2018.csv\n",
      "<Response [200]>\n",
      "file filestore\\jp_gr_paj_all_japan_2018.csv written.\n"
     ]
    }
   ],
   "source": [
    "from pathlib import Path\n",
    "\n",
    "file_prefix = 'jp_gr_paj_all_japan'\n",
    "filestore_dir = Path('./filestore')\n",
    "\n",
    "for f in files_to_download:\n",
    "    p = Path(f)\n",
    "    print(p.name)\n",
    "    year = p.stem\n",
    "    print(f'{ROOT_URL}/{f}')\n",
    "    r = s.get(f'{ROOT_URL}/{f}')\n",
    "    print(r)\n",
    "    if r.ok:\n",
    "        target_file = filestore_dir / f'{file_prefix}_{year}.csv'\n",
    "        target_file.write_bytes(r.content)\n",
    "        print(f'file {target_file} written.')\n",
    "    "
   ]
  },
  {
   "cell_type": "code",
   "execution_count": 39,
   "metadata": {},
   "outputs": [
    {
     "data": {
      "text/plain": [
       "'Current Week'"
      ]
     },
     "metadata": {},
     "output_type": "display_data"
    },
    {
     "data": {
      "text/plain": [
       "'Refinery Operations - Crude Input(kl)'"
      ]
     },
     "metadata": {},
     "output_type": "display_data"
    },
    {
     "data": {
      "text/plain": [
       "'Refinery Operations - Weekly Average Capacity(BPSD)'"
      ]
     },
     "metadata": {},
     "output_type": "display_data"
    },
    {
     "data": {
      "text/plain": [
       "'Refinery Operations - Util. Rate against BPSD'"
      ]
     },
     "metadata": {},
     "output_type": "display_data"
    },
    {
     "data": {
      "text/plain": [
       "'Refinery Operations - Designed Capacity(BPCD)'"
      ]
     },
     "metadata": {},
     "output_type": "display_data"
    },
    {
     "data": {
      "text/plain": [
       "'Refinery Operations - Util. Rate against BPCD'"
      ]
     },
     "metadata": {},
     "output_type": "display_data"
    },
    {
     "data": {
      "text/plain": [
       "'Products Stocks(kl) - Crude Oil'"
      ]
     },
     "metadata": {},
     "output_type": "display_data"
    },
    {
     "data": {
      "text/plain": [
       "'Products Stocks(kl) - Gasoline'"
      ]
     },
     "metadata": {},
     "output_type": "display_data"
    },
    {
     "data": {
      "text/plain": [
       "'Products Stocks(kl) - Naphtha'"
      ]
     },
     "metadata": {},
     "output_type": "display_data"
    },
    {
     "data": {
      "text/plain": [
       "'Products Stocks(kl) - Jet'"
      ]
     },
     "metadata": {},
     "output_type": "display_data"
    },
    {
     "data": {
      "text/plain": [
       "'Products Stocks(kl) - Kerosene'"
      ]
     },
     "metadata": {},
     "output_type": "display_data"
    },
    {
     "data": {
      "text/plain": [
       "'Products Stocks(kl) - Gas Oil(Diesel)'"
      ]
     },
     "metadata": {},
     "output_type": "display_data"
    },
    {
     "data": {
      "text/plain": [
       "'Products Stocks(kl) - LSA'"
      ]
     },
     "metadata": {},
     "output_type": "display_data"
    },
    {
     "data": {
      "text/plain": [
       "'Products Stocks(kl) - HSA'"
      ]
     },
     "metadata": {},
     "output_type": "display_data"
    },
    {
     "data": {
      "text/plain": [
       "'Products Stocks(kl) - AFO'"
      ]
     },
     "metadata": {},
     "output_type": "display_data"
    },
    {
     "data": {
      "text/plain": [
       "'Products Stocks(kl) - LSC'"
      ]
     },
     "metadata": {},
     "output_type": "display_data"
    },
    {
     "data": {
      "text/plain": [
       "'Products Stocks(kl) - HSC'"
      ]
     },
     "metadata": {},
     "output_type": "display_data"
    },
    {
     "data": {
      "text/plain": [
       "'Products Stocks(kl) - CFO'"
      ]
     },
     "metadata": {},
     "output_type": "display_data"
    },
    {
     "data": {
      "text/plain": [
       "'Products Stocks(kl) - Total'"
      ]
     },
     "metadata": {},
     "output_type": "display_data"
    },
    {
     "data": {
      "text/plain": [
       "'Unfinished Oil Stocks(kl) - Unfinished Gasoline'"
      ]
     },
     "metadata": {},
     "output_type": "display_data"
    },
    {
     "data": {
      "text/plain": [
       "'Unfinished Oil Stocks(kl) - Unfinished Kerosene'"
      ]
     },
     "metadata": {},
     "output_type": "display_data"
    },
    {
     "data": {
      "text/plain": [
       "'Unfinished Oil Stocks(kl) - Unfinished Gas Oil'"
      ]
     },
     "metadata": {},
     "output_type": "display_data"
    },
    {
     "data": {
      "text/plain": [
       "'Unfinished Oil Stocks(kl) - Unfinished AFO'"
      ]
     },
     "metadata": {},
     "output_type": "display_data"
    },
    {
     "data": {
      "text/plain": [
       "'Unfinished Oil Stocks(kl) - Feed Stocks'"
      ]
     },
     "metadata": {},
     "output_type": "display_data"
    },
    {
     "data": {
      "text/plain": [
       "'Unfinished Oil Stocks(kl) - Total'"
      ]
     },
     "metadata": {},
     "output_type": "display_data"
    },
    {
     "data": {
      "text/plain": [
       "'Refinery Production(kl) - Gasoline'"
      ]
     },
     "metadata": {},
     "output_type": "display_data"
    },
    {
     "data": {
      "text/plain": [
       "'Refinery Production(kl) - Naphtha'"
      ]
     },
     "metadata": {},
     "output_type": "display_data"
    },
    {
     "data": {
      "text/plain": [
       "'Refinery Production(kl) - Jet'"
      ]
     },
     "metadata": {},
     "output_type": "display_data"
    },
    {
     "data": {
      "text/plain": [
       "'Refinery Production(kl) - Kerosene'"
      ]
     },
     "metadata": {},
     "output_type": "display_data"
    },
    {
     "data": {
      "text/plain": [
       "'Refinery Production(kl) - Gas Oil(Diesel)'"
      ]
     },
     "metadata": {},
     "output_type": "display_data"
    },
    {
     "data": {
      "text/plain": [
       "'Refinery Production(kl) - LSA'"
      ]
     },
     "metadata": {},
     "output_type": "display_data"
    },
    {
     "data": {
      "text/plain": [
       "'Refinery Production(kl) - HSA'"
      ]
     },
     "metadata": {},
     "output_type": "display_data"
    },
    {
     "data": {
      "text/plain": [
       "'Refinery Production(kl) - AFO'"
      ]
     },
     "metadata": {},
     "output_type": "display_data"
    },
    {
     "data": {
      "text/plain": [
       "'Refinery Production(kl) - LSC'"
      ]
     },
     "metadata": {},
     "output_type": "display_data"
    },
    {
     "data": {
      "text/plain": [
       "'Refinery Production(kl) - HSC'"
      ]
     },
     "metadata": {},
     "output_type": "display_data"
    },
    {
     "data": {
      "text/plain": [
       "'Refinery Production(kl) - CFO'"
      ]
     },
     "metadata": {},
     "output_type": "display_data"
    },
    {
     "data": {
      "text/plain": [
       "'Refinery Production(kl) - Total'"
      ]
     },
     "metadata": {},
     "output_type": "display_data"
    },
    {
     "data": {
      "text/plain": [
       "'Imports(kl) - Gasoline'"
      ]
     },
     "metadata": {},
     "output_type": "display_data"
    },
    {
     "data": {
      "text/plain": [
       "'Imports(kl) - Naphtha'"
      ]
     },
     "metadata": {},
     "output_type": "display_data"
    },
    {
     "data": {
      "text/plain": [
       "'Imports(kl) - Jet'"
      ]
     },
     "metadata": {},
     "output_type": "display_data"
    },
    {
     "data": {
      "text/plain": [
       "'Imports(kl) - Kerosene'"
      ]
     },
     "metadata": {},
     "output_type": "display_data"
    },
    {
     "data": {
      "text/plain": [
       "'Imports(kl) - Gas Oil(Diesel)'"
      ]
     },
     "metadata": {},
     "output_type": "display_data"
    },
    {
     "data": {
      "text/plain": [
       "'Imports(kl) - LSA'"
      ]
     },
     "metadata": {},
     "output_type": "display_data"
    },
    {
     "data": {
      "text/plain": [
       "'Imports(kl) - HSA'"
      ]
     },
     "metadata": {},
     "output_type": "display_data"
    },
    {
     "data": {
      "text/plain": [
       "'Imports(kl) - AFO'"
      ]
     },
     "metadata": {},
     "output_type": "display_data"
    },
    {
     "data": {
      "text/plain": [
       "'Imports(kl) - LSC'"
      ]
     },
     "metadata": {},
     "output_type": "display_data"
    },
    {
     "data": {
      "text/plain": [
       "'Imports(kl) - HSC'"
      ]
     },
     "metadata": {},
     "output_type": "display_data"
    },
    {
     "data": {
      "text/plain": [
       "'Imports(kl) - CFO'"
      ]
     },
     "metadata": {},
     "output_type": "display_data"
    },
    {
     "data": {
      "text/plain": [
       "'Imports(kl) - Total'"
      ]
     },
     "metadata": {},
     "output_type": "display_data"
    },
    {
     "data": {
      "text/plain": [
       "'Exports(kl) - Gasoline'"
      ]
     },
     "metadata": {},
     "output_type": "display_data"
    },
    {
     "data": {
      "text/plain": [
       "'Exports(kl) - Naphtha'"
      ]
     },
     "metadata": {},
     "output_type": "display_data"
    },
    {
     "data": {
      "text/plain": [
       "'Exports(kl) - Jet'"
      ]
     },
     "metadata": {},
     "output_type": "display_data"
    },
    {
     "data": {
      "text/plain": [
       "'Exports(kl) - Kerosene'"
      ]
     },
     "metadata": {},
     "output_type": "display_data"
    },
    {
     "data": {
      "text/plain": [
       "'Exports(kl) - Gas Oil(Diesel)'"
      ]
     },
     "metadata": {},
     "output_type": "display_data"
    },
    {
     "data": {
      "text/plain": [
       "'Exports(kl) - LSA'"
      ]
     },
     "metadata": {},
     "output_type": "display_data"
    },
    {
     "data": {
      "text/plain": [
       "'Exports(kl) - HSA'"
      ]
     },
     "metadata": {},
     "output_type": "display_data"
    },
    {
     "data": {
      "text/plain": [
       "'Exports(kl) - AFO'"
      ]
     },
     "metadata": {},
     "output_type": "display_data"
    },
    {
     "data": {
      "text/plain": [
       "'Exports(kl) - LSC'"
      ]
     },
     "metadata": {},
     "output_type": "display_data"
    },
    {
     "data": {
      "text/plain": [
       "'Exports(kl) - HSC'"
      ]
     },
     "metadata": {},
     "output_type": "display_data"
    },
    {
     "data": {
      "text/plain": [
       "'Exports(kl) - CFO'"
      ]
     },
     "metadata": {},
     "output_type": "display_data"
    },
    {
     "data": {
      "text/plain": [
       "'Exports(kl) - Total'"
      ]
     },
     "metadata": {},
     "output_type": "display_data"
    },
    {
     "data": {
      "text/html": [
       "<div>\n",
       "<style scoped>\n",
       "    .dataframe tbody tr th:only-of-type {\n",
       "        vertical-align: middle;\n",
       "    }\n",
       "\n",
       "    .dataframe tbody tr th {\n",
       "        vertical-align: top;\n",
       "    }\n",
       "\n",
       "    .dataframe thead th {\n",
       "        text-align: right;\n",
       "    }\n",
       "</style>\n",
       "<table border=\"1\" class=\"dataframe\">\n",
       "  <thead>\n",
       "    <tr style=\"text-align: right;\">\n",
       "      <th></th>\n",
       "      <th>Current Week</th>\n",
       "      <th>Refinery Operations - Crude Input(kl)</th>\n",
       "      <th>Refinery Operations - Weekly Average Capacity(BPSD)</th>\n",
       "      <th>Refinery Operations - Util. Rate against BPSD</th>\n",
       "      <th>Refinery Operations - Designed Capacity(BPCD)</th>\n",
       "      <th>Refinery Operations - Util. Rate against BPCD</th>\n",
       "      <th>Products Stocks(kl) - Crude Oil</th>\n",
       "      <th>Products Stocks(kl) - Gasoline</th>\n",
       "      <th>Products Stocks(kl) - Naphtha</th>\n",
       "      <th>Products Stocks(kl) - Jet</th>\n",
       "      <th>...</th>\n",
       "      <th>Exports(kl) - Jet</th>\n",
       "      <th>Exports(kl) - Kerosene</th>\n",
       "      <th>Exports(kl) - Gas Oil(Diesel)</th>\n",
       "      <th>Exports(kl) - LSA</th>\n",
       "      <th>Exports(kl) - HSA</th>\n",
       "      <th>Exports(kl) - AFO</th>\n",
       "      <th>Exports(kl) - LSC</th>\n",
       "      <th>Exports(kl) - HSC</th>\n",
       "      <th>Exports(kl) - CFO</th>\n",
       "      <th>Exports(kl) - Total</th>\n",
       "    </tr>\n",
       "  </thead>\n",
       "  <tbody>\n",
       "    <tr>\n",
       "      <th>0</th>\n",
       "      <td>29/Dec/2019-04/Jan/2020</td>\n",
       "      <td>3569258.0</td>\n",
       "      <td>3448800.0</td>\n",
       "      <td>93.0</td>\n",
       "      <td>3518800.0</td>\n",
       "      <td>91.1</td>\n",
       "      <td>11743285.0</td>\n",
       "      <td>1657964.0</td>\n",
       "      <td>1639051.0</td>\n",
       "      <td>760513.0</td>\n",
       "      <td>...</td>\n",
       "      <td>116323.0</td>\n",
       "      <td>49190.0</td>\n",
       "      <td>106367.0</td>\n",
       "      <td>1100.0</td>\n",
       "      <td>43068.0</td>\n",
       "      <td>44168.0</td>\n",
       "      <td>69253.0</td>\n",
       "      <td>76128.0</td>\n",
       "      <td>145381.0</td>\n",
       "      <td>530461.0</td>\n",
       "    </tr>\n",
       "    <tr>\n",
       "      <th>1</th>\n",
       "      <td>05/Jan/2020-11/Jan/2020</td>\n",
       "      <td>3506928.0</td>\n",
       "      <td>3448800.0</td>\n",
       "      <td>91.4</td>\n",
       "      <td>3518800.0</td>\n",
       "      <td>89.6</td>\n",
       "      <td>10534954.0</td>\n",
       "      <td>1698530.0</td>\n",
       "      <td>1514410.0</td>\n",
       "      <td>843806.0</td>\n",
       "      <td>...</td>\n",
       "      <td>148421.0</td>\n",
       "      <td>0.0</td>\n",
       "      <td>136856.0</td>\n",
       "      <td>1949.0</td>\n",
       "      <td>49078.0</td>\n",
       "      <td>51027.0</td>\n",
       "      <td>49130.0</td>\n",
       "      <td>83241.0</td>\n",
       "      <td>132371.0</td>\n",
       "      <td>493477.0</td>\n",
       "    </tr>\n",
       "    <tr>\n",
       "      <th>2</th>\n",
       "      <td>12/Jan/2020-18/Jan/2020</td>\n",
       "      <td>3497244.0</td>\n",
       "      <td>3448800.0</td>\n",
       "      <td>91.1</td>\n",
       "      <td>3518800.0</td>\n",
       "      <td>89.3</td>\n",
       "      <td>10850893.0</td>\n",
       "      <td>1751681.0</td>\n",
       "      <td>1556528.0</td>\n",
       "      <td>862632.0</td>\n",
       "      <td>...</td>\n",
       "      <td>168103.0</td>\n",
       "      <td>41730.0</td>\n",
       "      <td>213146.0</td>\n",
       "      <td>10236.0</td>\n",
       "      <td>3456.0</td>\n",
       "      <td>13692.0</td>\n",
       "      <td>98899.0</td>\n",
       "      <td>105605.0</td>\n",
       "      <td>204504.0</td>\n",
       "      <td>768068.0</td>\n",
       "    </tr>\n",
       "    <tr>\n",
       "      <th>3</th>\n",
       "      <td>19/Jan/2020-25/Jan/2020</td>\n",
       "      <td>3416796.0</td>\n",
       "      <td>3345943.0</td>\n",
       "      <td>91.8</td>\n",
       "      <td>3518800.0</td>\n",
       "      <td>87.3</td>\n",
       "      <td>11400924.0</td>\n",
       "      <td>1795447.0</td>\n",
       "      <td>1709336.0</td>\n",
       "      <td>775379.0</td>\n",
       "      <td>...</td>\n",
       "      <td>162500.0</td>\n",
       "      <td>66560.0</td>\n",
       "      <td>142576.0</td>\n",
       "      <td>4016.0</td>\n",
       "      <td>12835.0</td>\n",
       "      <td>16851.0</td>\n",
       "      <td>95255.0</td>\n",
       "      <td>77015.0</td>\n",
       "      <td>172270.0</td>\n",
       "      <td>574920.0</td>\n",
       "    </tr>\n",
       "    <tr>\n",
       "      <th>4</th>\n",
       "      <td>26/Jan/2020-01/Feb/2020</td>\n",
       "      <td>3347139.0</td>\n",
       "      <td>3328800.0</td>\n",
       "      <td>90.4</td>\n",
       "      <td>3518800.0</td>\n",
       "      <td>85.5</td>\n",
       "      <td>10903010.0</td>\n",
       "      <td>1811192.0</td>\n",
       "      <td>1727520.0</td>\n",
       "      <td>810927.0</td>\n",
       "      <td>...</td>\n",
       "      <td>237592.0</td>\n",
       "      <td>0.0</td>\n",
       "      <td>72690.0</td>\n",
       "      <td>6348.0</td>\n",
       "      <td>56895.0</td>\n",
       "      <td>63243.0</td>\n",
       "      <td>58849.0</td>\n",
       "      <td>63730.0</td>\n",
       "      <td>122579.0</td>\n",
       "      <td>612601.0</td>\n",
       "    </tr>\n",
       "  </tbody>\n",
       "</table>\n",
       "<p>5 rows × 61 columns</p>\n",
       "</div>"
      ],
      "text/plain": [
       "              Current Week  Refinery Operations - Crude Input(kl)  \\\n",
       "0  29/Dec/2019-04/Jan/2020                              3569258.0   \n",
       "1  05/Jan/2020-11/Jan/2020                              3506928.0   \n",
       "2  12/Jan/2020-18/Jan/2020                              3497244.0   \n",
       "3  19/Jan/2020-25/Jan/2020                              3416796.0   \n",
       "4  26/Jan/2020-01/Feb/2020                              3347139.0   \n",
       "\n",
       "   Refinery Operations - Weekly Average Capacity(BPSD)  \\\n",
       "0                                          3448800.0     \n",
       "1                                          3448800.0     \n",
       "2                                          3448800.0     \n",
       "3                                          3345943.0     \n",
       "4                                          3328800.0     \n",
       "\n",
       "   Refinery Operations - Util. Rate against BPSD  \\\n",
       "0                                           93.0   \n",
       "1                                           91.4   \n",
       "2                                           91.1   \n",
       "3                                           91.8   \n",
       "4                                           90.4   \n",
       "\n",
       "   Refinery Operations - Designed Capacity(BPCD)  \\\n",
       "0                                      3518800.0   \n",
       "1                                      3518800.0   \n",
       "2                                      3518800.0   \n",
       "3                                      3518800.0   \n",
       "4                                      3518800.0   \n",
       "\n",
       "   Refinery Operations - Util. Rate against BPCD  \\\n",
       "0                                           91.1   \n",
       "1                                           89.6   \n",
       "2                                           89.3   \n",
       "3                                           87.3   \n",
       "4                                           85.5   \n",
       "\n",
       "   Products Stocks(kl) - Crude Oil  Products Stocks(kl) - Gasoline  \\\n",
       "0                       11743285.0                       1657964.0   \n",
       "1                       10534954.0                       1698530.0   \n",
       "2                       10850893.0                       1751681.0   \n",
       "3                       11400924.0                       1795447.0   \n",
       "4                       10903010.0                       1811192.0   \n",
       "\n",
       "   Products Stocks(kl) - Naphtha  Products Stocks(kl) - Jet  ...  \\\n",
       "0                      1639051.0                   760513.0  ...   \n",
       "1                      1514410.0                   843806.0  ...   \n",
       "2                      1556528.0                   862632.0  ...   \n",
       "3                      1709336.0                   775379.0  ...   \n",
       "4                      1727520.0                   810927.0  ...   \n",
       "\n",
       "   Exports(kl) - Jet  Exports(kl) - Kerosene  Exports(kl) - Gas Oil(Diesel)  \\\n",
       "0           116323.0                 49190.0                       106367.0   \n",
       "1           148421.0                     0.0                       136856.0   \n",
       "2           168103.0                 41730.0                       213146.0   \n",
       "3           162500.0                 66560.0                       142576.0   \n",
       "4           237592.0                     0.0                        72690.0   \n",
       "\n",
       "   Exports(kl) - LSA  Exports(kl) - HSA  Exports(kl) - AFO  Exports(kl) - LSC  \\\n",
       "0             1100.0            43068.0            44168.0            69253.0   \n",
       "1             1949.0            49078.0            51027.0            49130.0   \n",
       "2            10236.0             3456.0            13692.0            98899.0   \n",
       "3             4016.0            12835.0            16851.0            95255.0   \n",
       "4             6348.0            56895.0            63243.0            58849.0   \n",
       "\n",
       "   Exports(kl) - HSC  Exports(kl) - CFO  Exports(kl) - Total  \n",
       "0            76128.0           145381.0             530461.0  \n",
       "1            83241.0           132371.0             493477.0  \n",
       "2           105605.0           204504.0             768068.0  \n",
       "3            77015.0           172270.0             574920.0  \n",
       "4            63730.0           122579.0             612601.0  \n",
       "\n",
       "[5 rows x 61 columns]"
      ]
     },
     "execution_count": 39,
     "metadata": {},
     "output_type": "execute_result"
    }
   ],
   "source": [
    "import pandas as pd\n",
    "\n",
    "header_list = {'Current Week': str,\n",
    "               'Refinery Operations - Crude Input(kl)': float, \n",
    "               'Refinery Operations - Weekly Average Capacity(BPSD)': float,\n",
    "               'Refinery Operations - Util. Rate against BPSD': float,\n",
    "               'Refinery Operations - Designed Capacity(BPCD)': float,\n",
    "               'Refinery Operations - Util. Rate against BPCD': float,\n",
    "               'Products Stocks(kl) - Crude Oil': float,\n",
    "               'Products Stocks(kl) - Gasoline': float,\n",
    "               'Products Stocks(kl) - Naphtha': float,\n",
    "               'Products Stocks(kl) - Jet': float,\n",
    "               'Products Stocks(kl) - Kerosene': float,\n",
    "               'Products Stocks(kl) - Gas Oil(Diesel)': float,\n",
    "               'Products Stocks(kl) - LSA': float,\n",
    "               'Products Stocks(kl) - HSA': float,\n",
    "               'Products Stocks(kl) - AFO': float,\n",
    "               'Products Stocks(kl) - LSC': float,\n",
    "               'Products Stocks(kl) - HSC': float,\n",
    "               'Products Stocks(kl) - CFO': float,\n",
    "               'Products Stocks(kl) - Total': float,\n",
    "               'Unfinished Oil Stocks(kl) - Unfinished Gasoline': float,\n",
    "               'Unfinished Oil Stocks(kl) - Unfinished Kerosene': float,\n",
    "               'Unfinished Oil Stocks(kl) - Unfinished Gas Oil': float,\n",
    "               'Unfinished Oil Stocks(kl) - Unfinished AFO': float,\n",
    "               'Unfinished Oil Stocks(kl) - Feed Stocks': float,\n",
    "               'Unfinished Oil Stocks(kl) - Total': float,\n",
    "               'Refinery Production(kl) - Gasoline': float, \n",
    "               'Refinery Production(kl) - Naphtha': float,\n",
    "               'Refinery Production(kl) - Jet': float,\n",
    "               'Refinery Production(kl) - Kerosene': float,\n",
    "               'Refinery Production(kl) - Gas Oil(Diesel)': float,\n",
    "               'Refinery Production(kl) - LSA': float,\n",
    "               'Refinery Production(kl) - HSA': float,\n",
    "               'Refinery Production(kl) - AFO': float,\n",
    "               'Refinery Production(kl) - LSC': float,\n",
    "               'Refinery Production(kl) - HSC': float,\n",
    "               'Refinery Production(kl) - CFO': float,\n",
    "               'Refinery Production(kl) - Total': float,\n",
    "               'Imports(kl) - Gasoline': float,\n",
    "               'Imports(kl) - Naphtha': float,\n",
    "               'Imports(kl) - Jet': float,\n",
    "               'Imports(kl) - Kerosene': float,\n",
    "               'Imports(kl) - Gas Oil(Diesel)': float,\n",
    "               'Imports(kl) - LSA': float,\n",
    "               'Imports(kl) - HSA': float,\n",
    "               'Imports(kl) - AFO': float,\n",
    "               'Imports(kl) - LSC': float,\n",
    "               'Imports(kl) - HSC': float,\n",
    "               'Imports(kl) - CFO': float,\n",
    "               'Imports(kl) - Total': float,\n",
    "               'Exports(kl) - Gasoline': float,\n",
    "               'Exports(kl) - Naphtha': float,\n",
    "               'Exports(kl) - Jet': float,\n",
    "               'Exports(kl) - Kerosene': float,\n",
    "               'Exports(kl) - Gas Oil(Diesel)': float,\n",
    "               'Exports(kl) - LSA': float,\n",
    "               'Exports(kl) - HSA': float,\n",
    "               'Exports(kl) - AFO': float,\n",
    "               'Exports(kl) - LSC': float,\n",
    "               'Exports(kl) - HSC': float,\n",
    "               'Exports(kl) - CFO': float,\n",
    "               'Exports(kl) - Total': float}\n",
    "display(*header_list)\n",
    "\n",
    "df = pd.read_csv(filestore_dir / 'jp_gr_paj_all_japan_2020.csv', skip_blank_lines=True, names=header_list.keys(), dtype=header_list, na_values='n.a.')\n",
    "df.head()"
   ]
  },
  {
   "cell_type": "code",
   "execution_count": 34,
   "metadata": {},
   "outputs": [
    {
     "data": {
      "text/plain": [
       "['Current Week',\n",
       " 'Refinery Operations - Crude Input(kl)',\n",
       " 'Refinery Operations - Weekly Average Capacity(BPSD)',\n",
       " 'Refinery Operations - Util. Rate against BPSD',\n",
       " 'Refinery Operations - Designed Capacity(BPCD)',\n",
       " 'Refinery Operations - Util. Rate against BPCD',\n",
       " 'Products Stocks(kl) - Crude Oil',\n",
       " 'Products Stocks(kl) - Gasoline',\n",
       " 'Products Stocks(kl) - Naphtha',\n",
       " 'Products Stocks(kl) - Jet',\n",
       " 'Products Stocks(kl) - Kerosene',\n",
       " 'Products Stocks(kl) - Gas Oil(Diesel)',\n",
       " 'Products Stocks(kl) - LSA',\n",
       " 'Products Stocks(kl) - HSA',\n",
       " 'Products Stocks(kl) - AFO',\n",
       " 'Products Stocks(kl) - LSC',\n",
       " 'Products Stocks(kl) - HSC',\n",
       " 'Products Stocks(kl) - CFO',\n",
       " 'Products Stocks(kl) - Total',\n",
       " 'Unfinished Oil Stocks(kl) - Unfinished Gasoline',\n",
       " 'Unfinished Oil Stocks(kl) - Unfinished Kerosene',\n",
       " 'Unfinished Oil Stocks(kl) - Unfinished Gas Oil',\n",
       " 'Unfinished Oil Stocks(kl) - Unfinished AFO',\n",
       " 'Unfinished Oil Stocks(kl) - Feed Stocks',\n",
       " 'Unfinished Oil Stocks(kl) - Total',\n",
       " 'Refinery Production(kl) - Gasoline',\n",
       " 'Refinery Production(kl) - Naphtha',\n",
       " 'Refinery Production(kl) - Jet',\n",
       " 'Refinery Production(kl) - Kerosene',\n",
       " 'Refinery Production(kl) - Gas Oil(Diesel)',\n",
       " 'Refinery Production(kl) - LSA',\n",
       " 'Refinery Production(kl) - HSA',\n",
       " 'Refinery Production(kl) - AFO',\n",
       " 'Refinery Production(kl) - LSC',\n",
       " 'Refinery Production(kl) - HSC',\n",
       " 'Refinery Production(kl) - CFO',\n",
       " 'Refinery Production(kl) - Total',\n",
       " 'Imports(kl) - Gasoline',\n",
       " 'Imports(kl) - Naphtha',\n",
       " 'Imports(kl) - Jet',\n",
       " 'Imports(kl) - Kerosene',\n",
       " 'Imports(kl) - Gas Oil(Diesel)',\n",
       " 'Imports(kl) - LSA',\n",
       " 'Imports(kl) - HSA',\n",
       " 'Imports(kl) - AFO',\n",
       " 'Imports(kl) - LSC',\n",
       " 'Imports(kl) - HSC',\n",
       " 'Imports(kl) - CFO',\n",
       " 'Imports(kl) - Total',\n",
       " 'Exports(kl) - Gasoline',\n",
       " 'Exports(kl) - Naphtha',\n",
       " 'Exports(kl) - Jet',\n",
       " 'Exports(kl) - Kerosene',\n",
       " 'Exports(kl) - Gas Oil(Diesel)',\n",
       " 'Exports(kl) - LSA',\n",
       " 'Exports(kl) - HSA',\n",
       " 'Exports(kl) - AFO',\n",
       " 'Exports(kl) - LSC',\n",
       " 'Exports(kl) - HSC',\n",
       " 'Exports(kl) - CFO',\n",
       " 'Exports(kl) - Total']"
      ]
     },
     "execution_count": 34,
     "metadata": {},
     "output_type": "execute_result"
    }
   ],
   "source": [
    "%timeit\n",
    "[*header_list]"
   ]
  },
  {
   "cell_type": "code",
   "execution_count": 19,
   "metadata": {},
   "outputs": [
    {
     "data": {
      "text/html": [
       "<div>\n",
       "<style scoped>\n",
       "    .dataframe tbody tr th:only-of-type {\n",
       "        vertical-align: middle;\n",
       "    }\n",
       "\n",
       "    .dataframe tbody tr th {\n",
       "        vertical-align: top;\n",
       "    }\n",
       "\n",
       "    .dataframe thead th {\n",
       "        text-align: right;\n",
       "    }\n",
       "</style>\n",
       "<table border=\"1\" class=\"dataframe\">\n",
       "  <thead>\n",
       "    <tr style=\"text-align: right;\">\n",
       "      <th></th>\n",
       "      <th>Current Week</th>\n",
       "      <th>Refinery Operations - Crude Input(kl)</th>\n",
       "      <th>Refinery Operations - Weekly Average Capacity(BPSD)</th>\n",
       "      <th>Refinery Operations - Util. Rate against BPSD</th>\n",
       "      <th>Refinery Operations - Designed Capacity(BPCD)</th>\n",
       "      <th>Refinery Operations - Util. Rate against BPCD</th>\n",
       "      <th>Products Stocks(kl) - Crude Oil</th>\n",
       "      <th>Products Stocks(kl) - Gasoline</th>\n",
       "      <th>Products Stocks(kl) - Naphtha</th>\n",
       "      <th>Products Stocks(kl) - Jet</th>\n",
       "      <th>...</th>\n",
       "      <th>Exports(kl) - Jet</th>\n",
       "      <th>Exports(kl) - Kerosene</th>\n",
       "      <th>Exports(kl) - Gas Oil(Diesel)</th>\n",
       "      <th>Exports(kl) - LSA</th>\n",
       "      <th>Exports(kl) - HSA</th>\n",
       "      <th>Exports(kl) - AFO</th>\n",
       "      <th>Exports(kl) - LSC</th>\n",
       "      <th>Exports(kl) - HSC</th>\n",
       "      <th>Exports(kl) - CFO</th>\n",
       "      <th>Exports(kl) - Total</th>\n",
       "    </tr>\n",
       "  </thead>\n",
       "  <tbody>\n",
       "    <tr>\n",
       "      <th>0</th>\n",
       "      <td>30/Dec/2007-05/Jan/2008</td>\n",
       "      <td>4862019.0</td>\n",
       "      <td>4742924.0</td>\n",
       "      <td>92.1</td>\n",
       "      <td>4894924.0</td>\n",
       "      <td>89.3</td>\n",
       "      <td>15245363.0</td>\n",
       "      <td>2134723.0</td>\n",
       "      <td>1702903.0</td>\n",
       "      <td>734501.0</td>\n",
       "      <td>...</td>\n",
       "      <td>125223.0</td>\n",
       "      <td>2470.0</td>\n",
       "      <td>44542.0</td>\n",
       "      <td>0.0</td>\n",
       "      <td>1306.0</td>\n",
       "      <td>1306.0</td>\n",
       "      <td>0.0</td>\n",
       "      <td>79787.0</td>\n",
       "      <td>79787.0</td>\n",
       "      <td>253657.0</td>\n",
       "    </tr>\n",
       "    <tr>\n",
       "      <th>1</th>\n",
       "      <td>06/Jan/2008-12/Jan/2008</td>\n",
       "      <td>4923734.0</td>\n",
       "      <td>4742924.0</td>\n",
       "      <td>93.3</td>\n",
       "      <td>4894924.0</td>\n",
       "      <td>90.4</td>\n",
       "      <td>15121042.0</td>\n",
       "      <td>2281485.0</td>\n",
       "      <td>1768893.0</td>\n",
       "      <td>765975.0</td>\n",
       "      <td>...</td>\n",
       "      <td>143620.0</td>\n",
       "      <td>1999.0</td>\n",
       "      <td>144299.0</td>\n",
       "      <td>17145.0</td>\n",
       "      <td>2191.0</td>\n",
       "      <td>19336.0</td>\n",
       "      <td>0.0</td>\n",
       "      <td>178025.0</td>\n",
       "      <td>178025.0</td>\n",
       "      <td>495084.0</td>\n",
       "    </tr>\n",
       "    <tr>\n",
       "      <th>2</th>\n",
       "      <td>13/Jan/2008-19/Jan/2008</td>\n",
       "      <td>4845262.0</td>\n",
       "      <td>4800067.0</td>\n",
       "      <td>90.7</td>\n",
       "      <td>4894924.0</td>\n",
       "      <td>88.9</td>\n",
       "      <td>15825234.0</td>\n",
       "      <td>2190311.0</td>\n",
       "      <td>1661387.0</td>\n",
       "      <td>791587.0</td>\n",
       "      <td>...</td>\n",
       "      <td>97450.0</td>\n",
       "      <td>22575.0</td>\n",
       "      <td>107246.0</td>\n",
       "      <td>5223.0</td>\n",
       "      <td>3687.0</td>\n",
       "      <td>8910.0</td>\n",
       "      <td>0.0</td>\n",
       "      <td>185523.0</td>\n",
       "      <td>185523.0</td>\n",
       "      <td>421995.0</td>\n",
       "    </tr>\n",
       "    <tr>\n",
       "      <th>3</th>\n",
       "      <td>20/Jan/2008-26/Jan/2008</td>\n",
       "      <td>4795522.0</td>\n",
       "      <td>4842924.0</td>\n",
       "      <td>89.0</td>\n",
       "      <td>4894924.0</td>\n",
       "      <td>88.0</td>\n",
       "      <td>16045710.0</td>\n",
       "      <td>2223607.0</td>\n",
       "      <td>1781535.0</td>\n",
       "      <td>805229.0</td>\n",
       "      <td>...</td>\n",
       "      <td>110341.0</td>\n",
       "      <td>2038.0</td>\n",
       "      <td>207326.0</td>\n",
       "      <td>19587.0</td>\n",
       "      <td>3986.0</td>\n",
       "      <td>23573.0</td>\n",
       "      <td>0.0</td>\n",
       "      <td>206998.0</td>\n",
       "      <td>206998.0</td>\n",
       "      <td>553880.0</td>\n",
       "    </tr>\n",
       "    <tr>\n",
       "      <th>4</th>\n",
       "      <td>27/Jan/2008-02/Feb/2008</td>\n",
       "      <td>4691786.0</td>\n",
       "      <td>4811495.0</td>\n",
       "      <td>87.6</td>\n",
       "      <td>4894924.0</td>\n",
       "      <td>86.1</td>\n",
       "      <td>15486007.0</td>\n",
       "      <td>2135441.0</td>\n",
       "      <td>1857759.0</td>\n",
       "      <td>795095.0</td>\n",
       "      <td>...</td>\n",
       "      <td>182257.0</td>\n",
       "      <td>32164.0</td>\n",
       "      <td>214991.0</td>\n",
       "      <td>6308.0</td>\n",
       "      <td>4960.0</td>\n",
       "      <td>11268.0</td>\n",
       "      <td>0.0</td>\n",
       "      <td>221057.0</td>\n",
       "      <td>221057.0</td>\n",
       "      <td>667521.0</td>\n",
       "    </tr>\n",
       "    <tr>\n",
       "      <th>...</th>\n",
       "      <td>...</td>\n",
       "      <td>...</td>\n",
       "      <td>...</td>\n",
       "      <td>...</td>\n",
       "      <td>...</td>\n",
       "      <td>...</td>\n",
       "      <td>...</td>\n",
       "      <td>...</td>\n",
       "      <td>...</td>\n",
       "      <td>...</td>\n",
       "      <td>...</td>\n",
       "      <td>...</td>\n",
       "      <td>...</td>\n",
       "      <td>...</td>\n",
       "      <td>...</td>\n",
       "      <td>...</td>\n",
       "      <td>...</td>\n",
       "      <td>...</td>\n",
       "      <td>...</td>\n",
       "      <td>...</td>\n",
       "      <td>...</td>\n",
       "    </tr>\n",
       "    <tr>\n",
       "      <th>670</th>\n",
       "      <td>01/Nov/2020-07/Nov/2020</td>\n",
       "      <td>2633282.0</td>\n",
       "      <td>2985329.0</td>\n",
       "      <td>79.3</td>\n",
       "      <td>3457800.0</td>\n",
       "      <td>68.4</td>\n",
       "      <td>12414465.0</td>\n",
       "      <td>1936245.0</td>\n",
       "      <td>1419365.0</td>\n",
       "      <td>859147.0</td>\n",
       "      <td>...</td>\n",
       "      <td>49993.0</td>\n",
       "      <td>24950.0</td>\n",
       "      <td>16.0</td>\n",
       "      <td>721.0</td>\n",
       "      <td>26297.0</td>\n",
       "      <td>27018.0</td>\n",
       "      <td>45426.0</td>\n",
       "      <td>64204.0</td>\n",
       "      <td>109630.0</td>\n",
       "      <td>240417.0</td>\n",
       "    </tr>\n",
       "    <tr>\n",
       "      <th>671</th>\n",
       "      <td>08/Nov/2020-14/Nov/2020</td>\n",
       "      <td>2757488.0</td>\n",
       "      <td>3074529.0</td>\n",
       "      <td>80.6</td>\n",
       "      <td>3457800.0</td>\n",
       "      <td>71.7</td>\n",
       "      <td>11996740.0</td>\n",
       "      <td>1917909.0</td>\n",
       "      <td>1351268.0</td>\n",
       "      <td>883946.0</td>\n",
       "      <td>...</td>\n",
       "      <td>48840.0</td>\n",
       "      <td>24950.0</td>\n",
       "      <td>4886.0</td>\n",
       "      <td>71.0</td>\n",
       "      <td>44192.0</td>\n",
       "      <td>44263.0</td>\n",
       "      <td>44602.0</td>\n",
       "      <td>82907.0</td>\n",
       "      <td>127509.0</td>\n",
       "      <td>314694.0</td>\n",
       "    </tr>\n",
       "    <tr>\n",
       "      <th>672</th>\n",
       "      <td>15/Nov/2020-21/Nov/2020</td>\n",
       "      <td>2839968.0</td>\n",
       "      <td>3099100.0</td>\n",
       "      <td>82.3</td>\n",
       "      <td>3457800.0</td>\n",
       "      <td>73.8</td>\n",
       "      <td>10922929.0</td>\n",
       "      <td>1895164.0</td>\n",
       "      <td>1280093.0</td>\n",
       "      <td>806323.0</td>\n",
       "      <td>...</td>\n",
       "      <td>27613.0</td>\n",
       "      <td>72515.0</td>\n",
       "      <td>20636.0</td>\n",
       "      <td>1098.0</td>\n",
       "      <td>12263.0</td>\n",
       "      <td>13361.0</td>\n",
       "      <td>33377.0</td>\n",
       "      <td>100159.0</td>\n",
       "      <td>133536.0</td>\n",
       "      <td>309516.0</td>\n",
       "    </tr>\n",
       "    <tr>\n",
       "      <th>673</th>\n",
       "      <td>22/Nov/2020-28/Nov/2020</td>\n",
       "      <td>2839684.0</td>\n",
       "      <td>3099100.0</td>\n",
       "      <td>82.3</td>\n",
       "      <td>3457800.0</td>\n",
       "      <td>73.8</td>\n",
       "      <td>11578269.0</td>\n",
       "      <td>1992945.0</td>\n",
       "      <td>1485961.0</td>\n",
       "      <td>809920.0</td>\n",
       "      <td>...</td>\n",
       "      <td>65543.0</td>\n",
       "      <td>29800.0</td>\n",
       "      <td>28249.0</td>\n",
       "      <td>1474.0</td>\n",
       "      <td>9955.0</td>\n",
       "      <td>11429.0</td>\n",
       "      <td>44827.0</td>\n",
       "      <td>106762.0</td>\n",
       "      <td>151589.0</td>\n",
       "      <td>380922.0</td>\n",
       "    </tr>\n",
       "    <tr>\n",
       "      <th>674</th>\n",
       "      <td>29/Nov/2020-05/Dec/2020</td>\n",
       "      <td>2894666.0</td>\n",
       "      <td>3099100.0</td>\n",
       "      <td>83.9</td>\n",
       "      <td>3457800.0</td>\n",
       "      <td>75.2</td>\n",
       "      <td>11408115.0</td>\n",
       "      <td>1997958.0</td>\n",
       "      <td>1288559.0</td>\n",
       "      <td>782504.0</td>\n",
       "      <td>...</td>\n",
       "      <td>59218.0</td>\n",
       "      <td>0.0</td>\n",
       "      <td>25878.0</td>\n",
       "      <td>5539.0</td>\n",
       "      <td>53694.0</td>\n",
       "      <td>59233.0</td>\n",
       "      <td>101429.0</td>\n",
       "      <td>72131.0</td>\n",
       "      <td>173560.0</td>\n",
       "      <td>317889.0</td>\n",
       "    </tr>\n",
       "  </tbody>\n",
       "</table>\n",
       "<p>675 rows × 61 columns</p>\n",
       "</div>"
      ],
      "text/plain": [
       "                Current Week  Refinery Operations - Crude Input(kl)  \\\n",
       "0    30/Dec/2007-05/Jan/2008                              4862019.0   \n",
       "1    06/Jan/2008-12/Jan/2008                              4923734.0   \n",
       "2    13/Jan/2008-19/Jan/2008                              4845262.0   \n",
       "3    20/Jan/2008-26/Jan/2008                              4795522.0   \n",
       "4    27/Jan/2008-02/Feb/2008                              4691786.0   \n",
       "..                       ...                                    ...   \n",
       "670  01/Nov/2020-07/Nov/2020                              2633282.0   \n",
       "671  08/Nov/2020-14/Nov/2020                              2757488.0   \n",
       "672  15/Nov/2020-21/Nov/2020                              2839968.0   \n",
       "673  22/Nov/2020-28/Nov/2020                              2839684.0   \n",
       "674  29/Nov/2020-05/Dec/2020                              2894666.0   \n",
       "\n",
       "     Refinery Operations - Weekly Average Capacity(BPSD)  \\\n",
       "0                                            4742924.0     \n",
       "1                                            4742924.0     \n",
       "2                                            4800067.0     \n",
       "3                                            4842924.0     \n",
       "4                                            4811495.0     \n",
       "..                                                 ...     \n",
       "670                                          2985329.0     \n",
       "671                                          3074529.0     \n",
       "672                                          3099100.0     \n",
       "673                                          3099100.0     \n",
       "674                                          3099100.0     \n",
       "\n",
       "     Refinery Operations - Util. Rate against BPSD  \\\n",
       "0                                             92.1   \n",
       "1                                             93.3   \n",
       "2                                             90.7   \n",
       "3                                             89.0   \n",
       "4                                             87.6   \n",
       "..                                             ...   \n",
       "670                                           79.3   \n",
       "671                                           80.6   \n",
       "672                                           82.3   \n",
       "673                                           82.3   \n",
       "674                                           83.9   \n",
       "\n",
       "     Refinery Operations - Designed Capacity(BPCD)  \\\n",
       "0                                        4894924.0   \n",
       "1                                        4894924.0   \n",
       "2                                        4894924.0   \n",
       "3                                        4894924.0   \n",
       "4                                        4894924.0   \n",
       "..                                             ...   \n",
       "670                                      3457800.0   \n",
       "671                                      3457800.0   \n",
       "672                                      3457800.0   \n",
       "673                                      3457800.0   \n",
       "674                                      3457800.0   \n",
       "\n",
       "     Refinery Operations - Util. Rate against BPCD  \\\n",
       "0                                             89.3   \n",
       "1                                             90.4   \n",
       "2                                             88.9   \n",
       "3                                             88.0   \n",
       "4                                             86.1   \n",
       "..                                             ...   \n",
       "670                                           68.4   \n",
       "671                                           71.7   \n",
       "672                                           73.8   \n",
       "673                                           73.8   \n",
       "674                                           75.2   \n",
       "\n",
       "     Products Stocks(kl) - Crude Oil  Products Stocks(kl) - Gasoline  \\\n",
       "0                         15245363.0                       2134723.0   \n",
       "1                         15121042.0                       2281485.0   \n",
       "2                         15825234.0                       2190311.0   \n",
       "3                         16045710.0                       2223607.0   \n",
       "4                         15486007.0                       2135441.0   \n",
       "..                               ...                             ...   \n",
       "670                       12414465.0                       1936245.0   \n",
       "671                       11996740.0                       1917909.0   \n",
       "672                       10922929.0                       1895164.0   \n",
       "673                       11578269.0                       1992945.0   \n",
       "674                       11408115.0                       1997958.0   \n",
       "\n",
       "     Products Stocks(kl) - Naphtha  Products Stocks(kl) - Jet  ...  \\\n",
       "0                        1702903.0                   734501.0  ...   \n",
       "1                        1768893.0                   765975.0  ...   \n",
       "2                        1661387.0                   791587.0  ...   \n",
       "3                        1781535.0                   805229.0  ...   \n",
       "4                        1857759.0                   795095.0  ...   \n",
       "..                             ...                        ...  ...   \n",
       "670                      1419365.0                   859147.0  ...   \n",
       "671                      1351268.0                   883946.0  ...   \n",
       "672                      1280093.0                   806323.0  ...   \n",
       "673                      1485961.0                   809920.0  ...   \n",
       "674                      1288559.0                   782504.0  ...   \n",
       "\n",
       "     Exports(kl) - Jet  Exports(kl) - Kerosene  Exports(kl) - Gas Oil(Diesel)  \\\n",
       "0             125223.0                  2470.0                        44542.0   \n",
       "1             143620.0                  1999.0                       144299.0   \n",
       "2              97450.0                 22575.0                       107246.0   \n",
       "3             110341.0                  2038.0                       207326.0   \n",
       "4             182257.0                 32164.0                       214991.0   \n",
       "..                 ...                     ...                            ...   \n",
       "670            49993.0                 24950.0                           16.0   \n",
       "671            48840.0                 24950.0                         4886.0   \n",
       "672            27613.0                 72515.0                        20636.0   \n",
       "673            65543.0                 29800.0                        28249.0   \n",
       "674            59218.0                     0.0                        25878.0   \n",
       "\n",
       "     Exports(kl) - LSA  Exports(kl) - HSA  Exports(kl) - AFO  \\\n",
       "0                  0.0             1306.0             1306.0   \n",
       "1              17145.0             2191.0            19336.0   \n",
       "2               5223.0             3687.0             8910.0   \n",
       "3              19587.0             3986.0            23573.0   \n",
       "4               6308.0             4960.0            11268.0   \n",
       "..                 ...                ...                ...   \n",
       "670              721.0            26297.0            27018.0   \n",
       "671               71.0            44192.0            44263.0   \n",
       "672             1098.0            12263.0            13361.0   \n",
       "673             1474.0             9955.0            11429.0   \n",
       "674             5539.0            53694.0            59233.0   \n",
       "\n",
       "     Exports(kl) - LSC  Exports(kl) - HSC  Exports(kl) - CFO  \\\n",
       "0                  0.0            79787.0            79787.0   \n",
       "1                  0.0           178025.0           178025.0   \n",
       "2                  0.0           185523.0           185523.0   \n",
       "3                  0.0           206998.0           206998.0   \n",
       "4                  0.0           221057.0           221057.0   \n",
       "..                 ...                ...                ...   \n",
       "670            45426.0            64204.0           109630.0   \n",
       "671            44602.0            82907.0           127509.0   \n",
       "672            33377.0           100159.0           133536.0   \n",
       "673            44827.0           106762.0           151589.0   \n",
       "674           101429.0            72131.0           173560.0   \n",
       "\n",
       "     Exports(kl) - Total  \n",
       "0               253657.0  \n",
       "1               495084.0  \n",
       "2               421995.0  \n",
       "3               553880.0  \n",
       "4               667521.0  \n",
       "..                   ...  \n",
       "670             240417.0  \n",
       "671             314694.0  \n",
       "672             309516.0  \n",
       "673             380922.0  \n",
       "674             317889.0  \n",
       "\n",
       "[675 rows x 61 columns]"
      ]
     },
     "execution_count": 19,
     "metadata": {},
     "output_type": "execute_result"
    }
   ],
   "source": [
    "# let's read history from Excel file maintained by stocks\n",
    "\n",
    "df_history = pd.read_excel(r'G:\\OMRstocks\\Weekly PAJ\\PAJ Weekly Data Download.xls', sheet_name='Data', skiprows=6, names=header_list, na_values='n.a.')\n",
    "df_history"
   ]
  },
  {
   "cell_type": "markdown",
   "metadata": {},
   "source": [
    "## Ideas on how to implement it\n",
    "\n",
    "According to full_load flag:\n",
    "\n",
    "- True: \n",
    "    * it loads the history from excel file\n",
    "    * it loads the 3 files from the website, and overwrite the existing values from excel in database\n",
    "\n",
    "- False:\n",
    "    * it loads only the most recent year from the files available in the website, overwriting existing values in database\n"
   ]
  },
  {
   "cell_type": "code",
   "execution_count": 40,
   "metadata": {},
   "outputs": [
    {
     "name": "stdout",
     "output_type": "stream",
     "text": [
      "<class 'pandas.core.frame.DataFrame'>\n",
      "RangeIndex: 49 entries, 0 to 48\n",
      "Data columns (total 61 columns):\n",
      " #   Column                                               Non-Null Count  Dtype  \n",
      "---  ------                                               --------------  -----  \n",
      " 0   Current Week                                         49 non-null     object \n",
      " 1   Refinery Operations - Crude Input(kl)                49 non-null     float64\n",
      " 2   Refinery Operations - Weekly Average Capacity(BPSD)  49 non-null     float64\n",
      " 3   Refinery Operations - Util. Rate against BPSD        49 non-null     float64\n",
      " 4   Refinery Operations - Designed Capacity(BPCD)        49 non-null     float64\n",
      " 5   Refinery Operations - Util. Rate against BPCD        49 non-null     float64\n",
      " 6   Products Stocks(kl) - Crude Oil                      49 non-null     float64\n",
      " 7   Products Stocks(kl) - Gasoline                       49 non-null     float64\n",
      " 8   Products Stocks(kl) - Naphtha                        49 non-null     float64\n",
      " 9   Products Stocks(kl) - Jet                            49 non-null     float64\n",
      " 10  Products Stocks(kl) - Kerosene                       49 non-null     float64\n",
      " 11  Products Stocks(kl) - Gas Oil(Diesel)                49 non-null     float64\n",
      " 12  Products Stocks(kl) - LSA                            49 non-null     float64\n",
      " 13  Products Stocks(kl) - HSA                            49 non-null     float64\n",
      " 14  Products Stocks(kl) - AFO                            49 non-null     float64\n",
      " 15  Products Stocks(kl) - LSC                            49 non-null     float64\n",
      " 16  Products Stocks(kl) - HSC                            49 non-null     float64\n",
      " 17  Products Stocks(kl) - CFO                            49 non-null     float64\n",
      " 18  Products Stocks(kl) - Total                          49 non-null     float64\n",
      " 19  Unfinished Oil Stocks(kl) - Unfinished Gasoline      49 non-null     float64\n",
      " 20  Unfinished Oil Stocks(kl) - Unfinished Kerosene      49 non-null     float64\n",
      " 21  Unfinished Oil Stocks(kl) - Unfinished Gas Oil       49 non-null     float64\n",
      " 22  Unfinished Oil Stocks(kl) - Unfinished AFO           49 non-null     float64\n",
      " 23  Unfinished Oil Stocks(kl) - Feed Stocks              49 non-null     float64\n",
      " 24  Unfinished Oil Stocks(kl) - Total                    49 non-null     float64\n",
      " 25  Refinery Production(kl) - Gasoline                   49 non-null     float64\n",
      " 26  Refinery Production(kl) - Naphtha                    49 non-null     float64\n",
      " 27  Refinery Production(kl) - Jet                        49 non-null     float64\n",
      " 28  Refinery Production(kl) - Kerosene                   49 non-null     float64\n",
      " 29  Refinery Production(kl) - Gas Oil(Diesel)            49 non-null     float64\n",
      " 30  Refinery Production(kl) - LSA                        49 non-null     float64\n",
      " 31  Refinery Production(kl) - HSA                        49 non-null     float64\n",
      " 32  Refinery Production(kl) - AFO                        49 non-null     float64\n",
      " 33  Refinery Production(kl) - LSC                        49 non-null     float64\n",
      " 34  Refinery Production(kl) - HSC                        49 non-null     float64\n",
      " 35  Refinery Production(kl) - CFO                        49 non-null     float64\n",
      " 36  Refinery Production(kl) - Total                      49 non-null     float64\n",
      " 37  Imports(kl) - Gasoline                               0 non-null      float64\n",
      " 38  Imports(kl) - Naphtha                                0 non-null      float64\n",
      " 39  Imports(kl) - Jet                                    0 non-null      float64\n",
      " 40  Imports(kl) - Kerosene                               0 non-null      float64\n",
      " 41  Imports(kl) - Gas Oil(Diesel)                        0 non-null      float64\n",
      " 42  Imports(kl) - LSA                                    0 non-null      float64\n",
      " 43  Imports(kl) - HSA                                    0 non-null      float64\n",
      " 44  Imports(kl) - AFO                                    0 non-null      float64\n",
      " 45  Imports(kl) - LSC                                    49 non-null     float64\n",
      " 46  Imports(kl) - HSC                                    49 non-null     float64\n",
      " 47  Imports(kl) - CFO                                    49 non-null     float64\n",
      " 48  Imports(kl) - Total                                  0 non-null      float64\n",
      " 49  Exports(kl) - Gasoline                               49 non-null     float64\n",
      " 50  Exports(kl) - Naphtha                                49 non-null     float64\n",
      " 51  Exports(kl) - Jet                                    49 non-null     float64\n",
      " 52  Exports(kl) - Kerosene                               49 non-null     float64\n",
      " 53  Exports(kl) - Gas Oil(Diesel)                        49 non-null     float64\n",
      " 54  Exports(kl) - LSA                                    49 non-null     float64\n",
      " 55  Exports(kl) - HSA                                    49 non-null     float64\n",
      " 56  Exports(kl) - AFO                                    49 non-null     float64\n",
      " 57  Exports(kl) - LSC                                    49 non-null     float64\n",
      " 58  Exports(kl) - HSC                                    49 non-null     float64\n",
      " 59  Exports(kl) - CFO                                    49 non-null     float64\n",
      " 60  Exports(kl) - Total                                  49 non-null     float64\n",
      "dtypes: float64(60), object(1)\n",
      "memory usage: 23.5+ KB\n"
     ]
    },
    {
     "data": {
      "text/plain": [
       "None"
      ]
     },
     "metadata": {},
     "output_type": "display_data"
    },
    {
     "name": "stdout",
     "output_type": "stream",
     "text": [
      "<class 'pandas.core.frame.DataFrame'>\n",
      "RangeIndex: 675 entries, 0 to 674\n",
      "Data columns (total 61 columns):\n",
      " #   Column                                               Non-Null Count  Dtype  \n",
      "---  ------                                               --------------  -----  \n",
      " 0   Current Week                                         675 non-null    object \n",
      " 1   Refinery Operations - Crude Input(kl)                672 non-null    float64\n",
      " 2   Refinery Operations - Weekly Average Capacity(BPSD)  672 non-null    float64\n",
      " 3   Refinery Operations - Util. Rate against BPSD        672 non-null    float64\n",
      " 4   Refinery Operations - Designed Capacity(BPCD)        672 non-null    float64\n",
      " 5   Refinery Operations - Util. Rate against BPCD        672 non-null    float64\n",
      " 6   Products Stocks(kl) - Crude Oil                      672 non-null    float64\n",
      " 7   Products Stocks(kl) - Gasoline                       672 non-null    float64\n",
      " 8   Products Stocks(kl) - Naphtha                        672 non-null    float64\n",
      " 9   Products Stocks(kl) - Jet                            672 non-null    float64\n",
      " 10  Products Stocks(kl) - Kerosene                       672 non-null    float64\n",
      " 11  Products Stocks(kl) - Gas Oil(Diesel)                672 non-null    float64\n",
      " 12  Products Stocks(kl) - LSA                            672 non-null    float64\n",
      " 13  Products Stocks(kl) - HSA                            672 non-null    float64\n",
      " 14  Products Stocks(kl) - AFO                            672 non-null    float64\n",
      " 15  Products Stocks(kl) - LSC                            672 non-null    float64\n",
      " 16  Products Stocks(kl) - HSC                            672 non-null    float64\n",
      " 17  Products Stocks(kl) - CFO                            672 non-null    float64\n",
      " 18  Products Stocks(kl) - Total                          672 non-null    float64\n",
      " 19  Unfinished Oil Stocks(kl) - Unfinished Gasoline      672 non-null    float64\n",
      " 20  Unfinished Oil Stocks(kl) - Unfinished Kerosene      672 non-null    float64\n",
      " 21  Unfinished Oil Stocks(kl) - Unfinished Gas Oil       672 non-null    float64\n",
      " 22  Unfinished Oil Stocks(kl) - Unfinished AFO           672 non-null    float64\n",
      " 23  Unfinished Oil Stocks(kl) - Feed Stocks              672 non-null    float64\n",
      " 24  Unfinished Oil Stocks(kl) - Total                    672 non-null    float64\n",
      " 25  Refinery Production(kl) - Gasoline                   672 non-null    float64\n",
      " 26  Refinery Production(kl) - Naphtha                    672 non-null    float64\n",
      " 27  Refinery Production(kl) - Jet                        672 non-null    float64\n",
      " 28  Refinery Production(kl) - Kerosene                   672 non-null    float64\n",
      " 29  Refinery Production(kl) - Gas Oil(Diesel)            672 non-null    float64\n",
      " 30  Refinery Production(kl) - LSA                        672 non-null    float64\n",
      " 31  Refinery Production(kl) - HSA                        672 non-null    float64\n",
      " 32  Refinery Production(kl) - AFO                        672 non-null    float64\n",
      " 33  Refinery Production(kl) - LSC                        672 non-null    float64\n",
      " 34  Refinery Production(kl) - HSC                        672 non-null    float64\n",
      " 35  Refinery Production(kl) - CFO                        672 non-null    float64\n",
      " 36  Refinery Production(kl) - Total                      672 non-null    float64\n",
      " 37  Imports(kl) - Gasoline                               74 non-null     float64\n",
      " 38  Imports(kl) - Naphtha                                0 non-null      float64\n",
      " 39  Imports(kl) - Jet                                    0 non-null      float64\n",
      " 40  Imports(kl) - Kerosene                               0 non-null      float64\n",
      " 41  Imports(kl) - Gas Oil(Diesel)                        0 non-null      float64\n",
      " 42  Imports(kl) - LSA                                    0 non-null      float64\n",
      " 43  Imports(kl) - HSA                                    0 non-null      float64\n",
      " 44  Imports(kl) - AFO                                    0 non-null      float64\n",
      " 45  Imports(kl) - LSC                                    672 non-null    float64\n",
      " 46  Imports(kl) - HSC                                    672 non-null    float64\n",
      " 47  Imports(kl) - CFO                                    672 non-null    float64\n",
      " 48  Imports(kl) - Total                                  0 non-null      float64\n",
      " 49  Exports(kl) - Gasoline                               672 non-null    float64\n",
      " 50  Exports(kl) - Naphtha                                672 non-null    float64\n",
      " 51  Exports(kl) - Jet                                    672 non-null    float64\n",
      " 52  Exports(kl) - Kerosene                               672 non-null    float64\n",
      " 53  Exports(kl) - Gas Oil(Diesel)                        672 non-null    float64\n",
      " 54  Exports(kl) - LSA                                    672 non-null    float64\n",
      " 55  Exports(kl) - HSA                                    672 non-null    float64\n",
      " 56  Exports(kl) - AFO                                    672 non-null    float64\n",
      " 57  Exports(kl) - LSC                                    672 non-null    float64\n",
      " 58  Exports(kl) - HSC                                    672 non-null    float64\n",
      " 59  Exports(kl) - CFO                                    672 non-null    float64\n",
      " 60  Exports(kl) - Total                                  672 non-null    float64\n",
      "dtypes: float64(60), object(1)\n",
      "memory usage: 321.8+ KB\n"
     ]
    },
    {
     "data": {
      "text/plain": [
       "None"
      ]
     },
     "metadata": {},
     "output_type": "display_data"
    }
   ],
   "source": [
    "display(df.info())\n",
    "display(df_history.info())"
   ]
  },
  {
   "cell_type": "code",
   "execution_count": null,
   "metadata": {},
   "outputs": [],
   "source": []
  }
 ],
 "metadata": {
  "kernelspec": {
   "display_name": "Python 3",
   "language": "python",
   "name": "python3"
  },
  "language_info": {
   "codemirror_mode": {
    "name": "ipython",
    "version": 3
   },
   "file_extension": ".py",
   "mimetype": "text/x-python",
   "name": "python",
   "nbconvert_exporter": "python",
   "pygments_lexer": "ipython3",
   "version": "3.6.5"
  }
 },
 "nbformat": 4,
 "nbformat_minor": 2
}
