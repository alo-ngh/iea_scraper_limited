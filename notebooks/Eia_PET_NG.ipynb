{
 "cells": [
  {
   "cell_type": "code",
   "execution_count": null,
   "metadata": {},
   "outputs": [],
   "source": [
    "%load_ext autoreload\n",
    "%autoreload 2"
   ]
  },
  {
   "cell_type": "code",
   "execution_count": null,
   "metadata": {},
   "outputs": [],
   "source": [
    "%cd .."
   ]
  },
  {
   "cell_type": "code",
   "execution_count": null,
   "metadata": {},
   "outputs": [],
   "source": [
    "import logging\n",
    "import sys\n",
    "\n",
    "root = logging.getLogger()\n",
    "root.setLevel(logging.DEBUG)\n",
    "\n",
    "handler = logging.StreamHandler(sys.stdout)\n",
    "handler.setLevel(logging.DEBUG)\n",
    "formatter = logging.Formatter('%(asctime)s - %(name)s - %(levelname)s - %(message)s')\n",
    "handler.setFormatter(formatter)\n",
    "root.addHandler(handler)"
   ]
  },
  {
   "cell_type": "code",
   "execution_count": null,
   "metadata": {},
   "outputs": [],
   "source": [
    "import scraper.jobs.gov_eia.new_job as new_gov_eia\n",
    "\n",
    "eia = new_gov_eia.Eia()\n",
    "eia.run()"
   ]
  },
  {
   "cell_type": "code",
   "execution_count": null,
   "metadata": {},
   "outputs": [],
   "source": [
    "from scraper.core import factory\n",
    "job = factory.get_scraper_job('gov_eia', 'bulk_pet_ng')"
   ]
  },
  {
   "cell_type": "code",
   "execution_count": null,
   "metadata": {},
   "outputs": [],
   "source": [
    "job.get_sources()"
   ]
  },
  {
   "cell_type": "code",
   "execution_count": null,
   "metadata": {},
   "outputs": [],
   "source": [
    "[vars(source) for source in job.sources]"
   ]
  },
  {
   "cell_type": "code",
   "execution_count": null,
   "metadata": {},
   "outputs": [],
   "source": [
    "job.run()"
   ]
  },
  {
   "cell_type": "code",
   "execution_count": null,
   "metadata": {},
   "outputs": [],
   "source": [
    "from scraper.core.dimension import Updater\n",
    "eia = new_gov_eia.Eia()\n",
    "eia_upd = Updater(eia, 'detail')\n",
    "eia_upd.update(eia.dynamic_dim['detail'])"
   ]
  },
  {
   "cell_type": "code",
   "execution_count": null,
   "metadata": {},
   "outputs": [],
   "source": [
    "import scraper.jobs.gov_eia.job as gov_eia\n",
    "job = gov_eia.Eia()\n",
    "job.run(download=False)"
   ]
  },
  {
   "cell_type": "code",
   "execution_count": null,
   "metadata": {},
   "outputs": [],
   "source": [
    "import pandas as pd\n",
    "df = pd.DataFrame([i for i in eia.data if i['source'] == 'gov_eia_NG'])"
   ]
  },
  {
   "cell_type": "code",
   "execution_count": null,
   "metadata": {},
   "outputs": [],
   "source": [
    "df[df['value'].isna()]"
   ]
  },
  {
   "cell_type": "code",
   "execution_count": null,
   "metadata": {},
   "outputs": [],
   "source": [
    "import pandas as pd\n",
    "df = pd.read_csv(r\"C:\\Users\\ROSA_L\\PycharmProjects\\scrapper\\scraper\\jobs\\gov_eia\\PET.csv\")"
   ]
  },
  {
   "cell_type": "code",
   "execution_count": null,
   "metadata": {},
   "outputs": [],
   "source": [
    "list = ['INTL.12-4-WP14-MT.A', 'INTL.12-4-WP26-MT.A', 'INTL.12-4-WP11-MT.A', 'INTL.12-4-WP27-MT.A', 'INTL.12-4-WP17-MT.A', 'INTL.12-4-WP15-MT.A', 'INTL.12-4-WP18-MT.A', 'INTL.12-4-WP25-MT.A', 'INTL.12-4-WP16-MT.A', 'INTL.12-4-WP13-MT.A', 'INTL.12-3-WP26-MT.A', 'INTL.12-3-WP16-MT.A', 'INTL.12-3-WP17-MT.A', 'INTL.12-3-WP11-MT.A', 'INTL.12-3-WP25-MT.A', 'INTL.12-3-WP15-MT.A', 'INTL.12-3-WP18-MT.A', 'INTL.12-3-WP13-MT.A', 'INTL.12-3-WP14-MT.A', 'INTL.14-4-WP11-MT.A', 'INTL.14-4-WP16-MT.A', 'INTL.14-4-WP27-MT.A', 'INTL.14-4-WP18-MT.A', 'INTL.14-4-WP13-MT.A', 'INTL.14-4-WP14-MT.A', 'INTL.14-4-WP15-MT.A', 'INTL.14-4-WP25-MT.A', 'INTL.21-1-CHN-MT.A', 'INTL.21-1-CZE-MT.A', 'INTL.21-1-ESP-MT.A', 'INTL.21-1-CAN-MT.A', 'INTL.21-1-EURO-MT.A', 'INTL.21-1-ARG-MT.A', 'INTL.21-1-DZA-MT.A', 'INTL.21-1-AUS-MT.A', 'INTL.21-1-EURA-MT.A', 'INTL.21-1-CSAM-MT.A', 'INTL.21-1-DDR-MT.A', 'INTL.21-1-BGR-MT.A', 'INTL.21-1-AFRC-MT.A', 'INTL.21-1-BRA-MT.A', 'INTL.21-1-AUT-MT.A', 'INTL.21-1-EGY-MT.A', 'INTL.21-1-EU27-MT.A', 'INTL.21-1-DEU-MT.A', 'INTL.21-1-ASOC-MT.A', 'INTL.21-1-CHL-MT.A', 'INTL.21-1-COL-MT.A', 'INTL.21-1-CSK-MT.A', 'INTL.21-1-BIH-MT.A', 'INTL.21-1-ALB-MT.A', 'INTL.21-1-DEUW-MT.A', 'INTL.21-1-BEL-MT.A', 'INTL.14-1-WP25-MT.A', 'INTL.14-1-WP14-MT.A', 'INTL.14-1-WP27-MT.A', 'INTL.14-1-WP15-MT.A', 'INTL.14-1-WP18-MT.A', 'INTL.14-1-WP16-MT.A', 'INTL.14-1-WP21-MT.A', 'INTL.14-3-WP25-MT.A', 'INTL.14-3-WP27-MT.A', 'INTL.14-3-WP18-MT.A', 'INTL.14-3-WP17-MT.A', 'INTL.14-2-WP25-MT.A', 'INTL.14-2-WP18-MT.A', 'INTL.14-2-WP27-MT.A', 'INTL.14-2-WP16-MT.A', 'INTL.14-2-WP17-MT.A', 'INTL.14-2-WP11-MT.A', 'INTL.14-2-WP13-MT.A', 'INTL.14-2-WP14-MT.A', 'INTL.14-1-WP13-MT.A', 'INTL.14-1-WP11-MT.A', 'INTL.14-3-WP16-MT.A', 'INTL.14-3-WP13-MT.A', 'INTL.14-3-WP11-MT.A', 'INTL.14-3-WP15-MT.A', 'INTL.14-3-WP14-MT.A', 'INTL.21-2-SVK-MT.A', 'INTL.21-2-LBN-MT.A', 'INTL.21-2-SCG-MT.A', 'INTL.21-2-OEAO-MT.A', 'INTL.21-2-SVN-MT.A', 'INTL.21-2-NLD-MT.A', 'INTL.21-2-PAK-MT.A', 'INTL.21-2-NOR-MT.A', 'INTL.21-2-LKA-MT.A', 'INTL.21-2-PRK-MT.A', 'INTL.21-2-PHL-MT.A', 'INTL.21-2-LTU-MT.A', 'INTL.21-2-SWE-MT.A', 'INTL.21-2-ROU-MT.A', 'INTL.21-2-OEEU-MT.A', 'INTL.21-2-THA-MT.A', 'INTL.21-2-SDN-MT.A', 'INTL.21-2-NOAM-MT.A', 'INTL.21-2-MEX-MT.A', 'INTL.21-2-PER-MT.A', 'INTL.21-2-PRT-MT.A', 'INTL.21-2-NZL-MT.A', 'INTL.21-2-OECD-MT.A', 'INTL.21-2-SUN-MT.A', 'INTL.21-2-RUS-MT.A', 'INTL.21-2-NGA-MT.A', 'INTL.21-2-NOEC-MT.A', 'INTL.21-2-PERG-MT.A', 'INTL.21-2-MIDE-MT.A', 'INTL.21-2-OPSA-MT.A', 'INTL.21-2-POL-MT.A', 'INTL.21-2-OENA-MT.A', 'INTL.21-1-WP19-MT.A', 'INTL.21-1-WP23-MT.A', 'INTL.21-2-ALB-MT.A', 'INTL.21-1-WP26-MT.A', 'INTL.21-2-BGR-MT.A', 'INTL.21-1-WP15-MT.A', 'INTL.21-2-BEL-MT.A', 'INTL.21-1-USA-MT.A', 'INTL.21-1-WORL-MT.A', 'INTL.21-2-LVA-MT.A', 'INTL.21-1-WP24-MT.A', 'INTL.21-1-WP21-MT.A', 'INTL.21-1-ZWE-MT.A', 'INTL.21-1-WP27-MT.A', 'INTL.21-2-ARG-MT.A', 'INTL.21-2-OPAF-MT.A', 'INTL.21-2-BIH-MT.A', 'INTL.21-1-WP11-MT.A', 'INTL.21-2-MAR-MT.A', 'INTL.21-1-WP25-MT.A', 'INTL.21-1-WP14-MT.A', 'INTL.21-2-MDA-MT.A', 'INTL.21-2-SRB-MT.A', 'INTL.21-1-WP22-MT.A', 'INTL.21-2-BGD-MT.A', 'INTL.21-1-WP12-MT.A', 'INTL.21-2-OPEC-MT.A', 'INTL.21-1-RUS-MT.A', 'INTL.21-1-YUG-MT.A', 'INTL.21-2-AFRC-MT.A', 'INTL.21-2-AUT-MT.A', 'INTL.21-1-ZAF-MT.A', 'INTL.21-2-MNG-MT.A', 'INTL.21-1-URY-MT.A', 'INTL.21-2-BLR-MT.A', 'INTL.21-1-WP13-MT.A', 'INTL.21-1-TWN-MT.A', 'INTL.21-1-WP17-MT.A', 'INTL.21-1-SUN-MT.A', 'INTL.21-4-WP26-MT.A', 'INTL.21-4-WP15-MT.A', 'INTL.21-4-SUN-MT.A', 'INTL.21-2-AUS-MT.A', 'INTL.21-4-WP19-MT.A', 'INTL.21-4-SVK-MT.A', 'INTL.21-1-SVK-MT.A', 'INTL.21-4-WP27-MT.A', 'INTL.21-4-SWE-MT.A', 'INTL.21-4-WP16-MT.A', 'INTL.21-4-USA-MT.A', 'INTL.21-4-RUS-MT.A', 'INTL.21-1-UKR-MT.A', 'INTL.21-4-WP24-MT.A', 'INTL.21-4-WP21-MT.A', 'INTL.21-1-WP18-MT.A', 'INTL.21-4-ZWE-MT.A', 'INTL.21-1-SWE-MT.A', 'INTL.21-4-TZA-MT.A', 'INTL.21-4-WP17-MT.A', 'INTL.21-4-WP25-MT.A', 'INTL.21-1-WP16-MT.A', 'INTL.21-4-YUG-MT.A', 'INTL.21-4-UKR-MT.A', 'INTL.21-4-WP18-MT.A', 'INTL.21-4-WP22-MT.A', 'INTL.21-3-NLD-MT.A', 'INTL.21-3-TUR-MT.A', 'INTL.21-3-PHL-MT.A', 'INTL.21-4-WP11-MT.A', 'INTL.21-3-OEEU-MT.A', 'INTL.21-3-OPEC-MT.A', 'INTL.21-3-SCG-MT.A', 'INTL.21-3-NOAM-MT.A', 'INTL.21-3-SUN-MT.A', 'INTL.21-3-SVK-MT.A', 'INTL.21-3-UKR-MT.A', 'INTL.21-4-WP12-MT.A', 'INTL.21-3-OENA-MT.A', 'INTL.21-3-OPSA-MT.A', 'INTL.21-3-ROU-MT.A', 'INTL.21-3-SDN-MT.A', 'INTL.21-3-PERG-MT.A', 'INTL.21-3-TWN-MT.A', 'INTL.21-3-SVN-MT.A', 'INTL.21-3-UNK-MT.A', 'INTL.21-4-WP13-MT.A', 'INTL.21-3-SRB-MT.A', 'INTL.21-2-ASOC-MT.A', 'INTL.21-1-TUR-MT.A', 'INTL.21-4-TJK-MT.A', 'INTL.21-3-SWE-MT.A', 'INTL.21-3-USA-MT.A', 'INTL.21-4-WP14-MT.A', 'INTL.21-3-OPAF-MT.A', 'INTL.21-3-PAK-MT.A', 'INTL.21-3-MIDE-MT.A', 'INTL.21-4-CZE-MT.A', 'INTL.21-3-VEN-MT.A', 'INTL.21-4-EGY-MT.A', 'INTL.21-3-WP15-MT.A', 'INTL.21-3-ZWE-MT.A', 'INTL.21-3-WP27-MT.A', 'INTL.21-4-DDR-MT.A', 'INTL.21-4-CAN-MT.A', 'INTL.21-3-WP16-MT.A', 'INTL.21-3-WP24-MT.A', 'INTL.21-3-WP17-MT.A', 'INTL.21-4-CHN-MT.A', 'INTL.21-3-VNM-MT.A', 'INTL.21-3-OEAO-MT.A', 'INTL.21-4-DEU-MT.A', 'INTL.21-3-PRT-MT.A', 'INTL.21-3-WP25-MT.A', 'INTL.21-4-BEL-MT.A', 'INTL.21-3-YUG-MT.A', 'INTL.21-4-BIH-MT.A', 'INTL.21-4-AFRC-MT.A', 'INTL.21-3-OECD-MT.A', 'INTL.21-4-DEUW-MT.A', 'INTL.21-3-POL-MT.A', 'INTL.21-3-NGA-MT.A', 'INTL.21-3-WP26-MT.A', 'INTL.21-3-THA-MT.A', 'INTL.21-3-ZAF-MT.A', 'INTL.21-3-WP14-MT.A', 'INTL.21-3-FRA-MT.A', 'INTL.21-3-IND-MT.A', 'INTL.21-4-COL-MT.A', 'INTL.21-4-CSK-MT.A', 'INTL.21-3-HUN-MT.A', 'INTL.21-3-JPN-MT.A', 'INTL.21-3-WP18-MT.A', 'INTL.21-3-WP22-MT.A', 'INTL.21-3-ISL-MT.A', 'INTL.21-3-LVA-MT.A', 'INTL.21-3-GEO-MT.A', 'INTL.21-4-AUS-MT.A', 'INTL.21-3-WP13-MT.A', 'INTL.21-3-EURO-MT.A', 'INTL.21-3-DEU-MT.A', 'INTL.21-3-WP19-MT.A', 'INTL.21-3-LKA-MT.A', 'INTL.21-3-COD-MT.A', 'INTL.21-3-ISR-MT.A', 'INTL.21-3-WP11-MT.A', 'INTL.21-3-MEX-MT.A', 'INTL.21-3-FIN-MT.A', 'INTL.21-3-KAZ-MT.A', 'INTL.21-3-DEUW-MT.A', 'INTL.21-3-IDN-MT.A', 'INTL.21-3-GBR-MT.A', 'INTL.21-3-ITA-MT.A', 'INTL.21-3-COL-MT.A', 'INTL.21-3-WP21-MT.A', 'INTL.21-3-LTU-MT.A', 'INTL.21-3-EU27-MT.A', 'INTL.21-3-MAR-MT.A', 'INTL.21-3-WP12-MT.A', 'INTL.21-4-CSAM-MT.A', 'INTL.21-3-HRV-MT.A', 'INTL.21-3-IEAA-MT.A', 'INTL.21-3-NOR-MT.A', 'INTL.21-3-IRN-MT.A', 'INTL.21-3-EURA-MT.A', 'INTL.21-3-CSAM-MT.A', 'INTL.21-3-HKG-MT.A', 'INTL.21-3-CZE-MT.A', 'INTL.21-3-DDR-MT.A', 'INTL.21-3-DZA-MT.A', 'INTL.21-3-GRC-MT.A', 'INTL.21-3-CSK-MT.A', 'INTL.21-3-KOR-MT.A', 'INTL.21-3-EGY-MT.A', 'INTL.21-3-DNK-MT.A', 'INTL.21-3-LBN-MT.A', 'INTL.21-3-ESP-MT.A', 'INTL.21-2-DNK-MT.A', 'INTL.21-2-KOR-MT.A', 'INTL.21-2-COD-MT.A', 'INTL.21-2-ITA-MT.A', 'INTL.21-2-HKG-MT.A', 'INTL.21-2-BOL-MT.A', 'INTL.21-2-DDR-MT.A', 'INTL.21-2-IDN-MT.A', 'INTL.21-2-ESP-MT.A', 'INTL.21-2-BRA-MT.A', 'INTL.21-2-FRA-MT.A', 'INTL.21-2-GRC-MT.A', 'INTL.21-2-GEO-MT.A', 'INTL.21-2-DEU-MT.A', 'INTL.21-2-HRV-MT.A', 'INTL.21-2-COL-MT.A', 'INTL.21-2-IND-MT.A', 'INTL.21-2-DZA-MT.A', 'INTL.21-2-JPN-MT.A', 'INTL.21-2-DEUW-MT.A', 'INTL.21-2-IEAA-MT.A', 'INTL.21-2-HUN-MT.A', 'INTL.21-2-GBR-MT.A', 'INTL.21-2-KAZ-MT.A', 'INTL.21-2-EGY-MT.A', 'INTL.21-4-PERG-MT.A', 'INTL.21-2-CSK-MT.A', 'INTL.21-4-OPEC-MT.A', 'INTL.21-2-EURO-MT.A', 'INTL.21-4-ESP-MT.A', 'INTL.21-2-CHL-MT.A', 'INTL.21-4-IEAA-MT.A', 'INTL.21-2-ISL-MT.A', 'INTL.21-4-OPSA-MT.A', 'INTL.21-4-NLD-MT.A', 'INTL.21-4-ITA-MT.A', 'INTL.21-2-ISR-MT.A', 'INTL.21-2-CZE-MT.A', 'INTL.21-2-FIN-MT.A', 'INTL.21-4-NOAM-MT.A', 'INTL.21-2-CSAM-MT.A', 'INTL.21-2-EU27-MT.A', 'INTL.21-4-PER-MT.A', 'INTL.21-2-CAN-MT.A', 'INTL.21-2-CHN-MT.A', 'INTL.21-4-GBR-MT.A', 'INTL.21-4-POL-MT.A', 'INTL.21-2-EURA-MT.A', 'INTL.21-4-HUN-MT.A', 'INTL.21-2-CHE-MT.A', 'INTL.21-4-MIDE-MT.A', 'INTL.21-2-IRN-MT.A', 'INTL.21-2-WP16-MT.A', 'INTL.21-2-ZWE-MT.A', 'INTL.21-3-ALB-MT.A', 'INTL.21-4-EU27-MT.A', 'INTL.21-4-NOR-MT.A', 'INTL.21-3-CHE-MT.A', 'INTL.21-4-OEEU-MT.A', 'INTL.21-2-WP17-MT.A', 'INTL.21-3-CHL-MT.A', 'INTL.21-3-ARG-MT.A', 'INTL.21-2-WP18-MT.A', 'INTL.21-2-WP14-MT.A', 'INTL.21-3-AUS-MT.A', 'INTL.21-4-OENA-MT.A', 'INTL.21-2-YUG-MT.A', 'INTL.21-4-OEAO-MT.A', 'INTL.21-2-ZAF-MT.A', 'INTL.21-3-CAN-MT.A', 'INTL.21-3-AUT-MT.A', 'INTL.21-4-EURA-MT.A', 'INTL.21-4-FRA-MT.A', 'INTL.21-2-WP15-MT.A', 'INTL.21-2-USA-MT.A', 'INTL.21-3-AFRC-MT.A', 'INTL.21-3-BRA-MT.A', 'INTL.21-4-JPN-MT.A', 'INTL.21-4-EURO-MT.A', 'INTL.21-2-WP13-MT.A', 'INTL.21-2-WP27-MT.A', 'INTL.21-4-OECD-MT.A', 'INTL.21-2-WP19-MT.A', 'INTL.21-2-WP23-MT.A', 'INTL.21-1-ITA-MT.A', 'INTL.21-1-OECD-MT.A', 'INTL.21-3-BLR-MT.A', 'INTL.21-1-MNG-MT.A', 'INTL.21-1-NOAM-MT.A', 'INTL.21-1-ROU-MT.A', 'INTL.21-2-VEN-MT.A', 'INTL.21-2-WORL-MT.A', 'INTL.21-2-WP21-MT.A', 'INTL.21-2-WP24-MT.A', 'INTL.21-1-POL-MT.A', 'INTL.21-1-OEAO-MT.A', 'INTL.21-1-JPN-MT.A', 'INTL.21-1-PRT-MT.A', 'INTL.21-3-BGD-MT.A', 'INTL.21-1-NOEC-MT.A', 'INTL.21-1-KOR-MT.A', 'INTL.21-2-WP11-MT.A', 'INTL.21-1-NLD-MT.A', 'INTL.21-2-WP22-MT.A', 'INTL.21-2-WP25-MT.A', 'INTL.21-2-TUR-MT.A', 'INTL.21-2-UKR-MT.A', 'INTL.21-3-BGR-MT.A', 'INTL.21-3-BOL-MT.A', 'INTL.21-2-VNM-MT.A', 'INTL.21-2-WP12-MT.A', 'INTL.21-1-NOR-MT.A', 'INTL.21-1-PRK-MT.A', 'INTL.21-4-JOR-MT.A', 'INTL.21-2-WP26-MT.A', 'INTL.21-1-KAZ-MT.A', 'INTL.21-2-TWN-MT.A', 'INTL.21-2-UNK-MT.A', 'INTL.21-2-URY-MT.A', 'INTL.21-3-BEL-MT.A', 'INTL.21-1-NZL-MT.A', 'INTL.21-1-PAK-MT.A', 'INTL.21-1-OENA-MT.A', 'INTL.21-1-HUN-MT.A', 'INTL.21-1-IRN-MT.A', 'INTL.21-1-MIDE-MT.A', 'INTL.21-1-FRA-MT.A', 'INTL.21-1-GRC-MT.A', 'INTL.21-1-GBR-MT.A', 'INTL.21-1-OPAF-MT.A', 'INTL.21-1-PER-MT.A', 'INTL.21-1-IEAA-MT.A', 'INTL.21-1-PERG-MT.A', 'INTL.21-1-OPEC-MT.A', 'INTL.21-1-IND-MT.A', 'INTL.21-1-HRV-MT.A', 'INTL.21-1-MEX-MT.A', 'INTL.21-1-FIN-MT.A', 'INTL.21-1-OEEU-MT.A', 'INTL.81-2-WP26-MT.A', 'INTL.65-2-WP25-MT.A', 'INTL.64-2-WP25-MT.A', 'INTL.63-2-WP25-MT.A', 'INTL.67-2-WP25-MT.A', 'INTL.54-2-WP25-MT.A', 'INTL.66-2-WP25-MT.A', 'INTL.62-2-WP25-MT.A', 'INTL.81-2-WP15-MT.A', 'INTL.81-2-WP16-MT.A', 'INTL.81-2-WP17-MT.A', 'INTL.81-2-WP24-MT.A', 'INTL.81-2-WP18-MT.A', 'INTL.81-2-WP21-MT.A', 'INTL.81-2-WP22-MT.A', 'INTL.81-2-WP23-MT.A', 'INTL.81-2-WP27-MT.A', 'INTL.79-2-WP26-MT.A', 'INTL.79-1-WP13-MT.A', 'INTL.79-1-WP14-MT.A', 'INTL.79-1-WP21-MT.A', 'INTL.79-2-WP14-MT.A', 'INTL.79-2-WP15-MT.A', 'INTL.79-1-WP11-MT.A', 'INTL.79-1-WP12-MT.A', 'INTL.68-2-WP25-MT.A', 'INTL.81-2-WP12-MT.A', 'INTL.81-2-WP13-MT.A', 'INTL.81-2-WP14-MT.A', 'INTL.79-2-WP21-MT.A', 'INTL.79-2-WP22-MT.A', 'INTL.79-1-WP19-MT.A', 'INTL.79-2-WP11-MT.A', 'INTL.79-2-WP12-MT.A', 'INTL.79-2-WP23-MT.A', 'INTL.79-1-WP15-MT.A', 'INTL.79-1-WP16-MT.A', 'INTL.79-1-WP17-MT.A', 'INTL.79-1-WP18-MT.A', 'INTL.79-2-WP13-MT.A', 'INTL.79-2-WP24-MT.A', 'INTL.80-1-WP22-MT.A', 'INTL.80-1-WP23-MT.A', 'INTL.80-1-WP24-MT.A', 'INTL.80-1-WP25-MT.A', 'INTL.80-1-WP26-MT.A', 'INTL.80-1-WP27-MT.A', 'INTL.79-2-WP27-MT.A', 'INTL.79-2-WP16-MT.A', 'INTL.79-2-WP17-MT.A', 'INTL.79-2-WP18-MT.A', 'INTL.81-1-WP18-MT.A', 'INTL.81-1-WP23-MT.A', 'INTL.81-1-WP24-MT.A', 'INTL.80-2-WP11-MT.A', 'INTL.81-1-WP26-MT.A', 'INTL.81-1-WP27-MT.A', 'INTL.79-1-WP22-MT.A', 'INTL.79-1-WP23-MT.A', 'INTL.79-1-WP24-MT.A', 'INTL.79-1-WP25-MT.A', 'INTL.79-1-WP26-MT.A', 'INTL.79-1-WP27-MT.A', 'INTL.80-2-WP17-MT.A', 'INTL.80-2-WP18-MT.A', 'INTL.81-1-WP12-MT.A', 'INTL.81-1-WP13-MT.A', 'INTL.81-1-WP14-MT.A', 'INTL.81-1-WP17-MT.A', 'INTL.81-1-WP15-MT.A', 'INTL.81-1-WP16-MT.A', 'INTL.81-1-WP22-MT.A', 'INTL.81-1-WP21-MT.A', 'INTL.80-1-WP13-MT.A', 'INTL.80-1-WP15-MT.A', 'INTL.80-1-WP17-MT.A', 'INTL.80-1-WP19-MT.A', 'INTL.80-2-WP13-MT.A', 'INTL.80-2-WP24-MT.A', 'INTL.80-2-WP15-MT.A', 'INTL.80-2-WP27-MT.A', 'INTL.81-1-WP11-MT.A', 'INTL.81-2-WP11-MT.A', 'INTL.80-2-WP16-MT.A', 'INTL.80-2-WP21-MT.A', 'INTL.80-2-WP22-MT.A', 'INTL.80-1-WP18-MT.A', 'INTL.80-1-WP21-MT.A', 'INTL.80-1-WP12-MT.A', 'INTL.80-1-WP14-MT.A', 'INTL.80-1-WP16-MT.A', 'INTL.80-2-WP12-MT.A', 'INTL.80-2-WP14-MT.A', 'INTL.80-2-WP23-MT.A', 'INTL.80-2-WP26-MT.A', 'INTL.80-1-WP11-MT.A', 'INTL.54-2-RUS-MT.A', 'INTL.68-2-RUS-MT.A', 'INTL.54-2-OEEU-MT.Q', 'INTL.54-2-OEAO-MT.Q', 'INTL.54-2-OENA-MT.Q', 'INTL.68-2-SCG-MT.A', 'INTL.68-2-UKR-MT.A', 'INTL.68-2-UZB-MT.A', 'INTL.68-2-TJK-MT.A', 'INTL.68-2-TKM-MT.A', 'INTL.66-2-TKM-MT.A', 'INTL.66-2-UKR-MT.A', 'INTL.68-2-BLR-MT.A', 'INTL.68-2-BIH-MT.A', 'INTL.68-2-HRV-MT.A', 'INTL.68-2-AZE-MT.A', 'INTL.68-2-DEUW-MT.A', 'INTL.63-2-GEO-MT.A', 'INTL.63-2-ERI-MT.A', 'INTL.63-2-CSK-MT.A', 'INTL.63-2-KAZ-MT.A', 'INTL.63-2-HRV-MT.A', 'INTL.63-2-KGZ-MT.A', 'INTL.63-2-UKR-MT.A', 'INTL.63-2-BIH-MT.A', 'INTL.63-2-ARM-MT.A', 'INTL.63-2-BLR-MT.A', 'INTL.68-2-MNE-MT.A', 'INTL.68-2-KAZ-MT.A', 'INTL.68-2-KGZ-MT.A', 'INTL.68-2-DDR-MT.A', 'INTL.68-2-GEO-MT.A', 'INTL.68-2-ERI-MT.A', 'INTL.68-2-CSK-MT.A', 'INTL.68-2-NAM-MT.A', 'INTL.66-2-MNE-MT.A', 'INTL.65-2-RUS-MT.A', 'INTL.67-2-BIH-MT.A', 'INTL.67-2-BLR-MT.A', 'INTL.67-2-DDR-MT.A', 'INTL.67-2-DEUW-MT.A', 'INTL.67-2-GEO-MT.A', 'INTL.66-2-NAM-MT.A', 'INTL.67-2-MNE-MT.A', 'INTL.67-2-NAM-MT.A', 'INTL.66-2-SCG-MT.A', 'INTL.67-2-TJK-MT.A', 'INTL.67-2-UZB-MT.A', 'INTL.63-2-AZE-MT.A', 'INTL.63-2-TKM-MT.A', 'INTL.63-2-RUS-MT.A', 'INTL.63-2-SCG-MT.A', 'INTL.63-2-NAM-MT.A', 'INTL.66-2-TJK-MT.A', 'INTL.63-2-UZB-MT.A', 'INTL.64-2-DDR-MT.A', 'INTL.64-2-CSK-MT.A', 'INTL.64-2-ERI-MT.A', 'INTL.64-2-RUS-MT.A', 'INTL.63-2-TJK-MT.A', 'INTL.66-2-RUS-MT.A', 'INTL.66-2-DDR-MT.A', 'INTL.66-2-DEUW-MT.A', 'INTL.66-2-UZB-MT.A', 'INTL.64-2-UKR-MT.A', 'INTL.64-2-GEO-MT.A', 'INTL.63-2-DDR-MT.A', 'INTL.63-2-DEUW-MT.A', 'INTL.63-2-MNE-MT.A', 'INTL.67-2-KAZ-MT.A', 'INTL.67-2-HRV-MT.A', 'INTL.65-2-UZB-MT.A', 'INTL.65-2-TJK-MT.A', 'INTL.65-2-MNE-MT.A', 'INTL.65-2-TKM-MT.A', 'INTL.65-2-AZE-MT.A', 'INTL.65-2-ARM-MT.A', 'INTL.64-2-ARM-MT.A', 'INTL.65-2-BIH-MT.A', 'INTL.65-2-BLR-MT.A', 'INTL.64-2-AZE-MT.A', 'INTL.64-2-BLR-MT.A', 'INTL.64-2-KAZ-MT.A', 'INTL.64-2-HRV-MT.A', 'INTL.64-2-KGZ-MT.A', 'INTL.67-2-KGZ-MT.A', 'INTL.64-2-BIH-MT.A', 'INTL.64-2-DEUW-MT.A', 'INTL.64-2-NAM-MT.A', 'INTL.64-2-TKM-MT.A', 'INTL.65-2-CSK-MT.A', 'INTL.66-2-AZE-MT.A', 'INTL.64-2-UZB-MT.A', 'INTL.65-2-DEUW-MT.A', 'INTL.66-2-ERI-MT.A', 'INTL.66-2-CSK-MT.A', 'INTL.66-2-GEO-MT.A', 'INTL.65-2-ERI-MT.A', 'INTL.65-2-GEO-MT.A', 'INTL.66-2-KAZ-MT.A', 'INTL.66-2-HRV-MT.A', 'INTL.65-2-HRV-MT.A', 'INTL.66-2-KGZ-MT.A', 'INTL.65-2-SCG-MT.A', 'INTL.65-2-KAZ-MT.A', 'INTL.64-2-SVN-MT.A', 'INTL.64-2-SCG-MT.A', 'INTL.65-2-KGZ-MT.A', 'INTL.65-2-UKR-MT.A', 'INTL.67-2-TKM-MT.A', 'INTL.67-2-ERI-MT.A', 'INTL.67-2-AZE-MT.A', 'INTL.67-2-CSK-MT.A', 'INTL.54-2-TKM-MT.A', 'INTL.54-2-UZB-MT.A', 'INTL.68-2-ARM-MT.A', 'INTL.64-2-MNE-MT.A', 'INTL.65-2-NAM-MT.A', 'INTL.64-2-LTU-MT.A', 'INTL.65-2-DDR-MT.A', 'INTL.64-2-TJK-MT.A', 'INTL.66-2-BIH-MT.A', 'INTL.66-2-BLR-MT.A', 'INTL.66-2-ARM-MT.A', 'INTL.62-2-BLR-MT.A', 'INTL.62-2-HRV-MT.A', 'INTL.62-2-KAZ-MT.A', 'INTL.62-2-AZE-MT.A', 'INTL.62-2-ERI-MT.A', 'INTL.62-2-CSK-MT.A', 'INTL.62-2-KGZ-MT.A', 'INTL.67-2-RUS-MT.A', 'INTL.67-2-SCG-MT.A', 'INTL.67-2-ARM-MT.A', 'INTL.67-2-UKR-MT.A', 'INTL.62-2-MNE-MT.A', 'INTL.62-2-DDR-MT.A', 'INTL.62-2-DEUW-MT.A', 'INTL.62-2-GEO-MT.A', 'INTL.62-2-NAM-MT.A', 'INTL.62-2-RUS-MT.A', 'INTL.62-2-SCG-MT.A', 'INTL.54-2-AZE-MT.A', 'INTL.54-2-DEUW-MT.A', 'INTL.62-2-BIH-MT.A', 'INTL.62-2-TJK-MT.A', 'INTL.62-2-UKR-MT.A', 'INTL.62-2-TKM-MT.A', 'INTL.54-2-BIH-MT.A', 'INTL.62-2-ARM-MT.A', 'INTL.62-2-UZB-MT.A', 'INTL.81-1-WORL-MT.A', 'INTL.80-1-OEEU-MT.A', 'INTL.80-1-NOEC-MT.A', 'INTL.81-1-OECD-MT.A', 'INTL.81-1-NOEC-MT.A', 'INTL.80-2-OEEU-MT.A', 'INTL.81-1-EURO-MT.A', 'INTL.80-1-ASOC-MT.A', 'INTL.80-1-CSAM-MT.A', 'INTL.80-2-WORL-MT.A', 'INTL.79-2-ASOC-MT.A', 'INTL.79-2-WORL-MT.A', 'INTL.80-1-AFRC-MT.A', 'INTL.79-2-AFRC-MT.A', 'INTL.79-2-EU27-MT.A', 'INTL.80-2-IEAA-MT.A', 'INTL.79-1-WORL-MT.A', 'INTL.81-1-IEAA-MT.A', 'INTL.81-1-EU27-MT.A', 'INTL.79-1-AFRC-MT.A', 'INTL.79-2-IEAA-MT.A', 'INTL.79-2-CSAM-MT.A', 'INTL.79-2-EURO-MT.A', 'INTL.79-1-OECD-MT.A', 'INTL.80-2-EURO-MT.A', 'INTL.79-1-OEEU-MT.A', 'INTL.80-2-EU27-MT.A', 'INTL.79-1-NOEC-MT.A', 'INTL.80-2-CSAM-MT.A', 'INTL.79-2-NOEC-MT.A', 'INTL.81-1-OEEU-MT.A', 'INTL.80-2-OECD-MT.A', 'INTL.80-2-OEAO-MT.A', 'INTL.80-2-NOEC-MT.A', 'INTL.81-2-EU27-MT.A', 'INTL.81-2-EURO-MT.A', 'INTL.80-1-WORL-MT.A', 'INTL.81-2-WORL-MT.A', 'INTL.80-1-OECD-MT.A', 'INTL.81-2-ASOC-MT.A', 'INTL.81-2-CSAM-MT.A', 'INTL.81-2-NOEC-MT.A', 'INTL.81-2-OEEU-MT.A', 'INTL.81-2-IEAA-MT.A', 'INTL.81-2-OEAO-MT.A', 'INTL.81-2-OECD-MT.A', 'INTL.79-1-IEAA-MT.A', 'INTL.79-1-EURA-MT.A', 'INTL.79-1-EURO-MT.A', 'INTL.79-1-CSAM-MT.A', 'INTL.80-1-EU27-MT.A', 'INTL.79-2-OECD-MT.A', 'INTL.79-2-OEEU-MT.A', 'INTL.79-1-EU27-MT.A', 'INTL.80-1-EURA-MT.A', 'INTL.80-1-EURO-MT.A', 'INTL.79-1-ASOC-MT.A', 'INTL.80-1-IEAA-MT.A']\n",
    "list[0].split('.')[0]"
   ]
  },
  {
   "cell_type": "code",
   "execution_count": null,
   "metadata": {},
   "outputs": [],
   "source": [
    "len(list)"
   ]
  },
  {
   "cell_type": "code",
   "execution_count": null,
   "metadata": {},
   "outputs": [],
   "source": [
    "import pandas as pd\n",
    "df = pd.read_json(path_or_buf=r'C:\\Users\\ROSA_L\\Downloads\\INTL\\INTL.txt', encoding='UTF8', orient='records', lines=True)"
   ]
  },
  {
   "cell_type": "code",
   "execution_count": null,
   "metadata": {},
   "outputs": [],
   "source": [
    "df2 = df[~df[\"data\"].isna()]"
   ]
  },
  {
   "cell_type": "code",
   "execution_count": null,
   "metadata": {},
   "outputs": [],
   "source": [
    "df2[~df2['series_id'].str.startswith('INTL.')]"
   ]
  },
  {
   "cell_type": "code",
   "execution_count": null,
   "metadata": {},
   "outputs": [],
   "source": [
    "df[:10]"
   ]
  },
  {
   "cell_type": "code",
   "execution_count": null,
   "metadata": {},
   "outputs": [],
   "source": [
    "import pandas as pd\n",
    "mapping = pd.DataFrame([\n",
    "        ('Thousand Btu Per USD at Purchasing Power Parities', 'MBTU', 0.001),\n",
    "        ('Million Btu per Person', 'MBTU', 1),\n",
    "        ('Quadrillion Btu', 'TJ', 1055055.85262),\n",
    "        ('Billion Dollars at Purchasing Power Parities', 'USD', 1000000000),\n",
    "        ('People in Thousands', 'PERS', 1000),\n",
    "        ('million metric tons carbon dioxide', 'KT', 1000),\n",
    "        ('Million Metric Tons', 'KT', 1000),\n",
    "        ('Million Metric Tons of Oil Equivalent', 'KTOE', 1000),\n",
    "        ('1000 metric tons', 'KT', 1),\n",
    "        ('Tera Joules', 'TJ', 1),\n",
    "        ('Terajoules', 'TJ', 1),\n",
    "        ('Percent', 'PERC', 1),\n",
    "        ('Thousand Gallons per Day', 'None', 1),\n",
    "        ('Thousand Gallons', 'None', 1),\n",
    "        ('Dollars per Gallon', 'USD', 1),\n",
    "        ('Dollars per Barrel', 'USD', 1),\n",
    "        ('Number of Elements', 'COUNT', 1),\n",
    "        ('Thousand Short Tons', 'None', 1),\n",
    "        ('Thousand Barrels Per Day', 'KBD', 1),\n",
    "        ('Thousand Barrels', 'KBBL', 1),\n",
    "        ('Millions Barrels', 'KBBL', 1000),\n",
    "        ('Billion Kilowatthours', 'GWh', 1000),\n",
    "        ('Billion Barrels', 'KBBL', 1000000),\n",
    "        ('Billions Cubic Meters', 'MCM', 1000),\n",
    "        ('Billion Cubic Feet', 'None', 1),\n",
    "        ('Trillion Cubic Feet', 'None', 1),\n",
    "        ('Million Short Tons', 'None', 1),\n",
    "        ('Million Kilowatts', 'MWe', 1000)\n",
    "    ]).rename(columns={0: 'eia_unit', 1: 'unit', 2: 'factor'}) \\\n",
    "      .apply(lambda x: x.str.lower() if x.name == 'eia_unit' else x)\n",
    "\n",
    "m1 = mapping.copy()\n",
    "\n",
    "m1"
   ]
  },
  {
   "cell_type": "code",
   "execution_count": null,
   "metadata": {},
   "outputs": [],
   "source": [
    "m1.loc[m1['eia_unit'] == 'terajoules', 'eia_unit'] = 'BIDON'\n",
    "result = m1.merge(mapping, on=\"eia_unit\", how=\"left\", indicator=True)\n",
    "result"
   ]
  },
  {
   "cell_type": "code",
   "execution_count": null,
   "metadata": {},
   "outputs": [],
   "source": [
    "', '.join(mapping['eia_unit'].unique())"
   ]
  },
  {
   "cell_type": "code",
   "execution_count": null,
   "metadata": {},
   "outputs": [],
   "source": [
    "import re\n",
    "import pandas as pd\n",
    "df = pd.DataFrame({'A': [0, '#VALUE!', 2, 3, 4],\n",
    "                   'B': [5, 6, 7, 8, 9],\n",
    "                   'C': ['a', 'b', 'c', 'd', 'e']})\n",
    "\n",
    "df.replace(regex=r\"^#.*\", value=0, inplace=True)\n",
    "df\n",
    "\n"
   ]
  },
  {
   "cell_type": "code",
   "execution_count": null,
   "metadata": {},
   "outputs": [],
   "source": [
    "# Check manifest.txt\n",
    "import pandas as pd\n",
    "import json\n",
    "import requests\n",
    "#df = pd.read_json('http://api.eia.gov/bulk/manifest.txt')\n",
    "#df[df.index == 'AEO.2014']['dataset']\n",
    "url = 'http://api.eia.gov/bulk/manifest.txt'\n",
    "response = requests.get(url)\n",
    "\n",
    "json = response.json() if response.ok else None\n",
    "\n",
    "json\n",
    "\n",
    "#[ (l[0], l[1]['last_updated']) for l in json['dataset'].items()]"
   ]
  },
  {
   "cell_type": "code",
   "execution_count": null,
   "metadata": {},
   "outputs": [],
   "source": [
    "df = pd.read_json('http://api.eia.gov/bulk/manifest.txt')"
   ]
  },
  {
   "cell_type": "code",
   "execution_count": null,
   "metadata": {},
   "outputs": [],
   "source": [
    "display(df.iloc[0]['dataset'])\n",
    "type(df['dataset'].map(lambda x: x['last_updated']))"
   ]
  },
  {
   "cell_type": "code",
   "execution_count": null,
   "metadata": {},
   "outputs": [],
   "source": []
  }
 ],
 "metadata": {
  "kernelspec": {
   "display_name": "Python 3",
   "language": "python",
   "name": "python3"
  },
  "language_info": {
   "codemirror_mode": {
    "name": "ipython",
    "version": 3
   },
   "file_extension": ".py",
   "mimetype": "text/x-python",
   "name": "python",
   "nbconvert_exporter": "python",
   "pygments_lexer": "ipython3",
   "version": "3.6.5"
  }
 },
 "nbformat": 4,
 "nbformat_minor": 4
}
