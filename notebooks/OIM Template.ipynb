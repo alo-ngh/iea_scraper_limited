{
 "cells": [
  {
   "cell_type": "markdown",
   "metadata": {},
   "source": [
    "# Template\n",
    "\n",
    "This is a template for a Jupyter notebook to help prototyping scrapers.\n",
    "\n",
    "It contains the basic steps to setup a proper, helpful notebook."
   ]
  },
  {
   "cell_type": "markdown",
   "metadata": {},
   "source": [
    "## Autoreload\n",
    "\n",
    "This extension will reload used python objects."
   ]
  },
  {
   "cell_type": "code",
   "execution_count": 4,
   "metadata": {},
   "outputs": [
    {
     "name": "stdout",
     "output_type": "stream",
     "text": [
      "The autoreload extension is already loaded. To reload it, use:\n",
      "  %reload_ext autoreload\n"
     ]
    }
   ],
   "source": [
    "%load_ext autoreload\n",
    "%autoreload 2"
   ]
  },
  {
   "cell_type": "markdown",
   "metadata": {},
   "source": [
    "## Working directory\n",
    "\n",
    "Let's make sure we are at the root working directory (not notebooks)."
   ]
  },
  {
   "cell_type": "code",
   "execution_count": 10,
   "metadata": {},
   "outputs": [
    {
     "data": {
      "text/plain": [
       "'C:\\\\Users\\\\ROSA_L\\\\PycharmProjects\\\\scraper\\\\notebooks'"
      ]
     },
     "execution_count": 10,
     "metadata": {},
     "output_type": "execute_result"
    }
   ],
   "source": [
    "%pwd"
   ]
  },
  {
   "cell_type": "code",
   "execution_count": 11,
   "metadata": {},
   "outputs": [
    {
     "name": "stdout",
     "output_type": "stream",
     "text": [
      "C:\\Users\\ROSA_L\\PycharmProjects\\scraper\n"
     ]
    }
   ],
   "source": [
    "%cd .."
   ]
  },
  {
   "cell_type": "markdown",
   "metadata": {},
   "source": [
    "## Logging\n",
    "This will setup basic logging capabilities."
   ]
  },
  {
   "cell_type": "code",
   "execution_count": 6,
   "metadata": {},
   "outputs": [],
   "source": [
    "import logging\n",
    "import sys\n",
    "\n",
    "root = logging.getLogger()\n",
    "root.setLevel(logging.DEBUG)\n",
    "\n",
    "handler = logging.StreamHandler(sys.stdout)\n",
    "handler.setLevel(logging.DEBUG)\n",
    "formatter = logging.Formatter('%(asctime)s - %(name)s - %(levelname)s - %(message)s')\n",
    "handler.setFormatter(formatter)\n",
    "root.addHandler(handler)"
   ]
  },
  {
   "cell_type": "markdown",
   "metadata": {},
   "source": [
    "## Factory\n",
    "\n",
    "The scraper factory provides a simple and programatic way to load scrapers dynamically, without need to declare imports."
   ]
  },
  {
   "cell_type": "code",
   "execution_count": 12,
   "metadata": {},
   "outputs": [],
   "source": [
    "from iea_scraper.core import factory"
   ]
  },
  {
   "cell_type": "markdown",
   "metadata": {},
   "source": [
    "### Loading a scraper\n",
    "\n",
    "The command to load a scraper using the factory is:\n",
    "\n",
    "```\n",
    "    job = factory.get_scraper_job(<module name>, <scraper package name>, [<optional parameters>, ...])\n",
    "```\n",
    "An example below:"
   ]
  },
  {
   "cell_type": "code",
   "execution_count": 13,
   "metadata": {},
   "outputs": [
    {
     "name": "stdout",
     "output_type": "stream",
     "text": [
      "2022-05-13 11:07:17,234 - iea_scraper.core.factory - DEBUG - Loading module iea_scraper.jobs.br_gov_anp.br_oil_prod\n",
      "2022-05-13 11:07:17,422 - iea_scraper.core.factory - DEBUG - Getting class BrOilProdJob\n",
      "2022-05-13 11:07:17,955 - selenium.webdriver.remote.remote_connection - DEBUG - POST http://localhost:54311/session {\"capabilities\": {\"firstMatch\": [{}], \"alwaysMatch\": {\"browserName\": \"chrome\", \"pageLoadStrategy\": \"normal\", \"goog:chromeOptions\": {\"prefs\": {\"download.default_directory\": \"C:\\\\Users\\\\ROSA_L\\\\PycharmProjects\\\\scraper\\\\filestore\"}, \"extensions\": [], \"args\": [\"--headless\", \"--disable-dev-shm-usage\", \"window-size=1920x1480\"]}}}, \"desiredCapabilities\": {\"browserName\": \"chrome\", \"pageLoadStrategy\": \"normal\", \"goog:chromeOptions\": {\"prefs\": {\"download.default_directory\": \"C:\\\\Users\\\\ROSA_L\\\\PycharmProjects\\\\scraper\\\\filestore\"}, \"extensions\": [], \"args\": [\"--headless\", \"--disable-dev-shm-usage\", \"window-size=1920x1480\"]}}}\n",
      "2022-05-13 11:07:17,960 - urllib3.connectionpool - DEBUG - Starting new HTTP connection (1): localhost:54311\n",
      "2022-05-13 11:07:18,629 - urllib3.connectionpool - DEBUG - http://localhost:54311 \"POST /session HTTP/1.1\" 200 790\n",
      "2022-05-13 11:07:18,630 - selenium.webdriver.remote.remote_connection - DEBUG - Finished Request\n",
      "2022-05-13 11:07:18,630 - selenium.webdriver.remote.remote_connection - DEBUG - POST http://localhost:54311/session/bb2eb75268bfa2cfef6341c1e6ed9701/chromium/send_command {\"cmd\": \"Page.setDownloadBehavior\", \"params\": {\"behavior\": \"allow\", \"downloadPath\": \"C:\\\\Users\\\\ROSA_L\\\\PycharmProjects\\\\scraper\\\\filestore\"}}\n",
      "2022-05-13 11:07:18,636 - urllib3.connectionpool - DEBUG - http://localhost:54311 \"POST /session/bb2eb75268bfa2cfef6341c1e6ed9701/chromium/send_command HTTP/1.1\" 200 14\n",
      "2022-05-13 11:07:18,637 - selenium.webdriver.remote.remote_connection - DEBUG - Finished Request\n"
     ]
    }
   ],
   "source": [
    "job = factory.get_scraper_job('br_gov_anp', 'br_oil_prod', full_load=True)"
   ]
  },
  {
   "cell_type": "code",
   "execution_count": 14,
   "metadata": {},
   "outputs": [
    {
     "name": "stdout",
     "output_type": "stream",
     "text": [
      "2022-05-13 11:07:25,401 - selenium.webdriver.remote.remote_connection - DEBUG - DELETE http://localhost:54311/session/bb2eb75268bfa2cfef6341c1e6ed9701/window {}\n",
      "2022-05-13 11:07:25,424 - urllib3.connectionpool - DEBUG - http://localhost:54311 \"DELETE /session/bb2eb75268bfa2cfef6341c1e6ed9701/window HTTP/1.1\" 200 12\n",
      "2022-05-13 11:07:25,425 - selenium.webdriver.remote.remote_connection - DEBUG - Finished Request\n"
     ]
    }
   ],
   "source": [
    "del job"
   ]
  },
  {
   "cell_type": "code",
   "execution_count": null,
   "metadata": {},
   "outputs": [],
   "source": []
  }
 ],
 "metadata": {
  "kernelspec": {
   "display_name": "python_39_scraper",
   "language": "python",
   "name": "python_39_scraper"
  },
  "language_info": {
   "codemirror_mode": {
    "name": "ipython",
    "version": 3
   },
   "file_extension": ".py",
   "mimetype": "text/x-python",
   "name": "python",
   "nbconvert_exporter": "python",
   "pygments_lexer": "ipython3",
   "version": "3.9.7"
  }
 },
 "nbformat": 4,
 "nbformat_minor": 4
}
