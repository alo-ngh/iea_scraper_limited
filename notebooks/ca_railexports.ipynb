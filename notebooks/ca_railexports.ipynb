{
 "cells": [
  {
   "cell_type": "markdown",
   "metadata": {},
   "source": [
    "# Canadian Crude Oil Exports by Rail Monthly Data\n",
    "\n"
   ]
  },
  {
   "cell_type": "code",
   "execution_count": 1,
   "metadata": {},
   "outputs": [
    {
     "name": "stdout",
     "output_type": "stream",
     "text": [
      "C:\\Users\\ROSA_L\\PycharmProjects\\scraper\n"
     ]
    }
   ],
   "source": [
    "%cd .."
   ]
  },
  {
   "cell_type": "code",
   "execution_count": 2,
   "metadata": {},
   "outputs": [],
   "source": [
    "%load_ext autoreload\n",
    "%autoreload 2"
   ]
  },
  {
   "cell_type": "code",
   "execution_count": 3,
   "metadata": {},
   "outputs": [],
   "source": [
    "import logging\n",
    "logger = logging.getLogger()\n",
    "logging.basicConfig(level=logging.DEBUG)\n",
    "logger.setLevel(logging.DEBUG)"
   ]
  },
  {
   "cell_type": "code",
   "execution_count": 4,
   "metadata": {},
   "outputs": [
    {
     "name": "stderr",
     "output_type": "stream",
     "text": [
      "DEBUG:scraper.core.factory:Loading module scraper.jobs.ca_gc_cer-rec.crude_oil_exports_by_rail\n",
      "DEBUG:scraper.core.factory:Getting class CrudeOilExportsByRailJob\n"
     ]
    }
   ],
   "source": [
    "from scraper.core import factory\n",
    "job = factory.get_scraper_job('ca_gc_cer-rec', 'crude_oil_exports_by_rail')"
   ]
  },
  {
   "cell_type": "code",
   "execution_count": 5,
   "metadata": {},
   "outputs": [
    {
     "name": "stderr",
     "output_type": "stream",
     "text": [
      "DEBUG:scraper.jobs.ca_gc_cer-rec.crude_oil_exports_by_rail:Defining sources\n",
      "INFO:scraper.jobs.ca_gc_cer-rec.crude_oil_exports_by_rail:1 source files to load.\n",
      "DEBUG:scraper.core.job:remove_existing_dynamic_dim: query - http://vipenta.iea.org:8000/dimension/source\n",
      "DEBUG:urllib3.connectionpool:Starting new HTTP connection (1): vipenta.iea.org:8000\n",
      "DEBUG:urllib3.connectionpool:http://vipenta.iea.org:8000 \"GET /dimension/source HTTP/1.1\" 200 769230\n",
      "DEBUG:scraper.core.job:self.dynamic_dim['source'] size before: 1\n",
      "DEBUG:scraper.core.job:self.dynamic_dim['source'] size after: 0\n",
      "DEBUG:scraper.core.job:download: True, parallel download: True\n",
      "DEBUG:urllib3.connectionpool:Starting new HTTP connection (1): proxy.iea.org:8080\n",
      "DEBUG:urllib3.connectionpool:http://proxy.iea.org:8080 \"GET http://www.cer-rec.gc.ca/en/data-analysis/energy-commodities/crude-oil-petroleum-products/statistics/canadian-crude-oil-exports-rail-monthly-data.xlsx HTTP/1.1\" 200 46907\n",
      "INFO:scraper.core.utils:download_and_get_checksum: 68.56727600097656 ms\n",
      "DEBUG:scraper.core.job:rm_sources_up_to_date: processing CA_CRUDE_RAIL_EXPORTS_MONTHLY\n",
      "DEBUG:urllib3.connectionpool:Starting new HTTP connection (1): vipenta.iea.org:8000\n",
      "DEBUG:urllib3.connectionpool:http://vipenta.iea.org:8000 \"GET /dimension/source?code=CA_CRUDE_RAIL_EXPORTS_MONTHLY HTTP/1.1\" 200 860\n",
      "INFO:scraper.core.utils:rm_sources_up_to_date: 29.93035316467285 ms\n",
      "DEBUG:scraper.jobs.ca_gc_cer-rec.crude_oil_exports_by_rail:transforming data\n",
      "DEBUG:scraper.jobs.ca_gc_cer-rec.crude_oil_exports_by_rail:Transforming provider ...\n",
      "DEBUG:scraper.jobs.ca_gc_cer-rec.crude_oil_exports_by_rail:Adding provider to dynamic_dim: CA_GC_CER_REC\n",
      "DEBUG:scraper.core.job:remove_existing_dynamic_dim: query - http://vipenta.iea.org:8000/dimension/provider\n",
      "DEBUG:urllib3.connectionpool:Starting new HTTP connection (1): vipenta.iea.org:8000\n",
      "DEBUG:urllib3.connectionpool:http://vipenta.iea.org:8000 \"GET /dimension/provider HTTP/1.1\" 200 7177\n",
      "DEBUG:scraper.core.job:self.dynamic_dim['provider'] size before: 1\n",
      "DEBUG:scraper.core.job:self.dynamic_dim['provider'] size after: 0\n",
      "INFO:scraper.jobs.ca_gc_cer-rec.crude_oil_exports_by_rail:139 rows read from ca_crude_rail_exports_monthly.xlsx\n",
      "DEBUG:scraper.jobs.ca_gc_cer-rec.crude_oil_exports_by_rail:Adapting dataframe to External DB schema\n",
      "DEBUG:scraper.core.job:Running insert_new_dynamic_dim(): 2 items\n",
      "DEBUG:scraper.core.job:Processing source: size 0\n",
      "DEBUG:scraper.core.job:Processing provider: size 0\n",
      "INFO:scraper.core.utils:insert_new_dynamic_dim: 1.9655227661132812 ms\n",
      "DEBUG:urllib3.connectionpool:Starting new HTTP connection (1): vipenta.iea.org:8000\n",
      "DEBUG:urllib3.connectionpool:http://vipenta.iea.org:8000 \"POST /main/datapoint HTTP/1.1\" 201 10\n",
      "DEBUG:root:Sending data to IEA External DB - Batch[1]: 113 rows\n",
      "INFO:root:113 items sent to IEA External DB API instance at: http://vipenta.iea.org:8000/main/datapoint\n",
      "INFO:scraper.core.utils:upsert: 1741.9729232788086 ms\n",
      "DEBUG:urllib3.connectionpool:Starting new HTTP connection (1): vipenta.iea.org:8000\n",
      "DEBUG:urllib3.connectionpool:http://vipenta.iea.org:8000 \"GET /dimension/source?code=CA_CRUDE_RAIL_EXPORTS_MONTHLY HTTP/1.1\" 200 860\n",
      "DEBUG:urllib3.connectionpool:Starting new HTTP connection (1): vipenta.iea.org:8000\n",
      "DEBUG:urllib3.connectionpool:http://vipenta.iea.org:8000 \"PUT /dimension/source/7064 HTTP/1.1\" 201 10\n",
      "INFO:scraper.core.utils:update_sources_metadata: 68.8333511352539 ms\n"
     ]
    }
   ],
   "source": [
    "job.run()"
   ]
  },
  {
   "cell_type": "code",
   "execution_count": null,
   "metadata": {},
   "outputs": [],
   "source": []
  }
 ],
 "metadata": {
  "kernelspec": {
   "display_name": "Python 3",
   "language": "python",
   "name": "python3"
  },
  "language_info": {
   "codemirror_mode": {
    "name": "ipython",
    "version": 3
   },
   "file_extension": ".py",
   "mimetype": "text/x-python",
   "name": "python",
   "nbconvert_exporter": "python",
   "pygments_lexer": "ipython3",
   "version": "3.6.5"
  }
 },
 "nbformat": 4,
 "nbformat_minor": 4
}
