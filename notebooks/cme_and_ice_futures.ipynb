{
 "cells": [
  {
   "cell_type": "code",
   "execution_count": 1,
   "metadata": {},
   "outputs": [],
   "source": [
    "from bs4 import BeautifulSoup\n",
    "# from requests_html import AsyncHTMLSession\n",
    "\n",
    "from selenium import webdriver\n",
    "from selenium.webdriver.common.by import By\n",
    "from selenium.webdriver.common.keys import Keys \n",
    "from time import sleep"
   ]
  },
  {
   "cell_type": "code",
   "execution_count": 2,
   "metadata": {},
   "outputs": [],
   "source": [
    "from selenium.webdriver.chrome.options import Options\n",
    "\n",
    "chrome_options = Options()\n",
    "\n",
    "chrome_options.add_argument('window-size=1920x1480')"
   ]
  },
  {
   "cell_type": "code",
   "execution_count": 3,
   "metadata": {},
   "outputs": [
    {
     "name": "stderr",
     "output_type": "stream",
     "text": [
      "C:\\Users\\DEGUCH~1\\AppData\\Local\\Temp/ipykernel_18772/1481772752.py:1: DeprecationWarning: executable_path has been deprecated, please pass in a Service object\n",
      "  chrome = webdriver.Chrome('../drivers/chromedriver')\n"
     ]
    }
   ],
   "source": [
    "chrome = webdriver.Chrome('../drivers/chromedriver')"
   ]
  },
  {
   "cell_type": "code",
   "execution_count": 56,
   "metadata": {},
   "outputs": [
    {
     "data": {
      "text/plain": [
       "'https://www.cmegroup.com/markets/energy/refined-products/rbob-gasoline.html'"
      ]
     },
     "execution_count": 56,
     "metadata": {},
     "output_type": "execute_result"
    }
   ],
   "source": [
    "target_product_group = f'crude-oil'\n",
    "target_product = f'light-sweet-crude'\n",
    "\n",
    "target_product_group = f'refined-products'\n",
    "target_product = f'heating-oil'\n",
    "\n",
    "target_product_group = f'natural-gas'\n",
    "target_product = f'natural-gas'\n",
    "\n",
    "target_product_group = f'refined-products'\n",
    "target_product = f'rbob-gasoline'\n",
    "\n",
    "\n",
    "target_url = f'https://www.cmegroup.com/markets/energy/{target_product_group}/{target_product}.html'\n",
    "\n",
    "target_url"
   ]
  },
  {
   "cell_type": "code",
   "execution_count": 29,
   "metadata": {},
   "outputs": [],
   "source": [
    "chrome.get(target_url)\n",
    "# r = session.get(target_url, proxies= PROXY_DICT)\n"
   ]
  },
  {
   "cell_type": "code",
   "execution_count": 30,
   "metadata": {},
   "outputs": [],
   "source": [
    "chrome.find_element(By.LINK_TEXT, 'QUOTES').click()"
   ]
  },
  {
   "cell_type": "code",
   "execution_count": 31,
   "metadata": {},
   "outputs": [],
   "source": [
    "chrome.execute_script(\"window.scrollTo(791, 2500);\")"
   ]
  },
  {
   "cell_type": "code",
   "execution_count": 32,
   "metadata": {},
   "outputs": [],
   "source": [
    "chrome.find_element(By.CLASS_NAME , 'load-all').click()"
   ]
  },
  {
   "cell_type": "code",
   "execution_count": 33,
   "metadata": {},
   "outputs": [
    {
     "data": {
      "text/plain": [
       "<selenium.webdriver.remote.webelement.WebElement (session=\"52662ec057eeb09000811c76f8576193\", element=\"21823672-554f-4501-b2a1-98de6ee51fbf\")>"
      ]
     },
     "execution_count": 33,
     "metadata": {},
     "output_type": "execute_result"
    }
   ],
   "source": [
    "chrome.find_element(By.CLASS_NAME, 'main-table-wrapper')"
   ]
  },
  {
   "cell_type": "code",
   "execution_count": 34,
   "metadata": {},
   "outputs": [],
   "source": [
    "trs = chrome.find_elements(By.TAG_NAME, 'tbody')[0].find_elements(By.TAG_NAME, 'tr')"
   ]
  },
  {
   "cell_type": "code",
   "execution_count": 35,
   "metadata": {},
   "outputs": [],
   "source": [
    "prices = []\n",
    "# codes = []\n",
    "\n",
    "for i in range(0,(len(trs) - 1)):\n",
    "    # print(i)\n",
    "    # tds = trs[i].find_elemnts(By.Tag_Name, 'td')\n",
    "\n",
    "    prices.append(\n",
    "        [target_product_group, \\\n",
    "         target_product, \\\n",
    "         trs[i].find_elements(By.TAG_NAME, \"td\")[0].find_elements(By.CLASS_NAME, \"table-cell\")[0].text, \\\n",
    "         trs[i].find_elements(By.TAG_NAME, \"td\")[3].find_elements(By.CLASS_NAME, \"table-cell\")[0].text, \\\n",
    "         trs[i].find_elements(By.TAG_NAME, \"td\")[6].find_elements(By.CLASS_NAME, \"table-cell\")[0].text, \\\n",
    "         trs[i].find_elements(By.TAG_NAME, \"td\")[7].find_elements(By.CLASS_NAME, \"table-cell\")[0].text, \\\n",
    "         trs[i].find_elements(By.TAG_NAME, \"td\")[8].find_elements(By.CLASS_NAME, \"table-cell\")[0].text, \\\n",
    "         trs[i].find_elements(By.TAG_NAME, \"td\")[9].find_elements(By.CLASS_NAME, \"table-cell\")[0].text, \\\n",
    "         trs[i].find_elements(By.TAG_NAME, \"td\")[10].find_elements(By.CLASS_NAME, \"table-cell\")[0].text])\n",
    "\n",
    "    \n",
    "    # prices.append()\n",
    "    \n",
    "    # print(f'{trs[i].find_elements(By.TAG_NAME, \"td\")[10].find_elements(By.CLASS_NAME, \"table-cell\")[0].text}')"
   ]
  },
  {
   "cell_type": "code",
   "execution_count": 36,
   "metadata": {},
   "outputs": [],
   "source": [
    "import pandas as pd\n",
    "df_today = pd.DataFrame(prices, columns=['Group','Product','Month', 'Last', 'OPEN', 'HIGH', 'LOW', 'VOLUME', 'UPDATED'])"
   ]
  },
  {
   "cell_type": "code",
   "execution_count": 37,
   "metadata": {},
   "outputs": [
    {
     "data": {
      "text/html": [
       "<div>\n",
       "<style scoped>\n",
       "    .dataframe tbody tr th:only-of-type {\n",
       "        vertical-align: middle;\n",
       "    }\n",
       "\n",
       "    .dataframe tbody tr th {\n",
       "        vertical-align: top;\n",
       "    }\n",
       "\n",
       "    .dataframe thead th {\n",
       "        text-align: right;\n",
       "    }\n",
       "</style>\n",
       "<table border=\"1\" class=\"dataframe\">\n",
       "  <thead>\n",
       "    <tr style=\"text-align: right;\">\n",
       "      <th></th>\n",
       "      <th>Group</th>\n",
       "      <th>Product</th>\n",
       "      <th>Month</th>\n",
       "      <th>Last</th>\n",
       "      <th>OPEN</th>\n",
       "      <th>HIGH</th>\n",
       "      <th>LOW</th>\n",
       "      <th>VOLUME</th>\n",
       "      <th>UPDATED</th>\n",
       "    </tr>\n",
       "  </thead>\n",
       "  <tbody>\n",
       "    <tr>\n",
       "      <th>0</th>\n",
       "      <td>crude-oil</td>\n",
       "      <td>light-sweet-crude</td>\n",
       "      <td></td>\n",
       "      <td>103.74</td>\n",
       "      <td>109.42</td>\n",
       "      <td>109.72</td>\n",
       "      <td>103.42</td>\n",
       "      <td>73,166</td>\n",
       "      <td>05:24:28 CT\\n14 Mar 2022</td>\n",
       "    </tr>\n",
       "    <tr>\n",
       "      <th>1</th>\n",
       "      <td>crude-oil</td>\n",
       "      <td>light-sweet-crude</td>\n",
       "      <td></td>\n",
       "      <td>101.42</td>\n",
       "      <td>106.64</td>\n",
       "      <td>106.65</td>\n",
       "      <td>101.10</td>\n",
       "      <td>29,655</td>\n",
       "      <td>05:24:28 CT\\n14 Mar 2022</td>\n",
       "    </tr>\n",
       "    <tr>\n",
       "      <th>2</th>\n",
       "      <td>crude-oil</td>\n",
       "      <td>light-sweet-crude</td>\n",
       "      <td></td>\n",
       "      <td>98.70</td>\n",
       "      <td>103.47</td>\n",
       "      <td>103.58</td>\n",
       "      <td>98.38</td>\n",
       "      <td>21,617</td>\n",
       "      <td>05:24:17 CT\\n14 Mar 2022</td>\n",
       "    </tr>\n",
       "    <tr>\n",
       "      <th>3</th>\n",
       "      <td>crude-oil</td>\n",
       "      <td>light-sweet-crude</td>\n",
       "      <td></td>\n",
       "      <td>96.26</td>\n",
       "      <td>100.64</td>\n",
       "      <td>100.98</td>\n",
       "      <td>96.00</td>\n",
       "      <td>7,475</td>\n",
       "      <td>05:24:10 CT\\n14 Mar 2022</td>\n",
       "    </tr>\n",
       "    <tr>\n",
       "      <th>4</th>\n",
       "      <td>crude-oil</td>\n",
       "      <td>light-sweet-crude</td>\n",
       "      <td></td>\n",
       "      <td>93.88</td>\n",
       "      <td>98.00</td>\n",
       "      <td>98.55</td>\n",
       "      <td>93.88</td>\n",
       "      <td>5,408</td>\n",
       "      <td>05:24:21 CT\\n14 Mar 2022</td>\n",
       "    </tr>\n",
       "    <tr>\n",
       "      <th>...</th>\n",
       "      <td>...</td>\n",
       "      <td>...</td>\n",
       "      <td>...</td>\n",
       "      <td>...</td>\n",
       "      <td>...</td>\n",
       "      <td>...</td>\n",
       "      <td>...</td>\n",
       "      <td>...</td>\n",
       "      <td>...</td>\n",
       "    </tr>\n",
       "    <tr>\n",
       "      <th>125</th>\n",
       "      <td>crude-oil</td>\n",
       "      <td>light-sweet-crude</td>\n",
       "      <td></td>\n",
       "      <td>-</td>\n",
       "      <td>-</td>\n",
       "      <td>-</td>\n",
       "      <td>-</td>\n",
       "      <td>0</td>\n",
       "      <td>16:00:00 CT\\n13 Mar 2022</td>\n",
       "    </tr>\n",
       "    <tr>\n",
       "      <th>126</th>\n",
       "      <td>crude-oil</td>\n",
       "      <td>light-sweet-crude</td>\n",
       "      <td></td>\n",
       "      <td>-</td>\n",
       "      <td>-</td>\n",
       "      <td>-</td>\n",
       "      <td>-</td>\n",
       "      <td>0</td>\n",
       "      <td>16:00:00 CT\\n13 Mar 2022</td>\n",
       "    </tr>\n",
       "    <tr>\n",
       "      <th>127</th>\n",
       "      <td>crude-oil</td>\n",
       "      <td>light-sweet-crude</td>\n",
       "      <td></td>\n",
       "      <td>-</td>\n",
       "      <td>-</td>\n",
       "      <td>-</td>\n",
       "      <td>-</td>\n",
       "      <td>0</td>\n",
       "      <td>16:00:00 CT\\n13 Mar 2022</td>\n",
       "    </tr>\n",
       "    <tr>\n",
       "      <th>128</th>\n",
       "      <td>crude-oil</td>\n",
       "      <td>light-sweet-crude</td>\n",
       "      <td></td>\n",
       "      <td>-</td>\n",
       "      <td>-</td>\n",
       "      <td>-</td>\n",
       "      <td>-</td>\n",
       "      <td>0</td>\n",
       "      <td>16:00:00 CT\\n13 Mar 2022</td>\n",
       "    </tr>\n",
       "    <tr>\n",
       "      <th>129</th>\n",
       "      <td>crude-oil</td>\n",
       "      <td>light-sweet-crude</td>\n",
       "      <td></td>\n",
       "      <td>-</td>\n",
       "      <td>-</td>\n",
       "      <td>-</td>\n",
       "      <td>-</td>\n",
       "      <td>0</td>\n",
       "      <td>16:00:00 CT\\n13 Mar 2022</td>\n",
       "    </tr>\n",
       "  </tbody>\n",
       "</table>\n",
       "<p>130 rows × 9 columns</p>\n",
       "</div>"
      ],
      "text/plain": [
       "         Group            Product Month    Last    OPEN    HIGH     LOW  \\\n",
       "0    crude-oil  light-sweet-crude        103.74  109.42  109.72  103.42   \n",
       "1    crude-oil  light-sweet-crude        101.42  106.64  106.65  101.10   \n",
       "2    crude-oil  light-sweet-crude         98.70  103.47  103.58   98.38   \n",
       "3    crude-oil  light-sweet-crude         96.26  100.64  100.98   96.00   \n",
       "4    crude-oil  light-sweet-crude         93.88   98.00   98.55   93.88   \n",
       "..         ...                ...   ...     ...     ...     ...     ...   \n",
       "125  crude-oil  light-sweet-crude             -       -       -       -   \n",
       "126  crude-oil  light-sweet-crude             -       -       -       -   \n",
       "127  crude-oil  light-sweet-crude             -       -       -       -   \n",
       "128  crude-oil  light-sweet-crude             -       -       -       -   \n",
       "129  crude-oil  light-sweet-crude             -       -       -       -   \n",
       "\n",
       "     VOLUME                   UPDATED  \n",
       "0    73,166  05:24:28 CT\\n14 Mar 2022  \n",
       "1    29,655  05:24:28 CT\\n14 Mar 2022  \n",
       "2    21,617  05:24:17 CT\\n14 Mar 2022  \n",
       "3     7,475  05:24:10 CT\\n14 Mar 2022  \n",
       "4     5,408  05:24:21 CT\\n14 Mar 2022  \n",
       "..      ...                       ...  \n",
       "125       0  16:00:00 CT\\n13 Mar 2022  \n",
       "126       0  16:00:00 CT\\n13 Mar 2022  \n",
       "127       0  16:00:00 CT\\n13 Mar 2022  \n",
       "128       0  16:00:00 CT\\n13 Mar 2022  \n",
       "129       0  16:00:00 CT\\n13 Mar 2022  \n",
       "\n",
       "[130 rows x 9 columns]"
      ]
     },
     "execution_count": 37,
     "metadata": {},
     "output_type": "execute_result"
    }
   ],
   "source": [
    "df_today"
   ]
  },
  {
   "cell_type": "code",
   "execution_count": null,
   "metadata": {},
   "outputs": [],
   "source": []
  },
  {
   "cell_type": "code",
   "execution_count": null,
   "metadata": {},
   "outputs": [],
   "source": []
  },
  {
   "cell_type": "code",
   "execution_count": 4,
   "metadata": {},
   "outputs": [],
   "source": [
    "from bs4 import BeautifulSoup\n",
    "# from requests_html import AsyncHTMLSession\n",
    "\n",
    "from selenium import webdriver\n",
    "from selenium.webdriver.common.keys import Keys \n",
    "from selenium.webdriver.common.by import By"
   ]
  },
  {
   "cell_type": "code",
   "execution_count": 5,
   "metadata": {},
   "outputs": [],
   "source": [
    "from selenium.webdriver.chrome.options import Options\n",
    "\n",
    "chrome_options = Options()\n",
    "\n",
    "chrome_options.add_argument('window-size=1920x1480')"
   ]
  },
  {
   "cell_type": "code",
   "execution_count": 6,
   "metadata": {},
   "outputs": [
    {
     "name": "stderr",
     "output_type": "stream",
     "text": [
      "C:\\Users\\DEGUCH~1\\AppData\\Local\\Temp/ipykernel_18772/1481772752.py:1: DeprecationWarning: executable_path has been deprecated, please pass in a Service object\n",
      "  chrome = webdriver.Chrome('../drivers/chromedriver')\n"
     ]
    }
   ],
   "source": [
    "chrome = webdriver.Chrome('../drivers/chromedriver')"
   ]
  },
  {
   "cell_type": "code",
   "execution_count": 7,
   "metadata": {},
   "outputs": [],
   "source": [
    "target_product_group = f'crude-oil'\n",
    "target_product = f'light-sweet-crude'\n",
    "target_url = f'https://www.cmegroup.com/markets/energy/{target_product_group}/{target_product}.html'"
   ]
  },
  {
   "cell_type": "code",
   "execution_count": 8,
   "metadata": {},
   "outputs": [],
   "source": [
    "chrome.get(target_url)"
   ]
  },
  {
   "cell_type": "code",
   "execution_count": 9,
   "metadata": {},
   "outputs": [],
   "source": [
    "chrome.find_element(By.LINK_TEXT, 'SETTLEMENTS').click()"
   ]
  },
  {
   "cell_type": "code",
   "execution_count": 11,
   "metadata": {},
   "outputs": [],
   "source": [
    "target_element = chrome.find_element(By.CLASS_NAME, 'load-all')\n",
    "# target_element.location[\"x\"]\n",
    "# target_element = chrome.find_element(By.CLASS_NAME, 'disclaimer')\n"
   ]
  },
  {
   "cell_type": "code",
   "execution_count": 12,
   "metadata": {},
   "outputs": [],
   "source": [
    "chrome.execute_script(f'window.scrollTo({target_element.location[\"x\"]}, {(target_element.location[\"y\"] - 500)});')"
   ]
  },
  {
   "cell_type": "code",
   "execution_count": 13,
   "metadata": {},
   "outputs": [],
   "source": [
    "chrome.find_element(By.CLASS_NAME, 'load-all').click()"
   ]
  },
  {
   "cell_type": "code",
   "execution_count": 14,
   "metadata": {},
   "outputs": [
    {
     "data": {
      "text/plain": [
       "<selenium.webdriver.remote.webelement.WebElement (session=\"199941382a31680c27765334cb86812f\", element=\"d460424d-76ca-4c98-8d0b-4a969335020c\")>"
      ]
     },
     "execution_count": 14,
     "metadata": {},
     "output_type": "execute_result"
    }
   ],
   "source": [
    "chrome.find_element(By.CLASS_NAME, 'main-table-wrapper')"
   ]
  },
  {
   "cell_type": "code",
   "execution_count": 15,
   "metadata": {},
   "outputs": [],
   "source": [
    "trs = chrome.find_elements(By.TAG_NAME, 'tbody')[0].find_elements(By.TAG_NAME, 'tr')"
   ]
  },
  {
   "cell_type": "code",
   "execution_count": 16,
   "metadata": {},
   "outputs": [],
   "source": [
    "prices = []\n",
    "\n",
    "for i in range(len(trs)):\n",
    "    # print(trs[i].find_elements(By.TAG_NAME, \"td\")[3].text)\n",
    "    # tds = trs[i].find_elemnts(By.Tag_Name, 'td')\n",
    "\n",
    "    prices.append(\n",
    "        [target_product_group, \\\n",
    "         target_product, \\\n",
    "         # trs[i].find_elements(By.CLASS_NAME, \"hidden\")[0].text, \\\n",
    "         trs[i].find_elements(By.TAG_NAME, \"td\")[0].text, \\\n",
    "         trs[i].find_elements(By.TAG_NAME, \"td\")[1].text, \\\n",
    "         trs[i].find_elements(By.TAG_NAME, \"td\")[2].text, \\\n",
    "         trs[i].find_elements(By.TAG_NAME, \"td\")[3].text, \\\n",
    "         trs[i].find_elements(By.TAG_NAME, \"td\")[4].text, \\\n",
    "         trs[i].find_elements(By.TAG_NAME, \"td\")[6].text, \\\n",
    "         trs[i].find_elements(By.TAG_NAME, \"td\")[7].text, \\\n",
    "         trs[i].find_elements(By.TAG_NAME, \"td\")[8].text])\n",
    "\n",
    "    "
   ]
  },
  {
   "cell_type": "code",
   "execution_count": null,
   "metadata": {},
   "outputs": [],
   "source": []
  },
  {
   "cell_type": "code",
   "execution_count": null,
   "metadata": {},
   "outputs": [],
   "source": []
  },
  {
   "cell_type": "code",
   "execution_count": 17,
   "metadata": {},
   "outputs": [],
   "source": [
    "import pandas as pd\n",
    "df_settlement = pd.DataFrame(prices, columns=['Group','Product','Month', 'OPEN', 'HIGH', 'LOW', 'LAST', 'SETTLE', 'EST.VOLUME', 'PRIOR DAY OI'])"
   ]
  },
  {
   "cell_type": "code",
   "execution_count": 18,
   "metadata": {},
   "outputs": [],
   "source": [
    "# df_settlement.Month.to_csv('test.csv')"
   ]
  },
  {
   "cell_type": "code",
   "execution_count": 19,
   "metadata": {},
   "outputs": [],
   "source": [
    "# df_settlement.iloc[12,2]"
   ]
  },
  {
   "cell_type": "code",
   "execution_count": 20,
   "metadata": {},
   "outputs": [
    {
     "data": {
      "text/html": [
       "<div>\n",
       "<style scoped>\n",
       "    .dataframe tbody tr th:only-of-type {\n",
       "        vertical-align: middle;\n",
       "    }\n",
       "\n",
       "    .dataframe tbody tr th {\n",
       "        vertical-align: top;\n",
       "    }\n",
       "\n",
       "    .dataframe thead th {\n",
       "        text-align: right;\n",
       "    }\n",
       "</style>\n",
       "<table border=\"1\" class=\"dataframe\">\n",
       "  <thead>\n",
       "    <tr style=\"text-align: right;\">\n",
       "      <th></th>\n",
       "      <th>Group</th>\n",
       "      <th>Product</th>\n",
       "      <th>Month</th>\n",
       "      <th>OPEN</th>\n",
       "      <th>HIGH</th>\n",
       "      <th>LOW</th>\n",
       "      <th>LAST</th>\n",
       "      <th>SETTLE</th>\n",
       "      <th>EST.VOLUME</th>\n",
       "      <th>PRIOR DAY OI</th>\n",
       "      <th>Year</th>\n",
       "    </tr>\n",
       "  </thead>\n",
       "  <tbody>\n",
       "    <tr>\n",
       "      <th>0</th>\n",
       "      <td>crude-oil</td>\n",
       "      <td>light-sweet-crude</td>\n",
       "      <td>4</td>\n",
       "      <td>102.28</td>\n",
       "      <td>102.58</td>\n",
       "      <td>93.54</td>\n",
       "      <td>95.82</td>\n",
       "      <td>-</td>\n",
       "      <td>157,840</td>\n",
       "      <td>141,240</td>\n",
       "      <td>2022</td>\n",
       "    </tr>\n",
       "    <tr>\n",
       "      <th>1</th>\n",
       "      <td>crude-oil</td>\n",
       "      <td>light-sweet-crude</td>\n",
       "      <td>5</td>\n",
       "      <td>100.55</td>\n",
       "      <td>100.92</td>\n",
       "      <td>92.20</td>\n",
       "      <td>94.48</td>\n",
       "      <td>-</td>\n",
       "      <td>67,580</td>\n",
       "      <td>267,962</td>\n",
       "      <td>2022</td>\n",
       "    </tr>\n",
       "    <tr>\n",
       "      <th>2</th>\n",
       "      <td>crude-oil</td>\n",
       "      <td>light-sweet-crude</td>\n",
       "      <td>6</td>\n",
       "      <td>98.03</td>\n",
       "      <td>98.39</td>\n",
       "      <td>90.37</td>\n",
       "      <td>92.72</td>\n",
       "      <td>-</td>\n",
       "      <td>52,159</td>\n",
       "      <td>183,208</td>\n",
       "      <td>2022</td>\n",
       "    </tr>\n",
       "    <tr>\n",
       "      <th>3</th>\n",
       "      <td>crude-oil</td>\n",
       "      <td>light-sweet-crude</td>\n",
       "      <td>7</td>\n",
       "      <td>95.70</td>\n",
       "      <td>95.94</td>\n",
       "      <td>88.53</td>\n",
       "      <td>90.91A</td>\n",
       "      <td>-</td>\n",
       "      <td>19,381</td>\n",
       "      <td>94,306</td>\n",
       "      <td>2022</td>\n",
       "    </tr>\n",
       "    <tr>\n",
       "      <th>4</th>\n",
       "      <td>crude-oil</td>\n",
       "      <td>light-sweet-crude</td>\n",
       "      <td>8</td>\n",
       "      <td>93.51</td>\n",
       "      <td>93.51</td>\n",
       "      <td>86.81</td>\n",
       "      <td>89.04A</td>\n",
       "      <td>-</td>\n",
       "      <td>11,137</td>\n",
       "      <td>54,735</td>\n",
       "      <td>2022</td>\n",
       "    </tr>\n",
       "    <tr>\n",
       "      <th>...</th>\n",
       "      <td>...</td>\n",
       "      <td>...</td>\n",
       "      <td>...</td>\n",
       "      <td>...</td>\n",
       "      <td>...</td>\n",
       "      <td>...</td>\n",
       "      <td>...</td>\n",
       "      <td>...</td>\n",
       "      <td>...</td>\n",
       "      <td>...</td>\n",
       "      <td>...</td>\n",
       "    </tr>\n",
       "    <tr>\n",
       "      <th>126</th>\n",
       "      <td>crude-oil</td>\n",
       "      <td>light-sweet-crude</td>\n",
       "      <td>10</td>\n",
       "      <td>-</td>\n",
       "      <td>-</td>\n",
       "      <td>-</td>\n",
       "      <td>-</td>\n",
       "      <td>-</td>\n",
       "      <td>0</td>\n",
       "      <td>0</td>\n",
       "      <td>2032</td>\n",
       "    </tr>\n",
       "    <tr>\n",
       "      <th>127</th>\n",
       "      <td>crude-oil</td>\n",
       "      <td>light-sweet-crude</td>\n",
       "      <td>11</td>\n",
       "      <td>-</td>\n",
       "      <td>-</td>\n",
       "      <td>-</td>\n",
       "      <td>-</td>\n",
       "      <td>-</td>\n",
       "      <td>0</td>\n",
       "      <td>0</td>\n",
       "      <td>2032</td>\n",
       "    </tr>\n",
       "    <tr>\n",
       "      <th>128</th>\n",
       "      <td>crude-oil</td>\n",
       "      <td>light-sweet-crude</td>\n",
       "      <td>12</td>\n",
       "      <td>-</td>\n",
       "      <td>-</td>\n",
       "      <td>-</td>\n",
       "      <td>-</td>\n",
       "      <td>-</td>\n",
       "      <td>0</td>\n",
       "      <td>0</td>\n",
       "      <td>2032</td>\n",
       "    </tr>\n",
       "    <tr>\n",
       "      <th>129</th>\n",
       "      <td>crude-oil</td>\n",
       "      <td>light-sweet-crude</td>\n",
       "      <td>1</td>\n",
       "      <td>-</td>\n",
       "      <td>-</td>\n",
       "      <td>-</td>\n",
       "      <td>-</td>\n",
       "      <td>-</td>\n",
       "      <td>0</td>\n",
       "      <td>0</td>\n",
       "      <td>2033</td>\n",
       "    </tr>\n",
       "    <tr>\n",
       "      <th>130</th>\n",
       "      <td>crude-oil</td>\n",
       "      <td>light-sweet-crude</td>\n",
       "      <td>2</td>\n",
       "      <td>-</td>\n",
       "      <td>-</td>\n",
       "      <td>-</td>\n",
       "      <td>-</td>\n",
       "      <td>-</td>\n",
       "      <td>0</td>\n",
       "      <td>0</td>\n",
       "      <td>2033</td>\n",
       "    </tr>\n",
       "  </tbody>\n",
       "</table>\n",
       "<p>131 rows × 11 columns</p>\n",
       "</div>"
      ],
      "text/plain": [
       "         Group            Product  Month    OPEN    HIGH    LOW    LAST  \\\n",
       "0    crude-oil  light-sweet-crude      4  102.28  102.58  93.54   95.82   \n",
       "1    crude-oil  light-sweet-crude      5  100.55  100.92  92.20   94.48   \n",
       "2    crude-oil  light-sweet-crude      6   98.03   98.39  90.37   92.72   \n",
       "3    crude-oil  light-sweet-crude      7   95.70   95.94  88.53  90.91A   \n",
       "4    crude-oil  light-sweet-crude      8   93.51   93.51  86.81  89.04A   \n",
       "..         ...                ...    ...     ...     ...    ...     ...   \n",
       "126  crude-oil  light-sweet-crude     10       -       -      -       -   \n",
       "127  crude-oil  light-sweet-crude     11       -       -      -       -   \n",
       "128  crude-oil  light-sweet-crude     12       -       -      -       -   \n",
       "129  crude-oil  light-sweet-crude      1       -       -      -       -   \n",
       "130  crude-oil  light-sweet-crude      2       -       -      -       -   \n",
       "\n",
       "    SETTLE EST.VOLUME PRIOR DAY OI  Year  \n",
       "0        -    157,840      141,240  2022  \n",
       "1        -     67,580      267,962  2022  \n",
       "2        -     52,159      183,208  2022  \n",
       "3        -     19,381       94,306  2022  \n",
       "4        -     11,137       54,735  2022  \n",
       "..     ...        ...          ...   ...  \n",
       "126      -          0            0  2032  \n",
       "127      -          0            0  2032  \n",
       "128      -          0            0  2032  \n",
       "129      -          0            0  2033  \n",
       "130      -          0            0  2033  \n",
       "\n",
       "[131 rows x 11 columns]"
      ]
     },
     "execution_count": 20,
     "metadata": {},
     "output_type": "execute_result"
    }
   ],
   "source": [
    "from datetime import datetime as dt\n",
    "from dateutil.relativedelta import relativedelta\n",
    "\n",
    "start_date = dt.strptime(df_settlement.iloc[12,2],'%b %y') + relativedelta(years=-1)\n",
    "end_date = dt.strptime(df_settlement.iloc[-1,2],'%b %y') + relativedelta(months=+1)\n",
    "# tmp_date = pd.date_range(start=start_date, end=end_date, freq='M')\n",
    "# df_settlement['date'] = tmp_date.tolist()\n",
    "\n",
    "df_settlement['date'] = pd.date_range(start=start_date, end=end_date, freq='M')\n",
    "\n",
    "df_settlement['Year'] = df_settlement.date.dt.year\n",
    "df_settlement['Month'] = df_settlement.date.dt.month\n",
    "df_settlement.drop(columns=['date'], inplace = True)"
   ]
  },
  {
   "cell_type": "code",
   "execution_count": 102,
   "metadata": {},
   "outputs": [
    {
     "data": {
      "text/html": [
       "<div>\n",
       "<style scoped>\n",
       "    .dataframe tbody tr th:only-of-type {\n",
       "        vertical-align: middle;\n",
       "    }\n",
       "\n",
       "    .dataframe tbody tr th {\n",
       "        vertical-align: top;\n",
       "    }\n",
       "\n",
       "    .dataframe thead th {\n",
       "        text-align: right;\n",
       "    }\n",
       "</style>\n",
       "<table border=\"1\" class=\"dataframe\">\n",
       "  <thead>\n",
       "    <tr style=\"text-align: right;\">\n",
       "      <th></th>\n",
       "      <th>Group</th>\n",
       "      <th>Product</th>\n",
       "      <th>Month</th>\n",
       "      <th>OPEN</th>\n",
       "      <th>HIGH</th>\n",
       "      <th>LOW</th>\n",
       "      <th>LAST</th>\n",
       "      <th>SETTLE</th>\n",
       "      <th>EST.VOLUME</th>\n",
       "      <th>PRIOR DAY OI</th>\n",
       "      <th>Year</th>\n",
       "    </tr>\n",
       "  </thead>\n",
       "  <tbody>\n",
       "    <tr>\n",
       "      <th>0</th>\n",
       "      <td>crude-oil</td>\n",
       "      <td>light-sweet-crude</td>\n",
       "      <td>4</td>\n",
       "      <td>102.28</td>\n",
       "      <td>102.58</td>\n",
       "      <td>93.54</td>\n",
       "      <td>95.82</td>\n",
       "      <td>-</td>\n",
       "      <td>157840</td>\n",
       "      <td>141240</td>\n",
       "      <td>2022</td>\n",
       "    </tr>\n",
       "    <tr>\n",
       "      <th>1</th>\n",
       "      <td>crude-oil</td>\n",
       "      <td>light-sweet-crude</td>\n",
       "      <td>5</td>\n",
       "      <td>100.55</td>\n",
       "      <td>100.92</td>\n",
       "      <td>92.20</td>\n",
       "      <td>94.48</td>\n",
       "      <td>-</td>\n",
       "      <td>67580</td>\n",
       "      <td>267962</td>\n",
       "      <td>2022</td>\n",
       "    </tr>\n",
       "    <tr>\n",
       "      <th>2</th>\n",
       "      <td>crude-oil</td>\n",
       "      <td>light-sweet-crude</td>\n",
       "      <td>6</td>\n",
       "      <td>98.03</td>\n",
       "      <td>98.39</td>\n",
       "      <td>90.37</td>\n",
       "      <td>92.72</td>\n",
       "      <td>-</td>\n",
       "      <td>52159</td>\n",
       "      <td>183208</td>\n",
       "      <td>2022</td>\n",
       "    </tr>\n",
       "    <tr>\n",
       "      <th>3</th>\n",
       "      <td>crude-oil</td>\n",
       "      <td>light-sweet-crude</td>\n",
       "      <td>7</td>\n",
       "      <td>95.70</td>\n",
       "      <td>95.94</td>\n",
       "      <td>88.53</td>\n",
       "      <td>90.91A</td>\n",
       "      <td>-</td>\n",
       "      <td>19381</td>\n",
       "      <td>94306</td>\n",
       "      <td>2022</td>\n",
       "    </tr>\n",
       "    <tr>\n",
       "      <th>4</th>\n",
       "      <td>crude-oil</td>\n",
       "      <td>light-sweet-crude</td>\n",
       "      <td>8</td>\n",
       "      <td>93.51</td>\n",
       "      <td>93.51</td>\n",
       "      <td>86.81</td>\n",
       "      <td>89.04A</td>\n",
       "      <td>-</td>\n",
       "      <td>11137</td>\n",
       "      <td>54735</td>\n",
       "      <td>2022</td>\n",
       "    </tr>\n",
       "    <tr>\n",
       "      <th>...</th>\n",
       "      <td>...</td>\n",
       "      <td>...</td>\n",
       "      <td>...</td>\n",
       "      <td>...</td>\n",
       "      <td>...</td>\n",
       "      <td>...</td>\n",
       "      <td>...</td>\n",
       "      <td>...</td>\n",
       "      <td>...</td>\n",
       "      <td>...</td>\n",
       "      <td>...</td>\n",
       "    </tr>\n",
       "    <tr>\n",
       "      <th>126</th>\n",
       "      <td>crude-oil</td>\n",
       "      <td>light-sweet-crude</td>\n",
       "      <td>10</td>\n",
       "      <td>-</td>\n",
       "      <td>-</td>\n",
       "      <td>-</td>\n",
       "      <td>-</td>\n",
       "      <td>-</td>\n",
       "      <td>0</td>\n",
       "      <td>0</td>\n",
       "      <td>2032</td>\n",
       "    </tr>\n",
       "    <tr>\n",
       "      <th>127</th>\n",
       "      <td>crude-oil</td>\n",
       "      <td>light-sweet-crude</td>\n",
       "      <td>11</td>\n",
       "      <td>-</td>\n",
       "      <td>-</td>\n",
       "      <td>-</td>\n",
       "      <td>-</td>\n",
       "      <td>-</td>\n",
       "      <td>0</td>\n",
       "      <td>0</td>\n",
       "      <td>2032</td>\n",
       "    </tr>\n",
       "    <tr>\n",
       "      <th>128</th>\n",
       "      <td>crude-oil</td>\n",
       "      <td>light-sweet-crude</td>\n",
       "      <td>12</td>\n",
       "      <td>-</td>\n",
       "      <td>-</td>\n",
       "      <td>-</td>\n",
       "      <td>-</td>\n",
       "      <td>-</td>\n",
       "      <td>0</td>\n",
       "      <td>0</td>\n",
       "      <td>2032</td>\n",
       "    </tr>\n",
       "    <tr>\n",
       "      <th>129</th>\n",
       "      <td>crude-oil</td>\n",
       "      <td>light-sweet-crude</td>\n",
       "      <td>1</td>\n",
       "      <td>-</td>\n",
       "      <td>-</td>\n",
       "      <td>-</td>\n",
       "      <td>-</td>\n",
       "      <td>-</td>\n",
       "      <td>0</td>\n",
       "      <td>0</td>\n",
       "      <td>2033</td>\n",
       "    </tr>\n",
       "    <tr>\n",
       "      <th>130</th>\n",
       "      <td>crude-oil</td>\n",
       "      <td>light-sweet-crude</td>\n",
       "      <td>2</td>\n",
       "      <td>-</td>\n",
       "      <td>-</td>\n",
       "      <td>-</td>\n",
       "      <td>-</td>\n",
       "      <td>-</td>\n",
       "      <td>0</td>\n",
       "      <td>0</td>\n",
       "      <td>2033</td>\n",
       "    </tr>\n",
       "  </tbody>\n",
       "</table>\n",
       "<p>131 rows × 11 columns</p>\n",
       "</div>"
      ],
      "text/plain": [
       "         Group            Product  Month    OPEN    HIGH    LOW    LAST  \\\n",
       "0    crude-oil  light-sweet-crude      4  102.28  102.58  93.54   95.82   \n",
       "1    crude-oil  light-sweet-crude      5  100.55  100.92  92.20   94.48   \n",
       "2    crude-oil  light-sweet-crude      6   98.03   98.39  90.37   92.72   \n",
       "3    crude-oil  light-sweet-crude      7   95.70   95.94  88.53  90.91A   \n",
       "4    crude-oil  light-sweet-crude      8   93.51   93.51  86.81  89.04A   \n",
       "..         ...                ...    ...     ...     ...    ...     ...   \n",
       "126  crude-oil  light-sweet-crude     10       -       -      -       -   \n",
       "127  crude-oil  light-sweet-crude     11       -       -      -       -   \n",
       "128  crude-oil  light-sweet-crude     12       -       -      -       -   \n",
       "129  crude-oil  light-sweet-crude      1       -       -      -       -   \n",
       "130  crude-oil  light-sweet-crude      2       -       -      -       -   \n",
       "\n",
       "    SETTLE  EST.VOLUME  PRIOR DAY OI  Year  \n",
       "0        -      157840        141240  2022  \n",
       "1        -       67580        267962  2022  \n",
       "2        -       52159        183208  2022  \n",
       "3        -       19381         94306  2022  \n",
       "4        -       11137         54735  2022  \n",
       "..     ...         ...           ...   ...  \n",
       "126      -           0             0  2032  \n",
       "127      -           0             0  2032  \n",
       "128      -           0             0  2032  \n",
       "129      -           0             0  2033  \n",
       "130      -           0             0  2033  \n",
       "\n",
       "[131 rows x 11 columns]"
      ]
     },
     "execution_count": 102,
     "metadata": {},
     "output_type": "execute_result"
    }
   ],
   "source": [
    "df_settlement"
   ]
  },
  {
   "cell_type": "code",
   "execution_count": 99,
   "metadata": {},
   "outputs": [
    {
     "ename": "AttributeError",
     "evalue": "Can only use .str accessor with string values!",
     "output_type": "error",
     "traceback": [
      "\u001b[1;31m---------------------------------------------------------------------------\u001b[0m",
      "\u001b[1;31mAttributeError\u001b[0m                            Traceback (most recent call last)",
      "\u001b[1;32mC:\\Users\\DEGUCH~1\\AppData\\Local\\Temp/ipykernel_18772/2169584936.py\u001b[0m in \u001b[0;36m<module>\u001b[1;34m\u001b[0m\n\u001b[1;32m----> 1\u001b[1;33m \u001b[0mdf_settlement\u001b[0m\u001b[1;33m[\u001b[0m\u001b[1;34m'EST.VOLUME'\u001b[0m\u001b[1;33m]\u001b[0m \u001b[1;33m=\u001b[0m \u001b[0mpd\u001b[0m\u001b[1;33m.\u001b[0m\u001b[0mto_numeric\u001b[0m\u001b[1;33m(\u001b[0m\u001b[0mdf_settlement\u001b[0m\u001b[1;33m[\u001b[0m\u001b[1;34m'EST.VOLUME'\u001b[0m\u001b[1;33m]\u001b[0m\u001b[1;33m.\u001b[0m\u001b[0mstr\u001b[0m\u001b[1;33m.\u001b[0m\u001b[0mreplace\u001b[0m\u001b[1;33m(\u001b[0m\u001b[1;34m','\u001b[0m\u001b[1;33m,\u001b[0m\u001b[1;34m''\u001b[0m\u001b[1;33m)\u001b[0m\u001b[1;33m)\u001b[0m \u001b[1;31m#.to_csv('test.csv')\u001b[0m\u001b[1;33m\u001b[0m\u001b[1;33m\u001b[0m\u001b[0m\n\u001b[0m\u001b[0;32m      2\u001b[0m \u001b[0mdf_settlement\u001b[0m\u001b[1;33m[\u001b[0m\u001b[1;34m'PRIOR DAY OI'\u001b[0m\u001b[1;33m]\u001b[0m \u001b[1;33m=\u001b[0m \u001b[0mpd\u001b[0m\u001b[1;33m.\u001b[0m\u001b[0mto_numeric\u001b[0m\u001b[1;33m(\u001b[0m\u001b[0mdf_settlement\u001b[0m\u001b[1;33m[\u001b[0m\u001b[1;34m'PRIOR DAY OI'\u001b[0m\u001b[1;33m]\u001b[0m\u001b[1;33m.\u001b[0m\u001b[0mstr\u001b[0m\u001b[1;33m.\u001b[0m\u001b[0mreplace\u001b[0m\u001b[1;33m(\u001b[0m\u001b[1;34m','\u001b[0m\u001b[1;33m,\u001b[0m\u001b[1;34m''\u001b[0m\u001b[1;33m)\u001b[0m\u001b[1;33m)\u001b[0m\u001b[1;33m\u001b[0m\u001b[1;33m\u001b[0m\u001b[0m\n",
      "\u001b[1;32m~\\PycharmProjects\\scraper\\.env\\lib\\site-packages\\pandas\\core\\generic.py\u001b[0m in \u001b[0;36m__getattr__\u001b[1;34m(self, name)\u001b[0m\n\u001b[0;32m   5485\u001b[0m         ):\n\u001b[0;32m   5486\u001b[0m             \u001b[1;32mreturn\u001b[0m \u001b[0mself\u001b[0m\u001b[1;33m[\u001b[0m\u001b[0mname\u001b[0m\u001b[1;33m]\u001b[0m\u001b[1;33m\u001b[0m\u001b[1;33m\u001b[0m\u001b[0m\n\u001b[1;32m-> 5487\u001b[1;33m         \u001b[1;32mreturn\u001b[0m \u001b[0mobject\u001b[0m\u001b[1;33m.\u001b[0m\u001b[0m__getattribute__\u001b[0m\u001b[1;33m(\u001b[0m\u001b[0mself\u001b[0m\u001b[1;33m,\u001b[0m \u001b[0mname\u001b[0m\u001b[1;33m)\u001b[0m\u001b[1;33m\u001b[0m\u001b[1;33m\u001b[0m\u001b[0m\n\u001b[0m\u001b[0;32m   5488\u001b[0m \u001b[1;33m\u001b[0m\u001b[0m\n\u001b[0;32m   5489\u001b[0m     \u001b[1;32mdef\u001b[0m \u001b[0m__setattr__\u001b[0m\u001b[1;33m(\u001b[0m\u001b[0mself\u001b[0m\u001b[1;33m,\u001b[0m \u001b[0mname\u001b[0m\u001b[1;33m:\u001b[0m \u001b[0mstr\u001b[0m\u001b[1;33m,\u001b[0m \u001b[0mvalue\u001b[0m\u001b[1;33m)\u001b[0m \u001b[1;33m->\u001b[0m \u001b[1;32mNone\u001b[0m\u001b[1;33m:\u001b[0m\u001b[1;33m\u001b[0m\u001b[1;33m\u001b[0m\u001b[0m\n",
      "\u001b[1;32m~\\PycharmProjects\\scraper\\.env\\lib\\site-packages\\pandas\\core\\accessor.py\u001b[0m in \u001b[0;36m__get__\u001b[1;34m(self, obj, cls)\u001b[0m\n\u001b[0;32m    179\u001b[0m             \u001b[1;31m# we're accessing the attribute of the class, i.e., Dataset.geo\u001b[0m\u001b[1;33m\u001b[0m\u001b[1;33m\u001b[0m\u001b[0m\n\u001b[0;32m    180\u001b[0m             \u001b[1;32mreturn\u001b[0m \u001b[0mself\u001b[0m\u001b[1;33m.\u001b[0m\u001b[0m_accessor\u001b[0m\u001b[1;33m\u001b[0m\u001b[1;33m\u001b[0m\u001b[0m\n\u001b[1;32m--> 181\u001b[1;33m         \u001b[0maccessor_obj\u001b[0m \u001b[1;33m=\u001b[0m \u001b[0mself\u001b[0m\u001b[1;33m.\u001b[0m\u001b[0m_accessor\u001b[0m\u001b[1;33m(\u001b[0m\u001b[0mobj\u001b[0m\u001b[1;33m)\u001b[0m\u001b[1;33m\u001b[0m\u001b[1;33m\u001b[0m\u001b[0m\n\u001b[0m\u001b[0;32m    182\u001b[0m         \u001b[1;31m# Replace the property with the accessor object. Inspired by:\u001b[0m\u001b[1;33m\u001b[0m\u001b[1;33m\u001b[0m\u001b[0m\n\u001b[0;32m    183\u001b[0m         \u001b[1;31m# https://www.pydanny.com/cached-property.html\u001b[0m\u001b[1;33m\u001b[0m\u001b[1;33m\u001b[0m\u001b[0m\n",
      "\u001b[1;32m~\\PycharmProjects\\scraper\\.env\\lib\\site-packages\\pandas\\core\\strings\\accessor.py\u001b[0m in \u001b[0;36m__init__\u001b[1;34m(self, data)\u001b[0m\n\u001b[0;32m    166\u001b[0m         \u001b[1;32mfrom\u001b[0m \u001b[0mpandas\u001b[0m\u001b[1;33m.\u001b[0m\u001b[0mcore\u001b[0m\u001b[1;33m.\u001b[0m\u001b[0marrays\u001b[0m\u001b[1;33m.\u001b[0m\u001b[0mstring_\u001b[0m \u001b[1;32mimport\u001b[0m \u001b[0mStringDtype\u001b[0m\u001b[1;33m\u001b[0m\u001b[1;33m\u001b[0m\u001b[0m\n\u001b[0;32m    167\u001b[0m \u001b[1;33m\u001b[0m\u001b[0m\n\u001b[1;32m--> 168\u001b[1;33m         \u001b[0mself\u001b[0m\u001b[1;33m.\u001b[0m\u001b[0m_inferred_dtype\u001b[0m \u001b[1;33m=\u001b[0m \u001b[0mself\u001b[0m\u001b[1;33m.\u001b[0m\u001b[0m_validate\u001b[0m\u001b[1;33m(\u001b[0m\u001b[0mdata\u001b[0m\u001b[1;33m)\u001b[0m\u001b[1;33m\u001b[0m\u001b[1;33m\u001b[0m\u001b[0m\n\u001b[0m\u001b[0;32m    169\u001b[0m         \u001b[0mself\u001b[0m\u001b[1;33m.\u001b[0m\u001b[0m_is_categorical\u001b[0m \u001b[1;33m=\u001b[0m \u001b[0mis_categorical_dtype\u001b[0m\u001b[1;33m(\u001b[0m\u001b[0mdata\u001b[0m\u001b[1;33m.\u001b[0m\u001b[0mdtype\u001b[0m\u001b[1;33m)\u001b[0m\u001b[1;33m\u001b[0m\u001b[1;33m\u001b[0m\u001b[0m\n\u001b[0;32m    170\u001b[0m         \u001b[0mself\u001b[0m\u001b[1;33m.\u001b[0m\u001b[0m_is_string\u001b[0m \u001b[1;33m=\u001b[0m \u001b[0misinstance\u001b[0m\u001b[1;33m(\u001b[0m\u001b[0mdata\u001b[0m\u001b[1;33m.\u001b[0m\u001b[0mdtype\u001b[0m\u001b[1;33m,\u001b[0m \u001b[0mStringDtype\u001b[0m\u001b[1;33m)\u001b[0m\u001b[1;33m\u001b[0m\u001b[1;33m\u001b[0m\u001b[0m\n",
      "\u001b[1;32m~\\PycharmProjects\\scraper\\.env\\lib\\site-packages\\pandas\\core\\strings\\accessor.py\u001b[0m in \u001b[0;36m_validate\u001b[1;34m(data)\u001b[0m\n\u001b[0;32m    223\u001b[0m \u001b[1;33m\u001b[0m\u001b[0m\n\u001b[0;32m    224\u001b[0m         \u001b[1;32mif\u001b[0m \u001b[0minferred_dtype\u001b[0m \u001b[1;32mnot\u001b[0m \u001b[1;32min\u001b[0m \u001b[0mallowed_types\u001b[0m\u001b[1;33m:\u001b[0m\u001b[1;33m\u001b[0m\u001b[1;33m\u001b[0m\u001b[0m\n\u001b[1;32m--> 225\u001b[1;33m             \u001b[1;32mraise\u001b[0m \u001b[0mAttributeError\u001b[0m\u001b[1;33m(\u001b[0m\u001b[1;34m\"Can only use .str accessor with string values!\"\u001b[0m\u001b[1;33m)\u001b[0m\u001b[1;33m\u001b[0m\u001b[1;33m\u001b[0m\u001b[0m\n\u001b[0m\u001b[0;32m    226\u001b[0m         \u001b[1;32mreturn\u001b[0m \u001b[0minferred_dtype\u001b[0m\u001b[1;33m\u001b[0m\u001b[1;33m\u001b[0m\u001b[0m\n\u001b[0;32m    227\u001b[0m \u001b[1;33m\u001b[0m\u001b[0m\n",
      "\u001b[1;31mAttributeError\u001b[0m: Can only use .str accessor with string values!"
     ]
    }
   ],
   "source": [
    "df_settlement['EST.VOLUME'] = pd.to_numeric(df_settlement['EST.VOLUME'].str.replace(',','')) #.to_csv('test.csv')"
   ]
  },
  {
   "cell_type": "code",
   "execution_count": 101,
   "metadata": {},
   "outputs": [],
   "source": [
    "df_settlement['PRIOR DAY OI'] = pd.to_numeric(df_settlement['PRIOR DAY OI'].str.replace(',',''))"
   ]
  },
  {
   "cell_type": "code",
   "execution_count": 189,
   "metadata": {},
   "outputs": [],
   "source": [
    "\n",
    "df_tmp = df_settlement.set_index(['Group', 'Product', 'Year', 'Month']).stack().reset_index()\n"
   ]
  },
  {
   "cell_type": "code",
   "execution_count": 190,
   "metadata": {},
   "outputs": [],
   "source": [
    "df_tmp.rename(columns = {'level_4' : 'PriceType', 0 : 'Value'}, inplace = True)"
   ]
  },
  {
   "cell_type": "code",
   "execution_count": 191,
   "metadata": {},
   "outputs": [],
   "source": [
    "# df_tmp.value.replace('-','', inplace=True)\n",
    "# df_tmp.value.replace(',','ttt').to_csv('test.csv')\n",
    "# df_tmp.value.str.replace(',','')"
   ]
  },
  {
   "cell_type": "code",
   "execution_count": 192,
   "metadata": {},
   "outputs": [],
   "source": [
    "df_tmp = df_tmp[~(df_tmp.Value == '-')]"
   ]
  },
  {
   "cell_type": "code",
   "execution_count": 235,
   "metadata": {},
   "outputs": [],
   "source": [
    "df_tmp['DealType'] = ''"
   ]
  },
  {
   "cell_type": "code",
   "execution_count": 239,
   "metadata": {},
   "outputs": [],
   "source": [
    "df_tmp_num = df_tmp[pd.to_numeric(df_tmp.Value, errors=\"coerce\").notna()].copy()\n",
    "df_tmp_nonnum = df_tmp[~pd.to_numeric(df_tmp.Value, errors=\"coerce\").notna()].copy()"
   ]
  },
  {
   "cell_type": "code",
   "execution_count": 240,
   "metadata": {},
   "outputs": [],
   "source": [
    "# df_tmp[~pd.to_numeric(df_tmp.Value, errors=\"coerce\").notna()].Value.str[-1:]\n",
    "# df_tmp[~pd.to_numeric(df_tmp.Value, errors=\"coerce\").notna()].Value.str[:-1]\n",
    "\n",
    "\n",
    "df_tmp_nonnum['DealType'] = df_tmp_nonnum[~pd.to_numeric(df_tmp_nonnum.Value, errors=\"coerce\").notna()].Value.str[-1:]\n",
    "df_tmp_nonnum['Value'] = df_tmp_nonnum[~pd.to_numeric(df_tmp_nonnum.Value, errors=\"coerce\").notna()].Value.str[:-1]\n"
   ]
  },
  {
   "cell_type": "code",
   "execution_count": 244,
   "metadata": {},
   "outputs": [],
   "source": [
    "df_tmp_nonnum['DealType'] = df_tmp_nonnum.DealType.str.replace('A','Ask').replace('B','Bid')"
   ]
  },
  {
   "cell_type": "code",
   "execution_count": 250,
   "metadata": {},
   "outputs": [],
   "source": [
    "dfs = pd.concat([df_tmp_num, df_tmp_nonnum]).sort_values(['Group','Product','Year','Month','PriceType'])"
   ]
  },
  {
   "cell_type": "code",
   "execution_count": 251,
   "metadata": {},
   "outputs": [
    {
     "data": {
      "text/html": [
       "<div>\n",
       "<style scoped>\n",
       "    .dataframe tbody tr th:only-of-type {\n",
       "        vertical-align: middle;\n",
       "    }\n",
       "\n",
       "    .dataframe tbody tr th {\n",
       "        vertical-align: top;\n",
       "    }\n",
       "\n",
       "    .dataframe thead th {\n",
       "        text-align: right;\n",
       "    }\n",
       "</style>\n",
       "<table border=\"1\" class=\"dataframe\">\n",
       "  <thead>\n",
       "    <tr style=\"text-align: right;\">\n",
       "      <th></th>\n",
       "      <th>Group</th>\n",
       "      <th>Product</th>\n",
       "      <th>Year</th>\n",
       "      <th>Month</th>\n",
       "      <th>PriceType</th>\n",
       "      <th>Value</th>\n",
       "      <th>DealType</th>\n",
       "    </tr>\n",
       "  </thead>\n",
       "  <tbody>\n",
       "    <tr>\n",
       "      <th>5</th>\n",
       "      <td>crude-oil</td>\n",
       "      <td>light-sweet-crude</td>\n",
       "      <td>2022</td>\n",
       "      <td>4</td>\n",
       "      <td>EST.VOLUME</td>\n",
       "      <td>157840</td>\n",
       "      <td></td>\n",
       "    </tr>\n",
       "    <tr>\n",
       "      <th>1</th>\n",
       "      <td>crude-oil</td>\n",
       "      <td>light-sweet-crude</td>\n",
       "      <td>2022</td>\n",
       "      <td>4</td>\n",
       "      <td>HIGH</td>\n",
       "      <td>102.58</td>\n",
       "      <td></td>\n",
       "    </tr>\n",
       "    <tr>\n",
       "      <th>3</th>\n",
       "      <td>crude-oil</td>\n",
       "      <td>light-sweet-crude</td>\n",
       "      <td>2022</td>\n",
       "      <td>4</td>\n",
       "      <td>LAST</td>\n",
       "      <td>95.82</td>\n",
       "      <td></td>\n",
       "    </tr>\n",
       "    <tr>\n",
       "      <th>2</th>\n",
       "      <td>crude-oil</td>\n",
       "      <td>light-sweet-crude</td>\n",
       "      <td>2022</td>\n",
       "      <td>4</td>\n",
       "      <td>LOW</td>\n",
       "      <td>93.54</td>\n",
       "      <td></td>\n",
       "    </tr>\n",
       "    <tr>\n",
       "      <th>0</th>\n",
       "      <td>crude-oil</td>\n",
       "      <td>light-sweet-crude</td>\n",
       "      <td>2022</td>\n",
       "      <td>4</td>\n",
       "      <td>OPEN</td>\n",
       "      <td>102.28</td>\n",
       "      <td></td>\n",
       "    </tr>\n",
       "    <tr>\n",
       "      <th>...</th>\n",
       "      <td>...</td>\n",
       "      <td>...</td>\n",
       "      <td>...</td>\n",
       "      <td>...</td>\n",
       "      <td>...</td>\n",
       "      <td>...</td>\n",
       "      <td>...</td>\n",
       "    </tr>\n",
       "    <tr>\n",
       "      <th>902</th>\n",
       "      <td>crude-oil</td>\n",
       "      <td>light-sweet-crude</td>\n",
       "      <td>2032</td>\n",
       "      <td>12</td>\n",
       "      <td>PRIOR DAY OI</td>\n",
       "      <td>0</td>\n",
       "      <td></td>\n",
       "    </tr>\n",
       "    <tr>\n",
       "      <th>908</th>\n",
       "      <td>crude-oil</td>\n",
       "      <td>light-sweet-crude</td>\n",
       "      <td>2033</td>\n",
       "      <td>1</td>\n",
       "      <td>EST.VOLUME</td>\n",
       "      <td>0</td>\n",
       "      <td></td>\n",
       "    </tr>\n",
       "    <tr>\n",
       "      <th>909</th>\n",
       "      <td>crude-oil</td>\n",
       "      <td>light-sweet-crude</td>\n",
       "      <td>2033</td>\n",
       "      <td>1</td>\n",
       "      <td>PRIOR DAY OI</td>\n",
       "      <td>0</td>\n",
       "      <td></td>\n",
       "    </tr>\n",
       "    <tr>\n",
       "      <th>915</th>\n",
       "      <td>crude-oil</td>\n",
       "      <td>light-sweet-crude</td>\n",
       "      <td>2033</td>\n",
       "      <td>2</td>\n",
       "      <td>EST.VOLUME</td>\n",
       "      <td>0</td>\n",
       "      <td></td>\n",
       "    </tr>\n",
       "    <tr>\n",
       "      <th>916</th>\n",
       "      <td>crude-oil</td>\n",
       "      <td>light-sweet-crude</td>\n",
       "      <td>2033</td>\n",
       "      <td>2</td>\n",
       "      <td>PRIOR DAY OI</td>\n",
       "      <td>0</td>\n",
       "      <td></td>\n",
       "    </tr>\n",
       "  </tbody>\n",
       "</table>\n",
       "<p>359 rows × 7 columns</p>\n",
       "</div>"
      ],
      "text/plain": [
       "         Group            Product  Year  Month     PriceType   Value DealType\n",
       "5    crude-oil  light-sweet-crude  2022      4    EST.VOLUME  157840         \n",
       "1    crude-oil  light-sweet-crude  2022      4          HIGH  102.58         \n",
       "3    crude-oil  light-sweet-crude  2022      4          LAST   95.82         \n",
       "2    crude-oil  light-sweet-crude  2022      4           LOW   93.54         \n",
       "0    crude-oil  light-sweet-crude  2022      4          OPEN  102.28         \n",
       "..         ...                ...   ...    ...           ...     ...      ...\n",
       "902  crude-oil  light-sweet-crude  2032     12  PRIOR DAY OI       0         \n",
       "908  crude-oil  light-sweet-crude  2033      1    EST.VOLUME       0         \n",
       "909  crude-oil  light-sweet-crude  2033      1  PRIOR DAY OI       0         \n",
       "915  crude-oil  light-sweet-crude  2033      2    EST.VOLUME       0         \n",
       "916  crude-oil  light-sweet-crude  2033      2  PRIOR DAY OI       0         \n",
       "\n",
       "[359 rows x 7 columns]"
      ]
     },
     "execution_count": 251,
     "metadata": {},
     "output_type": "execute_result"
    }
   ],
   "source": [
    "dfs"
   ]
  },
  {
   "cell_type": "code",
   "execution_count": null,
   "metadata": {},
   "outputs": [],
   "source": []
  },
  {
   "cell_type": "code",
   "execution_count": null,
   "metadata": {},
   "outputs": [],
   "source": []
  },
  {
   "cell_type": "code",
   "execution_count": 137,
   "metadata": {},
   "outputs": [
    {
     "data": {
      "text/plain": [
       "str"
      ]
     },
     "execution_count": 137,
     "metadata": {},
     "output_type": "execute_result"
    }
   ],
   "source": [
    "type(df_tmp[df_tmp.PriceType=='SETTLE']['value'][4])"
   ]
  },
  {
   "cell_type": "code",
   "execution_count": 121,
   "metadata": {},
   "outputs": [],
   "source": [
    "df_tmp.to_csv('test.csv')"
   ]
  },
  {
   "cell_type": "code",
   "execution_count": 113,
   "metadata": {},
   "outputs": [
    {
     "data": {
      "text/html": [
       "<div>\n",
       "<style scoped>\n",
       "    .dataframe tbody tr th:only-of-type {\n",
       "        vertical-align: middle;\n",
       "    }\n",
       "\n",
       "    .dataframe tbody tr th {\n",
       "        vertical-align: top;\n",
       "    }\n",
       "\n",
       "    .dataframe thead th {\n",
       "        text-align: right;\n",
       "    }\n",
       "</style>\n",
       "<table border=\"1\" class=\"dataframe\">\n",
       "  <thead>\n",
       "    <tr style=\"text-align: right;\">\n",
       "      <th></th>\n",
       "      <th>Group</th>\n",
       "      <th>Product</th>\n",
       "      <th>Year</th>\n",
       "      <th>Month</th>\n",
       "      <th>PriceType</th>\n",
       "      <th>value</th>\n",
       "    </tr>\n",
       "  </thead>\n",
       "  <tbody>\n",
       "  </tbody>\n",
       "</table>\n",
       "</div>"
      ],
      "text/plain": [
       "Empty DataFrame\n",
       "Columns: [Group, Product, Year, Month, PriceType, value]\n",
       "Index: []"
      ]
     },
     "execution_count": 113,
     "metadata": {},
     "output_type": "execute_result"
    }
   ],
   "source": [
    "df_tmp[pd.isnull(df_tmp.value)]#.to_csv('test.csv')"
   ]
  },
  {
   "cell_type": "code",
   "execution_count": 72,
   "metadata": {},
   "outputs": [
    {
     "data": {
      "text/plain": [
       "str"
      ]
     },
     "execution_count": 72,
     "metadata": {},
     "output_type": "execute_result"
    }
   ],
   "source": [
    "type(df_tmp[df_tmp.PriceType=='EST.VOLUME'].iloc[0,:].value)"
   ]
  },
  {
   "cell_type": "code",
   "execution_count": 151,
   "metadata": {},
   "outputs": [
    {
     "ename": "AttributeError",
     "evalue": "'Series' object has no attribute 'isnumeric'",
     "output_type": "error",
     "traceback": [
      "\u001b[1;31m---------------------------------------------------------------------------\u001b[0m",
      "\u001b[1;31mAttributeError\u001b[0m                            Traceback (most recent call last)",
      "\u001b[1;32mC:\\Users\\DEGUCH~1\\AppData\\Local\\Temp/ipykernel_18772/1487938373.py\u001b[0m in \u001b[0;36m<module>\u001b[1;34m\u001b[0m\n\u001b[1;32m----> 1\u001b[1;33m \u001b[0mdf_tmp\u001b[0m\u001b[1;33m[\u001b[0m\u001b[1;33m~\u001b[0m\u001b[0mdf_tmp\u001b[0m\u001b[1;33m.\u001b[0m\u001b[0mvalue\u001b[0m\u001b[1;33m.\u001b[0m\u001b[0misnumeric\u001b[0m\u001b[1;33m(\u001b[0m\u001b[1;33m)\u001b[0m\u001b[1;33m]\u001b[0m\u001b[1;33m\u001b[0m\u001b[1;33m\u001b[0m\u001b[0m\n\u001b[0m",
      "\u001b[1;32m~\\PycharmProjects\\scraper\\.env\\lib\\site-packages\\pandas\\core\\generic.py\u001b[0m in \u001b[0;36m__getattr__\u001b[1;34m(self, name)\u001b[0m\n\u001b[0;32m   5485\u001b[0m         ):\n\u001b[0;32m   5486\u001b[0m             \u001b[1;32mreturn\u001b[0m \u001b[0mself\u001b[0m\u001b[1;33m[\u001b[0m\u001b[0mname\u001b[0m\u001b[1;33m]\u001b[0m\u001b[1;33m\u001b[0m\u001b[1;33m\u001b[0m\u001b[0m\n\u001b[1;32m-> 5487\u001b[1;33m         \u001b[1;32mreturn\u001b[0m \u001b[0mobject\u001b[0m\u001b[1;33m.\u001b[0m\u001b[0m__getattribute__\u001b[0m\u001b[1;33m(\u001b[0m\u001b[0mself\u001b[0m\u001b[1;33m,\u001b[0m \u001b[0mname\u001b[0m\u001b[1;33m)\u001b[0m\u001b[1;33m\u001b[0m\u001b[1;33m\u001b[0m\u001b[0m\n\u001b[0m\u001b[0;32m   5488\u001b[0m \u001b[1;33m\u001b[0m\u001b[0m\n\u001b[0;32m   5489\u001b[0m     \u001b[1;32mdef\u001b[0m \u001b[0m__setattr__\u001b[0m\u001b[1;33m(\u001b[0m\u001b[0mself\u001b[0m\u001b[1;33m,\u001b[0m \u001b[0mname\u001b[0m\u001b[1;33m:\u001b[0m \u001b[0mstr\u001b[0m\u001b[1;33m,\u001b[0m \u001b[0mvalue\u001b[0m\u001b[1;33m)\u001b[0m \u001b[1;33m->\u001b[0m \u001b[1;32mNone\u001b[0m\u001b[1;33m:\u001b[0m\u001b[1;33m\u001b[0m\u001b[1;33m\u001b[0m\u001b[0m\n",
      "\u001b[1;31mAttributeError\u001b[0m: 'Series' object has no attribute 'isnumeric'"
     ]
    }
   ],
   "source": [
    "df_tmp[~df_tmp.value.isnumeric()]"
   ]
  },
  {
   "cell_type": "code",
   "execution_count": 288,
   "metadata": {},
   "outputs": [
    {
     "data": {
      "text/plain": [
       "131"
      ]
     },
     "execution_count": 288,
     "metadata": {},
     "output_type": "execute_result"
    }
   ],
   "source": [
    "len(df_settlement)"
   ]
  },
  {
   "cell_type": "code",
   "execution_count": 290,
   "metadata": {},
   "outputs": [],
   "source": [
    "df_settlement['date'] = tmp_date.tolist()"
   ]
  },
  {
   "cell_type": "code",
   "execution_count": 157,
   "metadata": {},
   "outputs": [
    {
     "ename": "IllegalMonthError",
     "evalue": "bad month number 24; must be 1-12",
     "output_type": "error",
     "traceback": [
      "\u001b[1;31m---------------------------------------------------------------------------\u001b[0m",
      "\u001b[1;31mIllegalMonthError\u001b[0m                         Traceback (most recent call last)",
      "\u001b[1;32mC:\\Users\\DEGUCH~1\\AppData\\Local\\Temp/ipykernel_3772/4020733649.py\u001b[0m in \u001b[0;36m<module>\u001b[1;34m\u001b[0m\n\u001b[1;32m----> 1\u001b[1;33m \u001b[0mend_month_date\u001b[0m \u001b[1;33m-\u001b[0m \u001b[0mrelativedelta\u001b[0m\u001b[1;33m(\u001b[0m\u001b[0mmonth\u001b[0m\u001b[1;33m=\u001b[0m\u001b[1;36m24\u001b[0m\u001b[1;33m)\u001b[0m\u001b[1;33m\u001b[0m\u001b[1;33m\u001b[0m\u001b[0m\n\u001b[0m",
      "\u001b[1;32m~\\PycharmProjects\\scraper\\.env\\lib\\site-packages\\dateutil\\relativedelta.py\u001b[0m in \u001b[0;36m__rsub__\u001b[1;34m(self, other)\u001b[0m\n\u001b[0;32m    406\u001b[0m \u001b[1;33m\u001b[0m\u001b[0m\n\u001b[0;32m    407\u001b[0m     \u001b[1;32mdef\u001b[0m \u001b[0m__rsub__\u001b[0m\u001b[1;33m(\u001b[0m\u001b[0mself\u001b[0m\u001b[1;33m,\u001b[0m \u001b[0mother\u001b[0m\u001b[1;33m)\u001b[0m\u001b[1;33m:\u001b[0m\u001b[1;33m\u001b[0m\u001b[1;33m\u001b[0m\u001b[0m\n\u001b[1;32m--> 408\u001b[1;33m         \u001b[1;32mreturn\u001b[0m \u001b[0mself\u001b[0m\u001b[1;33m.\u001b[0m\u001b[0m__neg__\u001b[0m\u001b[1;33m(\u001b[0m\u001b[1;33m)\u001b[0m\u001b[1;33m.\u001b[0m\u001b[0m__radd__\u001b[0m\u001b[1;33m(\u001b[0m\u001b[0mother\u001b[0m\u001b[1;33m)\u001b[0m\u001b[1;33m\u001b[0m\u001b[1;33m\u001b[0m\u001b[0m\n\u001b[0m\u001b[0;32m    409\u001b[0m \u001b[1;33m\u001b[0m\u001b[0m\n\u001b[0;32m    410\u001b[0m     \u001b[1;32mdef\u001b[0m \u001b[0m__sub__\u001b[0m\u001b[1;33m(\u001b[0m\u001b[0mself\u001b[0m\u001b[1;33m,\u001b[0m \u001b[0mother\u001b[0m\u001b[1;33m)\u001b[0m\u001b[1;33m:\u001b[0m\u001b[1;33m\u001b[0m\u001b[1;33m\u001b[0m\u001b[0m\n",
      "\u001b[1;32m~\\PycharmProjects\\scraper\\.env\\lib\\site-packages\\dateutil\\relativedelta.py\u001b[0m in \u001b[0;36m__radd__\u001b[1;34m(self, other)\u001b[0m\n\u001b[0;32m    403\u001b[0m \u001b[1;33m\u001b[0m\u001b[0m\n\u001b[0;32m    404\u001b[0m     \u001b[1;32mdef\u001b[0m \u001b[0m__radd__\u001b[0m\u001b[1;33m(\u001b[0m\u001b[0mself\u001b[0m\u001b[1;33m,\u001b[0m \u001b[0mother\u001b[0m\u001b[1;33m)\u001b[0m\u001b[1;33m:\u001b[0m\u001b[1;33m\u001b[0m\u001b[1;33m\u001b[0m\u001b[0m\n\u001b[1;32m--> 405\u001b[1;33m         \u001b[1;32mreturn\u001b[0m \u001b[0mself\u001b[0m\u001b[1;33m.\u001b[0m\u001b[0m__add__\u001b[0m\u001b[1;33m(\u001b[0m\u001b[0mother\u001b[0m\u001b[1;33m)\u001b[0m\u001b[1;33m\u001b[0m\u001b[1;33m\u001b[0m\u001b[0m\n\u001b[0m\u001b[0;32m    406\u001b[0m \u001b[1;33m\u001b[0m\u001b[0m\n\u001b[0;32m    407\u001b[0m     \u001b[1;32mdef\u001b[0m \u001b[0m__rsub__\u001b[0m\u001b[1;33m(\u001b[0m\u001b[0mself\u001b[0m\u001b[1;33m,\u001b[0m \u001b[0mother\u001b[0m\u001b[1;33m)\u001b[0m\u001b[1;33m:\u001b[0m\u001b[1;33m\u001b[0m\u001b[1;33m\u001b[0m\u001b[0m\n",
      "\u001b[1;32m~\\PycharmProjects\\scraper\\.env\\lib\\site-packages\\dateutil\\relativedelta.py\u001b[0m in \u001b[0;36m__add__\u001b[1;34m(self, other)\u001b[0m\n\u001b[0;32m    375\u001b[0m                 \u001b[0myear\u001b[0m \u001b[1;33m-=\u001b[0m \u001b[1;36m1\u001b[0m\u001b[1;33m\u001b[0m\u001b[1;33m\u001b[0m\u001b[0m\n\u001b[0;32m    376\u001b[0m                 \u001b[0mmonth\u001b[0m \u001b[1;33m+=\u001b[0m \u001b[1;36m12\u001b[0m\u001b[1;33m\u001b[0m\u001b[1;33m\u001b[0m\u001b[0m\n\u001b[1;32m--> 377\u001b[1;33m         day = min(calendar.monthrange(year, month)[1],\n\u001b[0m\u001b[0;32m    378\u001b[0m                   self.day or other.day)\n\u001b[0;32m    379\u001b[0m         \u001b[0mrepl\u001b[0m \u001b[1;33m=\u001b[0m \u001b[1;33m{\u001b[0m\u001b[1;34m\"year\"\u001b[0m\u001b[1;33m:\u001b[0m \u001b[0myear\u001b[0m\u001b[1;33m,\u001b[0m \u001b[1;34m\"month\"\u001b[0m\u001b[1;33m:\u001b[0m \u001b[0mmonth\u001b[0m\u001b[1;33m,\u001b[0m \u001b[1;34m\"day\"\u001b[0m\u001b[1;33m:\u001b[0m \u001b[0mday\u001b[0m\u001b[1;33m}\u001b[0m\u001b[1;33m\u001b[0m\u001b[1;33m\u001b[0m\u001b[0m\n",
      "\u001b[1;32m~\\PycharmProjects\\scraper\\.env\\lib\\calendar.py\u001b[0m in \u001b[0;36mmonthrange\u001b[1;34m(year, month)\u001b[0m\n\u001b[0;32m    122\u001b[0m        year, month.\"\"\"\n\u001b[0;32m    123\u001b[0m     \u001b[1;32mif\u001b[0m \u001b[1;32mnot\u001b[0m \u001b[1;36m1\u001b[0m \u001b[1;33m<=\u001b[0m \u001b[0mmonth\u001b[0m \u001b[1;33m<=\u001b[0m \u001b[1;36m12\u001b[0m\u001b[1;33m:\u001b[0m\u001b[1;33m\u001b[0m\u001b[1;33m\u001b[0m\u001b[0m\n\u001b[1;32m--> 124\u001b[1;33m         \u001b[1;32mraise\u001b[0m \u001b[0mIllegalMonthError\u001b[0m\u001b[1;33m(\u001b[0m\u001b[0mmonth\u001b[0m\u001b[1;33m)\u001b[0m\u001b[1;33m\u001b[0m\u001b[1;33m\u001b[0m\u001b[0m\n\u001b[0m\u001b[0;32m    125\u001b[0m     \u001b[0mday1\u001b[0m \u001b[1;33m=\u001b[0m \u001b[0mweekday\u001b[0m\u001b[1;33m(\u001b[0m\u001b[0myear\u001b[0m\u001b[1;33m,\u001b[0m \u001b[0mmonth\u001b[0m\u001b[1;33m,\u001b[0m \u001b[1;36m1\u001b[0m\u001b[1;33m)\u001b[0m\u001b[1;33m\u001b[0m\u001b[1;33m\u001b[0m\u001b[0m\n\u001b[0;32m    126\u001b[0m     \u001b[0mndays\u001b[0m \u001b[1;33m=\u001b[0m \u001b[0mmdays\u001b[0m\u001b[1;33m[\u001b[0m\u001b[0mmonth\u001b[0m\u001b[1;33m]\u001b[0m \u001b[1;33m+\u001b[0m \u001b[1;33m(\u001b[0m\u001b[0mmonth\u001b[0m \u001b[1;33m==\u001b[0m \u001b[0mFebruary\u001b[0m \u001b[1;32mand\u001b[0m \u001b[0misleap\u001b[0m\u001b[1;33m(\u001b[0m\u001b[0myear\u001b[0m\u001b[1;33m)\u001b[0m\u001b[1;33m)\u001b[0m\u001b[1;33m\u001b[0m\u001b[1;33m\u001b[0m\u001b[0m\n",
      "\u001b[1;31mIllegalMonthError\u001b[0m: bad month number 24; must be 1-12"
     ]
    }
   ],
   "source": [
    "end_month_date - relativedelta(month=24)"
   ]
  },
  {
   "cell_type": "code",
   "execution_count": 43,
   "metadata": {},
   "outputs": [],
   "source": [
    "del chrome"
   ]
  },
  {
   "cell_type": "code",
   "execution_count": null,
   "metadata": {},
   "outputs": [],
   "source": [
    "# ice futures"
   ]
  },
  {
   "cell_type": "code",
   "execution_count": 9,
   "metadata": {},
   "outputs": [],
   "source": [
    "import requests\n",
    "import json\n",
    "from datetime import date\n",
    "\n",
    "target_list_url = f'https://www.theice.com/marketdata/DelayedMarkets.shtml?getContractsAsJson=&productId=254&hubId=403'\n",
    "\n",
    "PROXY_DICT = {\"http\": \"http://proxy.iea.org:8080\",\n",
    "              \"https\": \"http://proxy.iea.org:8080\",\n",
    "              \"ftp\": \"ftp://proxy.iea.org:8080\"}\n",
    "\n",
    "res_list = requests.get(target_list_url, proxies = PROXY_DICT)"
   ]
  },
  {
   "cell_type": "code",
   "execution_count": 10,
   "metadata": {},
   "outputs": [],
   "source": [
    "list_data = []\n",
    "\n",
    "dict_ice_data_list = json.loads(res_list.content)\n",
    "for i in dict_ice_data_list:\n",
    "    # print(f'{i[\"marketStrip\"]}, {i[\"marketId\"]}')\n",
    "\n",
    "    target_url = f'https://www.theice.com/marketdata/DelayedMarkets.shtml?getHistoricalChartDataAsJson=&marketId={i[\"marketId\"]}&historicalSpan=1'\n",
    "    \n",
    "    res = requests.get(target_url, proxies = PROXY_DICT)\n",
    "    dict_ice_data = json.loads(res.content)\n",
    "\n",
    "    today = date.today()\n",
    "\n",
    "    # print(dict_ice_data['bars'])\n",
    "    list_data.append([today, i[\"marketStrip\"] ,dict_ice_data['bars'][-1][1]])"
   ]
  },
  {
   "cell_type": "code",
   "execution_count": 11,
   "metadata": {},
   "outputs": [
    {
     "data": {
      "text/plain": [
       "[[datetime.date(2022, 3, 8), 'May22', 123.21],\n",
       " [datetime.date(2022, 3, 8), 'Jun22', 118.87],\n",
       " [datetime.date(2022, 3, 8), 'Jul22', 115.1],\n",
       " [datetime.date(2022, 3, 8), 'Aug22', 111.7],\n",
       " [datetime.date(2022, 3, 8), 'Sep22', 108.79],\n",
       " [datetime.date(2022, 3, 8), 'Oct22', 106.46],\n",
       " [datetime.date(2022, 3, 8), 'Nov22', 104.66],\n",
       " [datetime.date(2022, 3, 8), 'Dec22', 103],\n",
       " [datetime.date(2022, 3, 8), 'Jan23', 101.52],\n",
       " [datetime.date(2022, 3, 8), 'Feb23', 100.18],\n",
       " [datetime.date(2022, 3, 8), 'Mar23', 99.04],\n",
       " [datetime.date(2022, 3, 8), 'Apr23', 98.14],\n",
       " [datetime.date(2022, 3, 8), 'May23', 97.27],\n",
       " [datetime.date(2022, 3, 8), 'Jun23', 96.29],\n",
       " [datetime.date(2022, 3, 8), 'Jul23', 95.42],\n",
       " [datetime.date(2022, 3, 8), 'Aug23', 94.59],\n",
       " [datetime.date(2022, 3, 8), 'Sep23', 93.78],\n",
       " [datetime.date(2022, 3, 8), 'Oct23', 93.02],\n",
       " [datetime.date(2022, 3, 8), 'Dec23', 91.55],\n",
       " [datetime.date(2022, 3, 8), 'Jan24', 90.82],\n",
       " [datetime.date(2022, 3, 8), 'Feb24', 90.04],\n",
       " [datetime.date(2022, 3, 8), 'Jun24', 87.3],\n",
       " [datetime.date(2022, 3, 8), 'Dec24', 84.15],\n",
       " [datetime.date(2022, 3, 8), 'Dec25', 79.21],\n",
       " [datetime.date(2022, 3, 8), 'Dec26', 76.16]]"
      ]
     },
     "execution_count": 11,
     "metadata": {},
     "output_type": "execute_result"
    }
   ],
   "source": [
    "list_data"
   ]
  },
  {
   "cell_type": "code",
   "execution_count": 6,
   "metadata": {},
   "outputs": [],
   "source": [
    "import requests\n",
    "import json\n",
    "from datetime import date\n",
    "\n",
    "\n",
    "target_list_url = f'https://www.theice.com/marketdata/DelayedMarkets.shtml?getContractsAsJson=&productId=5817&hubId=9373'\n",
    "\n",
    "PROXY_DICT = {\"http\": \"http://proxy.iea.org:8080\",\n",
    "              \"https\": \"http://proxy.iea.org:8080\",\n",
    "              \"ftp\": \"ftp://proxy.iea.org:8080\"}\n",
    "\n",
    "res_list = requests.get(target_list_url, proxies = PROXY_DICT)"
   ]
  },
  {
   "cell_type": "code",
   "execution_count": 7,
   "metadata": {},
   "outputs": [],
   "source": [
    "# data\n",
    "list_data = []\n",
    "\n",
    "dict_ice_data_list = json.loads(res_list.content)\n",
    "for i in dict_ice_data_list:\n",
    "    # print(f'{i[\"marketStrip\"]}, {i[\"marketId\"]}')\n",
    "\n",
    "    target_url = f'https://www.theice.com/marketdata/DelayedMarkets.shtml?getHistoricalChartDataAsJson=&marketId={i[\"marketId\"]}&historicalSpan=1'\n",
    "    \n",
    "    res = requests.get(target_url, proxies = PROXY_DICT)\n",
    "    dict_ice_data = json.loads(res.content)\n",
    "\n",
    "    today = date.today()\n",
    "\n",
    "    # print(dict_ice_data['bars'])\n",
    "    list_data.append([today, i[\"marketStrip\"] ,dict_ice_data['bars'][-1][1]])"
   ]
  },
  {
   "cell_type": "code",
   "execution_count": 8,
   "metadata": {},
   "outputs": [
    {
     "data": {
      "text/plain": [
       "[[datetime.date(2022, 3, 8), 'Mar22', 1297.75],\n",
       " [datetime.date(2022, 3, 8), 'Apr22', 1199],\n",
       " [datetime.date(2022, 3, 8), 'May22', 1123.25],\n",
       " [datetime.date(2022, 3, 8), 'Jun22', 1053.75],\n",
       " [datetime.date(2022, 3, 8), 'Jul22', 993.75],\n",
       " [datetime.date(2022, 3, 8), 'Aug22', 961.25],\n",
       " [datetime.date(2022, 3, 8), 'Sep22', 941.75],\n",
       " [datetime.date(2022, 3, 8), 'Oct22', 928.5],\n",
       " [datetime.date(2022, 3, 8), 'Nov22', 908.75],\n",
       " [datetime.date(2022, 3, 8), 'Dec22', 894],\n",
       " [datetime.date(2022, 3, 8), 'Jan23', 881.25],\n",
       " [datetime.date(2022, 3, 8), 'Feb23', 871.5],\n",
       " [datetime.date(2022, 3, 8), 'Mar23', 861.5],\n",
       " [datetime.date(2022, 3, 8), 'Apr23', 852],\n",
       " [datetime.date(2022, 3, 8), 'May23', 843],\n",
       " [datetime.date(2022, 3, 8), 'Jun23', 835],\n",
       " [datetime.date(2022, 3, 8), 'Jul23', 828.5],\n",
       " [datetime.date(2022, 3, 8), 'Nov23', 805.75],\n",
       " [datetime.date(2022, 3, 8), 'Dec23', 797.75]]"
      ]
     },
     "execution_count": 8,
     "metadata": {},
     "output_type": "execute_result"
    }
   ],
   "source": [
    "list_data"
   ]
  },
  {
   "cell_type": "markdown",
   "metadata": {},
   "source": [
    "### Check programs for py file"
   ]
  },
  {
   "cell_type": "code",
   "execution_count": 2,
   "metadata": {},
   "outputs": [],
   "source": [
    "    target_urls = {\n",
    "        'BrentCrudeFutures' : {\n",
    "            'online_sources_url' : f'https://www.theice.com/products/219/Brent-Crude-Futures/data?marketId=5166946',\n",
    "            'dictionary_file_url' : f'https://www.theice.com/marketdata/DelayedMarkets.shtml?getContractsAsJson=&productId=254&hubId=403',\n",
    "            'base_file_url' : f'https://www.theice.com/marketdata/DelayedMarkets.shtml?getHistoricalChartDataAsJson=&historicalSpan=1&marketId=',\n",
    "            'source_prefix' : f'futures_brent'\n",
    "        },\n",
    "        'LowSulphurGasoilFutures': {\n",
    "            'online_sources_url': f'https://www.theice.com/products/34361119/Low-Sulphur-Gasoil-Futures/data?marketId=5444732&span=1',\n",
    "            'dictionary_file_url': f'https://www.theice.com/marketdata/DelayedMarkets.shtml?getContractsAsJson=&productId=5817&hubId=9373',\n",
    "            'base_file_url': f'https://www.theice.com/marketdata/DelayedMarkets.shtml?getHistoricalChartDataAsJson=&historicalSpan=1&marketId=',\n",
    "            'source_prefix' : f'futures_lsgasioil'\n",
    "        }\n",
    "    }\n"
   ]
  },
  {
   "cell_type": "code",
   "execution_count": 15,
   "metadata": {},
   "outputs": [
    {
     "ename": "SyntaxError",
     "evalue": "f-string: unmatched '[' (Temp/ipykernel_3528/966459838.py, line 12)",
     "output_type": "error",
     "traceback": [
      "\u001b[1;36m  File \u001b[1;32m\"C:\\Users\\DEGUCH~1\\AppData\\Local\\Temp/ipykernel_3528/966459838.py\"\u001b[1;36m, line \u001b[1;32m12\u001b[0m\n\u001b[1;33m    code=f'{self.provider_code.lower()}_{v['source_prefix']}{year}',\u001b[0m\n\u001b[1;37m                                            ^\u001b[0m\n\u001b[1;31mSyntaxError\u001b[0m\u001b[1;31m:\u001b[0m f-string: unmatched '['\n"
     ]
    }
   ],
   "source": [
    "    def get_sources(self):\n",
    "        \"\"\"\n",
    "        Implements method get_sources from parent class.\n",
    "        It defines all data sources that have to be processed.\n",
    "        Should create a list of object BaseSource in self.sources with at least\n",
    "        3 attributes: 'url', 'code', 'path'\n",
    "        \"\"\"\n",
    "\n",
    "        logger.info('Defining list of files to load.')\n",
    "\n",
    "        data_list = [BaseSource(url=self.base_file_url.replace(self.year_pattern, str(year)),\n",
    "                                code=f'{self.provider_code.lower()}_{v['source_prefix']}{year}',\n",
    "                                path=f'{self.provider_code.lower()}_{v['source_prefix']}{year}.csv',\n",
    "                                long_name=f\"ICE FUTURES PRICE DATA FILE {year}\")\n",
    "                     for k, v in target_urls.values]\n",
    "\n",
    "        self.sources.extend(data_list)"
   ]
  },
  {
   "cell_type": "code",
   "execution_count": 16,
   "metadata": {},
   "outputs": [
    {
     "ename": "NameError",
     "evalue": "name 'BaseSource' is not defined",
     "output_type": "error",
     "traceback": [
      "\u001b[1;31m---------------------------------------------------------------------------\u001b[0m",
      "\u001b[1;31mNameError\u001b[0m                                 Traceback (most recent call last)",
      "\u001b[1;32mC:\\Users\\DEGUCH~1\\AppData\\Local\\Temp/ipykernel_3528/2948426264.py\u001b[0m in \u001b[0;36m<module>\u001b[1;34m\u001b[0m\n\u001b[1;32m----> 1\u001b[1;33m data_list = [BaseSource(url=self.base_file_url.replace(self.year_pattern, str(year)),\n\u001b[0m\u001b[0;32m      2\u001b[0m                         \u001b[0mcode\u001b[0m\u001b[1;33m=\u001b[0m\u001b[1;34mf'{self.provider_code.lower()}_{self.source_prefix}{year}'\u001b[0m\u001b[1;33m,\u001b[0m\u001b[1;33m\u001b[0m\u001b[1;33m\u001b[0m\u001b[0m\n\u001b[0;32m      3\u001b[0m                         \u001b[0mpath\u001b[0m\u001b[1;33m=\u001b[0m\u001b[1;34mf'{self.provider_code.lower()}_{self.source_prefix}{year}.csv'\u001b[0m\u001b[1;33m,\u001b[0m\u001b[1;33m\u001b[0m\u001b[1;33m\u001b[0m\u001b[0m\n\u001b[0;32m      4\u001b[0m                         long_name=f\"ICE FUTURES PRICE DATA FILE {year}\")\n\u001b[0;32m      5\u001b[0m              for k, v in target_urls.items()]\n",
      "\u001b[1;32mC:\\Users\\DEGUCH~1\\AppData\\Local\\Temp/ipykernel_3528/2948426264.py\u001b[0m in \u001b[0;36m<listcomp>\u001b[1;34m(.0)\u001b[0m\n\u001b[1;32m----> 1\u001b[1;33m data_list = [BaseSource(url=self.base_file_url.replace(self.year_pattern, str(year)),\n\u001b[0m\u001b[0;32m      2\u001b[0m                         \u001b[0mcode\u001b[0m\u001b[1;33m=\u001b[0m\u001b[1;34mf'{self.provider_code.lower()}_{self.source_prefix}{year}'\u001b[0m\u001b[1;33m,\u001b[0m\u001b[1;33m\u001b[0m\u001b[1;33m\u001b[0m\u001b[0m\n\u001b[0;32m      3\u001b[0m                         \u001b[0mpath\u001b[0m\u001b[1;33m=\u001b[0m\u001b[1;34mf'{self.provider_code.lower()}_{self.source_prefix}{year}.csv'\u001b[0m\u001b[1;33m,\u001b[0m\u001b[1;33m\u001b[0m\u001b[1;33m\u001b[0m\u001b[0m\n\u001b[0;32m      4\u001b[0m                         long_name=f\"ICE FUTURES PRICE DATA FILE {year}\")\n\u001b[0;32m      5\u001b[0m              for k, v in target_urls.items()]\n",
      "\u001b[1;31mNameError\u001b[0m: name 'BaseSource' is not defined"
     ]
    }
   ],
   "source": [
    "data_list = [BaseSource(url=self.base_file_url.replace(self.year_pattern, str(year)),\n",
    "                        code=f'{self.provider_code.lower()}_{self.source_prefix}{year}',\n",
    "                        path=f'{self.provider_code.lower()}_{self.source_prefix}{year}.csv',\n",
    "                        long_name=f\"ICE FUTURES PRICE DATA FILE {year}\")\n",
    "             for k, v in target_urls.items()]"
   ]
  },
  {
   "cell_type": "code",
   "execution_count": 58,
   "metadata": {},
   "outputs": [],
   "source": [
    "PROXY_DICT = {\"http\": \"http://proxy.iea.org:8080\",\n",
    "              \"https\": \"http://proxy.iea.org:8080\",\n",
    "              \"ftp\": \"ftp://proxy.iea.org:8080\"}\n",
    "import requests\n",
    "import json\n",
    "from datetime import date\n",
    "import pandas as pd\n",
    "\n",
    "\n",
    "\n",
    "def _get_data_sources_from_dict_url(target_urls: dict) -> list:\n",
    "\n",
    "    list_data = []\n",
    "\n",
    "    for k, v in target_urls.items():\n",
    "        print(k, v['source_prefix'], v['dictionary_file_url'])\n",
    "\n",
    "        # target_list_url = f'https://www.theice.com/marketdata/DelayedMarkets.shtml?getContractsAsJson=&productId=5817&hubId=9373'\n",
    "        res_list = requests.get(v['dictionary_file_url'], proxies = PROXY_DICT)\n",
    "        print(v['dictionary_file_url'])\n",
    "\n",
    "        dict_ice_data_list = json.loads(res_list.content)\n",
    "\n",
    "        for i in dict_ice_data_list:\n",
    "            target_url = v['base_file_url'] + str(i[\"marketId\"])\n",
    "            \n",
    "            list_data.append([target_url, v['source_prefix'], k])\n",
    "\n",
    "    return list_data\n"
   ]
  },
  {
   "cell_type": "code",
   "execution_count": 63,
   "metadata": {},
   "outputs": [],
   "source": [
    "    target_urls = {\n",
    "        'BrentCrudeFutures' : {\n",
    "            'online_sources_url' : f'https://www.theice.com/products/219/Brent-Crude-Futures/data?marketId=5166946',\n",
    "            'dictionary_file_url' : f'https://www.theice.com/marketdata/DelayedMarkets.shtml?getContractsAsJson=&productId=254&hubId=403',\n",
    "            'base_file_url' : f'https://www.theice.com/marketdata/DelayedMarkets.shtml?getHistoricalChartDataAsJson=&historicalSpan=1&marketId=',\n",
    "            'source_prefix' : f'futures_brent'\n",
    "        },\n",
    "        'LowSulphurGasoilFutures': {\n",
    "            'online_sources_url': f'https://www.theice.com/products/34361119/Low-Sulphur-Gasoil-Futures/data?marketId=5444732&span=1',\n",
    "            'dictionary_file_url': f'https://www.theice.com/marketdata/DelayedMarkets.shtml?getContractsAsJson=&productId=5817&hubId=9373',\n",
    "            'base_file_url': f'https://www.theice.com/marketdata/DelayedMarkets.shtml?getHistoricalChartDataAsJson=&historicalSpan=1&marketId=',\n",
    "            'source_prefix' : f'futures_lsgasioil'\n",
    "        }\n",
    "    }"
   ]
  },
  {
   "cell_type": "markdown",
   "metadata": {},
   "source": [
    "- https://www.theice.com/marketdata/DelayedMarkets.shtml?getContractsAsJson=&productId=254&hubId=403"
   ]
  },
  {
   "cell_type": "code",
   "execution_count": 64,
   "metadata": {},
   "outputs": [
    {
     "name": "stdout",
     "output_type": "stream",
     "text": [
      "BrentCrudeFutures futures_brent https://www.theice.com/marketdata/DelayedMarkets.shtml?getContractsAsJson=&productId=254&hubId=403\n",
      "https://www.theice.com/marketdata/DelayedMarkets.shtml?getContractsAsJson=&productId=254&hubId=403\n",
      "LowSulphurGasoilFutures futures_lsgasioil https://www.theice.com/marketdata/DelayedMarkets.shtml?getContractsAsJson=&productId=5817&hubId=9373\n",
      "https://www.theice.com/marketdata/DelayedMarkets.shtml?getContractsAsJson=&productId=5817&hubId=9373\n"
     ]
    }
   ],
   "source": [
    "list_check = _get_data_sources_from_dict_url(target_urls)"
   ]
  },
  {
   "cell_type": "code",
   "execution_count": null,
   "metadata": {},
   "outputs": [],
   "source": []
  },
  {
   "cell_type": "code",
   "execution_count": 70,
   "metadata": {},
   "outputs": [],
   "source": [
    "url = 'https://www.theice.com/marketdata/DelayedMarkets.shtml?getContractsAsJson=&productId=254&hubId=403'\n",
    "\n",
    "data_list = requests.get(url, proxies = PROXY_DICT)"
   ]
  },
  {
   "cell_type": "code",
   "execution_count": 72,
   "metadata": {},
   "outputs": [],
   "source": [
    "dict_ice_data_list = json.loads(data_list.content)"
   ]
  },
  {
   "cell_type": "code",
   "execution_count": 77,
   "metadata": {},
   "outputs": [],
   "source": [
    "file = 'C:/Users/DEGUCHI_T/PycharmProjects/scraper/filestore/com_theice_futures_brent_Dec23.csv'"
   ]
  },
  {
   "cell_type": "code",
   "execution_count": 80,
   "metadata": {},
   "outputs": [],
   "source": [
    "with open(file) as f:\n",
    "    dict = json.load(f)"
   ]
  },
  {
   "cell_type": "code",
   "execution_count": 82,
   "metadata": {},
   "outputs": [
    {
     "data": {
      "text/plain": [
       "[['Mon Dec 13 00:00:00 2021', 68.86],\n",
       " ['Tue Dec 14 00:00:00 2021', 68.52],\n",
       " ['Wed Dec 15 00:00:00 2021', 68.07],\n",
       " ['Thu Dec 16 00:00:00 2021', 68.27],\n",
       " ['Fri Dec 17 00:00:00 2021', 67.04],\n",
       " ['Mon Dec 20 00:00:00 2021', 65.92],\n",
       " ['Tue Dec 21 00:00:00 2021', 67.58],\n",
       " ['Wed Dec 22 00:00:00 2021', 67.63],\n",
       " ['Thu Dec 23 00:00:00 2021', 68.53],\n",
       " ['Fri Dec 24 00:00:00 2021', 67.44],\n",
       " ['Mon Dec 27 00:00:00 2021', 69.79],\n",
       " ['Tue Dec 28 00:00:00 2021', 69.93],\n",
       " ['Wed Dec 29 00:00:00 2021', 70.51],\n",
       " ['Thu Dec 30 00:00:00 2021', 70.73],\n",
       " ['Fri Dec 31 00:00:00 2021', 69.33],\n",
       " ['Mon Jan 03 00:00:00 2022', 70.47],\n",
       " ['Tue Jan 04 00:00:00 2022', 71.37],\n",
       " ['Wed Jan 05 00:00:00 2022', 71.25],\n",
       " ['Thu Jan 06 00:00:00 2022', 71.68],\n",
       " ['Fri Jan 07 00:00:00 2022', 71.6],\n",
       " ['Mon Jan 10 00:00:00 2022', 71.1],\n",
       " ['Tue Jan 11 00:00:00 2022', 72.67],\n",
       " ['Wed Jan 12 00:00:00 2022', 72.89],\n",
       " ['Thu Jan 13 00:00:00 2022', 72.78],\n",
       " ['Fri Jan 14 00:00:00 2022', 73.64],\n",
       " ['Mon Jan 17 00:00:00 2022', 73.97],\n",
       " ['Tue Jan 18 00:00:00 2022', 74.66],\n",
       " ['Wed Jan 19 00:00:00 2022', 75],\n",
       " ['Thu Jan 20 00:00:00 2022', 75.53],\n",
       " ['Fri Jan 21 00:00:00 2022', 75.35],\n",
       " ['Mon Jan 24 00:00:00 2022', 74.48],\n",
       " ['Tue Jan 25 00:00:00 2022', 75.52],\n",
       " ['Wed Jan 26 00:00:00 2022', 76.09],\n",
       " ['Thu Jan 27 00:00:00 2022', 75.53],\n",
       " ['Fri Jan 28 00:00:00 2022', 75.36],\n",
       " ['Mon Jan 31 00:00:00 2022', 75.73],\n",
       " ['Tue Feb 01 00:00:00 2022', 75.78],\n",
       " ['Wed Feb 02 00:00:00 2022', 76.17],\n",
       " ['Thu Feb 03 00:00:00 2022', 77.22],\n",
       " ['Fri Feb 04 00:00:00 2022', 77.98],\n",
       " ['Mon Feb 07 00:00:00 2022', 78.36],\n",
       " ['Tue Feb 08 00:00:00 2022', 77.46],\n",
       " ['Wed Feb 09 00:00:00 2022', 78.63],\n",
       " ['Thu Feb 10 00:00:00 2022', 78.69],\n",
       " ['Fri Feb 11 00:00:00 2022', 79.67],\n",
       " ['Mon Feb 14 00:00:00 2022', 80.14],\n",
       " ['Tue Feb 15 00:00:00 2022', 77.89],\n",
       " ['Wed Feb 16 00:00:00 2022', 78.61],\n",
       " ['Thu Feb 17 00:00:00 2022', 78.14],\n",
       " ['Fri Feb 18 00:00:00 2022', 78.64],\n",
       " ['Mon Feb 21 00:00:00 2022', 79.76],\n",
       " ['Tue Feb 22 00:00:00 2022', 79.97],\n",
       " ['Wed Feb 23 00:00:00 2022', 80.82],\n",
       " ['Thu Feb 24 00:00:00 2022', 79.92],\n",
       " ['Fri Feb 25 00:00:00 2022', 78.93],\n",
       " ['Mon Feb 28 00:00:00 2022', 79.49],\n",
       " ['Tue Mar 01 00:00:00 2022', 81.16],\n",
       " ['Wed Mar 02 00:00:00 2022', 84.57],\n",
       " ['Thu Mar 03 00:00:00 2022', 85.25],\n",
       " ['Fri Mar 04 00:00:00 2022', 90.62],\n",
       " ['Mon Mar 07 00:00:00 2022', 91.55],\n",
       " ['Tue Mar 08 00:00:00 2022', 90.15],\n",
       " ['Wed Mar 09 00:00:00 2022', 82.63]]"
      ]
     },
     "execution_count": 82,
     "metadata": {},
     "output_type": "execute_result"
    }
   ],
   "source": [
    "dict['bars']"
   ]
  },
  {
   "cell_type": "code",
   "execution_count": null,
   "metadata": {},
   "outputs": [],
   "source": []
  },
  {
   "cell_type": "code",
   "execution_count": null,
   "metadata": {},
   "outputs": [],
   "source": []
  },
  {
   "cell_type": "code",
   "execution_count": 75,
   "metadata": {},
   "outputs": [
    {
     "name": "stdout",
     "output_type": "stream",
     "text": [
      "{'volume': 206871, 'lastTime': '03/10/2022 03:29 PM GMT', 'endDate': 'Tue May 31 00:00:00 EDT 2022', 'marketStrip': 'May22', 'change': 1.1337052366384786, 'marketId': 5166946, 'lastPrice': 112.4}\n",
      "{'volume': 190376, 'lastTime': '03/10/2022 03:29 PM GMT', 'endDate': 'Thu Jun 30 00:00:00 EDT 2022', 'marketStrip': 'Jun22', 'change': 0.7848266841072629, 'marketId': 5166944, 'lastPrice': 107.87}\n",
      "{'volume': 86411, 'lastTime': '03/10/2022 03:29 PM GMT', 'endDate': 'Sun Jul 31 00:00:00 EDT 2022', 'marketStrip': 'Jul22', 'change': 0.6955849676359761, 'marketId': 5166943, 'lastPrice': 104.23}\n",
      "{'volume': 51129, 'lastTime': '03/10/2022 03:29 PM GMT', 'endDate': 'Wed Aug 31 00:00:00 EDT 2022', 'marketStrip': 'Aug22', 'change': 0.4984051036682616, 'marketId': 5166938, 'lastPrice': 100.82}\n",
      "{'volume': 46794, 'lastTime': '03/10/2022 03:29 PM GMT', 'endDate': 'Fri Sep 30 00:00:00 EDT 2022', 'marketStrip': 'Sep22', 'change': 0.6655744419414353, 'marketId': 5166953, 'lastPrice': 98.31}\n",
      "{'volume': 32234, 'lastTime': '03/10/2022 03:29 PM GMT', 'endDate': 'Mon Oct 31 00:00:00 EDT 2022', 'marketStrip': 'Oct22', 'change': 0.7221350078492912, 'marketId': 5166948, 'lastPrice': 96.24}\n",
      "{'volume': 23159, 'lastTime': '03/10/2022 03:29 PM GMT', 'endDate': 'Wed Nov 30 00:00:00 EST 2022', 'marketStrip': 'Nov22', 'change': 0.7148191614211049, 'marketId': 5166947, 'lastPrice': 94.4}\n",
      "{'volume': 68077, 'lastTime': '03/10/2022 03:29 PM GMT', 'endDate': 'Sat Dec 31 00:00:00 EST 2022', 'marketStrip': 'Dec22', 'change': 0.6185567010309204, 'marketId': 5166940, 'lastPrice': 92.72}\n",
      "{'volume': 7806, 'lastTime': '03/10/2022 03:29 PM GMT', 'endDate': 'Tue Jan 31 00:00:00 EST 2023', 'marketStrip': 'Jan23', 'change': 0.5289256198347151, 'marketId': 5280992, 'lastPrice': 91.23}\n",
      "{'volume': 8463, 'lastTime': None, 'endDate': 'Tue Feb 28 00:00:00 EST 2023', 'marketStrip': 'Feb23', 'change': 0, 'marketId': 5280991, 'lastPrice': None}\n",
      "{'volume': 6487, 'lastTime': '03/10/2022 03:16 PM GMT', 'endDate': 'Fri Mar 31 00:00:00 EDT 2023', 'marketStrip': 'Mar23', 'change': 0, 'marketId': 5280993, 'lastPrice': 88.49}\n",
      "{'volume': 1703, 'lastTime': '03/10/2022 03:17 PM GMT', 'endDate': 'Sun Apr 30 00:00:00 EDT 2023', 'marketStrip': 'Apr23', 'change': 0, 'marketId': 5430838, 'lastPrice': 87.61}\n",
      "{'volume': 1071, 'lastTime': '03/10/2022 03:17 PM GMT', 'endDate': 'Wed May 31 00:00:00 EDT 2023', 'marketStrip': 'May23', 'change': 0, 'marketId': 5430847, 'lastPrice': 86.81}\n",
      "{'volume': 12971, 'lastTime': '03/10/2022 03:29 PM GMT', 'endDate': 'Fri Jun 30 00:00:00 EDT 2023', 'marketStrip': 'Jun23', 'change': 0.4879182156133849, 'marketId': 5430845, 'lastPrice': 86.5}\n",
      "{'volume': 211, 'lastTime': None, 'endDate': 'Mon Jul 31 00:00:00 EDT 2023', 'marketStrip': 'Jul23', 'change': 0, 'marketId': 5430844, 'lastPrice': None}\n",
      "{'volume': 250, 'lastTime': None, 'endDate': 'Thu Aug 31 00:00:00 EDT 2023', 'marketStrip': 'Aug23', 'change': 0, 'marketId': 5430839, 'lastPrice': None}\n",
      "{'volume': 267, 'lastTime': None, 'endDate': 'Sat Sep 30 00:00:00 EDT 2023', 'marketStrip': 'Sep23', 'change': 0, 'marketId': 5430854, 'lastPrice': None}\n",
      "{'volume': 82, 'lastTime': None, 'endDate': 'Tue Oct 31 00:00:00 EDT 2023', 'marketStrip': 'Oct23', 'change': 0, 'marketId': 5430849, 'lastPrice': None}\n",
      "{'volume': 94, 'lastTime': None, 'endDate': 'Thu Nov 30 00:00:00 EST 2023', 'marketStrip': 'Nov23', 'change': 0, 'marketId': 5430848, 'lastPrice': None}\n",
      "{'volume': 16990, 'lastTime': '03/10/2022 03:29 PM GMT', 'endDate': 'Sun Dec 31 00:00:00 EST 2023', 'marketStrip': 'Dec23', 'change': 0.21783855742467242, 'marketId': 5430841, 'lastPrice': 82.81}\n",
      "{'volume': 121, 'lastTime': None, 'endDate': 'Wed Jan 31 00:00:00 EST 2024', 'marketStrip': 'Jan24', 'change': 0, 'marketId': 5430843, 'lastPrice': None}\n",
      "{'volume': 36, 'lastTime': None, 'endDate': 'Thu Feb 29 00:00:00 EST 2024', 'marketStrip': 'Feb24', 'change': 0, 'marketId': 5430842, 'lastPrice': None}\n",
      "{'volume': 86, 'lastTime': '03/10/2022 03:16 PM GMT', 'endDate': 'Sun Mar 31 00:00:00 EDT 2024', 'marketStrip': 'Mar24', 'change': -0.08634513383494903, 'marketId': 5430846, 'lastPrice': 81}\n",
      "{'volume': 1, 'lastTime': None, 'endDate': 'Fri May 31 00:00:00 EDT 2024', 'marketStrip': 'May24', 'change': 0, 'marketId': 5617229, 'lastPrice': None}\n",
      "{'volume': 2123, 'lastTime': '03/10/2022 03:25 PM GMT', 'endDate': 'Sun Jun 30 00:00:00 EDT 2024', 'marketStrip': 'Jun24', 'change': 0.5635566687539172, 'marketId': 5617227, 'lastPrice': 80.3}\n",
      "{'volume': 4066, 'lastTime': '03/10/2022 03:29 PM GMT', 'endDate': 'Tue Dec 31 00:00:00 EST 2024', 'marketStrip': 'Dec24', 'change': -0.5126890540886843, 'marketId': 5617223, 'lastPrice': 77.62}\n",
      "{'volume': 46, 'lastTime': None, 'endDate': 'Mon Jun 30 00:00:00 EDT 2025', 'marketStrip': 'Jun25', 'change': 0, 'marketId': 5884695, 'lastPrice': None}\n",
      "{'volume': 992, 'lastTime': '03/10/2022 01:56 PM GMT', 'endDate': 'Wed Dec 31 00:00:00 EST 2025', 'marketStrip': 'Dec25', 'change': 2.0908243441203798, 'marketId': 5884691, 'lastPrice': 76.66}\n",
      "{'volume': 103, 'lastTime': None, 'endDate': 'Thu Dec 31 00:00:00 EST 2026', 'marketStrip': 'Dec26', 'change': 0, 'marketId': 6018421, 'lastPrice': None}\n"
     ]
    }
   ],
   "source": [
    "for i in dict_ice_data_list :\n",
    "    print(i)\n",
    "    # list_data.append([today, i[\"marketStrip\"] ,dict_ice_data['bars'][-1][1]])"
   ]
  },
  {
   "cell_type": "code",
   "execution_count": 4,
   "metadata": {},
   "outputs": [],
   "source": [
    "import pandas as pd\n",
    "\n",
    "df = pd.DataFrame([['Jul22', 0 , 'test'], ['Aug22', 1, 'test2'] , ['Sep22',2, 'test3']], columns=['target', 'value', 'test'])"
   ]
  },
  {
   "cell_type": "code",
   "execution_count": 13,
   "metadata": {},
   "outputs": [
    {
     "data": {
      "text/plain": [
       "0    Jul22\n",
       "1    Aug22\n",
       "2    Sep22\n",
       "Name: target, dtype: object"
      ]
     },
     "execution_count": 13,
     "metadata": {},
     "output_type": "execute_result"
    }
   ],
   "source": [
    "df.target#.str# [0:3]"
   ]
  },
  {
   "cell_type": "code",
   "execution_count": 18,
   "metadata": {},
   "outputs": [
    {
     "data": {
      "text/plain": [
       "0   2022-07-01\n",
       "1   2022-08-01\n",
       "2   2022-09-01\n",
       "Name: target, dtype: datetime64[ns]"
      ]
     },
     "execution_count": 18,
     "metadata": {},
     "output_type": "execute_result"
    }
   ],
   "source": [
    "pd.to_datetime(df.target, format='%b%y')"
   ]
  },
  {
   "cell_type": "code",
   "execution_count": 23,
   "metadata": {},
   "outputs": [],
   "source": [
    "df['test'] = pd.to_datetime(df.target, format='%b%y').dt.year"
   ]
  },
  {
   "cell_type": "code",
   "execution_count": 21,
   "metadata": {},
   "outputs": [
    {
     "data": {
      "text/plain": [
       "0    2022\n",
       "1    2022\n",
       "2    2022\n",
       "Name: target, dtype: int64"
      ]
     },
     "execution_count": 21,
     "metadata": {},
     "output_type": "execute_result"
    }
   ],
   "source": [
    "pd.to_datetime(df.target, format='%b%y').dt.year"
   ]
  },
  {
   "cell_type": "code",
   "execution_count": 28,
   "metadata": {},
   "outputs": [
    {
     "data": {
      "text/plain": [
       "'220311'"
      ]
     },
     "execution_count": 28,
     "metadata": {},
     "output_type": "execute_result"
    }
   ],
   "source": [
    "from datetime import date\n",
    "\n",
    "date.today().strftime(\"%y%m%d\")"
   ]
  },
  {
   "cell_type": "code",
   "execution_count": 62,
   "metadata": {},
   "outputs": [],
   "source": [
    "    target_urls = {\n",
    "        'WTI' : {\n",
    "            'online_sources_url' : f'https://www.cmegroup.com/markets/energy/crude-oil/light-sweet-crude.html',\n",
    "            'target_product_group' : f'crude-oil',\n",
    "            'target_product': f'light-sweet-crude',\n",
    "            'source_prefix' : f'{target_product_group}_{target_product}'\n",
    "        },\n",
    "        'HeatingOil' : {\n",
    "            'online_sources_url' : f'https://www.cmegroup.com/markets/energy/refined-products/heating-oil.html',\n",
    "            'target_product_group' : f'refined-products',\n",
    "            'target_product': f'heating-oil',\n",
    "            'source_prefix' : f'{target_product_group}_{target_product}'\n",
    "        },\n",
    "        'RBOB': {\n",
    "            'online_sources_url': f'https://www.cmegroup.com/markets/energy/refined-products/rbob-gasoline.html',\n",
    "            'target_product_group': f'refined-products',\n",
    "            'target_product': f'rbob-gasoline',\n",
    "            'source_prefix': f'{target_product_group}_{target_product}'\n",
    "        },\n",
    "        'HenryHub': {\n",
    "            'online_sources_url': f'https://www.cmegroup.com/markets/energy/natural-gas/natural-gas.html',\n",
    "            'target_product_group': f'natural-gas',\n",
    "            'target_product': f'natural-gas',\n",
    "            'source_prefix': f'{target_product_group}_{target_product}'\n",
    "        }\n",
    "    }"
   ]
  },
  {
   "cell_type": "code",
   "execution_count": 65,
   "metadata": {},
   "outputs": [
    {
     "name": "stdout",
     "output_type": "stream",
     "text": [
      "{'online_sources_url': 'https://www.cmegroup.com/markets/energy/crude-oil/light-sweet-crude.html', 'target_product_group': 'crude-oil', 'target_product': 'light-sweet-crude', 'source_prefix': 'refined-products_rbob-gasoline'}\n",
      "{'online_sources_url': 'https://www.cmegroup.com/markets/energy/refined-products/heating-oil.html', 'target_product_group': 'refined-products', 'target_product': 'heating-oil', 'source_prefix': 'refined-products_rbob-gasoline'}\n",
      "{'online_sources_url': 'https://www.cmegroup.com/markets/energy/refined-products/rbob-gasoline.html', 'target_product_group': 'refined-products', 'target_product': 'rbob-gasoline', 'source_prefix': 'refined-products_rbob-gasoline'}\n",
      "{'online_sources_url': 'https://www.cmegroup.com/markets/energy/natural-gas/natural-gas.html', 'target_product_group': 'natural-gas', 'target_product': 'natural-gas', 'source_prefix': 'refined-products_rbob-gasoline'}\n"
     ]
    }
   ],
   "source": [
    "for v in target_urls.values():\n",
    "    print(v)"
   ]
  },
  {
   "cell_type": "code",
   "execution_count": 4,
   "metadata": {},
   "outputs": [],
   "source": [
    "from datetime import date, datetime"
   ]
  },
  {
   "cell_type": "code",
   "execution_count": 5,
   "metadata": {},
   "outputs": [
    {
     "data": {
      "text/plain": [
       "datetime.datetime(2022, 3, 14, 16, 34, 59, 155962)"
      ]
     },
     "execution_count": 5,
     "metadata": {},
     "output_type": "execute_result"
    }
   ],
   "source": [
    "datetime.now()"
   ]
  },
  {
   "cell_type": "code",
   "execution_count": null,
   "metadata": {},
   "outputs": [],
   "source": []
  }
 ],
 "metadata": {
  "kernelspec": {
   "display_name": "Python (3.9)",
   "language": "python",
   "name": "python3.9"
  },
  "language_info": {
   "codemirror_mode": {
    "name": "ipython",
    "version": 3
   },
   "file_extension": ".py",
   "mimetype": "text/x-python",
   "name": "python",
   "nbconvert_exporter": "python",
   "pygments_lexer": "ipython3",
   "version": "3.9.7"
  }
 },
 "nbformat": 4,
 "nbformat_minor": 4
}
