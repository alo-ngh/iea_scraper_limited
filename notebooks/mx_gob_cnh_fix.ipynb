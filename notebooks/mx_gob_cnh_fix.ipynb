{
 "cells": [
  {
   "cell_type": "code",
   "execution_count": 3,
   "metadata": {},
   "outputs": [
    {
     "name": "stdout",
     "output_type": "stream",
     "text": [
      "The autoreload extension is already loaded. To reload it, use:\n",
      "  %reload_ext autoreload\n"
     ]
    }
   ],
   "source": [
    "%load_ext autoreload\n",
    "%autoreload 2"
   ]
  },
  {
   "cell_type": "code",
   "execution_count": 6,
   "metadata": {},
   "outputs": [
    {
     "name": "stderr",
     "output_type": "stream",
     "text": [
      "DEBUG:__main__:test DEBUG\n",
      "INFO:__main__:test INFO\n",
      "DEBUG:urllib3.connectionpool:Starting new HTTP connection (1): vipenta:8000\n",
      "DEBUG:urllib3.connectionpool:http://vipenta:8000 \"GET /dimension/source?code=mx_gob_cnh_PRODUCCION_CAMPOS HTTP/1.1\" 200 741\n",
      "DEBUG:urllib3.connectionpool:Starting new HTTP connection (1): vipenta:8000\n",
      "DEBUG:urllib3.connectionpool:http://vipenta:8000 \"GET /dimension/source?code=mx_gob_cnh_PRODUCCION_CUENCA HTTP/1.1\" 200 741\n",
      "DEBUG:urllib3.connectionpool:Starting new HTTPS connection (1): sih.hidrocarburos.gob.mx:443\n",
      "DEBUG:urllib3.connectionpool:Starting new HTTPS connection (1): sih.hidrocarburos.gob.mx:443\n",
      "DEBUG:urllib3.connectionpool:https://sih.hidrocarburos.gob.mx:443 \"GET /downloads/PRODUCCION_CUENCA.zip HTTP/1.1\" 200 486244\n",
      "DEBUG:urllib3.connectionpool:https://sih.hidrocarburos.gob.mx:443 \"GET /downloads/PRODUCCION_CAMPOS.zip HTTP/1.1\" 200 12585127\n",
      "INFO:scraper.core.utils:download_and_get_checksum: 2565.096139907837 ms\n",
      "DEBUG:urllib3.connectionpool:Starting new HTTP connection (1): vipenta:8000\n",
      "DEBUG:urllib3.connectionpool:http://vipenta:8000 \"GET /dimension/source?code=mx_gob_cnh_PRODUCCION_CUENCA HTTP/1.1\" 200 741\n",
      "DEBUG:urllib3.connectionpool:Starting new HTTP connection (1): vipenta:8000\n",
      "DEBUG:urllib3.connectionpool:http://vipenta:8000 \"GET /dimension/source?code=mx_gob_cnh_PRODUCCION_CAMPOS HTTP/1.1\" 200 741\n",
      "INFO:scraper.core.utils:rm_sources_up_to_date: 33.023834228515625 ms\n",
      "C:\\Users\\ROSA_L\\PycharmProjects\\scrapper\\scraper\\jobs\\mx_gob_cnh\\job.py:58: FutureWarning: Sorting because non-concatenation axis is not aligned. A future version\n",
      "of pandas will change to not sort by default.\n",
      "\n",
      "To accept the future behavior, pass 'sort=False'.\n",
      "\n",
      "To retain the current behavior and silence the warning, pass 'sort=True'.\n",
      "\n",
      "  df = pd.concat([df, self._transform_campos()])\n",
      "DEBUG:urllib3.connectionpool:Starting new HTTP connection (1): vipenta:8000\n",
      "DEBUG:urllib3.connectionpool:http://vipenta:8000 \"GET /dimension/entity HTTP/1.1\" 200 909818\n",
      "INFO:scraper.core.utils:insert_new_dynamic_dim: 0.0 ms\n",
      "DEBUG:urllib3.connectionpool:Starting new HTTP connection (1): vipenta:8000\n",
      "DEBUG:urllib3.connectionpool:http://vipenta:8000 \"POST /main/datapoint HTTP/1.1\" 201 10\n",
      "INFO:root:0 items ([]...) inserted to http://vipenta:8000/main/datapoint\n",
      "INFO:scraper.core.utils:upsert: 2429.5570850372314 ms\n",
      "DEBUG:urllib3.connectionpool:Starting new HTTP connection (1): vipenta:8000\n",
      "DEBUG:urllib3.connectionpool:http://vipenta:8000 \"GET /dimension/source?code=mx_gob_cnh_PRODUCCION_CAMPOS HTTP/1.1\" 200 741\n",
      "DEBUG:urllib3.connectionpool:Starting new HTTP connection (1): vipenta:8000\n",
      "DEBUG:urllib3.connectionpool:http://vipenta:8000 \"PUT /dimension/source/6 HTTP/1.1\" 201 10\n",
      "DEBUG:urllib3.connectionpool:Starting new HTTP connection (1): vipenta:8000\n",
      "DEBUG:urllib3.connectionpool:http://vipenta:8000 \"GET /dimension/source?code=mx_gob_cnh_PRODUCCION_CUENCA HTTP/1.1\" 200 741\n",
      "DEBUG:urllib3.connectionpool:Starting new HTTP connection (1): vipenta:8000\n",
      "DEBUG:urllib3.connectionpool:http://vipenta:8000 \"PUT /dimension/source/7 HTTP/1.1\" 201 10\n",
      "INFO:scraper.core.utils:update_sources_metadata: 76.0657787322998 ms\n"
     ]
    }
   ],
   "source": [
    "import logging\n",
    "logging.basicConfig(level = logging.DEBUG)\n",
    "\n",
    "from scraper.core.job import BATCH_SIZE\n",
    "\n",
    "import scraper.jobs.mx_gob_cnh.job as job\n",
    "\n",
    "\n",
    "logger = logging.getLogger(__name__)\n",
    "\n",
    "logger.debug('test DEBUG')\n",
    "logger.info('test INFO')\n",
    "\n",
    "mx = job.CnhJob()\n",
    "mx.run()"
   ]
  },
  {
   "cell_type": "code",
   "execution_count": null,
   "metadata": {},
   "outputs": [],
   "source": []
  }
 ],
 "metadata": {
  "kernelspec": {
   "display_name": "Python 3",
   "language": "python",
   "name": "python3"
  },
  "language_info": {
   "codemirror_mode": {
    "name": "ipython",
    "version": 3
   },
   "file_extension": ".py",
   "mimetype": "text/x-python",
   "name": "python",
   "nbconvert_exporter": "python",
   "pygments_lexer": "ipython3",
   "version": "3.7.1"
  }
 },
 "nbformat": 4,
 "nbformat_minor": 2
}
