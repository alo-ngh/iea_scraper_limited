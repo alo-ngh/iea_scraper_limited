{
 "cells": [
  {
   "cell_type": "markdown",
   "metadata": {},
   "source": [
    "# Mexico scraper\n",
    "\n",
    "Notebook for testing Mexico scraper."
   ]
  },
  {
   "cell_type": "code",
   "execution_count": 2,
   "metadata": {},
   "outputs": [],
   "source": [
    "%load_ext autoreload\n",
    "%autoreload 2"
   ]
  },
  {
   "cell_type": "code",
   "execution_count": 3,
   "metadata": {},
   "outputs": [],
   "source": [
    "import logging\n",
    "import sys\n",
    "\n",
    "root = logging.getLogger()\n",
    "root.setLevel(logging.DEBUG)\n",
    "\n",
    "handler = logging.StreamHandler(sys.stdout)\n",
    "handler.setLevel(logging.DEBUG)\n",
    "formatter = logging.Formatter('%(asctime)s - %(name)s - %(levelname)s - %(message)s')\n",
    "handler.setFormatter(formatter)\n",
    "root.addHandler(handler)"
   ]
  },
  {
   "cell_type": "code",
   "execution_count": 4,
   "metadata": {},
   "outputs": [
    {
     "name": "stdout",
     "output_type": "stream",
     "text": [
      "C:\\Users\\ROSA_L\\PycharmProjects\\scraper\n"
     ]
    }
   ],
   "source": [
    "%cd .."
   ]
  },
  {
   "cell_type": "code",
   "execution_count": 19,
   "metadata": {},
   "outputs": [
    {
     "name": "stdout",
     "output_type": "stream",
     "text": [
      "2020-05-26 17:12:42,572 - scraper.jobs.mx_gob_cnh.job - DEBUG - full_load: True\n",
      "2020-05-26 17:12:42,875 - scraper.jobs.mx_gob_cnh.job - INFO - Preparing data sources...\n",
      "2020-05-26 17:12:42,883 - urllib3.connectionpool - DEBUG - Starting new HTTP connection (1): vipenta:8000\n",
      "2020-05-26 17:12:42,918 - urllib3.connectionpool - DEBUG - http://vipenta:8000 \"GET /dimension/source?code=mx_gob_cnh_PRODUCCION_CAMPOS HTTP/1.1\" 200 741\n",
      "2020-05-26 17:12:42,929 - urllib3.connectionpool - DEBUG - Starting new HTTP connection (1): vipenta:8000\n",
      "2020-05-26 17:12:42,963 - urllib3.connectionpool - DEBUG - http://vipenta:8000 \"GET /dimension/source?code=mx_gob_cnh_PRODUCCION_CUENCA HTTP/1.1\" 200 741\n",
      "2020-05-26 17:12:43,066 - scraper.core.utils - INFO - download_and_get_checksum: 99.49731826782227 ms\n",
      "2020-05-26 17:12:43,067 - scraper.core.job - DEBUG - rm_sources_up_to_date: processing mx_gob_cnh_PRODUCCION_CUENCA\n",
      "2020-05-26 17:12:43,073 - urllib3.connectionpool - DEBUG - Starting new HTTP connection (1): vipenta:8000\n",
      "2020-05-26 17:12:43,109 - urllib3.connectionpool - DEBUG - http://vipenta:8000 \"GET /dimension/source?code=mx_gob_cnh_PRODUCCION_CUENCA HTTP/1.1\" 200 741\n",
      "2020-05-26 17:12:43,113 - scraper.core.job - DEBUG - rm_sources_up_to_date: removing mx_gob_cnh_PRODUCCION_CUENCA from self.sources\n",
      "2020-05-26 17:12:43,114 - scraper.core.job - DEBUG - rm_sources_up_to_date: processing mx_gob_cnh_PRODUCCION_CAMPOS\n",
      "2020-05-26 17:12:43,122 - urllib3.connectionpool - DEBUG - Starting new HTTP connection (1): vipenta:8000\n",
      "2020-05-26 17:12:43,156 - urllib3.connectionpool - DEBUG - http://vipenta:8000 \"GET /dimension/source?code=mx_gob_cnh_PRODUCCION_CAMPOS HTTP/1.1\" 200 741\n",
      "2020-05-26 17:12:43,160 - scraper.core.job - DEBUG - rm_sources_up_to_date: removing mx_gob_cnh_PRODUCCION_CAMPOS from self.sources\n",
      "2020-05-26 17:12:43,162 - scraper.core.utils - INFO - rm_sources_up_to_date: 94.90370750427246 ms\n",
      "2020-05-26 17:12:43,163 - scraper.jobs.mx_gob_cnh.job - INFO - Transforming data...\n",
      "2020-05-26 17:12:43,167 - scraper.jobs.mx_gob_cnh.job - INFO - Transforming cuenca data.\n",
      "2020-05-26 17:12:43,169 - scraper.jobs.mx_gob_cnh.job - DEBUG - Getting source for code mx_gob_cnh_PRODUCCION_CUENCA\n",
      "2020-05-26 17:12:43,171 - scraper.jobs.mx_gob_cnh.job - WARNING - No source for cuenca found: mx_gob_cnh_PRODUCCION_CUENCA\n",
      "2020-05-26 17:12:43,177 - scraper.jobs.mx_gob_cnh.job - INFO - Transforming campos data.\n",
      "2020-05-26 17:12:43,180 - scraper.jobs.mx_gob_cnh.job - DEBUG - Getting source for code mx_gob_cnh_PRODUCCION_CAMPOS\n",
      "2020-05-26 17:12:43,183 - scraper.jobs.mx_gob_cnh.job - WARNING - No source for campos found: mx_gob_cnh_PRODUCCION_CAMPOS\n",
      "2020-05-26 17:12:43,188 - scraper.jobs.mx_gob_cnh.job - WARNING - No data for cuenca or campos in source file.\n",
      "2020-05-26 17:12:43,192 - scraper.core.job - DEBUG - Running insert_new_dynamic_dim(): 0 items\n",
      "2020-05-26 17:12:43,194 - scraper.core.utils - INFO - insert_new_dynamic_dim: 1.9907951354980469 ms\n",
      "2020-05-26 17:12:43,196 - scraper.core.utils - INFO - upsert: 0.0 ms\n",
      "2020-05-26 17:12:43,200 - scraper.core.utils - INFO - update_sources_metadata: 0.0 ms\n"
     ]
    }
   ],
   "source": [
    "from scraper.jobs.mx_gob_cnh.job import CnhJob\n",
    "\n",
    "mx = CnhJob(full_load=True)\n",
    "mx.run(download=False)"
   ]
  },
  {
   "cell_type": "code",
   "execution_count": null,
   "metadata": {},
   "outputs": [],
   "source": []
  }
 ],
 "metadata": {
  "kernelspec": {
   "display_name": "Python 3",
   "language": "python",
   "name": "python3"
  },
  "language_info": {
   "codemirror_mode": {
    "name": "ipython",
    "version": 3
   },
   "file_extension": ".py",
   "mimetype": "text/x-python",
   "name": "python",
   "nbconvert_exporter": "python",
   "pygments_lexer": "ipython3",
   "version": "3.6.5"
  }
 },
 "nbformat": 4,
 "nbformat_minor": 2
}
