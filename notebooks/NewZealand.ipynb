{
 "cells": [
  {
   "cell_type": "code",
   "execution_count": 1,
   "metadata": {},
   "outputs": [],
   "source": [
    "%load_ext autoreload\n",
    "%autoreload 2"
   ]
  },
  {
   "cell_type": "code",
   "execution_count": 2,
   "metadata": {},
   "outputs": [
    {
     "name": "stdout",
     "output_type": "stream",
     "text": [
      "C:\\Users\\ROSA_L\\PycharmProjects\\scraper\n"
     ]
    }
   ],
   "source": [
    "cd .."
   ]
  },
  {
   "cell_type": "code",
   "execution_count": 3,
   "metadata": {},
   "outputs": [],
   "source": [
    "import logging\n",
    "logging.basicConfig(format='%(asctime)s %(message)s', datefmt='%m/%d/%Y %I:%M:%S %p', level=logging.DEBUG)\n"
   ]
  },
  {
   "cell_type": "code",
   "execution_count": 12,
   "metadata": {},
   "outputs": [
    {
     "name": "stderr",
     "output_type": "stream",
     "text": [
      "10/19/2021 08:21:32 PM Loading module scraper.jobs.nz_govt_mbie.nz_oil_stats\n",
      "10/19/2021 08:21:32 PM Getting class NzOilStatsJob\n",
      "10/19/2021 08:21:32 PM Getting source.\n",
      "10/19/2021 08:21:32 PM Executing function calc_checksum_download() over 1 items with a maximum of 15 parallel workers.\n",
      "10/19/2021 08:21:32 PM Calculating checksum of file nz_govt_mbie_Quarterly_Oil.xlsx\n",
      "10/19/2021 08:21:32 PM 1582993 bytes read from nz_govt_mbie_Quarterly_Oil.xlsx\n",
      "10/19/2021 08:21:32 PM Checksum calculated and appended to source with code 'nz_govt_mbie_Quarterly_Oil'\n",
      "10/19/2021 08:21:32 PM download_and_get_checksum: 10.002851486206055 ms\n",
      "10/19/2021 08:21:32 PM rm_sources_up_to_date: processing nz_govt_mbie_Quarterly_Oil\n",
      "10/19/2021 08:21:32 PM Starting new HTTP connection (1): vipenta.iea.org:8000\n",
      "10/19/2021 08:21:32 PM http://vipenta.iea.org:8000 \"GET /dimension/source?code=nz_govt_mbie_Quarterly_Oil HTTP/1.1\" 200 753\n",
      "10/19/2021 08:21:32 PM rm_sources_up_to_date: 46.0050106048584 ms\n",
      "10/19/2021 08:21:32 PM Adding sources to dynamic_dim['source']...\n",
      "10/19/2021 08:21:32 PM 1 sources added to self.dynamic_dim['source']\n",
      "10/19/2021 08:21:32 PM remove_existing_dynamic_dim: query - http://vipenta.iea.org:8000/dimension/source\n",
      "10/19/2021 08:21:32 PM Starting new HTTP connection (1): vipenta.iea.org:8000\n",
      "10/19/2021 08:21:32 PM http://vipenta.iea.org:8000 \"GET /dimension/source HTTP/1.1\" 200 909953\n",
      "10/19/2021 08:21:33 PM self.dynamic_dim['source'] size before: 1\n",
      "10/19/2021 08:21:33 PM self.dynamic_dim['source'] size after: 0\n",
      "10/19/2021 08:21:33 PM Transforming provider ...\n",
      "10/19/2021 08:21:33 PM Adding provider to dynamic_dim: NZ_MBIE\n",
      "10/19/2021 08:21:33 PM remove_existing_dynamic_dim: query - http://vipenta.iea.org:8000/dimension/provider\n",
      "10/19/2021 08:21:33 PM Starting new HTTP connection (1): vipenta.iea.org:8000\n",
      "10/19/2021 08:21:33 PM http://vipenta.iea.org:8000 \"GET /dimension/provider HTTP/1.1\" 200 8530\n",
      "10/19/2021 08:21:33 PM self.dynamic_dim['provider'] size before: 1\n",
      "10/19/2021 08:21:33 PM self.dynamic_dim['provider'] size after: 0\n",
      "10/19/2021 08:21:33 PM Transforming source.\n",
      "10/19/2021 08:21:33 PM Opening excel file nz_govt_mbie_Quarterly_Oil.xlsx\n",
      "10/19/2021 08:21:33 PM Reading sheet Annual_mmbbls\n",
      "10/19/2021 08:21:33 PM 199 rows read from the sheet Annual_mmbbls.\n",
      "10/19/2021 08:21:33 PM 1410 rows after transforming data from sheet Annual_mmbbls\n",
      "10/19/2021 08:21:33 PM Reading sheet Quarterly_mmbbls\n",
      "10/19/2021 08:21:34 PM 172 rows read from the sheet Quarterly_mmbbls.\n",
      "10/19/2021 08:21:34 PM 570 rows after transforming data from sheet Quarterly_mmbbls\n",
      "10/19/2021 08:21:34 PM 23 unique entities to process.\n",
      "10/19/2021 08:21:34 PM 22 entities left after removing None.\n",
      "10/19/2021 08:21:34 PM remove_existing_dynamic_dim: query - http://vipenta.iea.org:8000/dimension/entity\n",
      "10/19/2021 08:21:34 PM Starting new HTTP connection (1): vipenta.iea.org:8000\n",
      "10/19/2021 08:21:41 PM http://vipenta.iea.org:8000 \"GET /dimension/entity HTTP/1.1\" 200 17245362\n",
      "10/19/2021 08:21:45 PM self.dynamic_dim['entity'] size before: 22\n",
      "10/19/2021 08:21:45 PM self.dynamic_dim['entity'] size after: 0\n",
      "10/19/2021 08:21:45 PM Running insert_new_dynamic_dim(): 3 items\n",
      "10/19/2021 08:21:45 PM Processing source: size 0\n",
      "10/19/2021 08:21:45 PM Processing provider: size 0\n",
      "10/19/2021 08:21:45 PM Processing entity: size 0\n",
      "10/19/2021 08:21:45 PM insert_new_dynamic_dim: 2.0182132720947266 ms\n",
      "10/19/2021 08:21:45 PM Starting new HTTP connection (1): vipenta.iea.org:8000\n",
      "10/19/2021 08:21:47 PM http://vipenta.iea.org:8000 \"POST /main/datapoint HTTP/1.1\" 201 10\n",
      "10/19/2021 08:21:47 PM Sending data to IEA External DB - Batch[1]: 1980 rows\n",
      "10/19/2021 08:21:47 PM 1980 items sent to IEA External DB API instance at: http://vipenta.iea.org:8000/main/datapoint\n",
      "10/19/2021 08:21:47 PM upsert: 1910.0368022918701 ms\n",
      "10/19/2021 08:21:47 PM Starting new HTTP connection (1): vipenta.iea.org:8000\n",
      "10/19/2021 08:21:47 PM http://vipenta.iea.org:8000 \"GET /dimension/source?code=nz_govt_mbie_Quarterly_Oil HTTP/1.1\" 200 753\n",
      "10/19/2021 08:21:47 PM Attribute source.last_download not available. Running with download=False?\n",
      "10/19/2021 08:21:47 PM Starting new HTTP connection (1): vipenta.iea.org:8000\n",
      "10/19/2021 08:21:47 PM http://vipenta.iea.org:8000 \"PUT /dimension/source/6798 HTTP/1.1\" 201 10\n",
      "10/19/2021 08:21:47 PM update_sources_metadata: 70.12176513671875 ms\n"
     ]
    }
   ],
   "source": [
    "from scraper.core import factory\n",
    "\n",
    "job = factory.get_scraper_job('nz_govt_mbie', 'nz_oil_stats')\n",
    "job.run(download=False)\n"
   ]
  },
  {
   "cell_type": "code",
   "execution_count": 7,
   "metadata": {},
   "outputs": [
    {
     "data": {
      "text/plain": [
       "[{'code': 'nz_govt_mbie_Quarterly_Oil',\n",
       "  'url': 'https://www.mbie.govt.nz/assets/Data-Files/Energy/nz-energy-quarterly-and-energy-in-nz/Oil.xlsx',\n",
       "  'path': 'nz_govt_mbie_Quarterly_Oil.xlsx',\n",
       "  'last_download': '2019-12-16T14:57:41Z',\n",
       "  'checksum': 'd9b1d7e82a9128c80b811259d9b15f26'}]"
      ]
     },
     "execution_count": 7,
     "metadata": {},
     "output_type": "execute_result"
    }
   ],
   "source": [
    "[vars(x) for x in nz.sources]"
   ]
  },
  {
   "cell_type": "code",
   "execution_count": 25,
   "metadata": {},
   "outputs": [
    {
     "data": {
      "text/plain": [
       "[{'entity': 'None',\n",
       "  'frequency': 'Annual',\n",
       "  'period': '1974',\n",
       "  'product': 'CRUDEOIL',\n",
       "  'value': 1377.9,\n",
       "  'provider': 'NZ_MBIE',\n",
       "  'unit': 'KBBL',\n",
       "  'source': 'nz_govt_mbie_Quarterly_Oil',\n",
       "  'area': 'NZ',\n",
       "  'flow': 'SUPPLY',\n",
       "  'original': True},\n",
       " {'entity': 'NZ_MAUI',\n",
       "  'frequency': 'Annual',\n",
       "  'period': '1974',\n",
       "  'product': 'CRUDEOIL',\n",
       "  'value': 0.0,\n",
       "  'provider': 'NZ_MBIE',\n",
       "  'unit': 'KBBL',\n",
       "  'source': 'nz_govt_mbie_Quarterly_Oil',\n",
       "  'area': 'NZ',\n",
       "  'flow': 'SUPPLY',\n",
       "  'original': True},\n",
       " {'entity': 'NZ_KAPUNI',\n",
       "  'frequency': 'Annual',\n",
       "  'period': '1974',\n",
       "  'product': 'CRUDEOIL',\n",
       "  'value': 1377.9,\n",
       "  'provider': 'NZ_MBIE',\n",
       "  'unit': 'KBBL',\n",
       "  'source': 'nz_govt_mbie_Quarterly_Oil',\n",
       "  'area': 'NZ',\n",
       "  'flow': 'SUPPLY',\n",
       "  'original': True},\n",
       " {'entity': 'NZ_POHOKURA',\n",
       "  'frequency': 'Annual',\n",
       "  'period': '1974',\n",
       "  'product': 'CRUDEOIL',\n",
       "  'value': 0.0,\n",
       "  'provider': 'NZ_MBIE',\n",
       "  'unit': 'KBBL',\n",
       "  'source': 'nz_govt_mbie_Quarterly_Oil',\n",
       "  'area': 'NZ',\n",
       "  'flow': 'SUPPLY',\n",
       "  'original': True},\n",
       " {'entity': 'NZ_TUI',\n",
       "  'frequency': 'Annual',\n",
       "  'period': '1974',\n",
       "  'product': 'CRUDEOIL',\n",
       "  'value': 0.0,\n",
       "  'provider': 'NZ_MBIE',\n",
       "  'unit': 'KBBL',\n",
       "  'source': 'nz_govt_mbie_Quarterly_Oil',\n",
       "  'area': 'NZ',\n",
       "  'flow': 'SUPPLY',\n",
       "  'original': True},\n",
       " {'entity': 'NZ_MAARI',\n",
       "  'frequency': 'Annual',\n",
       "  'period': '1974',\n",
       "  'product': 'CRUDEOIL',\n",
       "  'value': 0.0,\n",
       "  'provider': 'NZ_MBIE',\n",
       "  'unit': 'KBBL',\n",
       "  'source': 'nz_govt_mbie_Quarterly_Oil',\n",
       "  'area': 'NZ',\n",
       "  'flow': 'SUPPLY',\n",
       "  'original': True},\n",
       " {'entity': 'NZ_KUPE',\n",
       "  'frequency': 'Annual',\n",
       "  'period': '1974',\n",
       "  'product': 'CRUDEOIL',\n",
       "  'value': 0.0,\n",
       "  'provider': 'NZ_MBIE',\n",
       "  'unit': 'KBBL',\n",
       "  'source': 'nz_govt_mbie_Quarterly_Oil',\n",
       "  'area': 'NZ',\n",
       "  'flow': 'SUPPLY',\n",
       "  'original': True},\n",
       " {'entity': 'NZ_MCKEE',\n",
       "  'frequency': 'Annual',\n",
       "  'period': '1974',\n",
       "  'product': 'CRUDEOIL',\n",
       "  'value': 0.0,\n",
       "  'provider': 'NZ_MBIE',\n",
       "  'unit': 'KBBL',\n",
       "  'source': 'nz_govt_mbie_Quarterly_Oil',\n",
       "  'area': 'NZ',\n",
       "  'flow': 'SUPPLY',\n",
       "  'original': True},\n",
       " {'entity': 'NZ_MANGAHEWA',\n",
       "  'frequency': 'Annual',\n",
       "  'period': '1974',\n",
       "  'product': 'CRUDEOIL',\n",
       "  'value': 0.0,\n",
       "  'provider': 'NZ_MBIE',\n",
       "  'unit': 'KBBL',\n",
       "  'source': 'nz_govt_mbie_Quarterly_Oil',\n",
       "  'area': 'NZ',\n",
       "  'flow': 'SUPPLY',\n",
       "  'original': True},\n",
       " {'entity': 'NZ_TURANGI',\n",
       "  'frequency': 'Annual',\n",
       "  'period': '1974',\n",
       "  'product': 'CRUDEOIL',\n",
       "  'value': 0.0,\n",
       "  'provider': 'NZ_MBIE',\n",
       "  'unit': 'KBBL',\n",
       "  'source': 'nz_govt_mbie_Quarterly_Oil',\n",
       "  'area': 'NZ',\n",
       "  'flow': 'SUPPLY',\n",
       "  'original': True}]"
      ]
     },
     "execution_count": 25,
     "metadata": {},
     "output_type": "execute_result"
    }
   ],
   "source": [
    "[x for x in nz.data if x['frequency'] == 'Annual'][:10]"
   ]
  },
  {
   "cell_type": "code",
   "execution_count": 21,
   "metadata": {},
   "outputs": [
    {
     "data": {
      "text/plain": [
       "'https://www.mbie.govt.nz'"
      ]
     },
     "execution_count": 21,
     "metadata": {},
     "output_type": "execute_result"
    }
   ],
   "source": [
    "nz_govt_mbie.URL.split(\"/asset\")[0]"
   ]
  },
  {
   "cell_type": "code",
   "execution_count": 11,
   "metadata": {},
   "outputs": [
    {
     "name": "stderr",
     "output_type": "stream",
     "text": [
      "10/19/2021 11:32:37 AM Starting new HTTPS connection (1): www.mbie.govt.nz:443\n",
      "10/19/2021 11:32:38 AM https://www.mbie.govt.nz:443 \"GET /building-and-energy/energy-and-natural-resources/energy-statistics-and-modelling/energy-statistics/oil-statistics/ HTTP/1.1\" 403 743\n"
     ]
    },
    {
     "ename": "HTTPError",
     "evalue": "403 Client Error: Forbidden for url: https://www.mbie.govt.nz/building-and-energy/energy-and-natural-resources/energy-statistics-and-modelling/energy-statistics/oil-statistics/",
     "output_type": "error",
     "traceback": [
      "\u001b[1;31m---------------------------------------------------------------------------\u001b[0m",
      "\u001b[1;31mHTTPError\u001b[0m                                 Traceback (most recent call last)",
      "\u001b[1;32m<ipython-input-11-54f81f714eb9>\u001b[0m in \u001b[0;36m<module>\u001b[1;34m()\u001b[0m\n\u001b[0;32m     11\u001b[0m                 verify=SSL_CERTIFICATE_PATH)\n\u001b[0;32m     12\u001b[0m \u001b[1;33m\u001b[0m\u001b[0m\n\u001b[1;32m---> 13\u001b[1;33m \u001b[0mr\u001b[0m\u001b[1;33m.\u001b[0m\u001b[0mraise_for_status\u001b[0m\u001b[1;33m(\u001b[0m\u001b[1;33m)\u001b[0m\u001b[1;33m\u001b[0m\u001b[0m\n\u001b[0m\u001b[0;32m     14\u001b[0m \u001b[1;33m\u001b[0m\u001b[0m\n\u001b[0;32m     15\u001b[0m \u001b[0mcookies\u001b[0m \u001b[1;33m=\u001b[0m \u001b[0mrequests\u001b[0m\u001b[1;33m.\u001b[0m\u001b[0mutils\u001b[0m\u001b[1;33m.\u001b[0m\u001b[0mdict_from_cookiejar\u001b[0m\u001b[1;33m(\u001b[0m\u001b[0msession\u001b[0m\u001b[1;33m.\u001b[0m\u001b[0mcookies\u001b[0m\u001b[1;33m)\u001b[0m\u001b[1;33m\u001b[0m\u001b[0m\n",
      "\u001b[1;32mc:\\users\\rosa_l\\pycharmprojects\\scraper\\venv\\lib\\site-packages\\requests\\models.py\u001b[0m in \u001b[0;36mraise_for_status\u001b[1;34m(self)\u001b[0m\n\u001b[0;32m    937\u001b[0m \u001b[1;33m\u001b[0m\u001b[0m\n\u001b[0;32m    938\u001b[0m         \u001b[1;32mif\u001b[0m \u001b[0mhttp_error_msg\u001b[0m\u001b[1;33m:\u001b[0m\u001b[1;33m\u001b[0m\u001b[0m\n\u001b[1;32m--> 939\u001b[1;33m             \u001b[1;32mraise\u001b[0m \u001b[0mHTTPError\u001b[0m\u001b[1;33m(\u001b[0m\u001b[0mhttp_error_msg\u001b[0m\u001b[1;33m,\u001b[0m \u001b[0mresponse\u001b[0m\u001b[1;33m=\u001b[0m\u001b[0mself\u001b[0m\u001b[1;33m)\u001b[0m\u001b[1;33m\u001b[0m\u001b[0m\n\u001b[0m\u001b[0;32m    940\u001b[0m \u001b[1;33m\u001b[0m\u001b[0m\n\u001b[0;32m    941\u001b[0m     \u001b[1;32mdef\u001b[0m \u001b[0mclose\u001b[0m\u001b[1;33m(\u001b[0m\u001b[0mself\u001b[0m\u001b[1;33m)\u001b[0m\u001b[1;33m:\u001b[0m\u001b[1;33m\u001b[0m\u001b[0m\n",
      "\u001b[1;31mHTTPError\u001b[0m: 403 Client Error: Forbidden for url: https://www.mbie.govt.nz/building-and-energy/energy-and-natural-resources/energy-statistics-and-modelling/energy-statistics/oil-statistics/"
     ]
    }
   ],
   "source": [
    "base_url = 'https://www.mbie.govt.nz/building-and-energy/energy-and-natural-resources/energy-statistics-and-modelling/energy-statistics/oil-statistics/'\n",
    "url = 'https://www.mbie.govt.nz/assets/Data-Files/Energy/nz-energy-quarterly-and-energy-in-nz/oil.xlsx'\n",
    "\n",
    "import requests\n",
    "from scraper.settings import PROXY_DICT, SSL_CERTIFICATE_PATH\n",
    "\n",
    "session = requests.Session()\n",
    "\n",
    "r = session.get(base_url,\n",
    "                proxies=PROXY_DICT,\n",
    "                verify=SSL_CERTIFICATE_PATH)\n",
    "\n",
    "r.raise_for_status()\n",
    "\n",
    "cookies = requests.utils.dict_from_cookiejar(session.cookies)\n",
    "\n",
    "print(f'cookies: {cookies}')\n",
    "\n",
    "response = session.get(url,\n",
    "                       proxies=PROXY_DICT,\n",
    "                       verify=SSL_CERTIFICATE_PATH)\n",
    "\n",
    "response.raise_for_status()"
   ]
  },
  {
   "cell_type": "code",
   "execution_count": 2,
   "metadata": {},
   "outputs": [
    {
     "ename": "ModuleNotFoundError",
     "evalue": "No module named 'scraper'",
     "output_type": "error",
     "traceback": [
      "\u001b[1;31m---------------------------------------------------------------------------\u001b[0m",
      "\u001b[1;31mModuleNotFoundError\u001b[0m                       Traceback (most recent call last)",
      "\u001b[1;32m<ipython-input-2-c04f11d52b40>\u001b[0m in \u001b[0;36m<module>\u001b[1;34m()\u001b[0m\n\u001b[1;32m----> 1\u001b[1;33m \u001b[1;32mfrom\u001b[0m \u001b[0mscraper\u001b[0m\u001b[1;33m.\u001b[0m\u001b[0mjobs\u001b[0m\u001b[1;33m.\u001b[0m\u001b[0mutils\u001b[0m \u001b[1;32mimport\u001b[0m \u001b[0mget_driver\u001b[0m\u001b[1;33m\u001b[0m\u001b[0m\n\u001b[0m\u001b[0;32m      2\u001b[0m \u001b[1;33m\u001b[0m\u001b[0m\n\u001b[0;32m      3\u001b[0m \u001b[0mdriver\u001b[0m \u001b[1;33m=\u001b[0m \u001b[0mget_driver\u001b[0m\u001b[1;33m(\u001b[0m\u001b[1;33m)\u001b[0m\u001b[1;33m\u001b[0m\u001b[0m\n\u001b[0;32m      4\u001b[0m \u001b[1;33m\u001b[0m\u001b[0m\n\u001b[0;32m      5\u001b[0m \u001b[1;32mtry\u001b[0m\u001b[1;33m:\u001b[0m\u001b[1;33m\u001b[0m\u001b[0m\n",
      "\u001b[1;31mModuleNotFoundError\u001b[0m: No module named 'scraper'"
     ]
    }
   ],
   "source": [
    "from scraper.jobs.utils import get_driver\n",
    "\n",
    "driver = get_driver()\n",
    "\n",
    "try:\n",
    "\n",
    "    driver.get(\"https://www.mbie.govt.nz/building-and-energy/energy-and-natural-resources/energy-statistics-and-modelling/energy-statistics/oil-statistics/\")\n",
    "    print(driver.page_source)\n",
    "    link = driver.find_element_by_partial_link_text('Data tables for oil [')\n",
    "\n",
    "\n",
    "except Exception as e:\n",
    "    print(e)\n",
    "    driver.close()"
   ]
  },
  {
   "cell_type": "markdown",
   "metadata": {},
   "source": [
    "# Incapsula cracker\n",
    "Let's try accessing it with incapsula cracker."
   ]
  },
  {
   "cell_type": "code",
   "execution_count": 22,
   "metadata": {},
   "outputs": [
    {
     "name": "stdout",
     "output_type": "stream",
     "text": [
      "C:\\Users\\ROSA_L\\PycharmProjects\\scraper\n"
     ]
    }
   ],
   "source": [
    "cd .."
   ]
  },
  {
   "cell_type": "code",
   "execution_count": 15,
   "metadata": {},
   "outputs": [
    {
     "name": "stderr",
     "output_type": "stream",
     "text": [
      "10/19/2021 02:57:04 PM Starting new HTTPS connection (1): www.mbie.govt.nz:443\n",
      "10/19/2021 02:57:04 PM https://www.mbie.govt.nz:443 \"GET /building-and-energy/energy-and-natural-resources/energy-statistics-and-modelling/energy-statistics/oil-statistics/ HTTP/1.1\" 403 746\n",
      "10/19/2021 02:57:04 PM Resource is blocked. attempt=0 url=https://www.mbie.govt.nz/building-and-energy/energy-and-natural-resources/energy-statistics-and-modelling/energy-statistics/oil-statistics/\n",
      "10/19/2021 02:57:04 PM Starting new HTTPS connection (1): www.mbie.govt.nz:443\n"
     ]
    },
    {
     "ename": "SSLError",
     "evalue": "HTTPSConnectionPool(host='www.mbie.govt.nz', port=443): Max retries exceeded with url: /_Incapsula_Resource?CWUDNSAI=23&xinfo=1-34156185-0%202NNN%20RT%281634648224120%2077%29%20q%280%20-1%20-1%20-1%29%20r%280%20-1%29%20B15%284%2c200%2c0%29&incident_id=464000530164928881-168118523373030721&edet=15&cinfo=04000000&rpinfo=0&mth=GET (Caused by SSLError(SSLError(1, '[SSL: CERTIFICATE_VERIFY_FAILED] certificate verify failed (_ssl.c:833)'),))",
     "output_type": "error",
     "traceback": [
      "\u001b[1;31m---------------------------------------------------------------------------\u001b[0m",
      "\u001b[1;31mSSLError\u001b[0m                                  Traceback (most recent call last)",
      "\u001b[1;32mc:\\users\\rosa_l\\pycharmprojects\\scraper\\venv\\lib\\site-packages\\urllib3\\connectionpool.py\u001b[0m in \u001b[0;36murlopen\u001b[1;34m(self, method, url, body, headers, retries, redirect, assert_same_host, timeout, pool_timeout, release_conn, chunked, body_pos, **response_kw)\u001b[0m\n\u001b[0;32m    599\u001b[0m                                                   \u001b[0mbody\u001b[0m\u001b[1;33m=\u001b[0m\u001b[0mbody\u001b[0m\u001b[1;33m,\u001b[0m \u001b[0mheaders\u001b[0m\u001b[1;33m=\u001b[0m\u001b[0mheaders\u001b[0m\u001b[1;33m,\u001b[0m\u001b[1;33m\u001b[0m\u001b[0m\n\u001b[1;32m--> 600\u001b[1;33m                                                   chunked=chunked)\n\u001b[0m\u001b[0;32m    601\u001b[0m \u001b[1;33m\u001b[0m\u001b[0m\n",
      "\u001b[1;32mc:\\users\\rosa_l\\pycharmprojects\\scraper\\venv\\lib\\site-packages\\urllib3\\connectionpool.py\u001b[0m in \u001b[0;36m_make_request\u001b[1;34m(self, conn, method, url, timeout, chunked, **httplib_request_kw)\u001b[0m\n\u001b[0;32m    342\u001b[0m         \u001b[1;32mtry\u001b[0m\u001b[1;33m:\u001b[0m\u001b[1;33m\u001b[0m\u001b[0m\n\u001b[1;32m--> 343\u001b[1;33m             \u001b[0mself\u001b[0m\u001b[1;33m.\u001b[0m\u001b[0m_validate_conn\u001b[0m\u001b[1;33m(\u001b[0m\u001b[0mconn\u001b[0m\u001b[1;33m)\u001b[0m\u001b[1;33m\u001b[0m\u001b[0m\n\u001b[0m\u001b[0;32m    344\u001b[0m         \u001b[1;32mexcept\u001b[0m \u001b[1;33m(\u001b[0m\u001b[0mSocketTimeout\u001b[0m\u001b[1;33m,\u001b[0m \u001b[0mBaseSSLError\u001b[0m\u001b[1;33m)\u001b[0m \u001b[1;32mas\u001b[0m \u001b[0me\u001b[0m\u001b[1;33m:\u001b[0m\u001b[1;33m\u001b[0m\u001b[0m\n",
      "\u001b[1;32mc:\\users\\rosa_l\\pycharmprojects\\scraper\\venv\\lib\\site-packages\\urllib3\\connectionpool.py\u001b[0m in \u001b[0;36m_validate_conn\u001b[1;34m(self, conn)\u001b[0m\n\u001b[0;32m    848\u001b[0m         \u001b[1;32mif\u001b[0m \u001b[1;32mnot\u001b[0m \u001b[0mgetattr\u001b[0m\u001b[1;33m(\u001b[0m\u001b[0mconn\u001b[0m\u001b[1;33m,\u001b[0m \u001b[1;34m'sock'\u001b[0m\u001b[1;33m,\u001b[0m \u001b[1;32mNone\u001b[0m\u001b[1;33m)\u001b[0m\u001b[1;33m:\u001b[0m  \u001b[1;31m# AppEngine might not have  `.sock`\u001b[0m\u001b[1;33m\u001b[0m\u001b[0m\n\u001b[1;32m--> 849\u001b[1;33m             \u001b[0mconn\u001b[0m\u001b[1;33m.\u001b[0m\u001b[0mconnect\u001b[0m\u001b[1;33m(\u001b[0m\u001b[1;33m)\u001b[0m\u001b[1;33m\u001b[0m\u001b[0m\n\u001b[0m\u001b[0;32m    850\u001b[0m \u001b[1;33m\u001b[0m\u001b[0m\n",
      "\u001b[1;32mc:\\users\\rosa_l\\pycharmprojects\\scraper\\venv\\lib\\site-packages\\urllib3\\connection.py\u001b[0m in \u001b[0;36mconnect\u001b[1;34m(self)\u001b[0m\n\u001b[0;32m    355\u001b[0m             \u001b[0mserver_hostname\u001b[0m\u001b[1;33m=\u001b[0m\u001b[0mhostname\u001b[0m\u001b[1;33m,\u001b[0m\u001b[1;33m\u001b[0m\u001b[0m\n\u001b[1;32m--> 356\u001b[1;33m             ssl_context=context)\n\u001b[0m\u001b[0;32m    357\u001b[0m \u001b[1;33m\u001b[0m\u001b[0m\n",
      "\u001b[1;32mc:\\users\\rosa_l\\pycharmprojects\\scraper\\venv\\lib\\site-packages\\urllib3\\util\\ssl_.py\u001b[0m in \u001b[0;36mssl_wrap_socket\u001b[1;34m(sock, keyfile, certfile, cert_reqs, ca_certs, server_hostname, ssl_version, ciphers, ssl_context, ca_cert_dir)\u001b[0m\n\u001b[0;32m    358\u001b[0m         \u001b[1;32mif\u001b[0m \u001b[0mHAS_SNI\u001b[0m \u001b[1;32mand\u001b[0m \u001b[0mserver_hostname\u001b[0m \u001b[1;32mis\u001b[0m \u001b[1;32mnot\u001b[0m \u001b[1;32mNone\u001b[0m\u001b[1;33m:\u001b[0m\u001b[1;33m\u001b[0m\u001b[0m\n\u001b[1;32m--> 359\u001b[1;33m             \u001b[1;32mreturn\u001b[0m \u001b[0mcontext\u001b[0m\u001b[1;33m.\u001b[0m\u001b[0mwrap_socket\u001b[0m\u001b[1;33m(\u001b[0m\u001b[0msock\u001b[0m\u001b[1;33m,\u001b[0m \u001b[0mserver_hostname\u001b[0m\u001b[1;33m=\u001b[0m\u001b[0mserver_hostname\u001b[0m\u001b[1;33m)\u001b[0m\u001b[1;33m\u001b[0m\u001b[0m\n\u001b[0m\u001b[0;32m    360\u001b[0m \u001b[1;33m\u001b[0m\u001b[0m\n",
      "\u001b[1;32m~\\AppData\\Local\\Continuum\\Anaconda3\\lib\\ssl.py\u001b[0m in \u001b[0;36mwrap_socket\u001b[1;34m(self, sock, server_side, do_handshake_on_connect, suppress_ragged_eofs, server_hostname, session)\u001b[0m\n\u001b[0;32m    406\u001b[0m                          \u001b[0mserver_hostname\u001b[0m\u001b[1;33m=\u001b[0m\u001b[0mserver_hostname\u001b[0m\u001b[1;33m,\u001b[0m\u001b[1;33m\u001b[0m\u001b[0m\n\u001b[1;32m--> 407\u001b[1;33m                          _context=self, _session=session)\n\u001b[0m\u001b[0;32m    408\u001b[0m \u001b[1;33m\u001b[0m\u001b[0m\n",
      "\u001b[1;32m~\\AppData\\Local\\Continuum\\Anaconda3\\lib\\ssl.py\u001b[0m in \u001b[0;36m__init__\u001b[1;34m(self, sock, keyfile, certfile, server_side, cert_reqs, ssl_version, ca_certs, do_handshake_on_connect, family, type, proto, fileno, suppress_ragged_eofs, npn_protocols, ciphers, server_hostname, _context, _session)\u001b[0m\n\u001b[0;32m    813\u001b[0m                         \u001b[1;32mraise\u001b[0m \u001b[0mValueError\u001b[0m\u001b[1;33m(\u001b[0m\u001b[1;34m\"do_handshake_on_connect should not be specified for non-blocking sockets\"\u001b[0m\u001b[1;33m)\u001b[0m\u001b[1;33m\u001b[0m\u001b[0m\n\u001b[1;32m--> 814\u001b[1;33m                     \u001b[0mself\u001b[0m\u001b[1;33m.\u001b[0m\u001b[0mdo_handshake\u001b[0m\u001b[1;33m(\u001b[0m\u001b[1;33m)\u001b[0m\u001b[1;33m\u001b[0m\u001b[0m\n\u001b[0m\u001b[0;32m    815\u001b[0m \u001b[1;33m\u001b[0m\u001b[0m\n",
      "\u001b[1;32m~\\AppData\\Local\\Continuum\\Anaconda3\\lib\\ssl.py\u001b[0m in \u001b[0;36mdo_handshake\u001b[1;34m(self, block)\u001b[0m\n\u001b[0;32m   1067\u001b[0m                 \u001b[0mself\u001b[0m\u001b[1;33m.\u001b[0m\u001b[0msettimeout\u001b[0m\u001b[1;33m(\u001b[0m\u001b[1;32mNone\u001b[0m\u001b[1;33m)\u001b[0m\u001b[1;33m\u001b[0m\u001b[0m\n\u001b[1;32m-> 1068\u001b[1;33m             \u001b[0mself\u001b[0m\u001b[1;33m.\u001b[0m\u001b[0m_sslobj\u001b[0m\u001b[1;33m.\u001b[0m\u001b[0mdo_handshake\u001b[0m\u001b[1;33m(\u001b[0m\u001b[1;33m)\u001b[0m\u001b[1;33m\u001b[0m\u001b[0m\n\u001b[0m\u001b[0;32m   1069\u001b[0m         \u001b[1;32mfinally\u001b[0m\u001b[1;33m:\u001b[0m\u001b[1;33m\u001b[0m\u001b[0m\n",
      "\u001b[1;32m~\\AppData\\Local\\Continuum\\Anaconda3\\lib\\ssl.py\u001b[0m in \u001b[0;36mdo_handshake\u001b[1;34m(self)\u001b[0m\n\u001b[0;32m    688\u001b[0m         \u001b[1;34m\"\"\"Start the SSL/TLS handshake.\"\"\"\u001b[0m\u001b[1;33m\u001b[0m\u001b[0m\n\u001b[1;32m--> 689\u001b[1;33m         \u001b[0mself\u001b[0m\u001b[1;33m.\u001b[0m\u001b[0m_sslobj\u001b[0m\u001b[1;33m.\u001b[0m\u001b[0mdo_handshake\u001b[0m\u001b[1;33m(\u001b[0m\u001b[1;33m)\u001b[0m\u001b[1;33m\u001b[0m\u001b[0m\n\u001b[0m\u001b[0;32m    690\u001b[0m         \u001b[1;32mif\u001b[0m \u001b[0mself\u001b[0m\u001b[1;33m.\u001b[0m\u001b[0mcontext\u001b[0m\u001b[1;33m.\u001b[0m\u001b[0mcheck_hostname\u001b[0m\u001b[1;33m:\u001b[0m\u001b[1;33m\u001b[0m\u001b[0m\n",
      "\u001b[1;31mSSLError\u001b[0m: [SSL: CERTIFICATE_VERIFY_FAILED] certificate verify failed (_ssl.c:833)",
      "\nDuring handling of the above exception, another exception occurred:\n",
      "\u001b[1;31mMaxRetryError\u001b[0m                             Traceback (most recent call last)",
      "\u001b[1;32mc:\\users\\rosa_l\\pycharmprojects\\scraper\\venv\\lib\\site-packages\\requests\\adapters.py\u001b[0m in \u001b[0;36msend\u001b[1;34m(self, request, stream, timeout, verify, cert, proxies)\u001b[0m\n\u001b[0;32m    444\u001b[0m                     \u001b[0mretries\u001b[0m\u001b[1;33m=\u001b[0m\u001b[0mself\u001b[0m\u001b[1;33m.\u001b[0m\u001b[0mmax_retries\u001b[0m\u001b[1;33m,\u001b[0m\u001b[1;33m\u001b[0m\u001b[0m\n\u001b[1;32m--> 445\u001b[1;33m                     \u001b[0mtimeout\u001b[0m\u001b[1;33m=\u001b[0m\u001b[0mtimeout\u001b[0m\u001b[1;33m\u001b[0m\u001b[0m\n\u001b[0m\u001b[0;32m    446\u001b[0m                 )\n",
      "\u001b[1;32mc:\\users\\rosa_l\\pycharmprojects\\scraper\\venv\\lib\\site-packages\\urllib3\\connectionpool.py\u001b[0m in \u001b[0;36murlopen\u001b[1;34m(self, method, url, body, headers, retries, redirect, assert_same_host, timeout, pool_timeout, release_conn, chunked, body_pos, **response_kw)\u001b[0m\n\u001b[0;32m    637\u001b[0m             retries = retries.increment(method, url, error=e, _pool=self,\n\u001b[1;32m--> 638\u001b[1;33m                                         _stacktrace=sys.exc_info()[2])\n\u001b[0m\u001b[0;32m    639\u001b[0m             \u001b[0mretries\u001b[0m\u001b[1;33m.\u001b[0m\u001b[0msleep\u001b[0m\u001b[1;33m(\u001b[0m\u001b[1;33m)\u001b[0m\u001b[1;33m\u001b[0m\u001b[0m\n",
      "\u001b[1;32mc:\\users\\rosa_l\\pycharmprojects\\scraper\\venv\\lib\\site-packages\\urllib3\\util\\retry.py\u001b[0m in \u001b[0;36mincrement\u001b[1;34m(self, method, url, response, error, _pool, _stacktrace)\u001b[0m\n\u001b[0;32m    397\u001b[0m         \u001b[1;32mif\u001b[0m \u001b[0mnew_retry\u001b[0m\u001b[1;33m.\u001b[0m\u001b[0mis_exhausted\u001b[0m\u001b[1;33m(\u001b[0m\u001b[1;33m)\u001b[0m\u001b[1;33m:\u001b[0m\u001b[1;33m\u001b[0m\u001b[0m\n\u001b[1;32m--> 398\u001b[1;33m             \u001b[1;32mraise\u001b[0m \u001b[0mMaxRetryError\u001b[0m\u001b[1;33m(\u001b[0m\u001b[0m_pool\u001b[0m\u001b[1;33m,\u001b[0m \u001b[0murl\u001b[0m\u001b[1;33m,\u001b[0m \u001b[0merror\u001b[0m \u001b[1;32mor\u001b[0m \u001b[0mResponseError\u001b[0m\u001b[1;33m(\u001b[0m\u001b[0mcause\u001b[0m\u001b[1;33m)\u001b[0m\u001b[1;33m)\u001b[0m\u001b[1;33m\u001b[0m\u001b[0m\n\u001b[0m\u001b[0;32m    399\u001b[0m \u001b[1;33m\u001b[0m\u001b[0m\n",
      "\u001b[1;31mMaxRetryError\u001b[0m: HTTPSConnectionPool(host='www.mbie.govt.nz', port=443): Max retries exceeded with url: /_Incapsula_Resource?CWUDNSAI=23&xinfo=1-34156185-0%202NNN%20RT%281634648224120%2077%29%20q%280%20-1%20-1%20-1%29%20r%280%20-1%29%20B15%284%2c200%2c0%29&incident_id=464000530164928881-168118523373030721&edet=15&cinfo=04000000&rpinfo=0&mth=GET (Caused by SSLError(SSLError(1, '[SSL: CERTIFICATE_VERIFY_FAILED] certificate verify failed (_ssl.c:833)'),))",
      "\nDuring handling of the above exception, another exception occurred:\n",
      "\u001b[1;31mSSLError\u001b[0m                                  Traceback (most recent call last)",
      "\u001b[1;32m<ipython-input-15-a4c35a1af103>\u001b[0m in \u001b[0;36m<module>\u001b[1;34m()\u001b[0m\n\u001b[0;32m      8\u001b[0m                        \u001b[1;33m,\u001b[0m\u001b[1;33m\u001b[0m\u001b[0m\n\u001b[0;32m      9\u001b[0m                        \u001b[0mproxies\u001b[0m\u001b[1;33m=\u001b[0m\u001b[0mPROXY_DICT\u001b[0m\u001b[1;33m,\u001b[0m\u001b[1;33m\u001b[0m\u001b[0m\n\u001b[1;32m---> 10\u001b[1;33m                        \u001b[0mverify\u001b[0m\u001b[1;33m=\u001b[0m\u001b[0mSSL_CERTIFICATE_PATH\u001b[0m\u001b[1;33m\u001b[0m\u001b[0m\n\u001b[0m\u001b[0;32m     11\u001b[0m                       )\n\u001b[0;32m     12\u001b[0m \u001b[1;33m\u001b[0m\u001b[0m\n",
      "\u001b[1;32mc:\\users\\rosa_l\\pycharmprojects\\scraper\\venv\\lib\\site-packages\\incapsula\\session.py\u001b[0m in \u001b[0;36mget\u001b[1;34m(self, url, bypass_crack, **kwargs)\u001b[0m\n\u001b[0;32m    295\u001b[0m             \u001b[1;32mreturn\u001b[0m \u001b[0mself\u001b[0m\u001b[1;33m.\u001b[0m\u001b[0mrequest\u001b[0m\u001b[1;33m(\u001b[0m\u001b[1;34m'GET'\u001b[0m\u001b[1;33m,\u001b[0m \u001b[0murl\u001b[0m\u001b[1;33m,\u001b[0m \u001b[1;33m**\u001b[0m\u001b[0mkwargs\u001b[0m\u001b[1;33m)\u001b[0m\u001b[1;33m\u001b[0m\u001b[0m\n\u001b[0;32m    296\u001b[0m \u001b[1;33m\u001b[0m\u001b[0m\n\u001b[1;32m--> 297\u001b[1;33m         \u001b[1;32mreturn\u001b[0m \u001b[0mself\u001b[0m\u001b[1;33m.\u001b[0m\u001b[0mcrack\u001b[0m\u001b[1;33m(\u001b[0m\u001b[0mself\u001b[0m\u001b[1;33m.\u001b[0m\u001b[0mrequest\u001b[0m\u001b[1;33m(\u001b[0m\u001b[1;34m'GET'\u001b[0m\u001b[1;33m,\u001b[0m \u001b[0murl\u001b[0m\u001b[1;33m,\u001b[0m \u001b[1;33m**\u001b[0m\u001b[0mkwargs\u001b[0m\u001b[1;33m)\u001b[0m\u001b[1;33m)\u001b[0m\u001b[1;33m\u001b[0m\u001b[0m\n\u001b[0m",
      "\u001b[1;32mc:\\users\\rosa_l\\pycharmprojects\\scraper\\venv\\lib\\site-packages\\incapsula\\session.py\u001b[0m in \u001b[0;36mcrack\u001b[1;34m(self, resp, org, tries)\u001b[0m\n\u001b[0;32m    265\u001b[0m             \u001b[0mlogger\u001b[0m\u001b[1;33m.\u001b[0m\u001b[0mdebug\u001b[0m\u001b[1;33m(\u001b[0m\u001b[1;34m'Resource is blocked. attempt={} url={}'\u001b[0m\u001b[1;33m.\u001b[0m\u001b[0mformat\u001b[0m\u001b[1;33m(\u001b[0m\u001b[0mtries\u001b[0m\u001b[1;33m,\u001b[0m \u001b[0mresp\u001b[0m\u001b[1;33m.\u001b[0m\u001b[0murl\u001b[0m\u001b[1;33m)\u001b[0m\u001b[1;33m)\u001b[0m\u001b[1;33m\u001b[0m\u001b[0m\n\u001b[0;32m    266\u001b[0m             \u001b[1;31m# Raise if the response content's iframe contains a recaptcha.\u001b[0m\u001b[1;33m\u001b[0m\u001b[1;33m\u001b[0m\u001b[0m\n\u001b[1;32m--> 267\u001b[1;33m             \u001b[0mself\u001b[0m\u001b[1;33m.\u001b[0m\u001b[0m_raise_for_recaptcha\u001b[0m\u001b[1;33m(\u001b[0m\u001b[0mresource\u001b[0m\u001b[1;33m)\u001b[0m\u001b[1;33m\u001b[0m\u001b[0m\n\u001b[0m\u001b[0;32m    268\u001b[0m \u001b[1;33m\u001b[0m\u001b[0m\n\u001b[0;32m    269\u001b[0m             \u001b[1;31m# Apply cookies and send GET request to apply them.\u001b[0m\u001b[1;33m\u001b[0m\u001b[1;33m\u001b[0m\u001b[0m\n",
      "\u001b[1;32mc:\\users\\rosa_l\\pycharmprojects\\scraper\\venv\\lib\\site-packages\\incapsula\\session.py\u001b[0m in \u001b[0;36m_raise_for_recaptcha\u001b[1;34m(self, resource)\u001b[0m\n\u001b[0;32m    205\u001b[0m         \"\"\"\n\u001b[0;32m    206\u001b[0m         \u001b[1;31m# Get the content from the iframe.\u001b[0m\u001b[1;33m\u001b[0m\u001b[1;33m\u001b[0m\u001b[0m\n\u001b[1;32m--> 207\u001b[1;33m         \u001b[0miframe_response\u001b[0m \u001b[1;33m=\u001b[0m \u001b[0mself\u001b[0m\u001b[1;33m.\u001b[0m\u001b[0mget\u001b[0m\u001b[1;33m(\u001b[0m\u001b[0mresource\u001b[0m\u001b[1;33m.\u001b[0m\u001b[0mincapsula_iframe_url\u001b[0m\u001b[1;33m,\u001b[0m \u001b[0mbypass_crack\u001b[0m\u001b[1;33m=\u001b[0m\u001b[1;32mTrue\u001b[0m\u001b[1;33m)\u001b[0m\u001b[1;33m\u001b[0m\u001b[0m\n\u001b[0m\u001b[0;32m    208\u001b[0m         \u001b[0miframe_resource\u001b[0m \u001b[1;33m=\u001b[0m \u001b[0mself\u001b[0m\u001b[1;33m.\u001b[0m\u001b[0mIframeParser\u001b[0m\u001b[1;33m(\u001b[0m\u001b[0miframe_response\u001b[0m\u001b[1;33m)\u001b[0m\u001b[1;33m\u001b[0m\u001b[0m\n\u001b[0;32m    209\u001b[0m \u001b[1;33m\u001b[0m\u001b[0m\n",
      "\u001b[1;32mc:\\users\\rosa_l\\pycharmprojects\\scraper\\venv\\lib\\site-packages\\incapsula\\session.py\u001b[0m in \u001b[0;36mget\u001b[1;34m(self, url, bypass_crack, **kwargs)\u001b[0m\n\u001b[0;32m    293\u001b[0m         \u001b[1;31m# If the request is to get the incapsula resources, then we dont call crack().\u001b[0m\u001b[1;33m\u001b[0m\u001b[1;33m\u001b[0m\u001b[0m\n\u001b[0;32m    294\u001b[0m         \u001b[1;32mif\u001b[0m \u001b[0mbypass_crack\u001b[0m\u001b[1;33m:\u001b[0m\u001b[1;33m\u001b[0m\u001b[0m\n\u001b[1;32m--> 295\u001b[1;33m             \u001b[1;32mreturn\u001b[0m \u001b[0mself\u001b[0m\u001b[1;33m.\u001b[0m\u001b[0mrequest\u001b[0m\u001b[1;33m(\u001b[0m\u001b[1;34m'GET'\u001b[0m\u001b[1;33m,\u001b[0m \u001b[0murl\u001b[0m\u001b[1;33m,\u001b[0m \u001b[1;33m**\u001b[0m\u001b[0mkwargs\u001b[0m\u001b[1;33m)\u001b[0m\u001b[1;33m\u001b[0m\u001b[0m\n\u001b[0m\u001b[0;32m    296\u001b[0m \u001b[1;33m\u001b[0m\u001b[0m\n\u001b[0;32m    297\u001b[0m         \u001b[1;32mreturn\u001b[0m \u001b[0mself\u001b[0m\u001b[1;33m.\u001b[0m\u001b[0mcrack\u001b[0m\u001b[1;33m(\u001b[0m\u001b[0mself\u001b[0m\u001b[1;33m.\u001b[0m\u001b[0mrequest\u001b[0m\u001b[1;33m(\u001b[0m\u001b[1;34m'GET'\u001b[0m\u001b[1;33m,\u001b[0m \u001b[0murl\u001b[0m\u001b[1;33m,\u001b[0m \u001b[1;33m**\u001b[0m\u001b[0mkwargs\u001b[0m\u001b[1;33m)\u001b[0m\u001b[1;33m)\u001b[0m\u001b[1;33m\u001b[0m\u001b[0m\n",
      "\u001b[1;32mc:\\users\\rosa_l\\pycharmprojects\\scraper\\venv\\lib\\site-packages\\requests\\sessions.py\u001b[0m in \u001b[0;36mrequest\u001b[1;34m(self, method, url, params, data, headers, cookies, files, auth, timeout, allow_redirects, proxies, hooks, stream, verify, cert, json)\u001b[0m\n\u001b[0;32m    510\u001b[0m         }\n\u001b[0;32m    511\u001b[0m         \u001b[0msend_kwargs\u001b[0m\u001b[1;33m.\u001b[0m\u001b[0mupdate\u001b[0m\u001b[1;33m(\u001b[0m\u001b[0msettings\u001b[0m\u001b[1;33m)\u001b[0m\u001b[1;33m\u001b[0m\u001b[0m\n\u001b[1;32m--> 512\u001b[1;33m         \u001b[0mresp\u001b[0m \u001b[1;33m=\u001b[0m \u001b[0mself\u001b[0m\u001b[1;33m.\u001b[0m\u001b[0msend\u001b[0m\u001b[1;33m(\u001b[0m\u001b[0mprep\u001b[0m\u001b[1;33m,\u001b[0m \u001b[1;33m**\u001b[0m\u001b[0msend_kwargs\u001b[0m\u001b[1;33m)\u001b[0m\u001b[1;33m\u001b[0m\u001b[0m\n\u001b[0m\u001b[0;32m    513\u001b[0m \u001b[1;33m\u001b[0m\u001b[0m\n\u001b[0;32m    514\u001b[0m         \u001b[1;32mreturn\u001b[0m \u001b[0mresp\u001b[0m\u001b[1;33m\u001b[0m\u001b[0m\n",
      "\u001b[1;32mc:\\users\\rosa_l\\pycharmprojects\\scraper\\venv\\lib\\site-packages\\requests\\sessions.py\u001b[0m in \u001b[0;36msend\u001b[1;34m(self, request, **kwargs)\u001b[0m\n\u001b[0;32m    620\u001b[0m \u001b[1;33m\u001b[0m\u001b[0m\n\u001b[0;32m    621\u001b[0m         \u001b[1;31m# Send the request\u001b[0m\u001b[1;33m\u001b[0m\u001b[1;33m\u001b[0m\u001b[0m\n\u001b[1;32m--> 622\u001b[1;33m         \u001b[0mr\u001b[0m \u001b[1;33m=\u001b[0m \u001b[0madapter\u001b[0m\u001b[1;33m.\u001b[0m\u001b[0msend\u001b[0m\u001b[1;33m(\u001b[0m\u001b[0mrequest\u001b[0m\u001b[1;33m,\u001b[0m \u001b[1;33m**\u001b[0m\u001b[0mkwargs\u001b[0m\u001b[1;33m)\u001b[0m\u001b[1;33m\u001b[0m\u001b[0m\n\u001b[0m\u001b[0;32m    623\u001b[0m \u001b[1;33m\u001b[0m\u001b[0m\n\u001b[0;32m    624\u001b[0m         \u001b[1;31m# Total elapsed time of the request (approximately)\u001b[0m\u001b[1;33m\u001b[0m\u001b[1;33m\u001b[0m\u001b[0m\n",
      "\u001b[1;32mc:\\users\\rosa_l\\pycharmprojects\\scraper\\venv\\lib\\site-packages\\requests\\adapters.py\u001b[0m in \u001b[0;36msend\u001b[1;34m(self, request, stream, timeout, verify, cert, proxies)\u001b[0m\n\u001b[0;32m    509\u001b[0m             \u001b[1;32mif\u001b[0m \u001b[0misinstance\u001b[0m\u001b[1;33m(\u001b[0m\u001b[0me\u001b[0m\u001b[1;33m.\u001b[0m\u001b[0mreason\u001b[0m\u001b[1;33m,\u001b[0m \u001b[0m_SSLError\u001b[0m\u001b[1;33m)\u001b[0m\u001b[1;33m:\u001b[0m\u001b[1;33m\u001b[0m\u001b[0m\n\u001b[0;32m    510\u001b[0m                 \u001b[1;31m# This branch is for urllib3 v1.22 and later.\u001b[0m\u001b[1;33m\u001b[0m\u001b[1;33m\u001b[0m\u001b[0m\n\u001b[1;32m--> 511\u001b[1;33m                 \u001b[1;32mraise\u001b[0m \u001b[0mSSLError\u001b[0m\u001b[1;33m(\u001b[0m\u001b[0me\u001b[0m\u001b[1;33m,\u001b[0m \u001b[0mrequest\u001b[0m\u001b[1;33m=\u001b[0m\u001b[0mrequest\u001b[0m\u001b[1;33m)\u001b[0m\u001b[1;33m\u001b[0m\u001b[0m\n\u001b[0m\u001b[0;32m    512\u001b[0m \u001b[1;33m\u001b[0m\u001b[0m\n\u001b[0;32m    513\u001b[0m             \u001b[1;32mraise\u001b[0m \u001b[0mConnectionError\u001b[0m\u001b[1;33m(\u001b[0m\u001b[0me\u001b[0m\u001b[1;33m,\u001b[0m \u001b[0mrequest\u001b[0m\u001b[1;33m=\u001b[0m\u001b[0mrequest\u001b[0m\u001b[1;33m)\u001b[0m\u001b[1;33m\u001b[0m\u001b[0m\n",
      "\u001b[1;31mSSLError\u001b[0m: HTTPSConnectionPool(host='www.mbie.govt.nz', port=443): Max retries exceeded with url: /_Incapsula_Resource?CWUDNSAI=23&xinfo=1-34156185-0%202NNN%20RT%281634648224120%2077%29%20q%280%20-1%20-1%20-1%29%20r%280%20-1%29%20B15%284%2c200%2c0%29&incident_id=464000530164928881-168118523373030721&edet=15&cinfo=04000000&rpinfo=0&mth=GET (Caused by SSLError(SSLError(1, '[SSL: CERTIFICATE_VERIFY_FAILED] certificate verify failed (_ssl.c:833)'),))"
     ]
    }
   ],
   "source": [
    "from scraper.settings import PROXY_DICT, SSL_CERTIFICATE_PATH\n",
    "from incapsula import IncapSession\n",
    "from incapsula.parsers import IframeResourceParser\n",
    "from time import sleep\n",
    "\n",
    "session = IncapSession(user_agent='Mozilla/5.0 (Windows NT 10.0; Win64; x64) AppleWebKit/537.36 (KHTML, like Gecko) Chrome/94.0.4606.81 Safari/537.36')\n",
    "response = session.get(\"https://www.mbie.govt.nz/building-and-energy/energy-and-natural-resources/energy-statistics-and-modelling/energy-statistics/oil-statistics/\"\n",
    "                       ,\n",
    "                       proxies=PROXY_DICT,\n",
    "                       verify=SSL_CERTIFICATE_PATH\n",
    "                      )\n",
    "\n",
    "response.raise_for_status()\n",
    "\n",
    "time.sleep(10)\n",
    "\n",
    "response = session.get(\"https://www.mbie.govt.nz/assets/Data-Files/Energy/nz-energy-quarterly-and-energy-in-nz/oil.xlsx\"\n",
    "                       ,\n",
    "                       proxies=PROXY_DICT,\n",
    "                       verify=SSL_CERTIFICATE_PATH\n",
    "                      )\n",
    "response.raise_for_status()\n",
    "\n"
   ]
  },
  {
   "cell_type": "code",
   "execution_count": 10,
   "metadata": {},
   "outputs": [],
   "source": [
    "from bs4 import BeautifulSoup\n",
    "\n",
    "soup = BeautifulSoup(response.content, 'html.parser')"
   ]
  },
  {
   "cell_type": "code",
   "execution_count": 11,
   "metadata": {},
   "outputs": [
    {
     "data": {
      "text/plain": [
       "<a href=\"/assets/Data-Files/Energy/nz-energy-quarterly-and-energy-in-nz/oil.xlsx\">Data tables for oil<span class=\"fileExt\"> [XLSX, 1.5 MB]</span></a>"
      ]
     },
     "execution_count": 11,
     "metadata": {},
     "output_type": "execute_result"
    }
   ],
   "source": [
    "a = soup.find(lambda tag: tag.name == \"a\"\n",
    "              and \"Data tables for oil\" in tag.text)\n",
    "a"
   ]
  },
  {
   "cell_type": "code",
   "execution_count": 16,
   "metadata": {},
   "outputs": [
    {
     "name": "stdout",
     "output_type": "stream",
     "text": [
      "Mozilla/5.0 (Windows NT 10.0; Win64; x64) AppleWebKit/537.36 (KHTML, like Gecko) Chrome/94.0.4606.81 Safari/537.36\n"
     ]
    }
   ],
   "source": [
    "user_agent = ('Mozilla/5.0 (Windows NT 10.0; Win64; x64) AppleWebKit/537.36 '\n",
    "                  '(KHTML, like Gecko) Chrome/94.0.4606.81 Safari/537.36')\n",
    "\n",
    "print(user_agent)"
   ]
  },
  {
   "cell_type": "code",
   "execution_count": 22,
   "metadata": {},
   "outputs": [
    {
     "name": "stdout",
     "output_type": "stream",
     "text": [
      "6\n",
      "6\n",
      "5\n",
      "9\n",
      "8\n",
      "6\n",
      "10\n",
      "8\n",
      "8\n",
      "7\n",
      "5\n",
      "6\n",
      "5\n",
      "7\n",
      "9\n",
      "6\n",
      "5\n",
      "8\n",
      "5\n",
      "5\n",
      "6\n",
      "8\n",
      "7\n",
      "7\n",
      "7\n",
      "9\n",
      "9\n",
      "7\n",
      "7\n",
      "8\n",
      "10\n",
      "10\n",
      "8\n",
      "8\n",
      "5\n",
      "8\n",
      "8\n",
      "10\n",
      "8\n",
      "9\n",
      "7\n",
      "10\n",
      "10\n",
      "5\n",
      "8\n",
      "8\n",
      "10\n",
      "6\n",
      "8\n",
      "8\n",
      "5\n",
      "8\n",
      "6\n",
      "9\n",
      "5\n",
      "8\n",
      "5\n",
      "6\n",
      "10\n",
      "8\n",
      "9\n",
      "10\n",
      "5\n",
      "9\n",
      "8\n",
      "5\n",
      "8\n",
      "8\n",
      "8\n",
      "6\n",
      "8\n",
      "7\n",
      "5\n",
      "5\n",
      "8\n",
      "7\n",
      "10\n",
      "7\n",
      "10\n",
      "8\n",
      "6\n",
      "8\n",
      "6\n",
      "5\n",
      "7\n",
      "8\n",
      "9\n",
      "8\n",
      "5\n",
      "5\n",
      "6\n",
      "8\n",
      "9\n",
      "5\n",
      "7\n",
      "10\n",
      "5\n",
      "9\n",
      "6\n"
     ]
    }
   ],
   "source": [
    "from random import randint\n",
    "\n",
    "tuple = (5, 10)\n",
    "\n",
    "\n",
    "for i in range(1, 100):\n",
    "    print(randint(*tuple))"
   ]
  },
  {
   "cell_type": "code",
   "execution_count": null,
   "metadata": {},
   "outputs": [],
   "source": []
  },
  {
   "cell_type": "code",
   "execution_count": null,
   "metadata": {},
   "outputs": [],
   "source": []
  }
 ],
 "metadata": {
  "kernelspec": {
   "display_name": "Python 3",
   "language": "python",
   "name": "python3"
  },
  "language_info": {
   "codemirror_mode": {
    "name": "ipython",
    "version": 3
   },
   "file_extension": ".py",
   "mimetype": "text/x-python",
   "name": "python",
   "nbconvert_exporter": "python",
   "pygments_lexer": "ipython3",
   "version": "3.6.5"
  }
 },
 "nbformat": 4,
 "nbformat_minor": 4
}
