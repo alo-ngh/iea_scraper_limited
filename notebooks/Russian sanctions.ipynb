{
 "cells": [
  {
   "cell_type": "markdown",
   "metadata": {},
   "source": [
    "# Sanctions on Russia\n",
    "\n",
    "This contains prototyping code for a scraper to load a list of sanctions on Russia.\n",
    "\n",
    "Data source: https://www.ashurst.com/en/news-and-insights/hubs/sanctions-tracker/\n"
   ]
  },
  {
   "cell_type": "markdown",
   "metadata": {},
   "source": [
    "## Autoreload\n",
    "\n",
    "This extension will reload used python objects."
   ]
  },
  {
   "cell_type": "code",
   "execution_count": null,
   "metadata": {},
   "outputs": [],
   "source": [
    "%load_ext autoreload\n",
    "%autoreload 2"
   ]
  },
  {
   "cell_type": "markdown",
   "metadata": {},
   "source": [
    "## Working directory\n",
    "\n",
    "Let's make sure we are at the root working directory (not notebooks)."
   ]
  },
  {
   "cell_type": "code",
   "execution_count": null,
   "metadata": {},
   "outputs": [],
   "source": [
    "%pwd"
   ]
  },
  {
   "cell_type": "code",
   "execution_count": null,
   "metadata": {},
   "outputs": [],
   "source": [
    "%cd .."
   ]
  },
  {
   "cell_type": "markdown",
   "metadata": {},
   "source": [
    "## Logging\n",
    "This will setup basic logging capabilities."
   ]
  },
  {
   "cell_type": "code",
   "execution_count": null,
   "metadata": {},
   "outputs": [],
   "source": [
    "import logging\n",
    "import sys\n",
    "\n",
    "root = logging.getLogger()\n",
    "root.setLevel(logging.DEBUG)\n",
    "\n",
    "handler = logging.StreamHandler(sys.stdout)\n",
    "handler.setLevel(logging.DEBUG)\n",
    "formatter = logging.Formatter('%(asctime)s - %(name)s - %(levelname)s - %(message)s')\n",
    "handler.setFormatter(formatter)\n",
    "root.addHandler(handler)"
   ]
  },
  {
   "cell_type": "markdown",
   "metadata": {},
   "source": [
    "## Factory\n",
    "\n",
    "The scraper factory provides a simple and programatic way to load scrapers dynamically, without need to declare imports."
   ]
  },
  {
   "cell_type": "code",
   "execution_count": null,
   "metadata": {},
   "outputs": [],
   "source": [
    "from iea_scraper.core import factory"
   ]
  },
  {
   "cell_type": "markdown",
   "metadata": {},
   "source": [
    "### Loading a scraper\n",
    "\n",
    "The command to load a scraper using the factory is:\n",
    "\n",
    "```\n",
    "    job = factory.get_scraper_job(<module name>, <scraper package name>, [<optional parameters>, ...])\n",
    "```\n",
    "An example below:"
   ]
  },
  {
   "cell_type": "code",
   "execution_count": null,
   "metadata": {},
   "outputs": [],
   "source": [
    "job = factory.get_scraper_job('br_gov_anp', 'br_oil_prod', full_load=True)"
   ]
  },
  {
   "cell_type": "code",
   "execution_count": null,
   "metadata": {},
   "outputs": [],
   "source": [
    "del job"
   ]
  },
  {
   "cell_type": "markdown",
   "metadata": {},
   "source": [
    "# Checking website\n",
    "\n",
    "Let's inspect the website first with BeautifulSoap."
   ]
  },
  {
   "cell_type": "code",
   "execution_count": null,
   "metadata": {},
   "outputs": [],
   "source": [
    "import pandas as pd\n",
    "\n",
    "countries = ['UK', 'EU', 'Japan', 'Australia']\n",
    "url = 'https://www.ashurst.com/en/news-and-insights/hubs/sanctions-tracker/'\n",
    "\n",
    "dfs = pd.read_html(url)\n",
    "\n",
    "if len(countries) != len(dfs):\n",
    "    raise ValueError(f'The number of tracked countries ({len(countries)}) is different from what we get from the website ({len(dfs)}). Please check the website.')\n",
    "\n",
    "for c, df in zip(countries, dfs):\n",
    "    df['country'] = c\n",
    "\n",
    "df = pd.concat(dfs)\n",
    "\n",
    "def convert_date(date):\n",
    "\n",
    "    return \n",
    "    if '(' not in date:\n",
    "        return date\n",
    "    else:\n",
    "        return d.split('(')[0]\n",
    "        \n",
    "\n",
    "\n",
    "# convert date\n",
    "df['Date of imposition'] = df['Date of imposition'].apply(lambda d: date if '(' not in d else d.split('(')[0])\n",
    "df['Notes'] = df['Date of imposition'].apply(lambda d: None if '(' not in d else d.split('(')[1].split(')')[0])\n",
    "\n",
    "df['Date of imposition'] = pd.to_datetime(df['Date of imposition'], errors='coerce', format='%d %B %Y')\n",
    "\n",
    "\n",
    "display(df)"
   ]
  },
  {
   "cell_type": "code",
   "execution_count": null,
   "metadata": {},
   "outputs": [],
   "source": [
    "df['Notes'].drop_duplicates()"
   ]
  },
  {
   "cell_type": "code",
   "execution_count": null,
   "metadata": {},
   "outputs": [],
   "source": [
    "from datetime import datetime\n",
    "\n",
    "date = '24 February 2022'\n",
    "d = datetime.strptime(date, '%d %B %Y')"
   ]
  },
  {
   "cell_type": "code",
   "execution_count": null,
   "metadata": {},
   "outputs": [],
   "source": [
    "d"
   ]
  },
  {
   "cell_type": "markdown",
   "metadata": {},
   "source": [
    "## Test scraper"
   ]
  },
  {
   "cell_type": "code",
   "execution_count": null,
   "metadata": {},
   "outputs": [],
   "source": [
    "job = factory.get_scraper_job('com_ashurst', 'russia_sanctions')"
   ]
  },
  {
   "cell_type": "code",
   "execution_count": null,
   "metadata": {},
   "outputs": [],
   "source": [
    "job.run()"
   ]
  }
 ],
 "metadata": {
  "kernelspec": {
   "display_name": "python_39_scraper",
   "language": "python",
   "name": "python_39_scraper"
  },
  "language_info": {
   "codemirror_mode": {
    "name": "ipython",
    "version": 3
   },
   "file_extension": ".py",
   "mimetype": "text/x-python",
   "name": "python",
   "nbconvert_exporter": "python",
   "pygments_lexer": "ipython3",
   "version": "3.9.7"
  }
 },
 "nbformat": 4,
 "nbformat_minor": 4
}
