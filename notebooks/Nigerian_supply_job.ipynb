{
 "cells": [
  {
   "cell_type": "code",
   "execution_count": 67,
   "metadata": {},
   "outputs": [],
   "source": [
    "# import the require packages\n",
    "import pandas as pd\n",
    "from bs4 import BeautifulSoup\n",
    "import requests "
   ]
  },
  {
   "cell_type": "code",
   "execution_count": 68,
   "metadata": {},
   "outputs": [
    {
     "name": "stdout",
     "output_type": "stream",
     "text": [
      "2021-09-20 17:52:29,805 - urllib3.connectionpool - DEBUG - Starting new HTTPS connection (1): www.dpr.gov.ng:443\n",
      "2021-09-20 17:52:29,805 - urllib3.connectionpool - DEBUG - Starting new HTTPS connection (1): www.dpr.gov.ng:443\n",
      "2021-09-20 17:52:29,805 - urllib3.connectionpool - DEBUG - Starting new HTTPS connection (1): www.dpr.gov.ng:443\n",
      "2021-09-20 17:52:29,805 - urllib3.connectionpool - DEBUG - Starting new HTTPS connection (1): www.dpr.gov.ng:443\n"
     ]
    },
    {
     "name": "stderr",
     "output_type": "stream",
     "text": [
      "C:\\Users\\OLOYEDE_O\\AppData\\Local\\Continuum\\Anaconda3\\lib\\site-packages\\urllib3\\connectionpool.py:979: InsecureRequestWarning: Unverified HTTPS request is being made to host 'www.dpr.gov.ng'. Adding certificate verification is strongly advised. See: https://urllib3.readthedocs.io/en/latest/advanced-usage.html#ssl-warnings\n",
      "  warnings.warn(\n"
     ]
    },
    {
     "name": "stdout",
     "output_type": "stream",
     "text": [
      "2021-09-20 17:52:30,754 - urllib3.connectionpool - DEBUG - https://www.dpr.gov.ng:443 \"GET /oil-production-status-report/ HTTP/1.1\" 200 16339\n",
      "2021-09-20 17:52:30,754 - urllib3.connectionpool - DEBUG - https://www.dpr.gov.ng:443 \"GET /oil-production-status-report/ HTTP/1.1\" 200 16339\n",
      "2021-09-20 17:52:30,754 - urllib3.connectionpool - DEBUG - https://www.dpr.gov.ng:443 \"GET /oil-production-status-report/ HTTP/1.1\" 200 16339\n",
      "2021-09-20 17:52:30,754 - urllib3.connectionpool - DEBUG - https://www.dpr.gov.ng:443 \"GET /oil-production-status-report/ HTTP/1.1\" 200 16339\n"
     ]
    }
   ],
   "source": [
    "# Get the page information by sending a request to the page\n",
    "dpr_html_file = requests.get('https://www.dpr.gov.ng/oil-production-status-report/',verify = False)"
   ]
  },
  {
   "cell_type": "code",
   "execution_count": 69,
   "metadata": {},
   "outputs": [
    {
     "data": {
      "text/plain": [
       "200"
      ]
     },
     "execution_count": 69,
     "metadata": {},
     "output_type": "execute_result"
    }
   ],
   "source": [
    "#Get the status of the get request,if it is 200 then it is good\n",
    "dpr_html_file.status_code"
   ]
  },
  {
   "cell_type": "code",
   "execution_count": 70,
   "metadata": {},
   "outputs": [],
   "source": [
    "#Create a beautifulsoup object \n",
    "dpr_soup = BeautifulSoup(dpr_html_file.text,'lxml')"
   ]
  },
  {
   "cell_type": "code",
   "execution_count": 71,
   "metadata": {},
   "outputs": [],
   "source": [
    "#Isolate the area containing the links\n",
    "file_links = dpr_soup.find_all('a',rel = 'noopener noreferrer')"
   ]
  },
  {
   "cell_type": "code",
   "execution_count": 72,
   "metadata": {},
   "outputs": [
    {
     "data": {
      "text/plain": [
       "['https://www.dpr.gov.ng/wp-content/uploads/2021/09/OIL_PRODUCTION_STATUS_REPORT_AS_AT_AUGUST_2021.xlsx',\n",
       " 'https://www.dpr.gov.ng/wp-content/uploads/2021/05/2020-Production-data.xlsx']"
      ]
     },
     "execution_count": 72,
     "metadata": {},
     "output_type": "execute_result"
    }
   ],
   "source": [
    "#iterate to get the links to the excel files\n",
    "links = [link.attrs['href'] for link in file_links if link.text == 'Excel format']\n",
    "links"
   ]
  },
  {
   "cell_type": "code",
   "execution_count": 73,
   "metadata": {},
   "outputs": [
    {
     "name": "stdout",
     "output_type": "stream",
     "text": [
      "OIL_PRODUCTION_STATUS_REPORT_AS_AT_AUGUST_2021.xlsx\n"
     ]
    },
    {
     "data": {
      "text/plain": [
       "'2021'"
      ]
     },
     "execution_count": 73,
     "metadata": {},
     "output_type": "execute_result"
    }
   ],
   "source": [
    "import re\n",
    "\n",
    "link = 'https://www.dpr.gov.ng/wp-content/uploads/2021/09/OIL_PRODUCTION_STATUS_REPORT_AS_AT_AUGUST_2021.xlsx'\n",
    "filename = link.split('/')[-1]\n",
    "print(filename)\n",
    "re.findall('[0-9]+', filename)[0]"
   ]
  },
  {
   "cell_type": "code",
   "execution_count": 74,
   "metadata": {},
   "outputs": [
    {
     "data": {
      "text/plain": [
       "'OIL_PRODUCTION_STATUS_REPORT_AS_AT_AUGUST_2021.xlsx'"
      ]
     },
     "execution_count": 74,
     "metadata": {},
     "output_type": "execute_result"
    }
   ],
   "source": [
    "link.split('/')[-1]"
   ]
  },
  {
   "cell_type": "code",
   "execution_count": 75,
   "metadata": {},
   "outputs": [
    {
     "data": {
      "text/plain": [
       "['a']"
      ]
     },
     "execution_count": 75,
     "metadata": {},
     "output_type": "execute_result"
    }
   ],
   "source": [
    "list = []\n",
    "otherlist = ['a', 'b']\n",
    "list += otherlist[0]\n",
    "list"
   ]
  },
  {
   "cell_type": "markdown",
   "metadata": {},
   "source": [
    "**TRANSFORMATION**"
   ]
  },
  {
   "cell_type": "code",
   "execution_count": 94,
   "metadata": {},
   "outputs": [],
   "source": [
    "#get the excel into a Pandas Dataframe\n",
    "data_table = pd.read_excel(links[1], na_values='-')"
   ]
  },
  {
   "cell_type": "code",
   "execution_count": 95,
   "metadata": {},
   "outputs": [
    {
     "data": {
      "text/html": [
       "<div>\n",
       "<style scoped>\n",
       "    .dataframe tbody tr th:only-of-type {\n",
       "        vertical-align: middle;\n",
       "    }\n",
       "\n",
       "    .dataframe tbody tr th {\n",
       "        vertical-align: top;\n",
       "    }\n",
       "\n",
       "    .dataframe thead th {\n",
       "        text-align: right;\n",
       "    }\n",
       "</style>\n",
       "<table border=\"1\" class=\"dataframe\">\n",
       "  <thead>\n",
       "    <tr style=\"text-align: right;\">\n",
       "      <th></th>\n",
       "      <th>Unnamed: 0</th>\n",
       "      <th>Unnamed: 1</th>\n",
       "      <th>Unnamed: 2</th>\n",
       "      <th>Unnamed: 3</th>\n",
       "      <th>Unnamed: 4</th>\n",
       "      <th>Unnamed: 5</th>\n",
       "      <th>Unnamed: 6</th>\n",
       "      <th>Unnamed: 7</th>\n",
       "      <th>Unnamed: 8</th>\n",
       "      <th>Unnamed: 9</th>\n",
       "      <th>Unnamed: 10</th>\n",
       "      <th>Unnamed: 11</th>\n",
       "      <th>Unnamed: 12</th>\n",
       "      <th>Unnamed: 13</th>\n",
       "      <th>Unnamed: 14</th>\n",
       "    </tr>\n",
       "  </thead>\n",
       "  <tbody>\n",
       "    <tr>\n",
       "      <th>0</th>\n",
       "      <td>NIGERIA'S CRUDE OIL AND CONDENSATE PRODUCTION ...</td>\n",
       "      <td>NaN</td>\n",
       "      <td>NaN</td>\n",
       "      <td>NaN</td>\n",
       "      <td>NaN</td>\n",
       "      <td>NaN</td>\n",
       "      <td>NaN</td>\n",
       "      <td>NaN</td>\n",
       "      <td>NaN</td>\n",
       "      <td>NaN</td>\n",
       "      <td>NaN</td>\n",
       "      <td>NaN</td>\n",
       "      <td>NaN</td>\n",
       "      <td>NaN</td>\n",
       "      <td>NaN</td>\n",
       "    </tr>\n",
       "    <tr>\n",
       "      <th>1</th>\n",
       "      <td>TERMINAL/STREAM</td>\n",
       "      <td>Liquid Type</td>\n",
       "      <td>2020-01-01 00:00:00</td>\n",
       "      <td>2020-02-01 00:00:00</td>\n",
       "      <td>2020-03-01 00:00:00</td>\n",
       "      <td>2020-04-01 00:00:00</td>\n",
       "      <td>2020-05-01 00:00:00</td>\n",
       "      <td>2020-06-01 00:00:00</td>\n",
       "      <td>2020-07-01 00:00:00</td>\n",
       "      <td>2020-08-01 00:00:00</td>\n",
       "      <td>2020-09-01 00:00:00</td>\n",
       "      <td>2020-10-01 00:00:00</td>\n",
       "      <td>2020-11-01 00:00:00</td>\n",
       "      <td>2020-12-01 00:00:00</td>\n",
       "      <td>TOTAL</td>\n",
       "    </tr>\n",
       "    <tr>\n",
       "      <th>2</th>\n",
       "      <td>BONNY</td>\n",
       "      <td>Crude Oil</td>\n",
       "      <td>6634945</td>\n",
       "      <td>7.14928e+06</td>\n",
       "      <td>8.06128e+06</td>\n",
       "      <td>6874378</td>\n",
       "      <td>6.8877e+06</td>\n",
       "      <td>5.98974e+06</td>\n",
       "      <td>4.8565e+06</td>\n",
       "      <td>4954191</td>\n",
       "      <td>4.76712e+06</td>\n",
       "      <td>4.46332e+06</td>\n",
       "      <td>5.72345e+06</td>\n",
       "      <td>6.38781e+06</td>\n",
       "      <td>7.27497e+07</td>\n",
       "    </tr>\n",
       "    <tr>\n",
       "      <th>3</th>\n",
       "      <td>NaN</td>\n",
       "      <td>Condensate</td>\n",
       "      <td>1488380</td>\n",
       "      <td>1494401</td>\n",
       "      <td>1721089</td>\n",
       "      <td>1531247</td>\n",
       "      <td>1.43345e+06</td>\n",
       "      <td>853157</td>\n",
       "      <td>1429852</td>\n",
       "      <td>1283058</td>\n",
       "      <td>1204220</td>\n",
       "      <td>1319680</td>\n",
       "      <td>1300444</td>\n",
       "      <td>1310534</td>\n",
       "      <td>1.63695e+07</td>\n",
       "    </tr>\n",
       "    <tr>\n",
       "      <th>4</th>\n",
       "      <td>NaN</td>\n",
       "      <td>Blend Total</td>\n",
       "      <td>8123325</td>\n",
       "      <td>8.64368e+06</td>\n",
       "      <td>9.78237e+06</td>\n",
       "      <td>8405625</td>\n",
       "      <td>8.32115e+06</td>\n",
       "      <td>6.8429e+06</td>\n",
       "      <td>6.28635e+06</td>\n",
       "      <td>6237249</td>\n",
       "      <td>5.97134e+06</td>\n",
       "      <td>5.783e+06</td>\n",
       "      <td>7.02389e+06</td>\n",
       "      <td>7.69835e+06</td>\n",
       "      <td>8.91192e+07</td>\n",
       "    </tr>\n",
       "  </tbody>\n",
       "</table>\n",
       "</div>"
      ],
      "text/plain": [
       "                                          Unnamed: 0   Unnamed: 1  \\\n",
       "0  NIGERIA'S CRUDE OIL AND CONDENSATE PRODUCTION ...          NaN   \n",
       "1                                    TERMINAL/STREAM  Liquid Type   \n",
       "2                                             BONNY     Crude Oil   \n",
       "3                                                NaN   Condensate   \n",
       "4                                                NaN  Blend Total   \n",
       "\n",
       "            Unnamed: 2           Unnamed: 3           Unnamed: 4  \\\n",
       "0                  NaN                  NaN                  NaN   \n",
       "1  2020-01-01 00:00:00  2020-02-01 00:00:00  2020-03-01 00:00:00   \n",
       "2              6634945          7.14928e+06          8.06128e+06   \n",
       "3              1488380              1494401              1721089   \n",
       "4              8123325          8.64368e+06          9.78237e+06   \n",
       "\n",
       "            Unnamed: 5           Unnamed: 6           Unnamed: 7  \\\n",
       "0                  NaN                  NaN                  NaN   \n",
       "1  2020-04-01 00:00:00  2020-05-01 00:00:00  2020-06-01 00:00:00   \n",
       "2              6874378           6.8877e+06          5.98974e+06   \n",
       "3              1531247          1.43345e+06               853157   \n",
       "4              8405625          8.32115e+06           6.8429e+06   \n",
       "\n",
       "            Unnamed: 8           Unnamed: 9          Unnamed: 10  \\\n",
       "0                  NaN                  NaN                  NaN   \n",
       "1  2020-07-01 00:00:00  2020-08-01 00:00:00  2020-09-01 00:00:00   \n",
       "2           4.8565e+06              4954191          4.76712e+06   \n",
       "3              1429852              1283058              1204220   \n",
       "4          6.28635e+06              6237249          5.97134e+06   \n",
       "\n",
       "           Unnamed: 11          Unnamed: 12          Unnamed: 13  Unnamed: 14  \n",
       "0                  NaN                  NaN                  NaN          NaN  \n",
       "1  2020-10-01 00:00:00  2020-11-01 00:00:00  2020-12-01 00:00:00        TOTAL  \n",
       "2          4.46332e+06          5.72345e+06          6.38781e+06  7.27497e+07  \n",
       "3              1319680              1300444              1310534  1.63695e+07  \n",
       "4            5.783e+06          7.02389e+06          7.69835e+06  8.91192e+07  "
      ]
     },
     "execution_count": 95,
     "metadata": {},
     "output_type": "execute_result"
    }
   ],
   "source": [
    "#Reading the first 5 rows from the table\n",
    "data_table.head()"
   ]
  },
  {
   "cell_type": "code",
   "execution_count": 96,
   "metadata": {},
   "outputs": [
    {
     "data": {
      "text/plain": [
       "2020"
      ]
     },
     "execution_count": 96,
     "metadata": {},
     "output_type": "execute_result"
    }
   ],
   "source": [
    "#extracting the year value from the dataframe\n",
    "year = [int(i) for i in data_table.iloc[0,0].split() if i.isdigit()][0]\n",
    "year"
   ]
  },
  {
   "cell_type": "code",
   "execution_count": 97,
   "metadata": {},
   "outputs": [
    {
     "data": {
      "text/html": [
       "<div>\n",
       "<style scoped>\n",
       "    .dataframe tbody tr th:only-of-type {\n",
       "        vertical-align: middle;\n",
       "    }\n",
       "\n",
       "    .dataframe tbody tr th {\n",
       "        vertical-align: top;\n",
       "    }\n",
       "\n",
       "    .dataframe thead th {\n",
       "        text-align: right;\n",
       "    }\n",
       "</style>\n",
       "<table border=\"1\" class=\"dataframe\">\n",
       "  <thead>\n",
       "    <tr style=\"text-align: right;\">\n",
       "      <th></th>\n",
       "      <th>Unnamed: 0</th>\n",
       "      <th>Unnamed: 1</th>\n",
       "      <th>Unnamed: 2</th>\n",
       "      <th>Unnamed: 3</th>\n",
       "      <th>Unnamed: 4</th>\n",
       "      <th>Unnamed: 5</th>\n",
       "      <th>Unnamed: 6</th>\n",
       "      <th>Unnamed: 7</th>\n",
       "      <th>Unnamed: 8</th>\n",
       "      <th>Unnamed: 9</th>\n",
       "      <th>Unnamed: 10</th>\n",
       "      <th>Unnamed: 11</th>\n",
       "      <th>Unnamed: 12</th>\n",
       "      <th>Unnamed: 13</th>\n",
       "      <th>Unnamed: 14</th>\n",
       "    </tr>\n",
       "  </thead>\n",
       "  <tbody>\n",
       "    <tr>\n",
       "      <th>0</th>\n",
       "      <td>NIGERIA'S CRUDE OIL AND CONDENSATE PRODUCTION ...</td>\n",
       "      <td>NaN</td>\n",
       "      <td>NaN</td>\n",
       "      <td>NaN</td>\n",
       "      <td>NaN</td>\n",
       "      <td>NaN</td>\n",
       "      <td>NaN</td>\n",
       "      <td>NaN</td>\n",
       "      <td>NaN</td>\n",
       "      <td>NaN</td>\n",
       "      <td>NaN</td>\n",
       "      <td>NaN</td>\n",
       "      <td>NaN</td>\n",
       "      <td>NaN</td>\n",
       "      <td>NaN</td>\n",
       "    </tr>\n",
       "    <tr>\n",
       "      <th>1</th>\n",
       "      <td>TERMINAL/STREAM</td>\n",
       "      <td>Liquid Type</td>\n",
       "      <td>2020-01-01 00:00:00</td>\n",
       "      <td>2020-02-01 00:00:00</td>\n",
       "      <td>2020-03-01 00:00:00</td>\n",
       "      <td>2020-04-01 00:00:00</td>\n",
       "      <td>2020-05-01 00:00:00</td>\n",
       "      <td>2020-06-01 00:00:00</td>\n",
       "      <td>2020-07-01 00:00:00</td>\n",
       "      <td>2020-08-01 00:00:00</td>\n",
       "      <td>2020-09-01 00:00:00</td>\n",
       "      <td>2020-10-01 00:00:00</td>\n",
       "      <td>2020-11-01 00:00:00</td>\n",
       "      <td>2020-12-01 00:00:00</td>\n",
       "      <td>TOTAL</td>\n",
       "    </tr>\n",
       "    <tr>\n",
       "      <th>2</th>\n",
       "      <td>BONNY</td>\n",
       "      <td>Crude Oil</td>\n",
       "      <td>6634945</td>\n",
       "      <td>7.14928e+06</td>\n",
       "      <td>8.06128e+06</td>\n",
       "      <td>6874378</td>\n",
       "      <td>6.8877e+06</td>\n",
       "      <td>5.98974e+06</td>\n",
       "      <td>4.8565e+06</td>\n",
       "      <td>4954191</td>\n",
       "      <td>4.76712e+06</td>\n",
       "      <td>4.46332e+06</td>\n",
       "      <td>5.72345e+06</td>\n",
       "      <td>6.38781e+06</td>\n",
       "      <td>7.27497e+07</td>\n",
       "    </tr>\n",
       "    <tr>\n",
       "      <th>3</th>\n",
       "      <td>NaN</td>\n",
       "      <td>Condensate</td>\n",
       "      <td>1488380</td>\n",
       "      <td>1494401</td>\n",
       "      <td>1721089</td>\n",
       "      <td>1531247</td>\n",
       "      <td>1.43345e+06</td>\n",
       "      <td>853157</td>\n",
       "      <td>1429852</td>\n",
       "      <td>1283058</td>\n",
       "      <td>1204220</td>\n",
       "      <td>1319680</td>\n",
       "      <td>1300444</td>\n",
       "      <td>1310534</td>\n",
       "      <td>1.63695e+07</td>\n",
       "    </tr>\n",
       "    <tr>\n",
       "      <th>4</th>\n",
       "      <td>NaN</td>\n",
       "      <td>Blend Total</td>\n",
       "      <td>8123325</td>\n",
       "      <td>8.64368e+06</td>\n",
       "      <td>9.78237e+06</td>\n",
       "      <td>8405625</td>\n",
       "      <td>8.32115e+06</td>\n",
       "      <td>6.8429e+06</td>\n",
       "      <td>6.28635e+06</td>\n",
       "      <td>6237249</td>\n",
       "      <td>5.97134e+06</td>\n",
       "      <td>5.783e+06</td>\n",
       "      <td>7.02389e+06</td>\n",
       "      <td>7.69835e+06</td>\n",
       "      <td>8.91192e+07</td>\n",
       "    </tr>\n",
       "  </tbody>\n",
       "</table>\n",
       "</div>"
      ],
      "text/plain": [
       "                                          Unnamed: 0   Unnamed: 1  \\\n",
       "0  NIGERIA'S CRUDE OIL AND CONDENSATE PRODUCTION ...          NaN   \n",
       "1                                    TERMINAL/STREAM  Liquid Type   \n",
       "2                                             BONNY     Crude Oil   \n",
       "3                                                NaN   Condensate   \n",
       "4                                                NaN  Blend Total   \n",
       "\n",
       "            Unnamed: 2           Unnamed: 3           Unnamed: 4  \\\n",
       "0                  NaN                  NaN                  NaN   \n",
       "1  2020-01-01 00:00:00  2020-02-01 00:00:00  2020-03-01 00:00:00   \n",
       "2              6634945          7.14928e+06          8.06128e+06   \n",
       "3              1488380              1494401              1721089   \n",
       "4              8123325          8.64368e+06          9.78237e+06   \n",
       "\n",
       "            Unnamed: 5           Unnamed: 6           Unnamed: 7  \\\n",
       "0                  NaN                  NaN                  NaN   \n",
       "1  2020-04-01 00:00:00  2020-05-01 00:00:00  2020-06-01 00:00:00   \n",
       "2              6874378           6.8877e+06          5.98974e+06   \n",
       "3              1531247          1.43345e+06               853157   \n",
       "4              8405625          8.32115e+06           6.8429e+06   \n",
       "\n",
       "            Unnamed: 8           Unnamed: 9          Unnamed: 10  \\\n",
       "0                  NaN                  NaN                  NaN   \n",
       "1  2020-07-01 00:00:00  2020-08-01 00:00:00  2020-09-01 00:00:00   \n",
       "2           4.8565e+06              4954191          4.76712e+06   \n",
       "3              1429852              1283058              1204220   \n",
       "4          6.28635e+06              6237249          5.97134e+06   \n",
       "\n",
       "           Unnamed: 11          Unnamed: 12          Unnamed: 13  Unnamed: 14  \n",
       "0                  NaN                  NaN                  NaN          NaN  \n",
       "1  2020-10-01 00:00:00  2020-11-01 00:00:00  2020-12-01 00:00:00        TOTAL  \n",
       "2          4.46332e+06          5.72345e+06          6.38781e+06  7.27497e+07  \n",
       "3              1319680              1300444              1310534  1.63695e+07  \n",
       "4            5.783e+06          7.02389e+06          7.69835e+06  8.91192e+07  "
      ]
     },
     "execution_count": 97,
     "metadata": {},
     "output_type": "execute_result"
    }
   ],
   "source": [
    "data_table.head()"
   ]
  },
  {
   "cell_type": "code",
   "execution_count": 98,
   "metadata": {},
   "outputs": [
    {
     "data": {
      "text/html": [
       "<div>\n",
       "<style scoped>\n",
       "    .dataframe tbody tr th:only-of-type {\n",
       "        vertical-align: middle;\n",
       "    }\n",
       "\n",
       "    .dataframe tbody tr th {\n",
       "        vertical-align: top;\n",
       "    }\n",
       "\n",
       "    .dataframe thead th {\n",
       "        text-align: right;\n",
       "    }\n",
       "</style>\n",
       "<table border=\"1\" class=\"dataframe\">\n",
       "  <thead>\n",
       "    <tr style=\"text-align: right;\">\n",
       "      <th></th>\n",
       "      <th>Unnamed: 0</th>\n",
       "      <th>Unnamed: 1</th>\n",
       "      <th>Unnamed: 2</th>\n",
       "      <th>Unnamed: 3</th>\n",
       "      <th>Unnamed: 4</th>\n",
       "      <th>Unnamed: 5</th>\n",
       "      <th>Unnamed: 6</th>\n",
       "      <th>Unnamed: 7</th>\n",
       "      <th>Unnamed: 8</th>\n",
       "      <th>Unnamed: 9</th>\n",
       "      <th>Unnamed: 10</th>\n",
       "      <th>Unnamed: 11</th>\n",
       "      <th>Unnamed: 12</th>\n",
       "      <th>Unnamed: 13</th>\n",
       "      <th>Unnamed: 14</th>\n",
       "    </tr>\n",
       "  </thead>\n",
       "  <tbody>\n",
       "    <tr>\n",
       "      <th>59</th>\n",
       "      <td>NaN</td>\n",
       "      <td>Blended Condensate</td>\n",
       "      <td>88089.2</td>\n",
       "      <td>96379.1</td>\n",
       "      <td>90583.7</td>\n",
       "      <td>98373.9</td>\n",
       "      <td>99262.9</td>\n",
       "      <td>78190.9</td>\n",
       "      <td>102958</td>\n",
       "      <td>90267.9</td>\n",
       "      <td>100004</td>\n",
       "      <td>109030</td>\n",
       "      <td>104096</td>\n",
       "      <td>93233.4</td>\n",
       "      <td>95872.4</td>\n",
       "    </tr>\n",
       "    <tr>\n",
       "      <th>60</th>\n",
       "      <td>NaN</td>\n",
       "      <td>Unblended Condensate</td>\n",
       "      <td>260205</td>\n",
       "      <td>257688</td>\n",
       "      <td>253429</td>\n",
       "      <td>245662</td>\n",
       "      <td>228778</td>\n",
       "      <td>245466</td>\n",
       "      <td>246130</td>\n",
       "      <td>246019</td>\n",
       "      <td>233349</td>\n",
       "      <td>225958</td>\n",
       "      <td>234207</td>\n",
       "      <td>249457</td>\n",
       "      <td>243862</td>\n",
       "    </tr>\n",
       "    <tr>\n",
       "      <th>61</th>\n",
       "      <td>NaN</td>\n",
       "      <td>Total</td>\n",
       "      <td>2.1273e+06</td>\n",
       "      <td>2.15342e+06</td>\n",
       "      <td>2.1253e+06</td>\n",
       "      <td>2.09937e+06</td>\n",
       "      <td>1.78543e+06</td>\n",
       "      <td>1.72486e+06</td>\n",
       "      <td>1.70149e+06</td>\n",
       "      <td>1.7041e+06</td>\n",
       "      <td>1.66896e+06</td>\n",
       "      <td>1.68943e+06</td>\n",
       "      <td>1.70324e+06</td>\n",
       "      <td>1.52864e+06</td>\n",
       "      <td>1.8343e+06</td>\n",
       "    </tr>\n",
       "    <tr>\n",
       "      <th>62</th>\n",
       "      <td>NaN</td>\n",
       "      <td>NaN</td>\n",
       "      <td>NaN</td>\n",
       "      <td>NaN</td>\n",
       "      <td>NaN</td>\n",
       "      <td>NaN</td>\n",
       "      <td>NaN</td>\n",
       "      <td>NaN</td>\n",
       "      <td>NaN</td>\n",
       "      <td>NaN</td>\n",
       "      <td>NaN</td>\n",
       "      <td>NaN</td>\n",
       "      <td>NaN</td>\n",
       "      <td>NaN</td>\n",
       "      <td>NaN</td>\n",
       "    </tr>\n",
       "    <tr>\n",
       "      <th>63</th>\n",
       "      <td>Note: The data has been updated to reflect vol...</td>\n",
       "      <td>NaN</td>\n",
       "      <td>NaN</td>\n",
       "      <td>NaN</td>\n",
       "      <td>NaN</td>\n",
       "      <td>NaN</td>\n",
       "      <td>NaN</td>\n",
       "      <td>NaN</td>\n",
       "      <td>NaN</td>\n",
       "      <td>NaN</td>\n",
       "      <td>NaN</td>\n",
       "      <td>NaN</td>\n",
       "      <td>NaN</td>\n",
       "      <td>NaN</td>\n",
       "      <td>NaN</td>\n",
       "    </tr>\n",
       "  </tbody>\n",
       "</table>\n",
       "</div>"
      ],
      "text/plain": [
       "                                           Unnamed: 0            Unnamed: 1  \\\n",
       "59                                                NaN    Blended Condensate   \n",
       "60                                                NaN  Unblended Condensate   \n",
       "61                                                NaN                 Total   \n",
       "62                                                NaN                   NaN   \n",
       "63  Note: The data has been updated to reflect vol...                   NaN   \n",
       "\n",
       "    Unnamed: 2   Unnamed: 3  Unnamed: 4   Unnamed: 5   Unnamed: 6  \\\n",
       "59     88089.2      96379.1     90583.7      98373.9      99262.9   \n",
       "60      260205       257688      253429       245662       228778   \n",
       "61  2.1273e+06  2.15342e+06  2.1253e+06  2.09937e+06  1.78543e+06   \n",
       "62         NaN          NaN         NaN          NaN          NaN   \n",
       "63         NaN          NaN         NaN          NaN          NaN   \n",
       "\n",
       "     Unnamed: 7   Unnamed: 8  Unnamed: 9  Unnamed: 10  Unnamed: 11  \\\n",
       "59      78190.9       102958     90267.9       100004       109030   \n",
       "60       245466       246130      246019       233349       225958   \n",
       "61  1.72486e+06  1.70149e+06  1.7041e+06  1.66896e+06  1.68943e+06   \n",
       "62          NaN          NaN         NaN          NaN          NaN   \n",
       "63          NaN          NaN         NaN          NaN          NaN   \n",
       "\n",
       "    Unnamed: 12  Unnamed: 13 Unnamed: 14  \n",
       "59       104096      93233.4     95872.4  \n",
       "60       234207       249457      243862  \n",
       "61  1.70324e+06  1.52864e+06  1.8343e+06  \n",
       "62          NaN          NaN         NaN  \n",
       "63          NaN          NaN         NaN  "
      ]
     },
     "execution_count": 98,
     "metadata": {},
     "output_type": "execute_result"
    }
   ],
   "source": [
    "data_table.tail()"
   ]
  },
  {
   "cell_type": "code",
   "execution_count": 99,
   "metadata": {},
   "outputs": [
    {
     "data": {
      "text/html": [
       "<div>\n",
       "<style scoped>\n",
       "    .dataframe tbody tr th:only-of-type {\n",
       "        vertical-align: middle;\n",
       "    }\n",
       "\n",
       "    .dataframe tbody tr th {\n",
       "        vertical-align: top;\n",
       "    }\n",
       "\n",
       "    .dataframe thead th {\n",
       "        text-align: right;\n",
       "    }\n",
       "</style>\n",
       "<table border=\"1\" class=\"dataframe\">\n",
       "  <thead>\n",
       "    <tr style=\"text-align: right;\">\n",
       "      <th></th>\n",
       "      <th>Unnamed: 0</th>\n",
       "      <th>Unnamed: 1</th>\n",
       "      <th>Unnamed: 2</th>\n",
       "      <th>Unnamed: 3</th>\n",
       "      <th>Unnamed: 4</th>\n",
       "      <th>Unnamed: 5</th>\n",
       "      <th>Unnamed: 6</th>\n",
       "      <th>Unnamed: 7</th>\n",
       "      <th>Unnamed: 8</th>\n",
       "      <th>Unnamed: 9</th>\n",
       "      <th>Unnamed: 10</th>\n",
       "      <th>Unnamed: 11</th>\n",
       "      <th>Unnamed: 12</th>\n",
       "      <th>Unnamed: 13</th>\n",
       "      <th>Unnamed: 14</th>\n",
       "    </tr>\n",
       "  </thead>\n",
       "  <tbody>\n",
       "    <tr>\n",
       "      <th>52</th>\n",
       "      <td>NaN</td>\n",
       "      <td>NaN</td>\n",
       "      <td>NaN</td>\n",
       "      <td>NaN</td>\n",
       "      <td>NaN</td>\n",
       "      <td>NaN</td>\n",
       "      <td>NaN</td>\n",
       "      <td>NaN</td>\n",
       "      <td>NaN</td>\n",
       "      <td>NaN</td>\n",
       "      <td>NaN</td>\n",
       "      <td>NaN</td>\n",
       "      <td>NaN</td>\n",
       "      <td>NaN</td>\n",
       "      <td>NaN</td>\n",
       "    </tr>\n",
       "    <tr>\n",
       "      <th>57</th>\n",
       "      <td>NaN</td>\n",
       "      <td>NaN</td>\n",
       "      <td>NaN</td>\n",
       "      <td>NaN</td>\n",
       "      <td>NaN</td>\n",
       "      <td>NaN</td>\n",
       "      <td>NaN</td>\n",
       "      <td>NaN</td>\n",
       "      <td>NaN</td>\n",
       "      <td>NaN</td>\n",
       "      <td>NaN</td>\n",
       "      <td>NaN</td>\n",
       "      <td>NaN</td>\n",
       "      <td>NaN</td>\n",
       "      <td>NaN</td>\n",
       "    </tr>\n",
       "    <tr>\n",
       "      <th>62</th>\n",
       "      <td>NaN</td>\n",
       "      <td>NaN</td>\n",
       "      <td>NaN</td>\n",
       "      <td>NaN</td>\n",
       "      <td>NaN</td>\n",
       "      <td>NaN</td>\n",
       "      <td>NaN</td>\n",
       "      <td>NaN</td>\n",
       "      <td>NaN</td>\n",
       "      <td>NaN</td>\n",
       "      <td>NaN</td>\n",
       "      <td>NaN</td>\n",
       "      <td>NaN</td>\n",
       "      <td>NaN</td>\n",
       "      <td>NaN</td>\n",
       "    </tr>\n",
       "  </tbody>\n",
       "</table>\n",
       "</div>"
      ],
      "text/plain": [
       "   Unnamed: 0 Unnamed: 1 Unnamed: 2 Unnamed: 3 Unnamed: 4 Unnamed: 5  \\\n",
       "52        NaN        NaN        NaN        NaN        NaN        NaN   \n",
       "57        NaN        NaN        NaN        NaN        NaN        NaN   \n",
       "62        NaN        NaN        NaN        NaN        NaN        NaN   \n",
       "\n",
       "   Unnamed: 6 Unnamed: 7 Unnamed: 8 Unnamed: 9 Unnamed: 10 Unnamed: 11  \\\n",
       "52        NaN        NaN        NaN        NaN         NaN         NaN   \n",
       "57        NaN        NaN        NaN        NaN         NaN         NaN   \n",
       "62        NaN        NaN        NaN        NaN         NaN         NaN   \n",
       "\n",
       "   Unnamed: 12 Unnamed: 13 Unnamed: 14  \n",
       "52         NaN         NaN         NaN  \n",
       "57         NaN         NaN         NaN  \n",
       "62         NaN         NaN         NaN  "
      ]
     },
     "execution_count": 99,
     "metadata": {},
     "output_type": "execute_result"
    }
   ],
   "source": [
    "#The row with all empty rows represent the end of the table we are interested in\n",
    "clean_table_index = data_table[data_table.isnull().all(axis=1)]\n",
    "clean_table_index"
   ]
  },
  {
   "cell_type": "code",
   "execution_count": 100,
   "metadata": {},
   "outputs": [
    {
     "data": {
      "text/plain": [
       "Int64Index([52, 57, 62], dtype='int64')"
      ]
     },
     "execution_count": 100,
     "metadata": {},
     "output_type": "execute_result"
    }
   ],
   "source": [
    "# Get the index of the table we are interested in\n",
    "clean_table_index.index"
   ]
  },
  {
   "cell_type": "code",
   "execution_count": 101,
   "metadata": {},
   "outputs": [
    {
     "data": {
      "text/plain": [
       "52"
      ]
     },
     "execution_count": 101,
     "metadata": {},
     "output_type": "execute_result"
    }
   ],
   "source": [
    "clean_index = clean_table_index.index[0]\n",
    "clean_index"
   ]
  },
  {
   "cell_type": "code",
   "execution_count": 102,
   "metadata": {},
   "outputs": [],
   "source": [
    "#finally let us get the clean table\n",
    "clean_table = data_table.iloc[1:clean_index,:]"
   ]
  },
  {
   "cell_type": "code",
   "execution_count": 103,
   "metadata": {},
   "outputs": [
    {
     "data": {
      "text/html": [
       "<div>\n",
       "<style scoped>\n",
       "    .dataframe tbody tr th:only-of-type {\n",
       "        vertical-align: middle;\n",
       "    }\n",
       "\n",
       "    .dataframe tbody tr th {\n",
       "        vertical-align: top;\n",
       "    }\n",
       "\n",
       "    .dataframe thead th {\n",
       "        text-align: right;\n",
       "    }\n",
       "</style>\n",
       "<table border=\"1\" class=\"dataframe\">\n",
       "  <thead>\n",
       "    <tr style=\"text-align: right;\">\n",
       "      <th></th>\n",
       "      <th>Unnamed: 0</th>\n",
       "      <th>Unnamed: 1</th>\n",
       "      <th>Unnamed: 2</th>\n",
       "      <th>Unnamed: 3</th>\n",
       "      <th>Unnamed: 4</th>\n",
       "      <th>Unnamed: 5</th>\n",
       "      <th>Unnamed: 6</th>\n",
       "      <th>Unnamed: 7</th>\n",
       "      <th>Unnamed: 8</th>\n",
       "      <th>Unnamed: 9</th>\n",
       "      <th>Unnamed: 10</th>\n",
       "      <th>Unnamed: 11</th>\n",
       "      <th>Unnamed: 12</th>\n",
       "      <th>Unnamed: 13</th>\n",
       "      <th>Unnamed: 14</th>\n",
       "    </tr>\n",
       "  </thead>\n",
       "  <tbody>\n",
       "    <tr>\n",
       "      <th>1</th>\n",
       "      <td>TERMINAL/STREAM</td>\n",
       "      <td>Liquid Type</td>\n",
       "      <td>2020-01-01 00:00:00</td>\n",
       "      <td>2020-02-01 00:00:00</td>\n",
       "      <td>2020-03-01 00:00:00</td>\n",
       "      <td>2020-04-01 00:00:00</td>\n",
       "      <td>2020-05-01 00:00:00</td>\n",
       "      <td>2020-06-01 00:00:00</td>\n",
       "      <td>2020-07-01 00:00:00</td>\n",
       "      <td>2020-08-01 00:00:00</td>\n",
       "      <td>2020-09-01 00:00:00</td>\n",
       "      <td>2020-10-01 00:00:00</td>\n",
       "      <td>2020-11-01 00:00:00</td>\n",
       "      <td>2020-12-01 00:00:00</td>\n",
       "      <td>TOTAL</td>\n",
       "    </tr>\n",
       "    <tr>\n",
       "      <th>2</th>\n",
       "      <td>BONNY</td>\n",
       "      <td>Crude Oil</td>\n",
       "      <td>6634945</td>\n",
       "      <td>7.14928e+06</td>\n",
       "      <td>8.06128e+06</td>\n",
       "      <td>6874378</td>\n",
       "      <td>6.8877e+06</td>\n",
       "      <td>5.98974e+06</td>\n",
       "      <td>4.8565e+06</td>\n",
       "      <td>4954191</td>\n",
       "      <td>4.76712e+06</td>\n",
       "      <td>4.46332e+06</td>\n",
       "      <td>5.72345e+06</td>\n",
       "      <td>6.38781e+06</td>\n",
       "      <td>7.27497e+07</td>\n",
       "    </tr>\n",
       "    <tr>\n",
       "      <th>3</th>\n",
       "      <td>NaN</td>\n",
       "      <td>Condensate</td>\n",
       "      <td>1488380</td>\n",
       "      <td>1494401</td>\n",
       "      <td>1721089</td>\n",
       "      <td>1531247</td>\n",
       "      <td>1.43345e+06</td>\n",
       "      <td>853157</td>\n",
       "      <td>1429852</td>\n",
       "      <td>1283058</td>\n",
       "      <td>1204220</td>\n",
       "      <td>1319680</td>\n",
       "      <td>1300444</td>\n",
       "      <td>1310534</td>\n",
       "      <td>1.63695e+07</td>\n",
       "    </tr>\n",
       "    <tr>\n",
       "      <th>4</th>\n",
       "      <td>NaN</td>\n",
       "      <td>Blend Total</td>\n",
       "      <td>8123325</td>\n",
       "      <td>8.64368e+06</td>\n",
       "      <td>9.78237e+06</td>\n",
       "      <td>8405625</td>\n",
       "      <td>8.32115e+06</td>\n",
       "      <td>6.8429e+06</td>\n",
       "      <td>6.28635e+06</td>\n",
       "      <td>6237249</td>\n",
       "      <td>5.97134e+06</td>\n",
       "      <td>5.783e+06</td>\n",
       "      <td>7.02389e+06</td>\n",
       "      <td>7.69835e+06</td>\n",
       "      <td>8.91192e+07</td>\n",
       "    </tr>\n",
       "    <tr>\n",
       "      <th>5</th>\n",
       "      <td>BRASS</td>\n",
       "      <td>Crude Oil</td>\n",
       "      <td>2.39654e+06</td>\n",
       "      <td>2.34999e+06</td>\n",
       "      <td>2.41178e+06</td>\n",
       "      <td>2.66958e+06</td>\n",
       "      <td>2.87318e+06</td>\n",
       "      <td>2.51457e+06</td>\n",
       "      <td>2.65458e+06</td>\n",
       "      <td>2.34964e+06</td>\n",
       "      <td>2.27274e+06</td>\n",
       "      <td>2.17671e+06</td>\n",
       "      <td>1.75953e+06</td>\n",
       "      <td>1.65376e+06</td>\n",
       "      <td>2.80826e+07</td>\n",
       "    </tr>\n",
       "  </tbody>\n",
       "</table>\n",
       "</div>"
      ],
      "text/plain": [
       "        Unnamed: 0   Unnamed: 1           Unnamed: 2           Unnamed: 3  \\\n",
       "1  TERMINAL/STREAM  Liquid Type  2020-01-01 00:00:00  2020-02-01 00:00:00   \n",
       "2           BONNY     Crude Oil              6634945          7.14928e+06   \n",
       "3              NaN   Condensate              1488380              1494401   \n",
       "4              NaN  Blend Total              8123325          8.64368e+06   \n",
       "5            BRASS    Crude Oil          2.39654e+06          2.34999e+06   \n",
       "\n",
       "            Unnamed: 4           Unnamed: 5           Unnamed: 6  \\\n",
       "1  2020-03-01 00:00:00  2020-04-01 00:00:00  2020-05-01 00:00:00   \n",
       "2          8.06128e+06              6874378           6.8877e+06   \n",
       "3              1721089              1531247          1.43345e+06   \n",
       "4          9.78237e+06              8405625          8.32115e+06   \n",
       "5          2.41178e+06          2.66958e+06          2.87318e+06   \n",
       "\n",
       "            Unnamed: 7           Unnamed: 8           Unnamed: 9  \\\n",
       "1  2020-06-01 00:00:00  2020-07-01 00:00:00  2020-08-01 00:00:00   \n",
       "2          5.98974e+06           4.8565e+06              4954191   \n",
       "3               853157              1429852              1283058   \n",
       "4           6.8429e+06          6.28635e+06              6237249   \n",
       "5          2.51457e+06          2.65458e+06          2.34964e+06   \n",
       "\n",
       "           Unnamed: 10          Unnamed: 11          Unnamed: 12  \\\n",
       "1  2020-09-01 00:00:00  2020-10-01 00:00:00  2020-11-01 00:00:00   \n",
       "2          4.76712e+06          4.46332e+06          5.72345e+06   \n",
       "3              1204220              1319680              1300444   \n",
       "4          5.97134e+06            5.783e+06          7.02389e+06   \n",
       "5          2.27274e+06          2.17671e+06          1.75953e+06   \n",
       "\n",
       "           Unnamed: 13  Unnamed: 14  \n",
       "1  2020-12-01 00:00:00        TOTAL  \n",
       "2          6.38781e+06  7.27497e+07  \n",
       "3              1310534  1.63695e+07  \n",
       "4          7.69835e+06  8.91192e+07  \n",
       "5          1.65376e+06  2.80826e+07  "
      ]
     },
     "execution_count": 103,
     "metadata": {},
     "output_type": "execute_result"
    }
   ],
   "source": [
    "clean_table.head()"
   ]
  },
  {
   "cell_type": "code",
   "execution_count": 104,
   "metadata": {},
   "outputs": [],
   "source": [
    "# Convert the second row to be the first row\n",
    "clean_table.columns = clean_table.iloc[0,:].values"
   ]
  },
  {
   "cell_type": "code",
   "execution_count": 105,
   "metadata": {},
   "outputs": [
    {
     "data": {
      "text/html": [
       "<div>\n",
       "<style scoped>\n",
       "    .dataframe tbody tr th:only-of-type {\n",
       "        vertical-align: middle;\n",
       "    }\n",
       "\n",
       "    .dataframe tbody tr th {\n",
       "        vertical-align: top;\n",
       "    }\n",
       "\n",
       "    .dataframe thead th {\n",
       "        text-align: right;\n",
       "    }\n",
       "</style>\n",
       "<table border=\"1\" class=\"dataframe\">\n",
       "  <thead>\n",
       "    <tr style=\"text-align: right;\">\n",
       "      <th></th>\n",
       "      <th>TERMINAL/STREAM</th>\n",
       "      <th>Liquid Type</th>\n",
       "      <th>2020-01-01 00:00:00</th>\n",
       "      <th>2020-02-01 00:00:00</th>\n",
       "      <th>2020-03-01 00:00:00</th>\n",
       "      <th>2020-04-01 00:00:00</th>\n",
       "      <th>2020-05-01 00:00:00</th>\n",
       "      <th>2020-06-01 00:00:00</th>\n",
       "      <th>2020-07-01 00:00:00</th>\n",
       "      <th>2020-08-01 00:00:00</th>\n",
       "      <th>2020-09-01 00:00:00</th>\n",
       "      <th>2020-10-01 00:00:00</th>\n",
       "      <th>2020-11-01 00:00:00</th>\n",
       "      <th>2020-12-01 00:00:00</th>\n",
       "      <th>TOTAL</th>\n",
       "    </tr>\n",
       "  </thead>\n",
       "  <tbody>\n",
       "    <tr>\n",
       "      <th>1</th>\n",
       "      <td>TERMINAL/STREAM</td>\n",
       "      <td>Liquid Type</td>\n",
       "      <td>2020-01-01 00:00:00</td>\n",
       "      <td>2020-02-01 00:00:00</td>\n",
       "      <td>2020-03-01 00:00:00</td>\n",
       "      <td>2020-04-01 00:00:00</td>\n",
       "      <td>2020-05-01 00:00:00</td>\n",
       "      <td>2020-06-01 00:00:00</td>\n",
       "      <td>2020-07-01 00:00:00</td>\n",
       "      <td>2020-08-01 00:00:00</td>\n",
       "      <td>2020-09-01 00:00:00</td>\n",
       "      <td>2020-10-01 00:00:00</td>\n",
       "      <td>2020-11-01 00:00:00</td>\n",
       "      <td>2020-12-01 00:00:00</td>\n",
       "      <td>TOTAL</td>\n",
       "    </tr>\n",
       "    <tr>\n",
       "      <th>2</th>\n",
       "      <td>BONNY</td>\n",
       "      <td>Crude Oil</td>\n",
       "      <td>6634945</td>\n",
       "      <td>7.14928e+06</td>\n",
       "      <td>8.06128e+06</td>\n",
       "      <td>6874378</td>\n",
       "      <td>6.8877e+06</td>\n",
       "      <td>5.98974e+06</td>\n",
       "      <td>4.8565e+06</td>\n",
       "      <td>4954191</td>\n",
       "      <td>4.76712e+06</td>\n",
       "      <td>4.46332e+06</td>\n",
       "      <td>5.72345e+06</td>\n",
       "      <td>6.38781e+06</td>\n",
       "      <td>7.27497e+07</td>\n",
       "    </tr>\n",
       "    <tr>\n",
       "      <th>3</th>\n",
       "      <td>NaN</td>\n",
       "      <td>Condensate</td>\n",
       "      <td>1488380</td>\n",
       "      <td>1494401</td>\n",
       "      <td>1721089</td>\n",
       "      <td>1531247</td>\n",
       "      <td>1.43345e+06</td>\n",
       "      <td>853157</td>\n",
       "      <td>1429852</td>\n",
       "      <td>1283058</td>\n",
       "      <td>1204220</td>\n",
       "      <td>1319680</td>\n",
       "      <td>1300444</td>\n",
       "      <td>1310534</td>\n",
       "      <td>1.63695e+07</td>\n",
       "    </tr>\n",
       "    <tr>\n",
       "      <th>4</th>\n",
       "      <td>NaN</td>\n",
       "      <td>Blend Total</td>\n",
       "      <td>8123325</td>\n",
       "      <td>8.64368e+06</td>\n",
       "      <td>9.78237e+06</td>\n",
       "      <td>8405625</td>\n",
       "      <td>8.32115e+06</td>\n",
       "      <td>6.8429e+06</td>\n",
       "      <td>6.28635e+06</td>\n",
       "      <td>6237249</td>\n",
       "      <td>5.97134e+06</td>\n",
       "      <td>5.783e+06</td>\n",
       "      <td>7.02389e+06</td>\n",
       "      <td>7.69835e+06</td>\n",
       "      <td>8.91192e+07</td>\n",
       "    </tr>\n",
       "    <tr>\n",
       "      <th>5</th>\n",
       "      <td>BRASS</td>\n",
       "      <td>Crude Oil</td>\n",
       "      <td>2.39654e+06</td>\n",
       "      <td>2.34999e+06</td>\n",
       "      <td>2.41178e+06</td>\n",
       "      <td>2.66958e+06</td>\n",
       "      <td>2.87318e+06</td>\n",
       "      <td>2.51457e+06</td>\n",
       "      <td>2.65458e+06</td>\n",
       "      <td>2.34964e+06</td>\n",
       "      <td>2.27274e+06</td>\n",
       "      <td>2.17671e+06</td>\n",
       "      <td>1.75953e+06</td>\n",
       "      <td>1.65376e+06</td>\n",
       "      <td>2.80826e+07</td>\n",
       "    </tr>\n",
       "  </tbody>\n",
       "</table>\n",
       "</div>"
      ],
      "text/plain": [
       "   TERMINAL/STREAM  Liquid Type  2020-01-01 00:00:00  2020-02-01 00:00:00  \\\n",
       "1  TERMINAL/STREAM  Liquid Type  2020-01-01 00:00:00  2020-02-01 00:00:00   \n",
       "2           BONNY     Crude Oil              6634945          7.14928e+06   \n",
       "3              NaN   Condensate              1488380              1494401   \n",
       "4              NaN  Blend Total              8123325          8.64368e+06   \n",
       "5            BRASS    Crude Oil          2.39654e+06          2.34999e+06   \n",
       "\n",
       "   2020-03-01 00:00:00  2020-04-01 00:00:00  2020-05-01 00:00:00  \\\n",
       "1  2020-03-01 00:00:00  2020-04-01 00:00:00  2020-05-01 00:00:00   \n",
       "2          8.06128e+06              6874378           6.8877e+06   \n",
       "3              1721089              1531247          1.43345e+06   \n",
       "4          9.78237e+06              8405625          8.32115e+06   \n",
       "5          2.41178e+06          2.66958e+06          2.87318e+06   \n",
       "\n",
       "   2020-06-01 00:00:00  2020-07-01 00:00:00  2020-08-01 00:00:00  \\\n",
       "1  2020-06-01 00:00:00  2020-07-01 00:00:00  2020-08-01 00:00:00   \n",
       "2          5.98974e+06           4.8565e+06              4954191   \n",
       "3               853157              1429852              1283058   \n",
       "4           6.8429e+06          6.28635e+06              6237249   \n",
       "5          2.51457e+06          2.65458e+06          2.34964e+06   \n",
       "\n",
       "   2020-09-01 00:00:00  2020-10-01 00:00:00  2020-11-01 00:00:00  \\\n",
       "1  2020-09-01 00:00:00  2020-10-01 00:00:00  2020-11-01 00:00:00   \n",
       "2          4.76712e+06          4.46332e+06          5.72345e+06   \n",
       "3              1204220              1319680              1300444   \n",
       "4          5.97134e+06            5.783e+06          7.02389e+06   \n",
       "5          2.27274e+06          2.17671e+06          1.75953e+06   \n",
       "\n",
       "   2020-12-01 00:00:00        TOTAL  \n",
       "1  2020-12-01 00:00:00        TOTAL  \n",
       "2          6.38781e+06  7.27497e+07  \n",
       "3              1310534  1.63695e+07  \n",
       "4          7.69835e+06  8.91192e+07  \n",
       "5          1.65376e+06  2.80826e+07  "
      ]
     },
     "execution_count": 105,
     "metadata": {},
     "output_type": "execute_result"
    }
   ],
   "source": [
    "clean_table.head()"
   ]
  },
  {
   "cell_type": "code",
   "execution_count": 106,
   "metadata": {},
   "outputs": [],
   "source": [
    "# slice the first row to correctly ascertain the dataframe\n",
    "clean_table = clean_table.iloc[1:,:]"
   ]
  },
  {
   "cell_type": "code",
   "execution_count": 107,
   "metadata": {},
   "outputs": [],
   "source": [
    "# fill the missing values for the Terminals\n",
    "clean_table['TERMINAL/STREAM'] = clean_table['TERMINAL/STREAM'].fillna(method='ffill')"
   ]
  },
  {
   "cell_type": "code",
   "execution_count": 108,
   "metadata": {},
   "outputs": [],
   "source": [
    "#Since one of the tables contains the 'TOTAL' column,we have to drop it \n",
    "if 'TOTAL' in clean_table.columns:\n",
    "    clean_table.drop(labels='TOTAL',axis=1,inplace=True)\n",
    "else:\n",
    "    pass "
   ]
  },
  {
   "cell_type": "code",
   "execution_count": 109,
   "metadata": {},
   "outputs": [
    {
     "data": {
      "text/html": [
       "<div>\n",
       "<style scoped>\n",
       "    .dataframe tbody tr th:only-of-type {\n",
       "        vertical-align: middle;\n",
       "    }\n",
       "\n",
       "    .dataframe tbody tr th {\n",
       "        vertical-align: top;\n",
       "    }\n",
       "\n",
       "    .dataframe thead th {\n",
       "        text-align: right;\n",
       "    }\n",
       "</style>\n",
       "<table border=\"1\" class=\"dataframe\">\n",
       "  <thead>\n",
       "    <tr style=\"text-align: right;\">\n",
       "      <th></th>\n",
       "      <th>TERMINAL/STREAM</th>\n",
       "      <th>Liquid Type</th>\n",
       "      <th>2020-01-01 00:00:00</th>\n",
       "      <th>2020-02-01 00:00:00</th>\n",
       "      <th>2020-03-01 00:00:00</th>\n",
       "      <th>2020-04-01 00:00:00</th>\n",
       "      <th>2020-05-01 00:00:00</th>\n",
       "      <th>2020-06-01 00:00:00</th>\n",
       "      <th>2020-07-01 00:00:00</th>\n",
       "      <th>2020-08-01 00:00:00</th>\n",
       "      <th>2020-09-01 00:00:00</th>\n",
       "      <th>2020-10-01 00:00:00</th>\n",
       "      <th>2020-11-01 00:00:00</th>\n",
       "      <th>2020-12-01 00:00:00</th>\n",
       "    </tr>\n",
       "  </thead>\n",
       "  <tbody>\n",
       "    <tr>\n",
       "      <th>2</th>\n",
       "      <td>BONNY</td>\n",
       "      <td>Crude Oil</td>\n",
       "      <td>6634945</td>\n",
       "      <td>7.14928e+06</td>\n",
       "      <td>8.06128e+06</td>\n",
       "      <td>6874378</td>\n",
       "      <td>6.8877e+06</td>\n",
       "      <td>5.98974e+06</td>\n",
       "      <td>4.8565e+06</td>\n",
       "      <td>4954191</td>\n",
       "      <td>4.76712e+06</td>\n",
       "      <td>4.46332e+06</td>\n",
       "      <td>5.72345e+06</td>\n",
       "      <td>6.38781e+06</td>\n",
       "    </tr>\n",
       "    <tr>\n",
       "      <th>3</th>\n",
       "      <td>BONNY</td>\n",
       "      <td>Condensate</td>\n",
       "      <td>1488380</td>\n",
       "      <td>1494401</td>\n",
       "      <td>1721089</td>\n",
       "      <td>1531247</td>\n",
       "      <td>1.43345e+06</td>\n",
       "      <td>853157</td>\n",
       "      <td>1429852</td>\n",
       "      <td>1283058</td>\n",
       "      <td>1204220</td>\n",
       "      <td>1319680</td>\n",
       "      <td>1300444</td>\n",
       "      <td>1310534</td>\n",
       "    </tr>\n",
       "    <tr>\n",
       "      <th>4</th>\n",
       "      <td>BONNY</td>\n",
       "      <td>Blend Total</td>\n",
       "      <td>8123325</td>\n",
       "      <td>8.64368e+06</td>\n",
       "      <td>9.78237e+06</td>\n",
       "      <td>8405625</td>\n",
       "      <td>8.32115e+06</td>\n",
       "      <td>6.8429e+06</td>\n",
       "      <td>6.28635e+06</td>\n",
       "      <td>6237249</td>\n",
       "      <td>5.97134e+06</td>\n",
       "      <td>5.783e+06</td>\n",
       "      <td>7.02389e+06</td>\n",
       "      <td>7.69835e+06</td>\n",
       "    </tr>\n",
       "    <tr>\n",
       "      <th>5</th>\n",
       "      <td>BRASS</td>\n",
       "      <td>Crude Oil</td>\n",
       "      <td>2.39654e+06</td>\n",
       "      <td>2.34999e+06</td>\n",
       "      <td>2.41178e+06</td>\n",
       "      <td>2.66958e+06</td>\n",
       "      <td>2.87318e+06</td>\n",
       "      <td>2.51457e+06</td>\n",
       "      <td>2.65458e+06</td>\n",
       "      <td>2.34964e+06</td>\n",
       "      <td>2.27274e+06</td>\n",
       "      <td>2.17671e+06</td>\n",
       "      <td>1.75953e+06</td>\n",
       "      <td>1.65376e+06</td>\n",
       "    </tr>\n",
       "    <tr>\n",
       "      <th>6</th>\n",
       "      <td>BRASS</td>\n",
       "      <td>Condensate</td>\n",
       "      <td>365468</td>\n",
       "      <td>391402</td>\n",
       "      <td>385246</td>\n",
       "      <td>484476</td>\n",
       "      <td>470584</td>\n",
       "      <td>578467</td>\n",
       "      <td>618487</td>\n",
       "      <td>553671</td>\n",
       "      <td>530408</td>\n",
       "      <td>586733</td>\n",
       "      <td>419131</td>\n",
       "      <td>315596</td>\n",
       "    </tr>\n",
       "  </tbody>\n",
       "</table>\n",
       "</div>"
      ],
      "text/plain": [
       "  TERMINAL/STREAM  Liquid Type 2020-01-01 00:00:00 2020-02-01 00:00:00  \\\n",
       "2          BONNY     Crude Oil             6634945         7.14928e+06   \n",
       "3          BONNY    Condensate             1488380             1494401   \n",
       "4          BONNY   Blend Total             8123325         8.64368e+06   \n",
       "5           BRASS    Crude Oil         2.39654e+06         2.34999e+06   \n",
       "6           BRASS   Condensate              365468              391402   \n",
       "\n",
       "  2020-03-01 00:00:00 2020-04-01 00:00:00 2020-05-01 00:00:00  \\\n",
       "2         8.06128e+06             6874378          6.8877e+06   \n",
       "3             1721089             1531247         1.43345e+06   \n",
       "4         9.78237e+06             8405625         8.32115e+06   \n",
       "5         2.41178e+06         2.66958e+06         2.87318e+06   \n",
       "6              385246              484476              470584   \n",
       "\n",
       "  2020-06-01 00:00:00 2020-07-01 00:00:00 2020-08-01 00:00:00  \\\n",
       "2         5.98974e+06          4.8565e+06             4954191   \n",
       "3              853157             1429852             1283058   \n",
       "4          6.8429e+06         6.28635e+06             6237249   \n",
       "5         2.51457e+06         2.65458e+06         2.34964e+06   \n",
       "6              578467              618487              553671   \n",
       "\n",
       "  2020-09-01 00:00:00 2020-10-01 00:00:00 2020-11-01 00:00:00  \\\n",
       "2         4.76712e+06         4.46332e+06         5.72345e+06   \n",
       "3             1204220             1319680             1300444   \n",
       "4         5.97134e+06           5.783e+06         7.02389e+06   \n",
       "5         2.27274e+06         2.17671e+06         1.75953e+06   \n",
       "6              530408              586733              419131   \n",
       "\n",
       "  2020-12-01 00:00:00  \n",
       "2         6.38781e+06  \n",
       "3             1310534  \n",
       "4         7.69835e+06  \n",
       "5         1.65376e+06  \n",
       "6              315596  "
      ]
     },
     "execution_count": 109,
     "metadata": {},
     "output_type": "execute_result"
    }
   ],
   "source": [
    "clean_table.head()"
   ]
  },
  {
   "cell_type": "code",
   "execution_count": 110,
   "metadata": {},
   "outputs": [
    {
     "data": {
      "text/html": [
       "<div>\n",
       "<style scoped>\n",
       "    .dataframe tbody tr th:only-of-type {\n",
       "        vertical-align: middle;\n",
       "    }\n",
       "\n",
       "    .dataframe tbody tr th {\n",
       "        vertical-align: top;\n",
       "    }\n",
       "\n",
       "    .dataframe thead th {\n",
       "        text-align: right;\n",
       "    }\n",
       "</style>\n",
       "<table border=\"1\" class=\"dataframe\">\n",
       "  <thead>\n",
       "    <tr style=\"text-align: right;\">\n",
       "      <th></th>\n",
       "      <th>TERMINAL/STREAM</th>\n",
       "      <th>Liquid Type</th>\n",
       "      <th>2020-01-01 00:00:00</th>\n",
       "      <th>2020-02-01 00:00:00</th>\n",
       "      <th>2020-03-01 00:00:00</th>\n",
       "      <th>2020-04-01 00:00:00</th>\n",
       "      <th>2020-05-01 00:00:00</th>\n",
       "      <th>2020-06-01 00:00:00</th>\n",
       "      <th>2020-07-01 00:00:00</th>\n",
       "      <th>2020-08-01 00:00:00</th>\n",
       "      <th>2020-09-01 00:00:00</th>\n",
       "      <th>2020-10-01 00:00:00</th>\n",
       "      <th>2020-11-01 00:00:00</th>\n",
       "      <th>2020-12-01 00:00:00</th>\n",
       "    </tr>\n",
       "  </thead>\n",
       "  <tbody>\n",
       "    <tr>\n",
       "      <th>34</th>\n",
       "      <td>AJAPA (Atala Oil)</td>\n",
       "      <td>Crude Oil</td>\n",
       "      <td>0</td>\n",
       "      <td>0</td>\n",
       "      <td>0</td>\n",
       "      <td>0</td>\n",
       "      <td>0</td>\n",
       "      <td>0</td>\n",
       "      <td>0</td>\n",
       "      <td>0</td>\n",
       "      <td>0</td>\n",
       "      <td>0</td>\n",
       "      <td>0</td>\n",
       "      <td>0</td>\n",
       "    </tr>\n",
       "  </tbody>\n",
       "</table>\n",
       "</div>"
      ],
      "text/plain": [
       "      TERMINAL/STREAM Liquid Type 2020-01-01 00:00:00 2020-02-01 00:00:00  \\\n",
       "34  AJAPA (Atala Oil)   Crude Oil                   0                   0   \n",
       "\n",
       "   2020-03-01 00:00:00 2020-04-01 00:00:00 2020-05-01 00:00:00  \\\n",
       "34                   0                   0                   0   \n",
       "\n",
       "   2020-06-01 00:00:00 2020-07-01 00:00:00 2020-08-01 00:00:00  \\\n",
       "34                   0                   0                   0   \n",
       "\n",
       "   2020-09-01 00:00:00 2020-10-01 00:00:00 2020-11-01 00:00:00  \\\n",
       "34                   0                   0                   0   \n",
       "\n",
       "   2020-12-01 00:00:00  \n",
       "34                   0  "
      ]
     },
     "execution_count": 110,
     "metadata": {},
     "output_type": "execute_result"
    }
   ],
   "source": [
    "clean_table[clean_table['TERMINAL/STREAM'] == 'AJAPA (Atala Oil)']"
   ]
  },
  {
   "cell_type": "code",
   "execution_count": 60,
   "metadata": {},
   "outputs": [
    {
     "data": {
      "text/html": [
       "<div>\n",
       "<style scoped>\n",
       "    .dataframe tbody tr th:only-of-type {\n",
       "        vertical-align: middle;\n",
       "    }\n",
       "\n",
       "    .dataframe tbody tr th {\n",
       "        vertical-align: top;\n",
       "    }\n",
       "\n",
       "    .dataframe thead th {\n",
       "        text-align: right;\n",
       "    }\n",
       "</style>\n",
       "<table border=\"1\" class=\"dataframe\">\n",
       "  <thead>\n",
       "    <tr style=\"text-align: right;\">\n",
       "      <th></th>\n",
       "      <th>TERMINAL/STREAM</th>\n",
       "      <th>Liquid Type</th>\n",
       "      <th>Period</th>\n",
       "      <th>Value</th>\n",
       "    </tr>\n",
       "  </thead>\n",
       "  <tbody>\n",
       "    <tr>\n",
       "      <th>0</th>\n",
       "      <td>BONNY</td>\n",
       "      <td>Crude Oil</td>\n",
       "      <td>2020-01-01</td>\n",
       "      <td>6634945</td>\n",
       "    </tr>\n",
       "    <tr>\n",
       "      <th>1</th>\n",
       "      <td>BONNY</td>\n",
       "      <td>Condensate</td>\n",
       "      <td>2020-01-01</td>\n",
       "      <td>1488380</td>\n",
       "    </tr>\n",
       "    <tr>\n",
       "      <th>2</th>\n",
       "      <td>BONNY</td>\n",
       "      <td>Blend Total</td>\n",
       "      <td>2020-01-01</td>\n",
       "      <td>8123325</td>\n",
       "    </tr>\n",
       "    <tr>\n",
       "      <th>3</th>\n",
       "      <td>BRASS</td>\n",
       "      <td>Crude Oil</td>\n",
       "      <td>2020-01-01</td>\n",
       "      <td>2.39654e+06</td>\n",
       "    </tr>\n",
       "    <tr>\n",
       "      <th>4</th>\n",
       "      <td>BRASS</td>\n",
       "      <td>Condensate</td>\n",
       "      <td>2020-01-01</td>\n",
       "      <td>365468</td>\n",
       "    </tr>\n",
       "  </tbody>\n",
       "</table>\n",
       "</div>"
      ],
      "text/plain": [
       "  TERMINAL/STREAM  Liquid Type     Period        Value\n",
       "0          BONNY     Crude Oil 2020-01-01      6634945\n",
       "1          BONNY    Condensate 2020-01-01      1488380\n",
       "2          BONNY   Blend Total 2020-01-01      8123325\n",
       "3           BRASS    Crude Oil 2020-01-01  2.39654e+06\n",
       "4           BRASS   Condensate 2020-01-01       365468"
      ]
     },
     "execution_count": 60,
     "metadata": {},
     "output_type": "execute_result"
    }
   ],
   "source": [
    "#Melt table to take it to the desired format \n",
    "final_df = pd.melt(clean_table,id_vars=['TERMINAL/STREAM','Liquid Type'],value_name='Value',var_name='Period')\n",
    "final_df.head()"
   ]
  },
  {
   "cell_type": "code",
   "execution_count": 61,
   "metadata": {},
   "outputs": [],
   "source": [
    "# Convery the Period to the desired format\n",
    "#Pandas reads the date column differently,so this code account for that\n",
    "if '20' in final_df['Period'].astype(str)[1]:\n",
    "    final_df['Period'] = final_df['Period'].dt.strftime('%b%Y').str.upper()\n",
    "else:\n",
    "    final_df['Period'] = final_df.Period.str[:3] + str(year)"
   ]
  },
  {
   "cell_type": "code",
   "execution_count": 62,
   "metadata": {},
   "outputs": [
    {
     "data": {
      "text/html": [
       "<div>\n",
       "<style scoped>\n",
       "    .dataframe tbody tr th:only-of-type {\n",
       "        vertical-align: middle;\n",
       "    }\n",
       "\n",
       "    .dataframe tbody tr th {\n",
       "        vertical-align: top;\n",
       "    }\n",
       "\n",
       "    .dataframe thead th {\n",
       "        text-align: right;\n",
       "    }\n",
       "</style>\n",
       "<table border=\"1\" class=\"dataframe\">\n",
       "  <thead>\n",
       "    <tr style=\"text-align: right;\">\n",
       "      <th></th>\n",
       "      <th>TERMINAL/STREAM</th>\n",
       "      <th>Liquid Type</th>\n",
       "      <th>Period</th>\n",
       "      <th>Value</th>\n",
       "    </tr>\n",
       "  </thead>\n",
       "  <tbody>\n",
       "    <tr>\n",
       "      <th>0</th>\n",
       "      <td>BONNY</td>\n",
       "      <td>Crude Oil</td>\n",
       "      <td>JAN2020</td>\n",
       "      <td>6634945</td>\n",
       "    </tr>\n",
       "    <tr>\n",
       "      <th>1</th>\n",
       "      <td>BONNY</td>\n",
       "      <td>Condensate</td>\n",
       "      <td>JAN2020</td>\n",
       "      <td>1488380</td>\n",
       "    </tr>\n",
       "    <tr>\n",
       "      <th>2</th>\n",
       "      <td>BONNY</td>\n",
       "      <td>Blend Total</td>\n",
       "      <td>JAN2020</td>\n",
       "      <td>8123325</td>\n",
       "    </tr>\n",
       "    <tr>\n",
       "      <th>3</th>\n",
       "      <td>BRASS</td>\n",
       "      <td>Crude Oil</td>\n",
       "      <td>JAN2020</td>\n",
       "      <td>2.39654e+06</td>\n",
       "    </tr>\n",
       "    <tr>\n",
       "      <th>4</th>\n",
       "      <td>BRASS</td>\n",
       "      <td>Condensate</td>\n",
       "      <td>JAN2020</td>\n",
       "      <td>365468</td>\n",
       "    </tr>\n",
       "  </tbody>\n",
       "</table>\n",
       "</div>"
      ],
      "text/plain": [
       "  TERMINAL/STREAM  Liquid Type   Period        Value\n",
       "0          BONNY     Crude Oil  JAN2020      6634945\n",
       "1          BONNY    Condensate  JAN2020      1488380\n",
       "2          BONNY   Blend Total  JAN2020      8123325\n",
       "3           BRASS    Crude Oil  JAN2020  2.39654e+06\n",
       "4           BRASS   Condensate  JAN2020       365468"
      ]
     },
     "execution_count": 62,
     "metadata": {},
     "output_type": "execute_result"
    }
   ],
   "source": [
    "final_df.head()"
   ]
  },
  {
   "cell_type": "code",
   "execution_count": 63,
   "metadata": {},
   "outputs": [
    {
     "name": "stdout",
     "output_type": "stream",
     "text": [
      "<class 'pandas.core.frame.DataFrame'>\n",
      "RangeIndex: 600 entries, 0 to 599\n",
      "Data columns (total 4 columns):\n",
      " #   Column           Non-Null Count  Dtype \n",
      "---  ------           --------------  ----- \n",
      " 0   TERMINAL/STREAM  600 non-null    object\n",
      " 1   Liquid Type      600 non-null    object\n",
      " 2   Period           600 non-null    object\n",
      " 3   Value            600 non-null    object\n",
      "dtypes: object(4)\n",
      "memory usage: 18.9+ KB\n"
     ]
    }
   ],
   "source": [
    "final_df.info()"
   ]
  },
  {
   "cell_type": "markdown",
   "metadata": {},
   "source": [
    "## Let's test the scraper\n",
    "\n",
    "From now, we will try to instantiate the scraper class and run each method we build."
   ]
  },
  {
   "cell_type": "code",
   "execution_count": 2,
   "metadata": {},
   "outputs": [
    {
     "name": "stdout",
     "output_type": "stream",
     "text": [
      "C:\\Users\\ROSA_L\\PycharmProjects\\scraper\n"
     ]
    }
   ],
   "source": [
    "cd .."
   ]
  },
  {
   "cell_type": "code",
   "execution_count": 14,
   "metadata": {},
   "outputs": [
    {
     "name": "stdout",
     "output_type": "stream",
     "text": [
      "[WinError 3] The system cannot find the path specified: 'OLOYEDE_O/PycharmProjects/scraper/'\n",
      "C:\\Users\\OLOYEDE_O\\PycharmProjects\\scraper\n"
     ]
    }
   ],
   "source": [
    "cd OLOYEDE_O/PycharmProjects/scraper/"
   ]
  },
  {
   "cell_type": "code",
   "execution_count": 3,
   "metadata": {},
   "outputs": [],
   "source": [
    "%load_ext autoreload\n",
    "%autoreload 2"
   ]
  },
  {
   "cell_type": "code",
   "execution_count": 4,
   "metadata": {},
   "outputs": [],
   "source": [
    "import logging\n",
    "import sys\n",
    "\n",
    "root = logging.getLogger()\n",
    "root.setLevel(logging.DEBUG)\n",
    "\n",
    "handler = logging.StreamHandler(sys.stdout)\n",
    "handler.setLevel(logging.DEBUG)\n",
    "formatter = logging.Formatter('%(asctime)s - %(name)s - %(levelname)s - %(message)s')\n",
    "handler.setFormatter(formatter)\n",
    "root.addHandler(handler)"
   ]
  },
  {
   "cell_type": "code",
   "execution_count": 45,
   "metadata": {},
   "outputs": [
    {
     "name": "stdout",
     "output_type": "stream",
     "text": [
      "2021-09-20 16:32:55,764 - scraper.core.factory - DEBUG - Loading module scraper.jobs.ng_gov_dpr.nigerian_oil_supply\n",
      "2021-09-20 16:32:55,764 - scraper.core.factory - DEBUG - Loading module scraper.jobs.ng_gov_dpr.nigerian_oil_supply\n",
      "2021-09-20 16:32:55,764 - scraper.core.factory - DEBUG - Loading module scraper.jobs.ng_gov_dpr.nigerian_oil_supply\n",
      "2021-09-20 16:32:55,764 - scraper.core.factory - DEBUG - Loading module scraper.jobs.ng_gov_dpr.nigerian_oil_supply\n",
      "2021-09-20 16:32:55,767 - scraper.core.factory - DEBUG - Getting class NigerianOilSupplyJob\n",
      "2021-09-20 16:32:55,767 - scraper.core.factory - DEBUG - Getting class NigerianOilSupplyJob\n",
      "2021-09-20 16:32:55,767 - scraper.core.factory - DEBUG - Getting class NigerianOilSupplyJob\n",
      "2021-09-20 16:32:55,767 - scraper.core.factory - DEBUG - Getting class NigerianOilSupplyJob\n"
     ]
    }
   ],
   "source": [
    "# from scraper.jobs.ng_gov_dpr.nigerian_oil_supply import NigerianOilSupplyJob\n",
    "\n",
    "from scraper.core import factory\n",
    "\n",
    "# job = NigerianOilSupplyJob()\n",
    "# job = factory.get_scraper_job('ng_gov_dpr', 'nigerian_oil_supply')\n",
    "\n",
    "# job = NigerianOilSupplyJob(full_load=True)\n",
    "job = factory.get_scraper_job('ng_gov_dpr', 'nigerian_oil_supply', full_load=True)"
   ]
  },
  {
   "cell_type": "code",
   "execution_count": 46,
   "metadata": {},
   "outputs": [
    {
     "name": "stdout",
     "output_type": "stream",
     "text": [
      "2021-09-20 16:32:56,669 - scraper.jobs.ng_gov_dpr.nigerian_oil_supply - INFO - Loading sources\n",
      "2021-09-20 16:32:56,669 - scraper.jobs.ng_gov_dpr.nigerian_oil_supply - INFO - Loading sources\n",
      "2021-09-20 16:32:56,669 - scraper.jobs.ng_gov_dpr.nigerian_oil_supply - INFO - Loading sources\n",
      "2021-09-20 16:32:56,669 - scraper.jobs.ng_gov_dpr.nigerian_oil_supply - INFO - Loading sources\n",
      "2021-09-20 16:32:56,673 - scraper.jobs.ng_gov_dpr.nigerian_oil_supply - DEBUG - Parsing main page to get sources: https://www.dpr.gov.ng/oil-production-status-report/\n",
      "2021-09-20 16:32:56,673 - scraper.jobs.ng_gov_dpr.nigerian_oil_supply - DEBUG - Parsing main page to get sources: https://www.dpr.gov.ng/oil-production-status-report/\n",
      "2021-09-20 16:32:56,673 - scraper.jobs.ng_gov_dpr.nigerian_oil_supply - DEBUG - Parsing main page to get sources: https://www.dpr.gov.ng/oil-production-status-report/\n",
      "2021-09-20 16:32:56,673 - scraper.jobs.ng_gov_dpr.nigerian_oil_supply - DEBUG - Parsing main page to get sources: https://www.dpr.gov.ng/oil-production-status-report/\n",
      "2021-09-20 16:32:56,680 - urllib3.connectionpool - DEBUG - Starting new HTTPS connection (1): www.dpr.gov.ng:443\n",
      "2021-09-20 16:32:56,680 - urllib3.connectionpool - DEBUG - Starting new HTTPS connection (1): www.dpr.gov.ng:443\n",
      "2021-09-20 16:32:56,680 - urllib3.connectionpool - DEBUG - Starting new HTTPS connection (1): www.dpr.gov.ng:443\n",
      "2021-09-20 16:32:56,680 - urllib3.connectionpool - DEBUG - Starting new HTTPS connection (1): www.dpr.gov.ng:443\n",
      "2021-09-20 16:32:57,807 - urllib3.connectionpool - DEBUG - https://www.dpr.gov.ng:443 \"GET /oil-production-status-report/ HTTP/1.1\" 200 16339\n",
      "2021-09-20 16:32:57,807 - urllib3.connectionpool - DEBUG - https://www.dpr.gov.ng:443 \"GET /oil-production-status-report/ HTTP/1.1\" 200 16339\n",
      "2021-09-20 16:32:57,807 - urllib3.connectionpool - DEBUG - https://www.dpr.gov.ng:443 \"GET /oil-production-status-report/ HTTP/1.1\" 200 16339\n",
      "2021-09-20 16:32:57,807 - urllib3.connectionpool - DEBUG - https://www.dpr.gov.ng:443 \"GET /oil-production-status-report/ HTTP/1.1\" 200 16339\n",
      "2021-09-20 16:32:57,822 - scraper.jobs.ng_gov_dpr.nigerian_oil_supply - DEBUG - 2 file links retrieved in https://www.dpr.gov.ng/oil-production-status-report/\n",
      "2021-09-20 16:32:57,822 - scraper.jobs.ng_gov_dpr.nigerian_oil_supply - DEBUG - 2 file links retrieved in https://www.dpr.gov.ng/oil-production-status-report/\n",
      "2021-09-20 16:32:57,822 - scraper.jobs.ng_gov_dpr.nigerian_oil_supply - DEBUG - 2 file links retrieved in https://www.dpr.gov.ng/oil-production-status-report/\n",
      "2021-09-20 16:32:57,822 - scraper.jobs.ng_gov_dpr.nigerian_oil_supply - DEBUG - 2 file links retrieved in https://www.dpr.gov.ng/oil-production-status-report/\n",
      "2021-09-20 16:32:57,824 - scraper.jobs.ng_gov_dpr.nigerian_oil_supply - DEBUG - Filename in the link: OIL_PRODUCTION_STATUS_REPORT_AS_AT_AUGUST_2021.xlsx\n",
      "2021-09-20 16:32:57,824 - scraper.jobs.ng_gov_dpr.nigerian_oil_supply - DEBUG - Filename in the link: OIL_PRODUCTION_STATUS_REPORT_AS_AT_AUGUST_2021.xlsx\n",
      "2021-09-20 16:32:57,824 - scraper.jobs.ng_gov_dpr.nigerian_oil_supply - DEBUG - Filename in the link: OIL_PRODUCTION_STATUS_REPORT_AS_AT_AUGUST_2021.xlsx\n",
      "2021-09-20 16:32:57,824 - scraper.jobs.ng_gov_dpr.nigerian_oil_supply - DEBUG - Filename in the link: OIL_PRODUCTION_STATUS_REPORT_AS_AT_AUGUST_2021.xlsx\n",
      "2021-09-20 16:32:57,826 - scraper.jobs.ng_gov_dpr.nigerian_oil_supply - DEBUG - Filename in the link: 2020-Production-data.xlsx\n",
      "2021-09-20 16:32:57,826 - scraper.jobs.ng_gov_dpr.nigerian_oil_supply - DEBUG - Filename in the link: 2020-Production-data.xlsx\n",
      "2021-09-20 16:32:57,826 - scraper.jobs.ng_gov_dpr.nigerian_oil_supply - DEBUG - Filename in the link: 2020-Production-data.xlsx\n",
      "2021-09-20 16:32:57,826 - scraper.jobs.ng_gov_dpr.nigerian_oil_supply - DEBUG - Filename in the link: 2020-Production-data.xlsx\n",
      "2021-09-20 16:32:57,827 - scraper.jobs.ng_gov_dpr.nigerian_oil_supply - DEBUG - ['BaseSource(c...ly_2021.xlsx)', 'BaseSource(c...ly_2020.xlsx)']\n",
      "2021-09-20 16:32:57,827 - scraper.jobs.ng_gov_dpr.nigerian_oil_supply - DEBUG - ['BaseSource(c...ly_2021.xlsx)', 'BaseSource(c...ly_2020.xlsx)']\n",
      "2021-09-20 16:32:57,827 - scraper.jobs.ng_gov_dpr.nigerian_oil_supply - DEBUG - ['BaseSource(c...ly_2021.xlsx)', 'BaseSource(c...ly_2020.xlsx)']\n",
      "2021-09-20 16:32:57,827 - scraper.jobs.ng_gov_dpr.nigerian_oil_supply - DEBUG - ['BaseSource(c...ly_2021.xlsx)', 'BaseSource(c...ly_2020.xlsx)']\n",
      "2021-09-20 16:32:57,830 - scraper.core.job - DEBUG - remove_existing_dynamic_dim: query - http://vipenta.iea.org:8000/dimension/source\n",
      "2021-09-20 16:32:57,830 - scraper.core.job - DEBUG - remove_existing_dynamic_dim: query - http://vipenta.iea.org:8000/dimension/source\n",
      "2021-09-20 16:32:57,830 - scraper.core.job - DEBUG - remove_existing_dynamic_dim: query - http://vipenta.iea.org:8000/dimension/source\n",
      "2021-09-20 16:32:57,830 - scraper.core.job - DEBUG - remove_existing_dynamic_dim: query - http://vipenta.iea.org:8000/dimension/source\n",
      "2021-09-20 16:32:57,832 - urllib3.connectionpool - DEBUG - Starting new HTTP connection (1): vipenta.iea.org:8000\n",
      "2021-09-20 16:32:57,832 - urllib3.connectionpool - DEBUG - Starting new HTTP connection (1): vipenta.iea.org:8000\n",
      "2021-09-20 16:32:57,832 - urllib3.connectionpool - DEBUG - Starting new HTTP connection (1): vipenta.iea.org:8000\n",
      "2021-09-20 16:32:57,832 - urllib3.connectionpool - DEBUG - Starting new HTTP connection (1): vipenta.iea.org:8000\n",
      "2021-09-20 16:32:58,158 - urllib3.connectionpool - DEBUG - http://vipenta.iea.org:8000 \"GET /dimension/source HTTP/1.1\" 200 770751\n",
      "2021-09-20 16:32:58,158 - urllib3.connectionpool - DEBUG - http://vipenta.iea.org:8000 \"GET /dimension/source HTTP/1.1\" 200 770751\n",
      "2021-09-20 16:32:58,158 - urllib3.connectionpool - DEBUG - http://vipenta.iea.org:8000 \"GET /dimension/source HTTP/1.1\" 200 770751\n",
      "2021-09-20 16:32:58,158 - urllib3.connectionpool - DEBUG - http://vipenta.iea.org:8000 \"GET /dimension/source HTTP/1.1\" 200 770751\n",
      "2021-09-20 16:32:58,239 - scraper.core.job - DEBUG - self.dynamic_dim['source'] size before: 2\n",
      "2021-09-20 16:32:58,239 - scraper.core.job - DEBUG - self.dynamic_dim['source'] size before: 2\n",
      "2021-09-20 16:32:58,239 - scraper.core.job - DEBUG - self.dynamic_dim['source'] size before: 2\n",
      "2021-09-20 16:32:58,239 - scraper.core.job - DEBUG - self.dynamic_dim['source'] size before: 2\n",
      "2021-09-20 16:32:58,241 - scraper.core.job - DEBUG - self.dynamic_dim['source'] size after: 2\n",
      "2021-09-20 16:32:58,241 - scraper.core.job - DEBUG - self.dynamic_dim['source'] size after: 2\n",
      "2021-09-20 16:32:58,241 - scraper.core.job - DEBUG - self.dynamic_dim['source'] size after: 2\n",
      "2021-09-20 16:32:58,241 - scraper.core.job - DEBUG - self.dynamic_dim['source'] size after: 2\n"
     ]
    }
   ],
   "source": [
    "job.get_sources()"
   ]
  },
  {
   "cell_type": "code",
   "execution_count": 48,
   "metadata": {},
   "outputs": [
    {
     "data": {
      "text/plain": [
       "[{'code': 'ng_oil_supply_2021',\n",
       "  'url': 'https://www.dpr.gov.ng/wp-content/uploads/2021/09/OIL_PRODUCTION_STATUS_REPORT_AS_AT_AUGUST_2021.xlsx',\n",
       "  'path': 'ng_oil_supply_2021.xlsx',\n",
       "  'long_name': 'Monthly Nigerian Oil Supply - 2021'},\n",
       " {'code': 'ng_oil_supply_2020',\n",
       "  'url': 'https://www.dpr.gov.ng/wp-content/uploads/2021/05/2020-Production-data.xlsx',\n",
       "  'path': 'ng_oil_supply_2020.xlsx',\n",
       "  'long_name': 'Monthly Nigerian Oil Supply - 2020'}]"
      ]
     },
     "execution_count": 48,
     "metadata": {},
     "output_type": "execute_result"
    }
   ],
   "source": [
    "[vars(s) for s in job.sources]"
   ]
  },
  {
   "cell_type": "code",
   "execution_count": 37,
   "metadata": {},
   "outputs": [
    {
     "data": {
      "text/plain": [
       "<scraper.jobs.ng_gov_dpr.nigerian_oil_supply.NigerianOilSupplyJob at 0x1f1fb489d90>"
      ]
     },
     "execution_count": 37,
     "metadata": {},
     "output_type": "execute_result"
    }
   ],
   "source": [
    "job"
   ]
  },
  {
   "cell_type": "code",
   "execution_count": 40,
   "metadata": {},
   "outputs": [
    {
     "data": {
      "text/plain": [
       "['BaseSource(c...ly_2021.xlsx)', 'BaseSource(c...ly_2020.xlsx)']"
      ]
     },
     "execution_count": 40,
     "metadata": {},
     "output_type": "execute_result"
    }
   ],
   "source": [
    "job.sources"
   ]
  },
  {
   "cell_type": "code",
   "execution_count": 39,
   "metadata": {},
   "outputs": [
    {
     "name": "stdout",
     "output_type": "stream",
     "text": [
      "2021-09-20 16:30:42,231 - scraper.jobs.ng_gov_dpr.nigerian_oil_supply - INFO - Loading sources\n",
      "2021-09-20 16:30:42,231 - scraper.jobs.ng_gov_dpr.nigerian_oil_supply - INFO - Loading sources\n",
      "2021-09-20 16:30:42,231 - scraper.jobs.ng_gov_dpr.nigerian_oil_supply - INFO - Loading sources\n",
      "2021-09-20 16:30:42,231 - scraper.jobs.ng_gov_dpr.nigerian_oil_supply - INFO - Loading sources\n",
      "2021-09-20 16:30:42,235 - scraper.jobs.ng_gov_dpr.nigerian_oil_supply - DEBUG - Parsing main page to get sources: https://www.dpr.gov.ng/oil-production-status-report/\n",
      "2021-09-20 16:30:42,235 - scraper.jobs.ng_gov_dpr.nigerian_oil_supply - DEBUG - Parsing main page to get sources: https://www.dpr.gov.ng/oil-production-status-report/\n",
      "2021-09-20 16:30:42,235 - scraper.jobs.ng_gov_dpr.nigerian_oil_supply - DEBUG - Parsing main page to get sources: https://www.dpr.gov.ng/oil-production-status-report/\n",
      "2021-09-20 16:30:42,235 - scraper.jobs.ng_gov_dpr.nigerian_oil_supply - DEBUG - Parsing main page to get sources: https://www.dpr.gov.ng/oil-production-status-report/\n",
      "2021-09-20 16:30:42,242 - urllib3.connectionpool - DEBUG - Starting new HTTPS connection (1): www.dpr.gov.ng:443\n",
      "2021-09-20 16:30:42,242 - urllib3.connectionpool - DEBUG - Starting new HTTPS connection (1): www.dpr.gov.ng:443\n",
      "2021-09-20 16:30:42,242 - urllib3.connectionpool - DEBUG - Starting new HTTPS connection (1): www.dpr.gov.ng:443\n",
      "2021-09-20 16:30:42,242 - urllib3.connectionpool - DEBUG - Starting new HTTPS connection (1): www.dpr.gov.ng:443\n",
      "2021-09-20 16:30:43,817 - urllib3.connectionpool - DEBUG - https://www.dpr.gov.ng:443 \"GET /oil-production-status-report/ HTTP/1.1\" 200 16339\n",
      "2021-09-20 16:30:43,817 - urllib3.connectionpool - DEBUG - https://www.dpr.gov.ng:443 \"GET /oil-production-status-report/ HTTP/1.1\" 200 16339\n",
      "2021-09-20 16:30:43,817 - urllib3.connectionpool - DEBUG - https://www.dpr.gov.ng:443 \"GET /oil-production-status-report/ HTTP/1.1\" 200 16339\n",
      "2021-09-20 16:30:43,817 - urllib3.connectionpool - DEBUG - https://www.dpr.gov.ng:443 \"GET /oil-production-status-report/ HTTP/1.1\" 200 16339\n",
      "2021-09-20 16:30:43,836 - scraper.jobs.ng_gov_dpr.nigerian_oil_supply - DEBUG - 2 file links retrieved in https://www.dpr.gov.ng/oil-production-status-report/\n",
      "2021-09-20 16:30:43,836 - scraper.jobs.ng_gov_dpr.nigerian_oil_supply - DEBUG - 2 file links retrieved in https://www.dpr.gov.ng/oil-production-status-report/\n",
      "2021-09-20 16:30:43,836 - scraper.jobs.ng_gov_dpr.nigerian_oil_supply - DEBUG - 2 file links retrieved in https://www.dpr.gov.ng/oil-production-status-report/\n",
      "2021-09-20 16:30:43,836 - scraper.jobs.ng_gov_dpr.nigerian_oil_supply - DEBUG - 2 file links retrieved in https://www.dpr.gov.ng/oil-production-status-report/\n",
      "2021-09-20 16:30:43,838 - scraper.jobs.ng_gov_dpr.nigerian_oil_supply - DEBUG - Filename in the link: OIL_PRODUCTION_STATUS_REPORT_AS_AT_AUGUST_2021.xlsx\n",
      "2021-09-20 16:30:43,838 - scraper.jobs.ng_gov_dpr.nigerian_oil_supply - DEBUG - Filename in the link: OIL_PRODUCTION_STATUS_REPORT_AS_AT_AUGUST_2021.xlsx\n",
      "2021-09-20 16:30:43,838 - scraper.jobs.ng_gov_dpr.nigerian_oil_supply - DEBUG - Filename in the link: OIL_PRODUCTION_STATUS_REPORT_AS_AT_AUGUST_2021.xlsx\n",
      "2021-09-20 16:30:43,838 - scraper.jobs.ng_gov_dpr.nigerian_oil_supply - DEBUG - Filename in the link: OIL_PRODUCTION_STATUS_REPORT_AS_AT_AUGUST_2021.xlsx\n",
      "2021-09-20 16:30:43,840 - scraper.jobs.ng_gov_dpr.nigerian_oil_supply - DEBUG - Filename in the link: 2020-Production-data.xlsx\n",
      "2021-09-20 16:30:43,840 - scraper.jobs.ng_gov_dpr.nigerian_oil_supply - DEBUG - Filename in the link: 2020-Production-data.xlsx\n",
      "2021-09-20 16:30:43,840 - scraper.jobs.ng_gov_dpr.nigerian_oil_supply - DEBUG - Filename in the link: 2020-Production-data.xlsx\n",
      "2021-09-20 16:30:43,840 - scraper.jobs.ng_gov_dpr.nigerian_oil_supply - DEBUG - Filename in the link: 2020-Production-data.xlsx\n",
      "2021-09-20 16:30:43,842 - scraper.jobs.ng_gov_dpr.nigerian_oil_supply - DEBUG - ['BaseSource(c...ly_2021.xlsx)', 'BaseSource(c...ly_2020.xlsx)']\n",
      "2021-09-20 16:30:43,842 - scraper.jobs.ng_gov_dpr.nigerian_oil_supply - DEBUG - ['BaseSource(c...ly_2021.xlsx)', 'BaseSource(c...ly_2020.xlsx)']\n",
      "2021-09-20 16:30:43,842 - scraper.jobs.ng_gov_dpr.nigerian_oil_supply - DEBUG - ['BaseSource(c...ly_2021.xlsx)', 'BaseSource(c...ly_2020.xlsx)']\n",
      "2021-09-20 16:30:43,842 - scraper.jobs.ng_gov_dpr.nigerian_oil_supply - DEBUG - ['BaseSource(c...ly_2021.xlsx)', 'BaseSource(c...ly_2020.xlsx)']\n",
      "2021-09-20 16:30:43,843 - scraper.core.job - DEBUG - remove_existing_dynamic_dim: query - http://vipenta.iea.org:8000/dimension/source\n",
      "2021-09-20 16:30:43,843 - scraper.core.job - DEBUG - remove_existing_dynamic_dim: query - http://vipenta.iea.org:8000/dimension/source\n",
      "2021-09-20 16:30:43,843 - scraper.core.job - DEBUG - remove_existing_dynamic_dim: query - http://vipenta.iea.org:8000/dimension/source\n",
      "2021-09-20 16:30:43,843 - scraper.core.job - DEBUG - remove_existing_dynamic_dim: query - http://vipenta.iea.org:8000/dimension/source\n",
      "2021-09-20 16:30:43,847 - urllib3.connectionpool - DEBUG - Starting new HTTP connection (1): vipenta.iea.org:8000\n",
      "2021-09-20 16:30:43,847 - urllib3.connectionpool - DEBUG - Starting new HTTP connection (1): vipenta.iea.org:8000\n",
      "2021-09-20 16:30:43,847 - urllib3.connectionpool - DEBUG - Starting new HTTP connection (1): vipenta.iea.org:8000\n",
      "2021-09-20 16:30:43,847 - urllib3.connectionpool - DEBUG - Starting new HTTP connection (1): vipenta.iea.org:8000\n",
      "2021-09-20 16:30:44,313 - urllib3.connectionpool - DEBUG - http://vipenta.iea.org:8000 \"GET /dimension/source HTTP/1.1\" 200 770751\n",
      "2021-09-20 16:30:44,313 - urllib3.connectionpool - DEBUG - http://vipenta.iea.org:8000 \"GET /dimension/source HTTP/1.1\" 200 770751\n",
      "2021-09-20 16:30:44,313 - urllib3.connectionpool - DEBUG - http://vipenta.iea.org:8000 \"GET /dimension/source HTTP/1.1\" 200 770751\n",
      "2021-09-20 16:30:44,313 - urllib3.connectionpool - DEBUG - http://vipenta.iea.org:8000 \"GET /dimension/source HTTP/1.1\" 200 770751\n",
      "2021-09-20 16:30:44,403 - scraper.core.job - DEBUG - self.dynamic_dim['source'] size before: 2\n",
      "2021-09-20 16:30:44,403 - scraper.core.job - DEBUG - self.dynamic_dim['source'] size before: 2\n",
      "2021-09-20 16:30:44,403 - scraper.core.job - DEBUG - self.dynamic_dim['source'] size before: 2\n",
      "2021-09-20 16:30:44,403 - scraper.core.job - DEBUG - self.dynamic_dim['source'] size before: 2\n",
      "2021-09-20 16:30:44,405 - scraper.core.job - DEBUG - self.dynamic_dim['source'] size after: 2\n",
      "2021-09-20 16:30:44,405 - scraper.core.job - DEBUG - self.dynamic_dim['source'] size after: 2\n",
      "2021-09-20 16:30:44,405 - scraper.core.job - DEBUG - self.dynamic_dim['source'] size after: 2\n",
      "2021-09-20 16:30:44,405 - scraper.core.job - DEBUG - self.dynamic_dim['source'] size after: 2\n"
     ]
    }
   ],
   "source": [
    "job.get_sources()"
   ]
  },
  {
   "cell_type": "code",
   "execution_count": 41,
   "metadata": {},
   "outputs": [
    {
     "data": {
      "text/plain": [
       "[{'code': 'ng_oil_supply_2021',\n",
       "  'url': 'https://www.dpr.gov.ng/wp-content/uploads/2021/09/OIL_PRODUCTION_STATUS_REPORT_AS_AT_AUGUST_2021.xlsx',\n",
       "  'path': 'ng_oil_supply_2021.xlsx',\n",
       "  'long_name': 'Monthly Nigerian Oil Supply - 2021'},\n",
       " {'code': 'ng_oil_supply_2020',\n",
       "  'url': 'https://www.dpr.gov.ng/wp-content/uploads/2021/05/2020-Production-data.xlsx',\n",
       "  'path': 'ng_oil_supply_2020.xlsx',\n",
       "  'long_name': 'Monthly Nigerian Oil Supply - 2020'}]"
      ]
     },
     "execution_count": 41,
     "metadata": {},
     "output_type": "execute_result"
    }
   ],
   "source": [
    "[vars(s) for s in job.sources]"
   ]
  },
  {
   "cell_type": "code",
   "execution_count": 21,
   "metadata": {},
   "outputs": [
    {
     "data": {
      "text/plain": [
       "['BaseSource(c...ly_2021.xlsx)', 'BaseSource(c...ly_2020.xlsx)']"
      ]
     },
     "execution_count": 21,
     "metadata": {},
     "output_type": "execute_result"
    }
   ],
   "source": [
    "job.sources"
   ]
  },
  {
   "cell_type": "code",
   "execution_count": 22,
   "metadata": {},
   "outputs": [
    {
     "name": "stdout",
     "output_type": "stream",
     "text": [
      "2021-09-20 15:45:54,560 - scraper.core.job - DEBUG - download: True, parallel download: False\n",
      "2021-09-20 15:45:54,560 - scraper.core.job - DEBUG - download: True, parallel download: False\n",
      "2021-09-20 15:45:54,560 - scraper.core.job - DEBUG - download: True, parallel download: False\n",
      "2021-09-20 15:45:54,560 - scraper.core.job - DEBUG - download: True, parallel download: False\n",
      "2021-09-20 15:45:54,571 - urllib3.connectionpool - DEBUG - Starting new HTTPS connection (1): www.dpr.gov.ng:443\n",
      "2021-09-20 15:45:54,571 - urllib3.connectionpool - DEBUG - Starting new HTTPS connection (1): www.dpr.gov.ng:443\n",
      "2021-09-20 15:45:54,571 - urllib3.connectionpool - DEBUG - Starting new HTTPS connection (1): www.dpr.gov.ng:443\n",
      "2021-09-20 15:45:54,571 - urllib3.connectionpool - DEBUG - Starting new HTTPS connection (1): www.dpr.gov.ng:443\n",
      "2021-09-20 15:45:54,904 - urllib3.connectionpool - DEBUG - https://www.dpr.gov.ng:443 \"GET /wp-content/uploads/2021/09/OIL_PRODUCTION_STATUS_REPORT_AS_AT_AUGUST_2021.xlsx HTTP/1.1\" 200 26642\n",
      "2021-09-20 15:45:54,904 - urllib3.connectionpool - DEBUG - https://www.dpr.gov.ng:443 \"GET /wp-content/uploads/2021/09/OIL_PRODUCTION_STATUS_REPORT_AS_AT_AUGUST_2021.xlsx HTTP/1.1\" 200 26642\n",
      "2021-09-20 15:45:54,904 - urllib3.connectionpool - DEBUG - https://www.dpr.gov.ng:443 \"GET /wp-content/uploads/2021/09/OIL_PRODUCTION_STATUS_REPORT_AS_AT_AUGUST_2021.xlsx HTTP/1.1\" 200 26642\n",
      "2021-09-20 15:45:54,904 - urllib3.connectionpool - DEBUG - https://www.dpr.gov.ng:443 \"GET /wp-content/uploads/2021/09/OIL_PRODUCTION_STATUS_REPORT_AS_AT_AUGUST_2021.xlsx HTTP/1.1\" 200 26642\n",
      "2021-09-20 15:45:54,934 - urllib3.connectionpool - DEBUG - Starting new HTTPS connection (1): www.dpr.gov.ng:443\n",
      "2021-09-20 15:45:54,934 - urllib3.connectionpool - DEBUG - Starting new HTTPS connection (1): www.dpr.gov.ng:443\n",
      "2021-09-20 15:45:54,934 - urllib3.connectionpool - DEBUG - Starting new HTTPS connection (1): www.dpr.gov.ng:443\n",
      "2021-09-20 15:45:54,934 - urllib3.connectionpool - DEBUG - Starting new HTTPS connection (1): www.dpr.gov.ng:443\n",
      "2021-09-20 15:45:55,292 - urllib3.connectionpool - DEBUG - https://www.dpr.gov.ng:443 \"GET /wp-content/uploads/2021/05/2020-Production-data.xlsx HTTP/1.1\" 200 33679\n",
      "2021-09-20 15:45:55,292 - urllib3.connectionpool - DEBUG - https://www.dpr.gov.ng:443 \"GET /wp-content/uploads/2021/05/2020-Production-data.xlsx HTTP/1.1\" 200 33679\n",
      "2021-09-20 15:45:55,292 - urllib3.connectionpool - DEBUG - https://www.dpr.gov.ng:443 \"GET /wp-content/uploads/2021/05/2020-Production-data.xlsx HTTP/1.1\" 200 33679\n",
      "2021-09-20 15:45:55,292 - urllib3.connectionpool - DEBUG - https://www.dpr.gov.ng:443 \"GET /wp-content/uploads/2021/05/2020-Production-data.xlsx HTTP/1.1\" 200 33679\n",
      "2021-09-20 15:45:55,380 - scraper.core.utils - INFO - download_and_get_checksum: 819.242000579834 ms\n",
      "2021-09-20 15:45:55,380 - scraper.core.utils - INFO - download_and_get_checksum: 819.242000579834 ms\n",
      "2021-09-20 15:45:55,380 - scraper.core.utils - INFO - download_and_get_checksum: 819.242000579834 ms\n",
      "2021-09-20 15:45:55,380 - scraper.core.utils - INFO - download_and_get_checksum: 819.242000579834 ms\n"
     ]
    }
   ],
   "source": [
    "job.download_and_get_checksum(True, False)"
   ]
  },
  {
   "cell_type": "code",
   "execution_count": 152,
   "metadata": {},
   "outputs": [
    {
     "name": "stdout",
     "output_type": "stream",
     "text": [
      "2021-09-20 18:38:47,414 - scraper.jobs.ng_gov_dpr.nigerian_oil_supply - INFO - Adding the provider data to the dynamic dim : {'code': 'NG_GOV_DPR', 'long_name': 'Department of Petroleum Resources', 'url': 'https://www.dpr.gov.ng/oil-production-status-report/'}\n",
      "2021-09-20 18:38:47,414 - scraper.jobs.ng_gov_dpr.nigerian_oil_supply - INFO - Adding the provider data to the dynamic dim : {'code': 'NG_GOV_DPR', 'long_name': 'Department of Petroleum Resources', 'url': 'https://www.dpr.gov.ng/oil-production-status-report/'}\n",
      "2021-09-20 18:38:47,414 - scraper.jobs.ng_gov_dpr.nigerian_oil_supply - INFO - Adding the provider data to the dynamic dim : {'code': 'NG_GOV_DPR', 'long_name': 'Department of Petroleum Resources', 'url': 'https://www.dpr.gov.ng/oil-production-status-report/'}\n",
      "2021-09-20 18:38:47,414 - scraper.jobs.ng_gov_dpr.nigerian_oil_supply - INFO - Adding the provider data to the dynamic dim : {'code': 'NG_GOV_DPR', 'long_name': 'Department of Petroleum Resources', 'url': 'https://www.dpr.gov.ng/oil-production-status-report/'}\n",
      "2021-09-20 18:38:47,416 - scraper.core.job - DEBUG - remove_existing_dynamic_dim: query - http://vipenta.iea.org:8000/dimension/provider\n",
      "2021-09-20 18:38:47,416 - scraper.core.job - DEBUG - remove_existing_dynamic_dim: query - http://vipenta.iea.org:8000/dimension/provider\n",
      "2021-09-20 18:38:47,416 - scraper.core.job - DEBUG - remove_existing_dynamic_dim: query - http://vipenta.iea.org:8000/dimension/provider\n",
      "2021-09-20 18:38:47,416 - scraper.core.job - DEBUG - remove_existing_dynamic_dim: query - http://vipenta.iea.org:8000/dimension/provider\n",
      "2021-09-20 18:38:47,420 - urllib3.connectionpool - DEBUG - Starting new HTTP connection (1): vipenta.iea.org:8000\n",
      "2021-09-20 18:38:47,420 - urllib3.connectionpool - DEBUG - Starting new HTTP connection (1): vipenta.iea.org:8000\n",
      "2021-09-20 18:38:47,420 - urllib3.connectionpool - DEBUG - Starting new HTTP connection (1): vipenta.iea.org:8000\n",
      "2021-09-20 18:38:47,420 - urllib3.connectionpool - DEBUG - Starting new HTTP connection (1): vipenta.iea.org:8000\n",
      "2021-09-20 18:38:47,456 - urllib3.connectionpool - DEBUG - http://vipenta.iea.org:8000 \"GET /dimension/provider HTTP/1.1\" 200 7177\n",
      "2021-09-20 18:38:47,456 - urllib3.connectionpool - DEBUG - http://vipenta.iea.org:8000 \"GET /dimension/provider HTTP/1.1\" 200 7177\n",
      "2021-09-20 18:38:47,456 - urllib3.connectionpool - DEBUG - http://vipenta.iea.org:8000 \"GET /dimension/provider HTTP/1.1\" 200 7177\n",
      "2021-09-20 18:38:47,456 - urllib3.connectionpool - DEBUG - http://vipenta.iea.org:8000 \"GET /dimension/provider HTTP/1.1\" 200 7177\n",
      "2021-09-20 18:38:47,459 - scraper.core.job - DEBUG - self.dynamic_dim['provider'] size before: 1\n",
      "2021-09-20 18:38:47,459 - scraper.core.job - DEBUG - self.dynamic_dim['provider'] size before: 1\n",
      "2021-09-20 18:38:47,459 - scraper.core.job - DEBUG - self.dynamic_dim['provider'] size before: 1\n",
      "2021-09-20 18:38:47,459 - scraper.core.job - DEBUG - self.dynamic_dim['provider'] size before: 1\n",
      "2021-09-20 18:38:47,462 - scraper.core.job - DEBUG - self.dynamic_dim['provider'] size after: 1\n",
      "2021-09-20 18:38:47,462 - scraper.core.job - DEBUG - self.dynamic_dim['provider'] size after: 1\n",
      "2021-09-20 18:38:47,462 - scraper.core.job - DEBUG - self.dynamic_dim['provider'] size after: 1\n",
      "2021-09-20 18:38:47,462 - scraper.core.job - DEBUG - self.dynamic_dim['provider'] size after: 1\n",
      "2021-09-20 18:38:47,484 - scraper.jobs.ng_gov_dpr.nigerian_oil_supply - DEBUG - Number of rows before before melting: 42\n",
      "2021-09-20 18:38:47,484 - scraper.jobs.ng_gov_dpr.nigerian_oil_supply - DEBUG - Number of rows before before melting: 42\n",
      "2021-09-20 18:38:47,484 - scraper.jobs.ng_gov_dpr.nigerian_oil_supply - DEBUG - Number of rows before before melting: 42\n",
      "2021-09-20 18:38:47,484 - scraper.jobs.ng_gov_dpr.nigerian_oil_supply - DEBUG - Number of rows before before melting: 42\n",
      "2021-09-20 18:38:47,489 - scraper.jobs.ng_gov_dpr.nigerian_oil_supply - DEBUG - Number of rows after melting: 336\n",
      "2021-09-20 18:38:47,489 - scraper.jobs.ng_gov_dpr.nigerian_oil_supply - DEBUG - Number of rows after melting: 336\n",
      "2021-09-20 18:38:47,489 - scraper.jobs.ng_gov_dpr.nigerian_oil_supply - DEBUG - Number of rows after melting: 336\n",
      "2021-09-20 18:38:47,489 - scraper.jobs.ng_gov_dpr.nigerian_oil_supply - DEBUG - Number of rows after melting: 336\n",
      "2021-09-20 18:38:47,492 - scraper.jobs.ng_gov_dpr.nigerian_oil_supply - DEBUG - Number of rows after removing zero values: 271\n",
      "2021-09-20 18:38:47,492 - scraper.jobs.ng_gov_dpr.nigerian_oil_supply - DEBUG - Number of rows after removing zero values: 271\n",
      "2021-09-20 18:38:47,492 - scraper.jobs.ng_gov_dpr.nigerian_oil_supply - DEBUG - Number of rows after removing zero values: 271\n",
      "2021-09-20 18:38:47,492 - scraper.jobs.ng_gov_dpr.nigerian_oil_supply - DEBUG - Number of rows after removing zero values: 271\n",
      "2021-09-20 18:38:47,501 - scraper.jobs.ng_gov_dpr.nigerian_oil_supply - DEBUG - 1 dataframes successfully appended\n",
      "2021-09-20 18:38:47,501 - scraper.jobs.ng_gov_dpr.nigerian_oil_supply - DEBUG - 1 dataframes successfully appended\n",
      "2021-09-20 18:38:47,501 - scraper.jobs.ng_gov_dpr.nigerian_oil_supply - DEBUG - 1 dataframes successfully appended\n",
      "2021-09-20 18:38:47,501 - scraper.jobs.ng_gov_dpr.nigerian_oil_supply - DEBUG - 1 dataframes successfully appended\n",
      "2021-09-20 18:38:47,527 - scraper.jobs.ng_gov_dpr.nigerian_oil_supply - DEBUG - Number of rows before before melting: 42\n",
      "2021-09-20 18:38:47,527 - scraper.jobs.ng_gov_dpr.nigerian_oil_supply - DEBUG - Number of rows before before melting: 42\n",
      "2021-09-20 18:38:47,527 - scraper.jobs.ng_gov_dpr.nigerian_oil_supply - DEBUG - Number of rows before before melting: 42\n",
      "2021-09-20 18:38:47,527 - scraper.jobs.ng_gov_dpr.nigerian_oil_supply - DEBUG - Number of rows before before melting: 42\n",
      "2021-09-20 18:38:47,534 - scraper.jobs.ng_gov_dpr.nigerian_oil_supply - DEBUG - Number of rows after melting: 504\n",
      "2021-09-20 18:38:47,534 - scraper.jobs.ng_gov_dpr.nigerian_oil_supply - DEBUG - Number of rows after melting: 504\n",
      "2021-09-20 18:38:47,534 - scraper.jobs.ng_gov_dpr.nigerian_oil_supply - DEBUG - Number of rows after melting: 504\n",
      "2021-09-20 18:38:47,534 - scraper.jobs.ng_gov_dpr.nigerian_oil_supply - DEBUG - Number of rows after melting: 504\n",
      "2021-09-20 18:38:47,538 - scraper.jobs.ng_gov_dpr.nigerian_oil_supply - DEBUG - Number of rows after removing zero values: 387\n",
      "2021-09-20 18:38:47,538 - scraper.jobs.ng_gov_dpr.nigerian_oil_supply - DEBUG - Number of rows after removing zero values: 387\n",
      "2021-09-20 18:38:47,538 - scraper.jobs.ng_gov_dpr.nigerian_oil_supply - DEBUG - Number of rows after removing zero values: 387\n",
      "2021-09-20 18:38:47,538 - scraper.jobs.ng_gov_dpr.nigerian_oil_supply - DEBUG - Number of rows after removing zero values: 387\n",
      "2021-09-20 18:38:47,549 - scraper.jobs.ng_gov_dpr.nigerian_oil_supply - DEBUG - 2 dataframes successfully appended\n",
      "2021-09-20 18:38:47,549 - scraper.jobs.ng_gov_dpr.nigerian_oil_supply - DEBUG - 2 dataframes successfully appended\n",
      "2021-09-20 18:38:47,549 - scraper.jobs.ng_gov_dpr.nigerian_oil_supply - DEBUG - 2 dataframes successfully appended\n",
      "2021-09-20 18:38:47,549 - scraper.jobs.ng_gov_dpr.nigerian_oil_supply - DEBUG - 2 dataframes successfully appended\n",
      "2021-09-20 18:38:47,560 - scraper.core.job - DEBUG - remove_existing_dynamic_dim: query - http://vipenta.iea.org:8000/dimension/entity\n",
      "2021-09-20 18:38:47,560 - scraper.core.job - DEBUG - remove_existing_dynamic_dim: query - http://vipenta.iea.org:8000/dimension/entity\n",
      "2021-09-20 18:38:47,560 - scraper.core.job - DEBUG - remove_existing_dynamic_dim: query - http://vipenta.iea.org:8000/dimension/entity\n",
      "2021-09-20 18:38:47,560 - scraper.core.job - DEBUG - remove_existing_dynamic_dim: query - http://vipenta.iea.org:8000/dimension/entity\n",
      "2021-09-20 18:38:47,565 - urllib3.connectionpool - DEBUG - Starting new HTTP connection (1): vipenta.iea.org:8000\n",
      "2021-09-20 18:38:47,565 - urllib3.connectionpool - DEBUG - Starting new HTTP connection (1): vipenta.iea.org:8000\n",
      "2021-09-20 18:38:47,565 - urllib3.connectionpool - DEBUG - Starting new HTTP connection (1): vipenta.iea.org:8000\n",
      "2021-09-20 18:38:47,565 - urllib3.connectionpool - DEBUG - Starting new HTTP connection (1): vipenta.iea.org:8000\n",
      "2021-09-20 18:38:59,208 - urllib3.connectionpool - DEBUG - http://vipenta.iea.org:8000 \"GET /dimension/entity HTTP/1.1\" 200 17234092\n",
      "2021-09-20 18:38:59,208 - urllib3.connectionpool - DEBUG - http://vipenta.iea.org:8000 \"GET /dimension/entity HTTP/1.1\" 200 17234092\n",
      "2021-09-20 18:38:59,208 - urllib3.connectionpool - DEBUG - http://vipenta.iea.org:8000 \"GET /dimension/entity HTTP/1.1\" 200 17234092\n",
      "2021-09-20 18:38:59,208 - urllib3.connectionpool - DEBUG - http://vipenta.iea.org:8000 \"GET /dimension/entity HTTP/1.1\" 200 17234092\n",
      "2021-09-20 18:38:59,759 - scraper.core.job - DEBUG - self.dynamic_dim['entity'] size before: 27\n",
      "2021-09-20 18:38:59,759 - scraper.core.job - DEBUG - self.dynamic_dim['entity'] size before: 27\n",
      "2021-09-20 18:38:59,759 - scraper.core.job - DEBUG - self.dynamic_dim['entity'] size before: 27\n",
      "2021-09-20 18:38:59,759 - scraper.core.job - DEBUG - self.dynamic_dim['entity'] size before: 27\n",
      "2021-09-20 18:38:59,787 - scraper.core.job - DEBUG - self.dynamic_dim['entity'] size after: 27\n",
      "2021-09-20 18:38:59,787 - scraper.core.job - DEBUG - self.dynamic_dim['entity'] size after: 27\n",
      "2021-09-20 18:38:59,787 - scraper.core.job - DEBUG - self.dynamic_dim['entity'] size after: 27\n",
      "2021-09-20 18:38:59,787 - scraper.core.job - DEBUG - self.dynamic_dim['entity'] size after: 27\n"
     ]
    }
   ],
   "source": [
    "job.transform()"
   ]
  },
  {
   "cell_type": "code",
   "execution_count": 153,
   "metadata": {},
   "outputs": [
    {
     "data": {
      "text/plain": [
       "[{'code': 'NG_GOV_DPR_BONNY', 'long_name': 'BONNY ', 'category': 'field'},\n",
       " {'code': 'NG_GOV_DPR_BRASS', 'long_name': 'BRASS', 'category': 'field'},\n",
       " {'code': 'NG_GOV_DPR_QUA_IBOE', 'long_name': 'QUA IBOE', 'category': 'field'},\n",
       " {'code': 'NG_GOV_DPR_FORCADOS', 'long_name': 'FORCADOS', 'category': 'field'},\n",
       " {'code': 'NG_GOV_DPR_ESCRAVOS',\n",
       "  'long_name': 'ESCRAVOS (OIL TERMINAL)',\n",
       "  'category': 'field'},\n",
       " {'code': 'NG_GOV_DPR_ODUDU',\n",
       "  'long_name': 'ODUDU (AMENAM BLEND)',\n",
       "  'category': 'field'},\n",
       " {'code': 'NG_GOV_DPR_TULJA_OKWUIBOME',\n",
       "  'long_name': 'TULJA - OKWUIBOME',\n",
       "  'category': 'field'},\n",
       " {'code': 'NG_GOV_DPR_AJE', 'long_name': 'AJE', 'category': 'field'},\n",
       " {'code': 'NG_GOV_DPR_OKORO',\n",
       "  'long_name': 'OKORO (EX IMA TERMINAL)',\n",
       "  'category': 'field'},\n",
       " {'code': 'NG_GOV_DPR_OTAKPIPO',\n",
       "  'long_name': 'OTAKPIPO (EX IMA TERMINAL)',\n",
       "  'category': 'field'},\n",
       " {'code': 'NG_GOV_DPR_ANTAN', 'long_name': 'ANTAN', 'category': 'field'},\n",
       " {'code': 'NG_GOV_DPR_OKONO', 'long_name': 'OKONO', 'category': 'field'},\n",
       " {'code': 'NG_GOV_DPR_YOHO', 'long_name': 'YOHO', 'category': 'field'},\n",
       " {'code': 'NG_GOV_DPR_OKWORI', 'long_name': 'OKWORI', 'category': 'field'},\n",
       " {'code': 'NG_GOV_DPR_EBOK', 'long_name': 'EBOK', 'category': 'field'},\n",
       " {'code': 'NG_GOV_DPR_BONGA', 'long_name': 'BONGA', 'category': 'field'},\n",
       " {'code': 'NG_GOV_DPR_ERHA', 'long_name': 'ERHA', 'category': 'field'},\n",
       " {'code': 'NG_GOV_DPR_USAN', 'long_name': 'USAN', 'category': 'field'},\n",
       " {'code': 'NG_GOV_DPR_EGINA', 'long_name': 'EGINA', 'category': 'field'},\n",
       " {'code': 'NG_GOV_DPR_ABO', 'long_name': 'ABO', 'category': 'field'},\n",
       " {'code': 'NG_GOV_DPR_PENNINGTON',\n",
       "  'long_name': 'PENNINGTON',\n",
       "  'category': 'field'},\n",
       " {'code': 'NG_GOV_DPR_UGO_OCHA',\n",
       "  'long_name': 'UGO OCHA (JONES CREEK) ',\n",
       "  'category': 'field'},\n",
       " {'code': 'NG_GOV_DPR_SEA_EAGLE',\n",
       "  'long_name': 'SEA EAGLE (EA)',\n",
       "  'category': 'field'},\n",
       " {'code': 'NG_GOV_DPR_ANYALA_MADU',\n",
       "  'long_name': 'ANYALA MADU (CJ BLEND)',\n",
       "  'category': 'field'},\n",
       " {'code': 'NG_GOV_DPR_AGBAMI', 'long_name': 'AGBAMI ', 'category': 'field'},\n",
       " {'code': 'NG_GOV_DPR_AKPO', 'long_name': 'AKPO ', 'category': 'field'},\n",
       " {'code': 'NG_GOV_DPR_AJAPA', 'long_name': 'AJAPA ', 'category': 'field'}]"
      ]
     },
     "execution_count": 153,
     "metadata": {},
     "output_type": "execute_result"
    }
   ],
   "source": [
    "job.dynamic_dim['entity']"
   ]
  },
  {
   "cell_type": "code",
   "execution_count": 116,
   "metadata": {},
   "outputs": [],
   "source": [
    "table = job.data"
   ]
  },
  {
   "cell_type": "code",
   "execution_count": 117,
   "metadata": {},
   "outputs": [
    {
     "data": {
      "text/html": [
       "<div>\n",
       "<style scoped>\n",
       "    .dataframe tbody tr th:only-of-type {\n",
       "        vertical-align: middle;\n",
       "    }\n",
       "\n",
       "    .dataframe tbody tr th {\n",
       "        vertical-align: top;\n",
       "    }\n",
       "\n",
       "    .dataframe thead th {\n",
       "        text-align: right;\n",
       "    }\n",
       "</style>\n",
       "<table border=\"1\" class=\"dataframe\">\n",
       "  <thead>\n",
       "    <tr style=\"text-align: right;\">\n",
       "      <th></th>\n",
       "      <th>entity</th>\n",
       "      <th>product</th>\n",
       "      <th>period</th>\n",
       "      <th>value</th>\n",
       "      <th>provider</th>\n",
       "      <th>frequency</th>\n",
       "      <th>unit</th>\n",
       "      <th>area</th>\n",
       "      <th>flow</th>\n",
       "      <th>original</th>\n",
       "    </tr>\n",
       "  </thead>\n",
       "  <tbody>\n",
       "    <tr>\n",
       "      <th>0</th>\n",
       "      <td>BONNY</td>\n",
       "      <td>CRUDEOIL</td>\n",
       "      <td>JAN2021</td>\n",
       "      <td>6.77602e+06</td>\n",
       "      <td>NG_GOV_DPR</td>\n",
       "      <td>Monthly</td>\n",
       "      <td>Barrels</td>\n",
       "      <td>Nigeria</td>\n",
       "      <td>Supply</td>\n",
       "      <td>True</td>\n",
       "    </tr>\n",
       "    <tr>\n",
       "      <th>1</th>\n",
       "      <td>BONNY</td>\n",
       "      <td>COND</td>\n",
       "      <td>JAN2021</td>\n",
       "      <td>1263344</td>\n",
       "      <td>NG_GOV_DPR</td>\n",
       "      <td>Monthly</td>\n",
       "      <td>Barrels</td>\n",
       "      <td>Nigeria</td>\n",
       "      <td>Supply</td>\n",
       "      <td>True</td>\n",
       "    </tr>\n",
       "    <tr>\n",
       "      <th>2</th>\n",
       "      <td>BRASS</td>\n",
       "      <td>CRUDEOIL</td>\n",
       "      <td>JAN2021</td>\n",
       "      <td>1314356</td>\n",
       "      <td>NG_GOV_DPR</td>\n",
       "      <td>Monthly</td>\n",
       "      <td>Barrels</td>\n",
       "      <td>Nigeria</td>\n",
       "      <td>Supply</td>\n",
       "      <td>True</td>\n",
       "    </tr>\n",
       "    <tr>\n",
       "      <th>3</th>\n",
       "      <td>BRASS</td>\n",
       "      <td>COND</td>\n",
       "      <td>JAN2021</td>\n",
       "      <td>741302</td>\n",
       "      <td>NG_GOV_DPR</td>\n",
       "      <td>Monthly</td>\n",
       "      <td>Barrels</td>\n",
       "      <td>Nigeria</td>\n",
       "      <td>Supply</td>\n",
       "      <td>True</td>\n",
       "    </tr>\n",
       "    <tr>\n",
       "      <th>4</th>\n",
       "      <td>QUA IBOE</td>\n",
       "      <td>CRUDEOIL</td>\n",
       "      <td>JAN2021</td>\n",
       "      <td>3657873</td>\n",
       "      <td>NG_GOV_DPR</td>\n",
       "      <td>Monthly</td>\n",
       "      <td>Barrels</td>\n",
       "      <td>Nigeria</td>\n",
       "      <td>Supply</td>\n",
       "      <td>True</td>\n",
       "    </tr>\n",
       "  </tbody>\n",
       "</table>\n",
       "</div>"
      ],
      "text/plain": [
       "     entity   product   period        value    provider frequency     unit  \\\n",
       "0    BONNY   CRUDEOIL  JAN2021  6.77602e+06  NG_GOV_DPR   Monthly  Barrels   \n",
       "1    BONNY       COND  JAN2021      1263344  NG_GOV_DPR   Monthly  Barrels   \n",
       "2     BRASS  CRUDEOIL  JAN2021      1314356  NG_GOV_DPR   Monthly  Barrels   \n",
       "3     BRASS      COND  JAN2021       741302  NG_GOV_DPR   Monthly  Barrels   \n",
       "4  QUA IBOE  CRUDEOIL  JAN2021      3657873  NG_GOV_DPR   Monthly  Barrels   \n",
       "\n",
       "      area    flow  original  \n",
       "0  Nigeria  Supply      True  \n",
       "1  Nigeria  Supply      True  \n",
       "2  Nigeria  Supply      True  \n",
       "3  Nigeria  Supply      True  \n",
       "4  Nigeria  Supply      True  "
      ]
     },
     "execution_count": 117,
     "metadata": {},
     "output_type": "execute_result"
    }
   ],
   "source": [
    "table.head()"
   ]
  },
  {
   "cell_type": "code",
   "execution_count": 118,
   "metadata": {},
   "outputs": [
    {
     "data": {
      "text/html": [
       "<div>\n",
       "<style scoped>\n",
       "    .dataframe tbody tr th:only-of-type {\n",
       "        vertical-align: middle;\n",
       "    }\n",
       "\n",
       "    .dataframe tbody tr th {\n",
       "        vertical-align: top;\n",
       "    }\n",
       "\n",
       "    .dataframe thead th {\n",
       "        text-align: right;\n",
       "    }\n",
       "</style>\n",
       "<table border=\"1\" class=\"dataframe\">\n",
       "  <thead>\n",
       "    <tr style=\"text-align: right;\">\n",
       "      <th></th>\n",
       "      <th>entity</th>\n",
       "      <th>product</th>\n",
       "      <th>period</th>\n",
       "      <th>value</th>\n",
       "      <th>provider</th>\n",
       "      <th>frequency</th>\n",
       "      <th>unit</th>\n",
       "      <th>area</th>\n",
       "      <th>flow</th>\n",
       "      <th>original</th>\n",
       "    </tr>\n",
       "  </thead>\n",
       "  <tbody>\n",
       "  </tbody>\n",
       "</table>\n",
       "</div>"
      ],
      "text/plain": [
       "Empty DataFrame\n",
       "Columns: [entity, product, period, value, provider, frequency, unit, area, flow, original]\n",
       "Index: []"
      ]
     },
     "execution_count": 118,
     "metadata": {},
     "output_type": "execute_result"
    }
   ],
   "source": [
    "job.data[job.data['entity'] == 'AJAPA (Atala Oil)']"
   ]
  },
  {
   "cell_type": "code",
   "execution_count": 122,
   "metadata": {},
   "outputs": [],
   "source": [
    "entities = job.data['entity'].drop_duplicates()"
   ]
  },
  {
   "cell_type": "code",
   "execution_count": 133,
   "metadata": {},
   "outputs": [
    {
     "data": {
      "text/plain": [
       "0               BONNY\n",
       "2               BRASS\n",
       "4            QUA_IBOE\n",
       "6            FORCADOS\n",
       "8            ESCRAVOS\n",
       "10              ODUDU\n",
       "12    TULJA_OKWUIBOME\n",
       "14                AJE\n",
       "16              OKORO\n",
       "18           OTAKPIPO\n",
       "19              ANTAN\n",
       "20              OKONO\n",
       "21               YOHO\n",
       "22             OKWORI\n",
       "23               EBOK\n",
       "26              BONGA\n",
       "27               ERHA\n",
       "28               USAN\n",
       "29              EGINA\n",
       "31                ABO\n",
       "32         PENNINGTON\n",
       "34           UGO_OCHA\n",
       "35          SEA_EAGLE\n",
       "36        ANYALA_MADU\n",
       "37             AGBAMI\n",
       "38               AKPO\n",
       "40              AJAPA\n",
       "40              AJAPA\n",
       "Name: entity, dtype: object"
      ]
     },
     "execution_count": 133,
     "metadata": {},
     "output_type": "execute_result"
    }
   ],
   "source": [
    "entities.str.split('(').map(lambda x: x[0].strip().replace(' - ', '_').replace(' ', '_'))"
   ]
  },
  {
   "cell_type": "code",
   "execution_count": 134,
   "metadata": {},
   "outputs": [],
   "source": [
    "entity_code = job.data['entity'].str.split('(').map(lambda x: x[0].strip().replace(' - ', '_').replace(' ', '_'))"
   ]
  },
  {
   "cell_type": "code",
   "execution_count": 135,
   "metadata": {},
   "outputs": [
    {
     "data": {
      "text/plain": [
       "0                BONNY\n",
       "1                BONNY\n",
       "2                BRASS\n",
       "3                BRASS\n",
       "4             QUA_IBOE\n",
       "            ...       \n",
       "498        ANYALA_MADU\n",
       "499             AGBAMI\n",
       "500               AKPO\n",
       "502              AJAPA\n",
       "503    TULJA_OKWUIBOME\n",
       "Name: entity, Length: 658, dtype: object"
      ]
     },
     "execution_count": 135,
     "metadata": {},
     "output_type": "execute_result"
    }
   ],
   "source": [
    "entity_code"
   ]
  },
  {
   "cell_type": "code",
   "execution_count": 146,
   "metadata": {},
   "outputs": [
    {
     "data": {
      "text/html": [
       "<div>\n",
       "<style scoped>\n",
       "    .dataframe tbody tr th:only-of-type {\n",
       "        vertical-align: middle;\n",
       "    }\n",
       "\n",
       "    .dataframe tbody tr th {\n",
       "        vertical-align: top;\n",
       "    }\n",
       "\n",
       "    .dataframe thead th {\n",
       "        text-align: right;\n",
       "    }\n",
       "</style>\n",
       "<table border=\"1\" class=\"dataframe\">\n",
       "  <thead>\n",
       "    <tr style=\"text-align: right;\">\n",
       "      <th></th>\n",
       "      <th>code</th>\n",
       "      <th>long_name</th>\n",
       "    </tr>\n",
       "  </thead>\n",
       "  <tbody>\n",
       "    <tr>\n",
       "      <th>0</th>\n",
       "      <td>NG_GOV_DPR_BONNY</td>\n",
       "      <td>BONNY</td>\n",
       "    </tr>\n",
       "    <tr>\n",
       "      <th>2</th>\n",
       "      <td>NG_GOV_DPR_BRASS</td>\n",
       "      <td>BRASS</td>\n",
       "    </tr>\n",
       "    <tr>\n",
       "      <th>4</th>\n",
       "      <td>NG_GOV_DPR_QUA_IBOE</td>\n",
       "      <td>QUA IBOE</td>\n",
       "    </tr>\n",
       "    <tr>\n",
       "      <th>6</th>\n",
       "      <td>NG_GOV_DPR_FORCADOS</td>\n",
       "      <td>FORCADOS</td>\n",
       "    </tr>\n",
       "    <tr>\n",
       "      <th>8</th>\n",
       "      <td>NG_GOV_DPR_ESCRAVOS</td>\n",
       "      <td>ESCRAVOS (OIL TERMINAL)</td>\n",
       "    </tr>\n",
       "    <tr>\n",
       "      <th>10</th>\n",
       "      <td>NG_GOV_DPR_ODUDU</td>\n",
       "      <td>ODUDU (AMENAM BLEND)</td>\n",
       "    </tr>\n",
       "    <tr>\n",
       "      <th>12</th>\n",
       "      <td>NG_GOV_DPR_TULJA_OKWUIBOME</td>\n",
       "      <td>TULJA - OKWUIBOME</td>\n",
       "    </tr>\n",
       "    <tr>\n",
       "      <th>14</th>\n",
       "      <td>NG_GOV_DPR_AJE</td>\n",
       "      <td>AJE</td>\n",
       "    </tr>\n",
       "    <tr>\n",
       "      <th>16</th>\n",
       "      <td>NG_GOV_DPR_OKORO</td>\n",
       "      <td>OKORO (EX IMA TERMINAL)</td>\n",
       "    </tr>\n",
       "    <tr>\n",
       "      <th>18</th>\n",
       "      <td>NG_GOV_DPR_OTAKPIPO</td>\n",
       "      <td>OTAKPIPO (EX IMA TERMINAL)</td>\n",
       "    </tr>\n",
       "    <tr>\n",
       "      <th>19</th>\n",
       "      <td>NG_GOV_DPR_ANTAN</td>\n",
       "      <td>ANTAN</td>\n",
       "    </tr>\n",
       "    <tr>\n",
       "      <th>20</th>\n",
       "      <td>NG_GOV_DPR_OKONO</td>\n",
       "      <td>OKONO</td>\n",
       "    </tr>\n",
       "    <tr>\n",
       "      <th>21</th>\n",
       "      <td>NG_GOV_DPR_YOHO</td>\n",
       "      <td>YOHO</td>\n",
       "    </tr>\n",
       "    <tr>\n",
       "      <th>22</th>\n",
       "      <td>NG_GOV_DPR_OKWORI</td>\n",
       "      <td>OKWORI</td>\n",
       "    </tr>\n",
       "    <tr>\n",
       "      <th>23</th>\n",
       "      <td>NG_GOV_DPR_EBOK</td>\n",
       "      <td>EBOK</td>\n",
       "    </tr>\n",
       "    <tr>\n",
       "      <th>26</th>\n",
       "      <td>NG_GOV_DPR_BONGA</td>\n",
       "      <td>BONGA</td>\n",
       "    </tr>\n",
       "    <tr>\n",
       "      <th>27</th>\n",
       "      <td>NG_GOV_DPR_ERHA</td>\n",
       "      <td>ERHA</td>\n",
       "    </tr>\n",
       "    <tr>\n",
       "      <th>28</th>\n",
       "      <td>NG_GOV_DPR_USAN</td>\n",
       "      <td>USAN</td>\n",
       "    </tr>\n",
       "    <tr>\n",
       "      <th>29</th>\n",
       "      <td>NG_GOV_DPR_EGINA</td>\n",
       "      <td>EGINA</td>\n",
       "    </tr>\n",
       "    <tr>\n",
       "      <th>31</th>\n",
       "      <td>NG_GOV_DPR_ABO</td>\n",
       "      <td>ABO</td>\n",
       "    </tr>\n",
       "    <tr>\n",
       "      <th>32</th>\n",
       "      <td>NG_GOV_DPR_PENNINGTON</td>\n",
       "      <td>PENNINGTON</td>\n",
       "    </tr>\n",
       "    <tr>\n",
       "      <th>34</th>\n",
       "      <td>NG_GOV_DPR_UGO_OCHA</td>\n",
       "      <td>UGO OCHA (JONES CREEK)</td>\n",
       "    </tr>\n",
       "    <tr>\n",
       "      <th>35</th>\n",
       "      <td>NG_GOV_DPR_SEA_EAGLE</td>\n",
       "      <td>SEA EAGLE (EA)</td>\n",
       "    </tr>\n",
       "    <tr>\n",
       "      <th>36</th>\n",
       "      <td>NG_GOV_DPR_ANYALA_MADU</td>\n",
       "      <td>ANYALA MADU (CJ BLEND)</td>\n",
       "    </tr>\n",
       "    <tr>\n",
       "      <th>37</th>\n",
       "      <td>NG_GOV_DPR_AGBAMI</td>\n",
       "      <td>AGBAMI</td>\n",
       "    </tr>\n",
       "    <tr>\n",
       "      <th>38</th>\n",
       "      <td>NG_GOV_DPR_AKPO</td>\n",
       "      <td>AKPO</td>\n",
       "    </tr>\n",
       "    <tr>\n",
       "      <th>40</th>\n",
       "      <td>NG_GOV_DPR_AJAPA</td>\n",
       "      <td>AJAPA</td>\n",
       "    </tr>\n",
       "  </tbody>\n",
       "</table>\n",
       "</div>"
      ],
      "text/plain": [
       "                          code                   long_name\n",
       "0             NG_GOV_DPR_BONNY                      BONNY \n",
       "2             NG_GOV_DPR_BRASS                       BRASS\n",
       "4          NG_GOV_DPR_QUA_IBOE                    QUA IBOE\n",
       "6          NG_GOV_DPR_FORCADOS                    FORCADOS\n",
       "8          NG_GOV_DPR_ESCRAVOS     ESCRAVOS (OIL TERMINAL)\n",
       "10            NG_GOV_DPR_ODUDU        ODUDU (AMENAM BLEND)\n",
       "12  NG_GOV_DPR_TULJA_OKWUIBOME           TULJA - OKWUIBOME\n",
       "14              NG_GOV_DPR_AJE                         AJE\n",
       "16            NG_GOV_DPR_OKORO     OKORO (EX IMA TERMINAL)\n",
       "18         NG_GOV_DPR_OTAKPIPO  OTAKPIPO (EX IMA TERMINAL)\n",
       "19            NG_GOV_DPR_ANTAN                       ANTAN\n",
       "20            NG_GOV_DPR_OKONO                       OKONO\n",
       "21             NG_GOV_DPR_YOHO                        YOHO\n",
       "22           NG_GOV_DPR_OKWORI                      OKWORI\n",
       "23             NG_GOV_DPR_EBOK                        EBOK\n",
       "26            NG_GOV_DPR_BONGA                       BONGA\n",
       "27             NG_GOV_DPR_ERHA                        ERHA\n",
       "28             NG_GOV_DPR_USAN                        USAN\n",
       "29            NG_GOV_DPR_EGINA                       EGINA\n",
       "31              NG_GOV_DPR_ABO                         ABO\n",
       "32       NG_GOV_DPR_PENNINGTON                  PENNINGTON\n",
       "34         NG_GOV_DPR_UGO_OCHA     UGO OCHA (JONES CREEK) \n",
       "35        NG_GOV_DPR_SEA_EAGLE              SEA EAGLE (EA)\n",
       "36      NG_GOV_DPR_ANYALA_MADU      ANYALA MADU (CJ BLEND)\n",
       "37           NG_GOV_DPR_AGBAMI                     AGBAMI \n",
       "38             NG_GOV_DPR_AKPO                       AKPO \n",
       "40            NG_GOV_DPR_AJAPA                      AJAPA "
      ]
     },
     "execution_count": 146,
     "metadata": {},
     "output_type": "execute_result"
    }
   ],
   "source": [
    "provider_code = 'ng_gov_dpr'\n",
    "entity = job.data['entity']\n",
    "df = pd.DataFrame()\n",
    "df['code'] = entity.str.split('(').map(lambda x: x[0].strip().replace(' - ', '_').replace(' ', '_'))\n",
    "df['code'] = (provider_code + '_' + df['code']).str.upper()\n",
    "df['long_name'] = entity.str.upper()\n",
    "df.drop_duplicates(subset=['code'], inplace=True)\n",
    "df"
   ]
  },
  {
   "cell_type": "markdown",
   "metadata": {},
   "source": [
    "# Load history year-by-year\n",
    "Test new functionality allowing to load year-by-year."
   ]
  },
  {
   "cell_type": "code",
   "execution_count": 24,
   "metadata": {},
   "outputs": [
    {
     "name": "stdout",
     "output_type": "stream",
     "text": [
      "2021-10-20 17:18:06,513 - scraper.core.factory - DEBUG - Loading module scraper.jobs.ng_gov_dpr.nigerian_oil_supply\n",
      "2021-10-20 17:18:06,514 - scraper.core.factory - DEBUG - Getting class NigerianOilSupplyJob\n"
     ]
    }
   ],
   "source": [
    "from scraper.core import factory\n",
    "\n",
    "job = factory.get_scraper_job('ng_gov_dpr', 'nigerian_oil_supply', year=1997)"
   ]
  },
  {
   "cell_type": "code",
   "execution_count": 25,
   "metadata": {},
   "outputs": [
    {
     "name": "stdout",
     "output_type": "stream",
     "text": [
      "2021-10-20 17:18:08,614 - scraper.jobs.ng_gov_dpr.nigerian_oil_supply - INFO - Loading sources\n",
      "2021-10-20 17:18:08,617 - scraper.jobs.ng_gov_dpr.nigerian_oil_supply - INFO - Loading only one year: 1997, assuming it will not download it.\n",
      "2021-10-20 17:18:08,618 - scraper.jobs.ng_gov_dpr.nigerian_oil_supply - DEBUG - Creating source for 1997 and None\n"
     ]
    }
   ],
   "source": [
    "job.get_sources()"
   ]
  },
  {
   "cell_type": "code",
   "execution_count": 26,
   "metadata": {},
   "outputs": [
    {
     "data": {
      "text/plain": [
       "[{'code': 'ng_oil_supply_1997',\n",
       "  'url': 'None',\n",
       "  'path': 'ng_oil_supply_1997.csv',\n",
       "  'long_name': 'Monthly Nigerian Oil Supply - 1997'}]"
      ]
     },
     "execution_count": 26,
     "metadata": {},
     "output_type": "execute_result"
    }
   ],
   "source": [
    "[vars(s) for s in job.sources]"
   ]
  },
  {
   "cell_type": "code",
   "execution_count": 27,
   "metadata": {},
   "outputs": [
    {
     "data": {
      "text/plain": [
       "'ng_oil_supply_1997'"
      ]
     },
     "execution_count": 27,
     "metadata": {},
     "output_type": "execute_result"
    }
   ],
   "source": [
    "job.sources[0].code"
   ]
  },
  {
   "cell_type": "code",
   "execution_count": 28,
   "metadata": {},
   "outputs": [
    {
     "data": {
      "text/plain": [
       "1997"
      ]
     },
     "execution_count": 28,
     "metadata": {},
     "output_type": "execute_result"
    }
   ],
   "source": [
    "job.year"
   ]
  },
  {
   "cell_type": "code",
   "execution_count": 29,
   "metadata": {},
   "outputs": [
    {
     "name": "stdout",
     "output_type": "stream",
     "text": [
      "2021-10-20 17:18:36,788 - scraper.core.factory - DEBUG - Loading module scraper.jobs.ng_gov_dpr.nigerian_oil_supply\n",
      "2021-10-20 17:18:36,791 - scraper.core.factory - DEBUG - Getting class NigerianOilSupplyJob\n"
     ]
    }
   ],
   "source": [
    "# test without year\n",
    "job = factory.get_scraper_job('ng_gov_dpr', 'nigerian_oil_supply')"
   ]
  },
  {
   "cell_type": "code",
   "execution_count": 30,
   "metadata": {},
   "outputs": [
    {
     "name": "stdout",
     "output_type": "stream",
     "text": [
      "2021-10-20 17:18:43,163 - scraper.jobs.ng_gov_dpr.nigerian_oil_supply - INFO - Loading sources\n",
      "2021-10-20 17:18:43,167 - scraper.jobs.ng_gov_dpr.nigerian_oil_supply - DEBUG - Parsing main page to get get available sources: https://www.dpr.gov.ng/oil-production-status-report/\n",
      "2021-10-20 17:18:43,186 - urllib3.connectionpool - DEBUG - Starting new HTTPS connection (1): www.dpr.gov.ng:443\n",
      "2021-10-20 17:18:45,870 - urllib3.connectionpool - DEBUG - https://www.dpr.gov.ng:443 \"GET /oil-production-status-report/ HTTP/1.1\" 200 16328\n",
      "2021-10-20 17:18:46,024 - scraper.jobs.ng_gov_dpr.nigerian_oil_supply - DEBUG - 2 file links retrieved from https://www.dpr.gov.ng/oil-production-status-report/\n",
      "2021-10-20 17:18:46,027 - scraper.jobs.ng_gov_dpr.nigerian_oil_supply - DEBUG - Extracting year from URL: https://www.dpr.gov.ng/wp-content/uploads/2021/10/OIL_PRODUCTION_STATUS_REPORT_AS_AT_SEPTEMBER_2021.xlsx\n",
      "2021-10-20 17:18:46,031 - scraper.jobs.ng_gov_dpr.nigerian_oil_supply - DEBUG - Filename in the link: OIL_PRODUCTION_STATUS_REPORT_AS_AT_SEPTEMBER_2021.xlsx\n",
      "2021-10-20 17:18:46,034 - scraper.jobs.ng_gov_dpr.nigerian_oil_supply - DEBUG - Year extracted from OIL_PRODUCTION_STATUS_REPORT_AS_AT_SEPTEMBER_2021.xlsx: 2021\n",
      "2021-10-20 17:18:46,037 - scraper.jobs.ng_gov_dpr.nigerian_oil_supply - DEBUG - Creating source for 2021 and https://www.dpr.gov.ng/wp-content/uploads/2021/10/OIL_PRODUCTION_STATUS_REPORT_AS_AT_SEPTEMBER_2021.xlsx\n",
      "2021-10-20 17:18:46,040 - scraper.jobs.ng_gov_dpr.nigerian_oil_supply - DEBUG - Extracting year from URL: https://www.dpr.gov.ng/wp-content/uploads/2021/05/2020-Production-data.xlsx\n",
      "2021-10-20 17:18:46,043 - scraper.jobs.ng_gov_dpr.nigerian_oil_supply - DEBUG - Filename in the link: 2020-Production-data.xlsx\n",
      "2021-10-20 17:18:46,048 - scraper.jobs.ng_gov_dpr.nigerian_oil_supply - DEBUG - Year extracted from 2020-Production-data.xlsx: 2020\n",
      "2021-10-20 17:18:46,052 - scraper.jobs.ng_gov_dpr.nigerian_oil_supply - DEBUG - Creating source for 2020 and https://www.dpr.gov.ng/wp-content/uploads/2021/05/2020-Production-data.xlsx\n"
     ]
    }
   ],
   "source": [
    "job.get_sources()"
   ]
  },
  {
   "cell_type": "code",
   "execution_count": 31,
   "metadata": {},
   "outputs": [
    {
     "data": {
      "text/plain": [
       "[{'code': 'ng_oil_supply_2021',\n",
       "  'url': 'https://www.dpr.gov.ng/wp-content/uploads/2021/10/OIL_PRODUCTION_STATUS_REPORT_AS_AT_SEPTEMBER_2021.xlsx',\n",
       "  'path': 'ng_oil_supply_2021.xlsx',\n",
       "  'long_name': 'Monthly Nigerian Oil Supply - 2021'}]"
      ]
     },
     "execution_count": 31,
     "metadata": {},
     "output_type": "execute_result"
    }
   ],
   "source": [
    "[vars(s) for s in job.sources]"
   ]
  },
  {
   "cell_type": "code",
   "execution_count": 35,
   "metadata": {},
   "outputs": [
    {
     "name": "stdout",
     "output_type": "stream",
     "text": [
      "2021-10-20 17:22:30,928 - scraper.core.factory - DEBUG - Loading module scraper.jobs.ng_gov_dpr.nigerian_oil_supply\n",
      "2021-10-20 17:22:30,932 - scraper.core.factory - DEBUG - Getting class NigerianOilSupplyJob\n"
     ]
    }
   ],
   "source": [
    "# test with full_load\n",
    "job = factory.get_scraper_job('ng_gov_dpr', 'nigerian_oil_supply', full_load=True)"
   ]
  },
  {
   "cell_type": "code",
   "execution_count": 36,
   "metadata": {},
   "outputs": [
    {
     "name": "stdout",
     "output_type": "stream",
     "text": [
      "2021-10-20 17:22:33,489 - scraper.jobs.ng_gov_dpr.nigerian_oil_supply - INFO - Loading sources\n",
      "2021-10-20 17:22:33,492 - scraper.jobs.ng_gov_dpr.nigerian_oil_supply - DEBUG - Parsing main page to get get available sources: https://www.dpr.gov.ng/oil-production-status-report/\n",
      "2021-10-20 17:22:33,502 - urllib3.connectionpool - DEBUG - Starting new HTTPS connection (1): www.dpr.gov.ng:443\n",
      "2021-10-20 17:22:34,779 - urllib3.connectionpool - DEBUG - https://www.dpr.gov.ng:443 \"GET /oil-production-status-report/ HTTP/1.1\" 200 16328\n",
      "2021-10-20 17:22:34,902 - scraper.jobs.ng_gov_dpr.nigerian_oil_supply - DEBUG - 2 file links retrieved from https://www.dpr.gov.ng/oil-production-status-report/\n",
      "2021-10-20 17:22:34,906 - scraper.jobs.ng_gov_dpr.nigerian_oil_supply - DEBUG - Extracting year from URL: https://www.dpr.gov.ng/wp-content/uploads/2021/10/OIL_PRODUCTION_STATUS_REPORT_AS_AT_SEPTEMBER_2021.xlsx\n",
      "2021-10-20 17:22:34,909 - scraper.jobs.ng_gov_dpr.nigerian_oil_supply - DEBUG - Filename in the link: OIL_PRODUCTION_STATUS_REPORT_AS_AT_SEPTEMBER_2021.xlsx\n",
      "2021-10-20 17:22:34,911 - scraper.jobs.ng_gov_dpr.nigerian_oil_supply - DEBUG - Year extracted from OIL_PRODUCTION_STATUS_REPORT_AS_AT_SEPTEMBER_2021.xlsx: 2021\n",
      "2021-10-20 17:22:34,915 - scraper.jobs.ng_gov_dpr.nigerian_oil_supply - DEBUG - Creating source for 2021 and https://www.dpr.gov.ng/wp-content/uploads/2021/10/OIL_PRODUCTION_STATUS_REPORT_AS_AT_SEPTEMBER_2021.xlsx\n",
      "2021-10-20 17:22:34,923 - scraper.jobs.ng_gov_dpr.nigerian_oil_supply - DEBUG - Extracting year from URL: https://www.dpr.gov.ng/wp-content/uploads/2021/05/2020-Production-data.xlsx\n",
      "2021-10-20 17:22:34,926 - scraper.jobs.ng_gov_dpr.nigerian_oil_supply - DEBUG - Filename in the link: 2020-Production-data.xlsx\n",
      "2021-10-20 17:22:34,930 - scraper.jobs.ng_gov_dpr.nigerian_oil_supply - DEBUG - Year extracted from 2020-Production-data.xlsx: 2020\n",
      "2021-10-20 17:22:34,934 - scraper.jobs.ng_gov_dpr.nigerian_oil_supply - DEBUG - Creating source for 2020 and https://www.dpr.gov.ng/wp-content/uploads/2021/05/2020-Production-data.xlsx\n",
      "2021-10-20 17:22:34,944 - scraper.jobs.ng_gov_dpr.nigerian_oil_supply - DEBUG - Loading the list of history file sources.\n",
      "2021-10-20 17:22:34,949 - scraper.jobs.ng_gov_dpr.nigerian_oil_supply - DEBUG - Creating source for 2019 and None\n",
      "2021-10-20 17:22:34,952 - scraper.jobs.ng_gov_dpr.nigerian_oil_supply - DEBUG - Creating source for 2018 and None\n",
      "2021-10-20 17:22:34,956 - scraper.jobs.ng_gov_dpr.nigerian_oil_supply - DEBUG - Creating source for 2017 and None\n",
      "2021-10-20 17:22:34,959 - scraper.jobs.ng_gov_dpr.nigerian_oil_supply - DEBUG - Creating source for 2016 and None\n",
      "2021-10-20 17:22:34,964 - scraper.jobs.ng_gov_dpr.nigerian_oil_supply - DEBUG - Creating source for 2015 and None\n",
      "2021-10-20 17:22:34,968 - scraper.jobs.ng_gov_dpr.nigerian_oil_supply - DEBUG - Creating source for 2014 and None\n",
      "2021-10-20 17:22:34,976 - scraper.jobs.ng_gov_dpr.nigerian_oil_supply - DEBUG - Creating source for 2013 and None\n",
      "2021-10-20 17:22:34,981 - scraper.jobs.ng_gov_dpr.nigerian_oil_supply - DEBUG - Creating source for 2012 and None\n",
      "2021-10-20 17:22:34,984 - scraper.jobs.ng_gov_dpr.nigerian_oil_supply - DEBUG - Creating source for 2011 and None\n",
      "2021-10-20 17:22:34,988 - scraper.jobs.ng_gov_dpr.nigerian_oil_supply - DEBUG - Creating source for 2010 and None\n",
      "2021-10-20 17:22:34,991 - scraper.jobs.ng_gov_dpr.nigerian_oil_supply - DEBUG - Creating source for 2009 and None\n",
      "2021-10-20 17:22:34,995 - scraper.jobs.ng_gov_dpr.nigerian_oil_supply - DEBUG - Creating source for 2008 and None\n",
      "2021-10-20 17:22:34,999 - scraper.jobs.ng_gov_dpr.nigerian_oil_supply - DEBUG - Creating source for 2005 and None\n",
      "2021-10-20 17:22:35,003 - scraper.jobs.ng_gov_dpr.nigerian_oil_supply - DEBUG - Creating source for 2004 and None\n",
      "2021-10-20 17:22:35,006 - scraper.jobs.ng_gov_dpr.nigerian_oil_supply - DEBUG - Creating source for 2003 and None\n",
      "2021-10-20 17:22:35,010 - scraper.jobs.ng_gov_dpr.nigerian_oil_supply - DEBUG - Creating source for 2002 and None\n",
      "2021-10-20 17:22:35,015 - scraper.jobs.ng_gov_dpr.nigerian_oil_supply - DEBUG - Creating source for 2001 and None\n",
      "2021-10-20 17:22:35,018 - scraper.jobs.ng_gov_dpr.nigerian_oil_supply - DEBUG - Creating source for 2000 and None\n",
      "2021-10-20 17:22:35,023 - scraper.jobs.ng_gov_dpr.nigerian_oil_supply - DEBUG - Creating source for 1999 and None\n",
      "2021-10-20 17:22:35,026 - scraper.jobs.ng_gov_dpr.nigerian_oil_supply - DEBUG - Creating source for 1998 and None\n",
      "2021-10-20 17:22:35,030 - scraper.jobs.ng_gov_dpr.nigerian_oil_supply - DEBUG - Creating source for 1997 and None\n"
     ]
    }
   ],
   "source": [
    "job.get_sources()"
   ]
  },
  {
   "cell_type": "code",
   "execution_count": null,
   "metadata": {},
   "outputs": [],
   "source": []
  }
 ],
 "metadata": {
  "kernelspec": {
   "display_name": "Python 3",
   "language": "python",
   "name": "python3"
  },
  "language_info": {
   "codemirror_mode": {
    "name": "ipython",
    "version": 3
   },
   "file_extension": ".py",
   "mimetype": "text/x-python",
   "name": "python",
   "nbconvert_exporter": "python",
   "pygments_lexer": "ipython3",
   "version": "3.6.5"
  }
 },
 "nbformat": 4,
 "nbformat_minor": 4
}
