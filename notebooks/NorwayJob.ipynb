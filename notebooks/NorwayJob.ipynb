{
 "cells": [
  {
   "cell_type": "code",
   "execution_count": 1,
   "metadata": {},
   "outputs": [],
   "source": [
    "%load_ext autoreload\n",
    "%autoreload 2"
   ]
  },
  {
   "cell_type": "code",
   "execution_count": 2,
   "metadata": {},
   "outputs": [],
   "source": [
    "import pandas as pd\n",
    "\n",
    "from scraper.jobs.no_npd.job import FactPagesJob\n",
    "from scraper.core import job"
   ]
  },
  {
   "cell_type": "code",
   "execution_count": 16,
   "metadata": {},
   "outputs": [],
   "source": [
    "no = FactPagesJob()"
   ]
  },
  {
   "cell_type": "code",
   "execution_count": 8,
   "metadata": {},
   "outputs": [],
   "source": [
    "no.run()"
   ]
  },
  {
   "cell_type": "code",
   "execution_count": 11,
   "metadata": {},
   "outputs": [
    {
     "data": {
      "text/plain": [
       "[{'entity': '33/9-6 DELTA',\n",
       "  'product': 'CRUDEOIL',\n",
       "  'value': 0.051,\n",
       "  'period': 'JUL2009',\n",
       "  'area': 'NORWAY',\n",
       "  'frequency': 'Monthly',\n",
       "  'provider': 'NO_NPD',\n",
       "  'source': 'no_npd_field_prod_monthly',\n",
       "  'unit': 'KBD',\n",
       "  'flow': 'SUPPLY',\n",
       "  'original': True},\n",
       " {'entity': '33/9-6 DELTA',\n",
       "  'product': 'CRUDEOIL',\n",
       "  'value': 0.659,\n",
       "  'period': 'AUG2009',\n",
       "  'area': 'NORWAY',\n",
       "  'frequency': 'Monthly',\n",
       "  'provider': 'NO_NPD',\n",
       "  'source': 'no_npd_field_prod_monthly',\n",
       "  'unit': 'KBD',\n",
       "  'flow': 'SUPPLY',\n",
       "  'original': True},\n",
       " {'entity': '33/9-6 DELTA',\n",
       "  'product': 'CRUDEOIL',\n",
       "  'value': 0.665,\n",
       "  'period': 'SEP2009',\n",
       "  'area': 'NORWAY',\n",
       "  'frequency': 'Monthly',\n",
       "  'provider': 'NO_NPD',\n",
       "  'source': 'no_npd_field_prod_monthly',\n",
       "  'unit': 'KBD',\n",
       "  'flow': 'SUPPLY',\n",
       "  'original': True},\n",
       " {'entity': '33/9-6 DELTA',\n",
       "  'product': 'CRUDEOIL',\n",
       "  'value': 0.597,\n",
       "  'period': 'OCT2009',\n",
       "  'area': 'NORWAY',\n",
       "  'frequency': 'Monthly',\n",
       "  'provider': 'NO_NPD',\n",
       "  'source': 'no_npd_field_prod_monthly',\n",
       "  'unit': 'KBD',\n",
       "  'flow': 'SUPPLY',\n",
       "  'original': True},\n",
       " {'entity': '33/9-6 DELTA',\n",
       "  'product': 'CRUDEOIL',\n",
       "  'value': -0.002,\n",
       "  'period': 'NOV2009',\n",
       "  'area': 'NORWAY',\n",
       "  'frequency': 'Monthly',\n",
       "  'provider': 'NO_NPD',\n",
       "  'source': 'no_npd_field_prod_monthly',\n",
       "  'unit': 'KBD',\n",
       "  'flow': 'SUPPLY',\n",
       "  'original': True},\n",
       " {'entity': '33/9-6 DELTA',\n",
       "  'product': 'CRUDEOIL',\n",
       "  'value': 0.126,\n",
       "  'period': 'DEC2009',\n",
       "  'area': 'NORWAY',\n",
       "  'frequency': 'Monthly',\n",
       "  'provider': 'NO_NPD',\n",
       "  'source': 'no_npd_field_prod_monthly',\n",
       "  'unit': 'KBD',\n",
       "  'flow': 'SUPPLY',\n",
       "  'original': True},\n",
       " {'entity': '33/9-6 DELTA',\n",
       "  'product': 'CRUDEOIL',\n",
       "  'value': 0.605,\n",
       "  'period': 'JAN2010',\n",
       "  'area': 'NORWAY',\n",
       "  'frequency': 'Monthly',\n",
       "  'provider': 'NO_NPD',\n",
       "  'source': 'no_npd_field_prod_monthly',\n",
       "  'unit': 'KBD',\n",
       "  'flow': 'SUPPLY',\n",
       "  'original': True},\n",
       " {'entity': '33/9-6 DELTA',\n",
       "  'product': 'CRUDEOIL',\n",
       "  'value': 0.584,\n",
       "  'period': 'FEB2010',\n",
       "  'area': 'NORWAY',\n",
       "  'frequency': 'Monthly',\n",
       "  'provider': 'NO_NPD',\n",
       "  'source': 'no_npd_field_prod_monthly',\n",
       "  'unit': 'KBD',\n",
       "  'flow': 'SUPPLY',\n",
       "  'original': True},\n",
       " {'entity': '33/9-6 DELTA',\n",
       "  'product': 'CRUDEOIL',\n",
       "  'value': 0.613,\n",
       "  'period': 'MAR2010',\n",
       "  'area': 'NORWAY',\n",
       "  'frequency': 'Monthly',\n",
       "  'provider': 'NO_NPD',\n",
       "  'source': 'no_npd_field_prod_monthly',\n",
       "  'unit': 'KBD',\n",
       "  'flow': 'SUPPLY',\n",
       "  'original': True},\n",
       " {'entity': '33/9-6 DELTA',\n",
       "  'product': 'CRUDEOIL',\n",
       "  'value': 0.384,\n",
       "  'period': 'APR2010',\n",
       "  'area': 'NORWAY',\n",
       "  'frequency': 'Monthly',\n",
       "  'provider': 'NO_NPD',\n",
       "  'source': 'no_npd_field_prod_monthly',\n",
       "  'unit': 'KBD',\n",
       "  'flow': 'SUPPLY',\n",
       "  'original': True}]"
      ]
     },
     "execution_count": 11,
     "metadata": {},
     "output_type": "execute_result"
    }
   ],
   "source": [
    "no.data[:10]"
   ]
  },
  {
   "cell_type": "code",
   "execution_count": 19,
   "metadata": {},
   "outputs": [
    {
     "data": {
      "text/plain": [
       "['BaseSource(c..._monthly.csv)']"
      ]
     },
     "execution_count": 19,
     "metadata": {},
     "output_type": "execute_result"
    }
   ],
   "source": [
    "no.sources"
   ]
  },
  {
   "cell_type": "code",
   "execution_count": 18,
   "metadata": {},
   "outputs": [
    {
     "data": {
      "text/plain": [
       "[]"
      ]
     },
     "execution_count": 18,
     "metadata": {},
     "output_type": "execute_result"
    }
   ],
   "source": [
    "no.dynamic_dim['source']"
   ]
  },
  {
   "cell_type": "code",
   "execution_count": 21,
   "metadata": {},
   "outputs": [
    {
     "data": {
      "text/plain": [
       "[{'code': 'no_npd_field_prod_monthly',\n",
       "  'url': 'https://factpages.npd.no/ReportServer_npdpublic?/FactPages/TableView/field_production_monthly&rs:Command=Render&rc:Toolbar=false&rc:Parameters=f&rs:Format=CSV&Top100=false&IpAddress=172.20.48.40&CultureCode=en',\n",
       "  'path': 'no_npd_field_prod_monthly.csv',\n",
       "  'long_name': 'NORWAY NO_NPD Monthly Production by Field'}]"
      ]
     },
     "execution_count": 21,
     "metadata": {},
     "output_type": "execute_result"
    }
   ],
   "source": [
    "from copy import copy\n",
    "\n",
    "# let's update dim source\n",
    "\n",
    "for source in no.sources:\n",
    "    dicto = vars(copy(source))\n",
    "    no.dynamic_dim['source'] += [dicto]\n",
    "\n",
    "no.dynamic_dim['source']"
   ]
  },
  {
   "cell_type": "code",
   "execution_count": 22,
   "metadata": {},
   "outputs": [],
   "source": [
    "from scraper.core.dimension import Updater\n",
    "no_upd = Updater(no, 'source')\n",
    "no_upd.update(no.dynamic_dim['source'])"
   ]
  },
  {
   "cell_type": "code",
   "execution_count": null,
   "metadata": {},
   "outputs": [],
   "source": []
  }
 ],
 "metadata": {
  "kernelspec": {
   "display_name": "Python 3",
   "language": "python",
   "name": "python3"
  },
  "language_info": {
   "codemirror_mode": {
    "name": "ipython",
    "version": 3
   },
   "file_extension": ".py",
   "mimetype": "text/x-python",
   "name": "python",
   "nbconvert_exporter": "python",
   "pygments_lexer": "ipython3",
   "version": "3.6.5"
  }
 },
 "nbformat": 4,
 "nbformat_minor": 2
}
