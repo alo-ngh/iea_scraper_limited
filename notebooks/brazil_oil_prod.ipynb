{
 "cells": [
  {
   "cell_type": "code",
   "execution_count": null,
   "metadata": {},
   "outputs": [],
   "source": [
    "cd .."
   ]
  },
  {
   "cell_type": "code",
   "execution_count": null,
   "metadata": {},
   "outputs": [],
   "source": [
    "from iea_scraper.jobs.utils import get_driver\n",
    "import pandas as pd\n",
    "from selenium.webdriver.common.by import By\n",
    "from selenium.webdriver.support.ui import WebDriverWait\n",
    "from selenium.webdriver.support import expected_conditions as ec\n",
    "import datetime"
   ]
  },
  {
   "cell_type": "code",
   "execution_count": null,
   "metadata": {},
   "outputs": [],
   "source": [
    "url = 'https://cpl.anp.gov.br/anp-cpl-web/public/sigep/consulta-producao-mensal-hidrocarbonetos/consulta.xhtml'"
   ]
  },
  {
   "cell_type": "code",
   "execution_count": null,
   "metadata": {},
   "outputs": [],
   "source": [
    "#create selenium driver and get website content\n",
    "driver = get_driver(headless=False)\n",
    "driver.get(url)"
   ]
  },
  {
   "cell_type": "code",
   "execution_count": null,
   "metadata": {},
   "outputs": [],
   "source": [
    "#answer the question\n",
    "answer = driver.find_element_by_xpath(\"//button[@id = 'btnNaoAcessibilidade']\").click()"
   ]
  },
  {
   "cell_type": "code",
   "execution_count": null,
   "metadata": {},
   "outputs": [],
   "source": [
    "# wait for the program\n",
    "wait = WebDriverWait(driver,15)\n",
    "\n",
    "# find the element explicitly\n",
    "wait.until(ec.element_to_be_clickable((By.ID,'frmConsulta:buttonConsultaQuantidade')))"
   ]
  },
  {
   "cell_type": "code",
   "execution_count": null,
   "metadata": {},
   "outputs": [],
   "source": [
    "#locate the necessary points and send the required inputs\n",
    "de_input_data = driver.find_element_by_xpath('//input[@id = \"frmConsulta:anoMesInicio:inputText\"]')"
   ]
  },
  {
   "cell_type": "code",
   "execution_count": null,
   "metadata": {},
   "outputs": [],
   "source": [
    "de_input_data.send_keys(\"02/1998\")"
   ]
  },
  {
   "cell_type": "code",
   "execution_count": null,
   "metadata": {},
   "outputs": [],
   "source": [
    "ate_input_value = driver.find_element_by_xpath('//input[@id = \"frmConsulta:anoMesFim:inputText\"]')"
   ]
  },
  {
   "cell_type": "code",
   "execution_count": null,
   "metadata": {},
   "outputs": [],
   "source": [
    "ate_input_value.send_keys(\"02/1998\")"
   ]
  },
  {
   "cell_type": "code",
   "execution_count": null,
   "metadata": {},
   "outputs": [],
   "source": [
    "# find the download button from the page\n",
    "download_button = driver.find_element_by_xpath('//button[@id = \"frmConsulta:buttonConsultaQuantidade\"]')\n"
   ]
  },
  {
   "cell_type": "code",
   "execution_count": null,
   "metadata": {},
   "outputs": [],
   "source": [
    "download_button.click()"
   ]
  },
  {
   "cell_type": "code",
   "execution_count": null,
   "metadata": {},
   "outputs": [],
   "source": [
    "driver.implicitly_wait(20)"
   ]
  },
  {
   "cell_type": "code",
   "execution_count": null,
   "metadata": {},
   "outputs": [],
   "source": [
    "driver.find_element_by_xpath(\"//button[@id = 'frmConsulta:buttonExportarCSV']\").click()"
   ]
  },
  {
   "cell_type": "code",
   "execution_count": null,
   "metadata": {},
   "outputs": [],
   "source": [
    "%pwd"
   ]
  },
  {
   "cell_type": "code",
   "execution_count": null,
   "metadata": {},
   "outputs": [],
   "source": [
    "from datetime import date"
   ]
  },
  {
   "cell_type": "code",
   "execution_count": null,
   "metadata": {},
   "outputs": [],
   "source": [
    "year = date.today().year + 1"
   ]
  },
  {
   "cell_type": "code",
   "execution_count": null,
   "metadata": {},
   "outputs": [],
   "source": [
    "year"
   ]
  },
  {
   "cell_type": "code",
   "execution_count": null,
   "metadata": {},
   "outputs": [],
   "source": [
    "pwd"
   ]
  },
  {
   "cell_type": "code",
   "execution_count": null,
   "metadata": {},
   "outputs": [],
   "source": [
    "cd filestore/"
   ]
  },
  {
   "cell_type": "code",
   "execution_count": null,
   "metadata": {},
   "outputs": [],
   "source": [
    "ls"
   ]
  },
  {
   "cell_type": "code",
   "execution_count": null,
   "metadata": {},
   "outputs": [],
   "source": [
    "import pandas as pd"
   ]
  },
  {
   "cell_type": "code",
   "execution_count": null,
   "metadata": {},
   "outputs": [],
   "source": [
    "df = pd.read_csv('Produção Mensal de Hidrocarbonetos.csv',sep=';',thousands='.',decimal=',',encoding='latin-1')"
   ]
  },
  {
   "cell_type": "code",
   "execution_count": null,
   "metadata": {},
   "outputs": [],
   "source": [
    "df.head()"
   ]
  },
  {
   "cell_type": "code",
   "execution_count": null,
   "metadata": {},
   "outputs": [],
   "source": [
    "df.info()"
   ]
  },
  {
   "cell_type": "code",
   "execution_count": 1,
   "metadata": {},
   "outputs": [
    {
     "name": "stdout",
     "output_type": "stream",
     "text": [
      "C:\\Users\\OLOYEDE_O\\PycharmProjects\\scraper\n"
     ]
    }
   ],
   "source": [
    "cd .."
   ]
  },
  {
   "cell_type": "code",
   "execution_count": 2,
   "metadata": {},
   "outputs": [],
   "source": [
    "# test the scraper class\n",
    "%load_ext autoreload\n",
    "%autoreload 2"
   ]
  },
  {
   "cell_type": "code",
   "execution_count": 3,
   "metadata": {},
   "outputs": [],
   "source": [
    "import logging\n",
    "import sys\n",
    "\n",
    "root = logging.getLogger()\n",
    "root.setLevel(logging.DEBUG)\n",
    "\n",
    "handler = logging.StreamHandler(sys.stdout)\n",
    "handler.setLevel(logging.DEBUG)\n",
    "formatter = logging.Formatter('%(asctime)s - %(name)s - %(levelname)s - %(message)s')\n",
    "handler.setFormatter(formatter)\n",
    "root.addHandler(handler)"
   ]
  },
  {
   "cell_type": "code",
   "execution_count": 4,
   "metadata": {},
   "outputs": [
    {
     "name": "stdout",
     "output_type": "stream",
     "text": [
      "2022-05-18 10:59:10,998 - iea_scraper.core.factory - DEBUG - Loading module iea_scraper.jobs.br_gov_anp.br_oil_prod\n",
      "2022-05-18 10:59:11,065 - iea_scraper.core.factory - DEBUG - Getting class BrOilProdJob\n",
      "2022-05-18 10:59:11,580 - selenium.webdriver.remote.remote_connection - DEBUG - POST http://127.0.0.1:52872/session {\"capabilities\": {\"firstMatch\": [{}], \"alwaysMatch\": {\"browserName\": \"chrome\", \"platformName\": \"any\", \"goog:chromeOptions\": {\"prefs\": {\"download.default_directory\": \"C:\\\\Users\\\\OLOYEDE_O\\\\PycharmProjects\\\\scraper\\\\filestore\"}, \"extensions\": [], \"args\": [\"--disable-dev-shm-usage\", \"window-size=1920x1480\"]}}}, \"desiredCapabilities\": {\"browserName\": \"chrome\", \"version\": \"\", \"platform\": \"ANY\", \"goog:chromeOptions\": {\"prefs\": {\"download.default_directory\": \"C:\\\\Users\\\\OLOYEDE_O\\\\PycharmProjects\\\\scraper\\\\filestore\"}, \"extensions\": [], \"args\": [\"--disable-dev-shm-usage\", \"window-size=1920x1480\"]}}}\n",
      "2022-05-18 10:59:11,585 - urllib3.connectionpool - DEBUG - Starting new HTTP connection (1): 127.0.0.1:52872\n",
      "2022-05-18 10:59:12,306 - urllib3.connectionpool - DEBUG - http://127.0.0.1:52872 \"POST /session HTTP/1.1\" 200 793\n",
      "2022-05-18 10:59:12,307 - selenium.webdriver.remote.remote_connection - DEBUG - Finished Request\n",
      "2022-05-18 10:59:12,307 - selenium.webdriver.remote.remote_connection - DEBUG - POST http://127.0.0.1:52872/session/ef35e41bf2a196840055315691455e9c/chromium/send_command {\"cmd\": \"Page.setDownloadBehavior\", \"params\": {\"behavior\": \"allow\", \"downloadPath\": \"C:\\\\Users\\\\OLOYEDE_O\\\\PycharmProjects\\\\scraper\\\\filestore\"}}\n",
      "2022-05-18 10:59:12,312 - urllib3.connectionpool - DEBUG - http://127.0.0.1:52872 \"POST /session/ef35e41bf2a196840055315691455e9c/chromium/send_command HTTP/1.1\" 200 14\n",
      "2022-05-18 10:59:12,313 - selenium.webdriver.remote.remote_connection - DEBUG - Finished Request\n"
     ]
    }
   ],
   "source": [
    "#try run the class\n",
    "from iea_scraper.core import factory\n",
    "\n",
    "# job = NigerianOilSupplyJob()\n",
    "# job = factory.get_scraper_job('ng_gov_dpr', 'nigerian_oil_supply')\n",
    "\n",
    "# job = NigerianOilSupplyJob(full_load=True)\n",
    "job = factory.get_scraper_job('br_gov_anp', 'br_oil_prod',full_load = False)"
   ]
  },
  {
   "cell_type": "code",
   "execution_count": null,
   "metadata": {},
   "outputs": [
    {
     "name": "stdout",
     "output_type": "stream",
     "text": [
      "2022-05-18 10:59:18,129 - iea_scraper.core.job - DEBUG - download: True, parallel download: True\n",
      "2022-05-18 10:59:18,130 - iea_scraper.core.utils - INFO - Executing function download_source() over 1 items with a maximum of 15 parallel workers.\n",
      "2022-05-18 10:59:18,132 - selenium.webdriver.remote.remote_connection - DEBUG - POST http://127.0.0.1:52872/session/ef35e41bf2a196840055315691455e9c/url {\"url\": \"https://cpl.anp.gov.br/anp-cpl-web/public/sigep/consulta-producao-mensal-hidrocarbonetos/consulta.xhtml\"}\n",
      "2022-05-18 10:59:20,472 - urllib3.connectionpool - DEBUG - http://127.0.0.1:52872 \"POST /session/ef35e41bf2a196840055315691455e9c/url HTTP/1.1\" 200 14\n",
      "2022-05-18 10:59:20,474 - selenium.webdriver.remote.remote_connection - DEBUG - Finished Request\n",
      "2022-05-18 10:59:30,489 - selenium.webdriver.remote.remote_connection - DEBUG - POST http://127.0.0.1:52872/session/ef35e41bf2a196840055315691455e9c/element {\"using\": \"xpath\", \"value\": \"//button[@id = 'btnNaoAcessibilidade']\"}\n",
      "2022-05-18 10:59:30,518 - urllib3.connectionpool - DEBUG - http://127.0.0.1:52872 \"POST /session/ef35e41bf2a196840055315691455e9c/element HTTP/1.1\" 200 88\n",
      "2022-05-18 10:59:30,520 - selenium.webdriver.remote.remote_connection - DEBUG - Finished Request\n",
      "2022-05-18 10:59:30,521 - selenium.webdriver.remote.remote_connection - DEBUG - POST http://127.0.0.1:52872/session/ef35e41bf2a196840055315691455e9c/element/92778504-9182-4061-a1af-7cdd7ba843f7/click {\"id\": \"92778504-9182-4061-a1af-7cdd7ba843f7\"}\n",
      "2022-05-18 10:59:32,474 - urllib3.connectionpool - DEBUG - http://127.0.0.1:52872 \"POST /session/ef35e41bf2a196840055315691455e9c/element/92778504-9182-4061-a1af-7cdd7ba843f7/click HTTP/1.1\" 200 14\n",
      "2022-05-18 10:59:32,478 - selenium.webdriver.remote.remote_connection - DEBUG - Finished Request\n",
      "2022-05-18 10:59:32,481 - selenium.webdriver.remote.remote_connection - DEBUG - POST http://127.0.0.1:52872/session/ef35e41bf2a196840055315691455e9c/element {\"using\": \"xpath\", \"value\": \"//input[@id = \\\"frmConsulta:anoMesInicio:inputText\\\"]\"}\n",
      "2022-05-18 10:59:32,525 - urllib3.connectionpool - DEBUG - http://127.0.0.1:52872 \"POST /session/ef35e41bf2a196840055315691455e9c/element HTTP/1.1\" 200 88\n",
      "2022-05-18 10:59:32,526 - selenium.webdriver.remote.remote_connection - DEBUG - Finished Request\n",
      "2022-05-18 10:59:32,529 - selenium.webdriver.remote.remote_connection - DEBUG - POST http://127.0.0.1:52872/session/ef35e41bf2a196840055315691455e9c/element/525449a1-2b07-49b6-aec2-21f777a95512/value {\"text\": \"03/2022\", \"value\": [\"0\", \"3\", \"/\", \"2\", \"0\", \"2\", \"2\"], \"id\": \"525449a1-2b07-49b6-aec2-21f777a95512\"}\n",
      "2022-05-18 10:59:32,594 - urllib3.connectionpool - DEBUG - http://127.0.0.1:52872 \"POST /session/ef35e41bf2a196840055315691455e9c/element/525449a1-2b07-49b6-aec2-21f777a95512/value HTTP/1.1\" 200 14\n",
      "2022-05-18 10:59:32,595 - selenium.webdriver.remote.remote_connection - DEBUG - Finished Request\n",
      "2022-05-18 10:59:32,595 - selenium.webdriver.remote.remote_connection - DEBUG - POST http://127.0.0.1:52872/session/ef35e41bf2a196840055315691455e9c/element {\"using\": \"xpath\", \"value\": \"//input[@id = \\\"frmConsulta:anoMesFim:inputText\\\"]\"}\n",
      "2022-05-18 10:59:32,612 - urllib3.connectionpool - DEBUG - http://127.0.0.1:52872 \"POST /session/ef35e41bf2a196840055315691455e9c/element HTTP/1.1\" 200 88\n",
      "2022-05-18 10:59:32,613 - selenium.webdriver.remote.remote_connection - DEBUG - Finished Request\n",
      "2022-05-18 10:59:32,614 - selenium.webdriver.remote.remote_connection - DEBUG - POST http://127.0.0.1:52872/session/ef35e41bf2a196840055315691455e9c/element/f13adebd-ec8d-42ef-b334-546cf5624372/value {\"text\": \"03/2022\", \"value\": [\"0\", \"3\", \"/\", \"2\", \"0\", \"2\", \"2\"], \"id\": \"f13adebd-ec8d-42ef-b334-546cf5624372\"}\n",
      "2022-05-18 10:59:32,674 - urllib3.connectionpool - DEBUG - http://127.0.0.1:52872 \"POST /session/ef35e41bf2a196840055315691455e9c/element/f13adebd-ec8d-42ef-b334-546cf5624372/value HTTP/1.1\" 200 14\n",
      "2022-05-18 10:59:32,675 - selenium.webdriver.remote.remote_connection - DEBUG - Finished Request\n",
      "2022-05-18 10:59:32,676 - selenium.webdriver.remote.remote_connection - DEBUG - POST http://127.0.0.1:52872/session/ef35e41bf2a196840055315691455e9c/element {\"using\": \"xpath\", \"value\": \"//button[@id = \\\"frmConsulta:buttonConsultaQuantidade\\\"]\"}\n",
      "2022-05-18 10:59:32,686 - urllib3.connectionpool - DEBUG - http://127.0.0.1:52872 \"POST /session/ef35e41bf2a196840055315691455e9c/element HTTP/1.1\" 200 88\n",
      "2022-05-18 10:59:32,687 - selenium.webdriver.remote.remote_connection - DEBUG - Finished Request\n",
      "2022-05-18 10:59:32,688 - selenium.webdriver.remote.remote_connection - DEBUG - POST http://127.0.0.1:52872/session/ef35e41bf2a196840055315691455e9c/element/5854e1f2-ec9a-4ffc-bde9-51b36493ca5e/click {\"id\": \"5854e1f2-ec9a-4ffc-bde9-51b36493ca5e\"}\n",
      "2022-05-18 10:59:32,732 - urllib3.connectionpool - DEBUG - http://127.0.0.1:52872 \"POST /session/ef35e41bf2a196840055315691455e9c/element/5854e1f2-ec9a-4ffc-bde9-51b36493ca5e/click HTTP/1.1\" 200 14\n",
      "2022-05-18 10:59:32,733 - selenium.webdriver.remote.remote_connection - DEBUG - Finished Request\n",
      "2022-05-18 10:59:42,740 - selenium.webdriver.remote.remote_connection - DEBUG - POST http://127.0.0.1:52872/session/ef35e41bf2a196840055315691455e9c/element {\"using\": \"xpath\", \"value\": \"//button[@id = 'frmConsulta:buttonExportarCSV']\"}\n",
      "2022-05-18 10:59:42,795 - urllib3.connectionpool - DEBUG - http://127.0.0.1:52872 \"POST /session/ef35e41bf2a196840055315691455e9c/element HTTP/1.1\" 404 1053\n",
      "2022-05-18 10:59:42,796 - selenium.webdriver.remote.remote_connection - DEBUG - Finished Request\n",
      "2022-05-18 10:59:42,797 - iea_scraper.jobs.br_gov_anp.br_oil_prod - DEBUG - The download button did not appear,we will refresh it and try the process again...\n",
      "2022-05-18 10:59:42,798 - selenium.webdriver.remote.remote_connection - DEBUG - POST http://127.0.0.1:52872/session/ef35e41bf2a196840055315691455e9c/refresh {}\n",
      "2022-05-18 10:59:44,157 - urllib3.connectionpool - DEBUG - http://127.0.0.1:52872 \"POST /session/ef35e41bf2a196840055315691455e9c/refresh HTTP/1.1\" 200 14\n",
      "2022-05-18 10:59:44,158 - selenium.webdriver.remote.remote_connection - DEBUG - Finished Request\n",
      "2022-05-18 10:59:44,160 - selenium.webdriver.remote.remote_connection - DEBUG - POST http://127.0.0.1:52872/session/ef35e41bf2a196840055315691455e9c/element {\"using\": \"xpath\", \"value\": \"//input[@id = \\\"frmConsulta:anoMesInicio:inputText\\\"]\"}\n",
      "2022-05-18 10:59:44,172 - urllib3.connectionpool - DEBUG - http://127.0.0.1:52872 \"POST /session/ef35e41bf2a196840055315691455e9c/element HTTP/1.1\" 200 88\n",
      "2022-05-18 10:59:44,172 - selenium.webdriver.remote.remote_connection - DEBUG - Finished Request\n",
      "2022-05-18 10:59:44,173 - selenium.webdriver.remote.remote_connection - DEBUG - POST http://127.0.0.1:52872/session/ef35e41bf2a196840055315691455e9c/element/4e08ebc6-c115-480e-bee1-ceff54872203/value {\"text\": \"03/2022\", \"value\": [\"0\", \"3\", \"/\", \"2\", \"0\", \"2\", \"2\"], \"id\": \"4e08ebc6-c115-480e-bee1-ceff54872203\"}\n",
      "2022-05-18 10:59:44,244 - urllib3.connectionpool - DEBUG - http://127.0.0.1:52872 \"POST /session/ef35e41bf2a196840055315691455e9c/element/4e08ebc6-c115-480e-bee1-ceff54872203/value HTTP/1.1\" 200 14\n",
      "2022-05-18 10:59:44,245 - selenium.webdriver.remote.remote_connection - DEBUG - Finished Request\n",
      "2022-05-18 10:59:44,245 - selenium.webdriver.remote.remote_connection - DEBUG - POST http://127.0.0.1:52872/session/ef35e41bf2a196840055315691455e9c/element {\"using\": \"xpath\", \"value\": \"//input[@id = \\\"frmConsulta:anoMesFim:inputText\\\"]\"}\n",
      "2022-05-18 10:59:44,251 - urllib3.connectionpool - DEBUG - http://127.0.0.1:52872 \"POST /session/ef35e41bf2a196840055315691455e9c/element HTTP/1.1\" 200 88\n",
      "2022-05-18 10:59:44,252 - selenium.webdriver.remote.remote_connection - DEBUG - Finished Request\n",
      "2022-05-18 10:59:44,253 - selenium.webdriver.remote.remote_connection - DEBUG - POST http://127.0.0.1:52872/session/ef35e41bf2a196840055315691455e9c/element/88422028-a211-4ee3-bff0-df8e4b8469d2/value {\"text\": \"03/2022\", \"value\": [\"0\", \"3\", \"/\", \"2\", \"0\", \"2\", \"2\"], \"id\": \"88422028-a211-4ee3-bff0-df8e4b8469d2\"}\n",
      "2022-05-18 10:59:44,307 - urllib3.connectionpool - DEBUG - http://127.0.0.1:52872 \"POST /session/ef35e41bf2a196840055315691455e9c/element/88422028-a211-4ee3-bff0-df8e4b8469d2/value HTTP/1.1\" 200 14\n",
      "2022-05-18 10:59:44,310 - selenium.webdriver.remote.remote_connection - DEBUG - Finished Request\n",
      "2022-05-18 10:59:44,311 - selenium.webdriver.remote.remote_connection - DEBUG - POST http://127.0.0.1:52872/session/ef35e41bf2a196840055315691455e9c/element {\"using\": \"xpath\", \"value\": \"//button[@id = \\\"frmConsulta:buttonConsultaQuantidade\\\"]\"}\n",
      "2022-05-18 10:59:44,318 - urllib3.connectionpool - DEBUG - http://127.0.0.1:52872 \"POST /session/ef35e41bf2a196840055315691455e9c/element HTTP/1.1\" 200 88\n",
      "2022-05-18 10:59:44,319 - selenium.webdriver.remote.remote_connection - DEBUG - Finished Request\n",
      "2022-05-18 10:59:44,320 - selenium.webdriver.remote.remote_connection - DEBUG - POST http://127.0.0.1:52872/session/ef35e41bf2a196840055315691455e9c/element/2d2f373c-3970-4626-b6b9-856d7759fc24/click {\"id\": \"2d2f373c-3970-4626-b6b9-856d7759fc24\"}\n",
      "2022-05-18 10:59:44,365 - urllib3.connectionpool - DEBUG - http://127.0.0.1:52872 \"POST /session/ef35e41bf2a196840055315691455e9c/element/2d2f373c-3970-4626-b6b9-856d7759fc24/click HTTP/1.1\" 200 14\n",
      "2022-05-18 10:59:44,367 - selenium.webdriver.remote.remote_connection - DEBUG - Finished Request\n",
      "2022-05-18 10:59:54,378 - selenium.webdriver.remote.remote_connection - DEBUG - POST http://127.0.0.1:52872/session/ef35e41bf2a196840055315691455e9c/element {\"using\": \"xpath\", \"value\": \"//button[@id = 'frmConsulta:buttonExportarCSV']\"}\n",
      "2022-05-18 10:59:54,408 - urllib3.connectionpool - DEBUG - http://127.0.0.1:52872 \"POST /session/ef35e41bf2a196840055315691455e9c/element HTTP/1.1\" 404 1053\n",
      "2022-05-18 10:59:54,411 - selenium.webdriver.remote.remote_connection - DEBUG - Finished Request\n",
      "2022-05-18 10:59:54,412 - iea_scraper.jobs.br_gov_anp.br_oil_prod - DEBUG - The download button did not appear,we will refresh it and try the process again...\n",
      "2022-05-18 10:59:54,413 - selenium.webdriver.remote.remote_connection - DEBUG - POST http://127.0.0.1:52872/session/ef35e41bf2a196840055315691455e9c/refresh {}\n",
      "2022-05-18 10:59:55,807 - urllib3.connectionpool - DEBUG - http://127.0.0.1:52872 \"POST /session/ef35e41bf2a196840055315691455e9c/refresh HTTP/1.1\" 200 14\n",
      "2022-05-18 10:59:55,809 - selenium.webdriver.remote.remote_connection - DEBUG - Finished Request\n",
      "2022-05-18 10:59:55,810 - selenium.webdriver.remote.remote_connection - DEBUG - POST http://127.0.0.1:52872/session/ef35e41bf2a196840055315691455e9c/element {\"using\": \"xpath\", \"value\": \"//input[@id = \\\"frmConsulta:anoMesInicio:inputText\\\"]\"}\n",
      "2022-05-18 10:59:55,828 - urllib3.connectionpool - DEBUG - http://127.0.0.1:52872 \"POST /session/ef35e41bf2a196840055315691455e9c/element HTTP/1.1\" 200 88\n",
      "2022-05-18 10:59:55,829 - selenium.webdriver.remote.remote_connection - DEBUG - Finished Request\n",
      "2022-05-18 10:59:55,830 - selenium.webdriver.remote.remote_connection - DEBUG - POST http://127.0.0.1:52872/session/ef35e41bf2a196840055315691455e9c/element/815187a8-0c2b-4569-bea2-05454ac1431d/value {\"text\": \"03/2022\", \"value\": [\"0\", \"3\", \"/\", \"2\", \"0\", \"2\", \"2\"], \"id\": \"815187a8-0c2b-4569-bea2-05454ac1431d\"}\n",
      "2022-05-18 10:59:55,895 - urllib3.connectionpool - DEBUG - http://127.0.0.1:52872 \"POST /session/ef35e41bf2a196840055315691455e9c/element/815187a8-0c2b-4569-bea2-05454ac1431d/value HTTP/1.1\" 200 14\n",
      "2022-05-18 10:59:55,896 - selenium.webdriver.remote.remote_connection - DEBUG - Finished Request\n",
      "2022-05-18 10:59:55,896 - selenium.webdriver.remote.remote_connection - DEBUG - POST http://127.0.0.1:52872/session/ef35e41bf2a196840055315691455e9c/element {\"using\": \"xpath\", \"value\": \"//input[@id = \\\"frmConsulta:anoMesFim:inputText\\\"]\"}\n",
      "2022-05-18 10:59:55,905 - urllib3.connectionpool - DEBUG - http://127.0.0.1:52872 \"POST /session/ef35e41bf2a196840055315691455e9c/element HTTP/1.1\" 200 88\n",
      "2022-05-18 10:59:55,906 - selenium.webdriver.remote.remote_connection - DEBUG - Finished Request\n",
      "2022-05-18 10:59:55,906 - selenium.webdriver.remote.remote_connection - DEBUG - POST http://127.0.0.1:52872/session/ef35e41bf2a196840055315691455e9c/element/2a9f7d4e-480f-41db-b7c2-3f00c031a520/value {\"text\": \"03/2022\", \"value\": [\"0\", \"3\", \"/\", \"2\", \"0\", \"2\", \"2\"], \"id\": \"2a9f7d4e-480f-41db-b7c2-3f00c031a520\"}\n",
      "2022-05-18 10:59:55,971 - urllib3.connectionpool - DEBUG - http://127.0.0.1:52872 \"POST /session/ef35e41bf2a196840055315691455e9c/element/2a9f7d4e-480f-41db-b7c2-3f00c031a520/value HTTP/1.1\" 200 14\n",
      "2022-05-18 10:59:55,972 - selenium.webdriver.remote.remote_connection - DEBUG - Finished Request\n",
      "2022-05-18 10:59:55,972 - selenium.webdriver.remote.remote_connection - DEBUG - POST http://127.0.0.1:52872/session/ef35e41bf2a196840055315691455e9c/element {\"using\": \"xpath\", \"value\": \"//button[@id = \\\"frmConsulta:buttonConsultaQuantidade\\\"]\"}\n",
      "2022-05-18 10:59:55,982 - urllib3.connectionpool - DEBUG - http://127.0.0.1:52872 \"POST /session/ef35e41bf2a196840055315691455e9c/element HTTP/1.1\" 200 88\n",
      "2022-05-18 10:59:55,982 - selenium.webdriver.remote.remote_connection - DEBUG - Finished Request\n",
      "2022-05-18 10:59:55,983 - selenium.webdriver.remote.remote_connection - DEBUG - POST http://127.0.0.1:52872/session/ef35e41bf2a196840055315691455e9c/element/461d2b68-ae9b-4443-8eff-19f92526fc7f/click {\"id\": \"461d2b68-ae9b-4443-8eff-19f92526fc7f\"}\n",
      "2022-05-18 10:59:56,028 - urllib3.connectionpool - DEBUG - http://127.0.0.1:52872 \"POST /session/ef35e41bf2a196840055315691455e9c/element/461d2b68-ae9b-4443-8eff-19f92526fc7f/click HTTP/1.1\" 200 14\n",
      "2022-05-18 10:59:56,030 - selenium.webdriver.remote.remote_connection - DEBUG - Finished Request\n",
      "2022-05-18 11:00:06,039 - selenium.webdriver.remote.remote_connection - DEBUG - POST http://127.0.0.1:52872/session/ef35e41bf2a196840055315691455e9c/element {\"using\": \"xpath\", \"value\": \"//button[@id = 'frmConsulta:buttonExportarCSV']\"}\n",
      "2022-05-18 11:00:06,089 - urllib3.connectionpool - DEBUG - http://127.0.0.1:52872 \"POST /session/ef35e41bf2a196840055315691455e9c/element HTTP/1.1\" 404 1053\n",
      "2022-05-18 11:00:06,090 - selenium.webdriver.remote.remote_connection - DEBUG - Finished Request\n",
      "2022-05-18 11:00:06,091 - iea_scraper.jobs.br_gov_anp.br_oil_prod - DEBUG - The download button did not appear,we will refresh it and try the process again...\n",
      "2022-05-18 11:00:06,093 - selenium.webdriver.remote.remote_connection - DEBUG - POST http://127.0.0.1:52872/session/ef35e41bf2a196840055315691455e9c/refresh {}\n",
      "2022-05-18 11:00:10,812 - urllib3.connectionpool - DEBUG - http://127.0.0.1:52872 \"POST /session/ef35e41bf2a196840055315691455e9c/refresh HTTP/1.1\" 200 14\n",
      "2022-05-18 11:00:10,813 - selenium.webdriver.remote.remote_connection - DEBUG - Finished Request\n"
     ]
    }
   ],
   "source": [
    "job.run()"
   ]
  },
  {
   "cell_type": "code",
   "execution_count": null,
   "metadata": {},
   "outputs": [],
   "source": [
    "job.get_sources()"
   ]
  },
  {
   "cell_type": "code",
   "execution_count": null,
   "metadata": {},
   "outputs": [],
   "source": [
    "[vars(s) for s in job.sources]"
   ]
  },
  {
   "cell_type": "code",
   "execution_count": null,
   "metadata": {},
   "outputs": [],
   "source": [
    "job.download_and_get_checksum()"
   ]
  },
  {
   "cell_type": "code",
   "execution_count": null,
   "metadata": {},
   "outputs": [],
   "source": [
    "job.transform()"
   ]
  },
  {
   "cell_type": "code",
   "execution_count": null,
   "metadata": {},
   "outputs": [],
   "source": [
    "job.data.head()"
   ]
  },
  {
   "cell_type": "code",
   "execution_count": null,
   "metadata": {},
   "outputs": [],
   "source": [
    "df.head(5head"
   ]
  },
  {
   "cell_type": "code",
   "execution_count": null,
   "metadata": {},
   "outputs": [],
   "source": [
    "from iea_scraper.jobs import utils\n",
    "import time\n",
    "\n",
    "DOWNLOAD_TIMEOUT = 1000\n",
    "WAIT = 10\n",
    "# default name of the file\n",
    "default_name = \"Produção Mensal de Hidrocarbonetos.csv\"\n",
    "# the will be the combination of the default name and the filestore path\n",
    "file_dir  = current_dir / default_name \n",
    "\n",
    "# define the url for odownload \n",
    "download_url = 'https://cpl.anp.gov.br/anp-cpl-web/public/sigep/consulta-producao-mensal-hidrocarbonetos/consulta.xhtml'\n",
    "\n",
    "download_driver = utils.get_driver()\n",
    "# get the content of the file\n",
    "download_driver.get(download_url)\n",
    "# check for prompt to accept accessibilty  frol the website\n",
    "time.sleep(10)\n",
    "try: \n",
    "    download_driver.find_element_by_xpath(\"//button[@id = 'btnNaoAcessibilidade']\").click() \n",
    "    \n",
    "except Exception as e:\n",
    "    pass\n",
    "\n",
    "#fill the forms to get the required data\n",
    "#locate the necessary points and send the required inputs\n",
    "download_driver.find_element_by_xpath('//input[@id = \"frmConsulta:anoMesInicio:inputText\"]').send_keys(# put the link to the input parameters)\n",
    "download_driver.find_element_by_xpath('//input[@id = \"frmConsulta:anoMesFim:inputText\"]').send_keys(# put the link to the ate input parameters)\n",
    "# find consult button to return the selected dataset from the website\n",
    "download_driver.find_element_by_xpath('//button[@id = \"frmConsulta:buttonConsultaQuantidade\"]').click()\n",
    "# wait for some time for the csv file to load\n",
    "time.sleep(10)\n",
    "#c download csv file from the website\n",
    "download_driver.find_element_by_xpath(\"//button[@id = 'frmConsulta:buttonExportarCSV']\").click()\n",
    "# wait to check when file is loaded into the filestore\n",
    "utils.wait_file(file_dir,WAIT,DOWNLOAD_TIMEOUT)\n",
    "\n",
    "# rename file\n",
    "new_name = FILEPATH / source.path\n",
    "utils.rename_file(file_dir,new_name)"
   ]
  }
 ],
 "metadata": {
  "kernelspec": {
   "display_name": "Python (3.9)",
   "language": "python",
   "name": "python3.9"
  },
  "language_info": {
   "codemirror_mode": {
    "name": "ipython",
    "version": 3
   },
   "file_extension": ".py",
   "mimetype": "text/x-python",
   "name": "python",
   "nbconvert_exporter": "python",
   "pygments_lexer": "ipython3",
   "version": "3.8.3"
  }
 },
 "nbformat": 4,
 "nbformat_minor": 4
}
