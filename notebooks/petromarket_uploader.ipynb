{
 "cells": [
  {
   "cell_type": "markdown",
   "metadata": {},
   "source": [
    "### FIle upload process for Russia's Balances for IEA.xlsx"
   ]
  },
  {
   "cell_type": "code",
   "execution_count": 1,
   "metadata": {},
   "outputs": [],
   "source": [
    "%load_ext autoreload\n",
    "%autoreload 2"
   ]
  },
  {
   "cell_type": "code",
   "execution_count": 2,
   "metadata": {},
   "outputs": [],
   "source": [
    "import sys\n",
    "import pysftp\n",
    "\n",
    "sys.path.append('..')\n",
    "sys.path.append('../iea_scraper')"
   ]
  },
  {
   "cell_type": "code",
   "execution_count": 3,
   "metadata": {},
   "outputs": [],
   "source": [
    "import settings\n"
   ]
  },
  {
   "cell_type": "code",
   "execution_count": 6,
   "metadata": {},
   "outputs": [],
   "source": [
    "from iea_scraper.settings import host, username, password\n",
    "# from iea"
   ]
  },
  {
   "cell_type": "code",
   "execution_count": 7,
   "metadata": {},
   "outputs": [],
   "source": [
    "def upload_file(from_path, to_path):\n",
    "    \"\"\"\n",
    "    Uploads the file to the server.\n",
    "    :param from_path: from local path.\n",
    "    :param to_path: to path in the server.\n",
    "    \"\"\"\n",
    "    cnopts = pysftp.CnOpts()\n",
    "    cnopts.hostkeys = None\n",
    "    print(f'Uploading file from {str(from_path)} to {to_path}')\n",
    "    with pysftp.Connection(host=host, username=username, password=password, cnopts=cnopts) as srv:\n",
    "        srv.put(from_path, to_path)\n",
    "    os.remove(from_path)"
   ]
  },
  {
   "cell_type": "code",
   "execution_count": 8,
   "metadata": {},
   "outputs": [],
   "source": [
    "import os\n",
    "from pathlib import Path\n",
    "\n",
    "current_dir = os.getcwd()\n",
    "local_dir = Path(current_dir).parent / 'filestore' / 'ru_petromarket'"
   ]
  },
  {
   "cell_type": "code",
   "execution_count": 9,
   "metadata": {},
   "outputs": [],
   "source": [
    "default_filename = \"Russia's Balances for IEA.xlsx\"\n",
    "local_path = local_dir / default_filename\n",
    "remote_path = f'/home/omrworker/projects/iea_scraper/filestore/ru_petromarket/{default_filename}'"
   ]
  },
  {
   "cell_type": "code",
   "execution_count": 10,
   "metadata": {},
   "outputs": [
    {
     "data": {
      "text/plain": [
       "\"/home/omrworker/projects/iea_scraper/filestore/ru_petromarket/Russia's Balances for IEA.xlsx\""
      ]
     },
     "execution_count": 10,
     "metadata": {},
     "output_type": "execute_result"
    }
   ],
   "source": [
    "remote_path"
   ]
  },
  {
   "cell_type": "code",
   "execution_count": 11,
   "metadata": {},
   "outputs": [
    {
     "name": "stdout",
     "output_type": "stream",
     "text": [
      "Uploading file from C:\\Users\\DEGUCHI_T\\PycharmProjects\\scraper\\filestore\\ru_petromarket\\Russia's Balances for IEA.xlsx to /home/omrworker/projects/iea_scraper/filestore/ru_petromarket/Russia's Balances for IEA.xlsx\n"
     ]
    }
   ],
   "source": [
    "# let's upload the file\n",
    "# print(local_path, remote_path)\n",
    "upload_file(local_path, remote_path)"
   ]
  },
  {
   "cell_type": "code",
   "execution_count": null,
   "metadata": {},
   "outputs": [],
   "source": []
  },
  {
   "cell_type": "markdown",
   "metadata": {},
   "source": [
    "### Scratch Paper"
   ]
  },
  {
   "cell_type": "code",
   "execution_count": 1,
   "metadata": {},
   "outputs": [],
   "source": [
    "import pandas as pd\n",
    "import openpyxl"
   ]
  },
  {
   "cell_type": "code",
   "execution_count": 8,
   "metadata": {},
   "outputs": [],
   "source": [
    "file = 'C:/Users/DEGUCHI_T/PycharmProjects/scraper/filestore/ru_petromarket/Russia\\'s Balances for IEA.xlsx'"
   ]
  },
  {
   "cell_type": "code",
   "execution_count": 9,
   "metadata": {},
   "outputs": [],
   "source": [
    "df_sheet_multi = pd.read_excel(file, sheet_name=['OIL', 'Condensate', 'LPG', 'GASOLINE', 'NAPHTHA', 'JET FUEL', 'GASOIL', 'VGO', 'FUEL OIL', 'COKE'], index_col=0)"
   ]
  },
  {
   "cell_type": "code",
   "execution_count": 10,
   "metadata": {},
   "outputs": [],
   "source": [
    "df_oil = df_sheet_multi['OIL'].iloc[[1,2,5,6,10,11,12,13],:].reset_index().copy()\n",
    "df_oil.rename(columns={'RUSSIA\\'s CRUDE OIL(*) BALANCE (thou. tonnes)':'category'}, inplace=True)\n",
    "\n",
    "df_oil['demand_supply'] = ['Supply', 'Supply', 'Demand', 'Demand', 'Demand', 'Demand', 'Demand', 'Demand']\n",
    "df_oil['category'] = ['Production', 'Imports', 'InsideDemand', 'InsideDemand', 'Exports', 'Exports', 'Exports', 'Exports']\n",
    "df_oil['subcategory'] = ['', '', 'Throughput', 'Use/Loss', 'CrudeOil', 'CrudeOil', 'CrudeOil', 'Condensate']\n",
    "df_oil['area'] = ['', '', '', '', 'CISWest', 'CISEast', 'CISInside', '']\n",
    "\n",
    "df_oil.set_index(['demand_supply', 'category', 'subcategory', 'area'], inplace=True)\n",
    "df_oil_tmp = df_oil.stack().reset_index()\n",
    "df_oil_tmp.rename(columns={'level_4': 'date', 0: 'value'}, inplace=True)"
   ]
  },
  {
   "cell_type": "code",
   "execution_count": 11,
   "metadata": {},
   "outputs": [],
   "source": [
    "df_condensate = df_sheet_multi['Condensate'].iloc[[2,3,5,6,7],:].reset_index().copy()\n",
    "df_condensate.rename(columns={'RUSSIAN GAS CONDENSATE SUPPLY AND DEMAND BALANCE (thou. tonnes)':'category'}, inplace=True)\n",
    "\n",
    "df_condensate['demand_supply'] = ['Supply', 'Supply', 'Demand', 'Demand', 'Demand']\n",
    "df_condensate['category'] = ['Production', 'Imports', 'InsideDemand', 'InsideDemand', 'Exports']\n",
    "df_condensate['subcategory'] = ['', '', 'Throughput', 'Use/Loss', '']\n",
    "df_condensate['area'] = ['', '', '', '', '']\n",
    "\n",
    "df_condensate.set_index(['demand_supply', 'category', 'subcategory', 'area'], inplace=True)\n",
    "df_condensate_tmp = df_condensate.stack().reset_index()\n",
    "df_condensate_tmp.rename(columns={'level_4': 'date', 0: 'value'}, inplace=True)"
   ]
  },
  {
   "cell_type": "code",
   "execution_count": 12,
   "metadata": {},
   "outputs": [],
   "source": [
    "df_diesel = df_sheet_multi['GASOIL'].iloc[[1,2,4,5],:].reset_index().copy()\n",
    "df_diesel.rename(columns={'RUSSIA\\'s DIESEL BALANCE (thou. tonnes)':'category'}, inplace=True)\n",
    "\n",
    "df_diesel['demand_supply'] = ['Supply', 'Supply', 'Demand', 'Demand']\n",
    "df_diesel['category'] = ['Production', 'Imports', 'Consumption', 'Exports']\n",
    "df_diesel['subcategory'] = ['', '', '', '']\n",
    "df_diesel['area'] = ['', '', '', '']\n",
    "\n",
    "df_diesel.set_index(['demand_supply', 'category', 'subcategory', 'area'], inplace=True)\n",
    "df_diesel_tmp = df_diesel.stack().reset_index()\n",
    "df_diesel_tmp.rename(columns={'level_4': 'date', 0: 'value'}, inplace=True)"
   ]
  },
  {
   "cell_type": "code",
   "execution_count": 13,
   "metadata": {},
   "outputs": [],
   "source": [
    "df_heating_oil = df_sheet_multi['GASOIL'].iloc[[15,16,18,19],:].reset_index().copy()\n",
    "df_heating_oil.rename(columns={'RUSSIA\\'s DIESEL BALANCE (thou. tonnes)':'category'}, inplace=True)\n",
    "\n",
    "df_heating_oil['demand_supply'] = ['Supply', 'Supply', 'Demand', 'Demand']\n",
    "df_heating_oil['category'] = ['Production', 'Imports', 'Consumption', 'Exports']\n",
    "df_heating_oil['subcategory'] = ['', '', '', '']\n",
    "df_heating_oil['area'] = ['', '', '', '']\n",
    "\n",
    "df_heating_oil.set_index(['demand_supply', 'category', 'subcategory', 'area'], inplace=True)\n",
    "df_heating_oil_tmp = df_heating_oil.stack().reset_index()\n",
    "df_heating_oil_tmp.rename(columns={'level_4': 'date', 0: 'value'}, inplace=True)"
   ]
  },
  {
   "cell_type": "code",
   "execution_count": 78,
   "metadata": {},
   "outputs": [],
   "source": [
    "def transform_other_poduct(product :str,df_tmp: pd.DataFrame) -> pd.DataFrame:\n",
    "\n",
    "    df_tmp = df_sheet_multi[product].iloc[[1,2,4,5],:].reset_index().copy()\n",
    "    \n",
    "    if product == 'GASOLINE':\n",
    "        title = 'MOTOR GASOLINE'\n",
    "    elif product == 'COKE':\n",
    "        title = 'COKES'\n",
    "    else:\n",
    "        title = product\n",
    "    df_tmp.rename(columns={f'RUSSIA\\'s {title} BALANCE (thou. tonnes)':'category'}, inplace=True)    \n",
    "\n",
    "    \n",
    "    df_tmp['demand_supply'] = ['Supply', 'Supply', 'Demand', 'Demand']\n",
    "    df_tmp['category'] = ['Production', 'Imports', 'Consumption', 'Exports']\n",
    "    df_tmp['subcategory'] = ['', '', '', '']\n",
    "    df_tmp['area'] = ['', '', '', '']\n",
    "   \n",
    "    df_tmp.set_index(['demand_supply', 'category', 'subcategory', 'area'], inplace=True)\n",
    "    df_tmp_transpose = df_tmp.stack().reset_index()\n",
    "    df_tmp_transpose.rename(columns={'level_4': 'date', 0: 'value'}, inplace=True)\n",
    "\n",
    "    df_tmp_transpose['product'] = product \n",
    "    \n",
    "    df_tmp_transpose = df_tmp_transpose.reindex(columns=['product', 'demand_supply', 'category', 'subcategory', 'area', 'date', 'value'])\n",
    "    \n",
    "    return df_tmp_transpose"
   ]
  },
  {
   "cell_type": "code",
   "execution_count": 141,
   "metadata": {},
   "outputs": [
    {
     "name": "stdout",
     "output_type": "stream",
     "text": [
      "The autoreload extension is already loaded. To reload it, use:\n",
      "  %reload_ext autoreload\n"
     ]
    }
   ],
   "source": [
    "%load_ext autoreload\n",
    "%autoreload 2"
   ]
  },
  {
   "cell_type": "code",
   "execution_count": 142,
   "metadata": {},
   "outputs": [],
   "source": [
    "def transpose_other(product : str, df_tmp : pd.DataFrame):\n",
    "    \"\"\"\n",
    "    Transpose df to tabular form for other products.\n",
    "\n",
    "    :param df_tmp:\n",
    "    :return:\n",
    "    \"\"\"\n",
    "\n",
    "    df_other = df_tmp.iloc[[1, 2, 4, 5], :].reset_index().copy()\n",
    "\n",
    "    if product == 'GASOLINE':\n",
    "        title = 'MOTOR GASOLINE'\n",
    "    elif product == 'COKE':\n",
    "        title = 'COKES'\n",
    "    else:\n",
    "        title = product\n",
    "    df_other.rename(columns={f'RUSSIA\\'s {title} BALANCE (thou. tonnes)': 'category'}, inplace=True)\n",
    "\n",
    "    df_other['demand_supply'] = ['Supply', 'Supply', 'Demand', 'Demand']\n",
    "    df_other['category'] = ['Production', 'Imports', 'Consumption', 'Exports']\n",
    "    df_other['subcategory'] = ['', '', '', '']\n",
    "    df_other['area'] = ['', '', '', '']\n",
    "    \n",
    "    df_other.set_index(['demand_supply', 'category', 'subcategory', 'area'], inplace=True)    \n",
    "\n",
    "    df_other_return = df_other.stack().reset_index()\n",
    "\n",
    "    df_other_return.rename(columns={'level_4': 'date', 0: 'value'}, inplace=True)\n",
    "    \n",
    "    df_other_return['product'] = product\n",
    "\n",
    "    df_other_return = df_other_return.reindex(\n",
    "        columns=['product', 'demand_supply', 'category', 'subcategory', 'area', 'date', 'value'])\n",
    "\n",
    "#     logger.info(f'Return {product} counts : {len(df_other_return)} rows.')\n",
    "\n",
    "    return df_other_return\n"
   ]
  },
  {
   "cell_type": "code",
   "execution_count": 143,
   "metadata": {},
   "outputs": [],
   "source": [
    "test = transpose_other('COKE',df_sheet_multi['COKE'])"
   ]
  },
  {
   "cell_type": "code",
   "execution_count": 144,
   "metadata": {},
   "outputs": [],
   "source": [
    "test.to_csv('out.csv')"
   ]
  },
  {
   "cell_type": "code",
   "execution_count": null,
   "metadata": {},
   "outputs": [],
   "source": []
  },
  {
   "cell_type": "code",
   "execution_count": null,
   "metadata": {},
   "outputs": [],
   "source": []
  },
  {
   "cell_type": "code",
   "execution_count": null,
   "metadata": {},
   "outputs": [],
   "source": []
  },
  {
   "cell_type": "code",
   "execution_count": null,
   "metadata": {},
   "outputs": [],
   "source": [
    "\n",
    "# let's rename it\n",
    "new_name = f'cn_customs_crudeoil_imp_{selected_year}{int(start_month):02d}.csv'\n",
    "new_path = current_path.with_name(new_name)\n",
    "current_path.rename(new_path)\n",
    "\n",
    "# let's upload the file\n",
    "remote_path = f'/home/omrworker/projects/iea_scraper/filestore/{new_name}'\n",
    "utils.upload_file(new_path, remote_path)\n",
    "\n",
    "print('Successfully finished.')\n",
    "\n",
    "\n"
   ]
  },
  {
   "cell_type": "code",
   "execution_count": null,
   "metadata": {},
   "outputs": [],
   "source": []
  },
  {
   "cell_type": "code",
   "execution_count": null,
   "metadata": {},
   "outputs": [],
   "source": [
    "def upload_file(from_path, to_path):\n",
    "    \"\"\"\n",
    "    Uploads the file to the server.\n",
    "    :param from_path: from local path.\n",
    "    :param to_path: to path in the server.\n",
    "    \"\"\"\n",
    "    cnopts = pysftp.CnOpts()\n",
    "    cnopts.hostkeys = None\n",
    "    print(f'Uploading file from {str(from_path)} to {to_path}')\n",
    "    with pysftp.Connection(host=host, username=username, password=password, cnopts=cnopts) as srv:\n",
    "        srv.put(from_path, to_path)\n",
    "    os.remove(from_path)\n",
    "\n"
   ]
  },
  {
   "cell_type": "code",
   "execution_count": null,
   "metadata": {},
   "outputs": [],
   "source": []
  },
  {
   "cell_type": "code",
   "execution_count": null,
   "metadata": {},
   "outputs": [],
   "source": []
  },
  {
   "cell_type": "code",
   "execution_count": null,
   "metadata": {},
   "outputs": [],
   "source": []
  }
 ],
 "metadata": {
  "kernelspec": {
   "display_name": "'mypython'",
   "language": "python",
   "name": "mypython"
  },
  "language_info": {
   "codemirror_mode": {
    "name": "ipython",
    "version": 3
   },
   "file_extension": ".py",
   "mimetype": "text/x-python",
   "name": "python",
   "nbconvert_exporter": "python",
   "pygments_lexer": "ipython3",
   "version": "3.9.7"
  }
 },
 "nbformat": 4,
 "nbformat_minor": 4
}
