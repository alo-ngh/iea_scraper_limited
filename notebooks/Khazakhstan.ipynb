{
 "cells": [
  {
   "cell_type": "markdown",
   "metadata": {},
   "source": [
    "# Kazakhstan oil and gas production daily numbers\n",
    "\n",
    "First attempt to extract oil and gas production daily figures.\n",
    "\n",
    "Data source: http://www.iacng.kz/en/\n"
   ]
  },
  {
   "cell_type": "code",
   "execution_count": 1,
   "metadata": {},
   "outputs": [],
   "source": [
    "%load_ext autoreload\n",
    "%autoreload 2"
   ]
  },
  {
   "cell_type": "code",
   "execution_count": 2,
   "metadata": {},
   "outputs": [],
   "source": [
    "import logging\n",
    "import sys\n",
    "\n",
    "root = logging.getLogger()\n",
    "root.setLevel(logging.DEBUG)\n",
    "\n",
    "handler = logging.StreamHandler(sys.stdout)\n",
    "handler.setLevel(logging.DEBUG)\n",
    "formatter = logging.Formatter('%(asctime)s - %(name)s - %(levelname)s - %(message)s')\n",
    "handler.setFormatter(formatter)\n",
    "root.addHandler(handler)"
   ]
  },
  {
   "cell_type": "code",
   "execution_count": 1,
   "metadata": {},
   "outputs": [
    {
     "name": "stdout",
     "output_type": "stream",
     "text": [
      "OK\n"
     ]
    }
   ],
   "source": [
    "import requests\n",
    "page = requests.get(\"http://www.iacng.kz/en/\")\n",
    "if page.status_code == 200:\n",
    "    print(\"OK\")"
   ]
  },
  {
   "cell_type": "code",
   "execution_count": 2,
   "metadata": {},
   "outputs": [],
   "source": [
    "from bs4 import BeautifulSoup\n",
    "soup = BeautifulSoup(page.content, 'html.parser')\n",
    "# print(soup.prettify())"
   ]
  },
  {
   "cell_type": "code",
   "execution_count": 3,
   "metadata": {},
   "outputs": [
    {
     "name": "stdout",
     "output_type": "stream",
     "text": [
      "<div class=\"bl-areas\">\n",
      "<div class=\"bl-areas-title\"> <b>Daily indicators of oil and gas treatment of the RK</b>\n",
      "<br/>\n",
      "           21.10.2019</div>\n",
      "<div class=\"values-outer\">\n",
      "<ul class=\"list-values\">\n",
      "<li>\n",
      "<div class=\"bl-areas-text\" style=\"text-align: left;\"><span class=\"short_text\" id=\"result_box\" lang=\"en\"><span class=\"\">Oil and gas condensate, thousand</span> <span class=\"\">tons</span></span></div>\n",
      "<div class=\"bl-areas-value\">267.7</div>\n",
      "</li>\n",
      "<li>\n",
      "<div class=\"bl-areas-text\"><span class=\"\" id=\"result_box\" lang=\"en\"><span class=\"\">Gas production, million cubic meters</span><span class=\"\"></span></span></div>\n",
      "<div class=\"bl-areas-value\">171.0</div>\n",
      "</li>\n",
      "<li>\n",
      "<div class=\"bl-areas-text\"><span class=\"\" id=\"result_box\" lang=\"en\"><span class=\"\">Processing of oil at the refinery of the RK thousand tons</span></span></div>\n",
      "<div class=\"bl-areas-value\">48.9 \n",
      "      <br/>\n",
      "</div>\n",
      "</li>\n",
      "</ul>\n",
      "</div>\n",
      "</div>\n"
     ]
    },
    {
     "data": {
      "text/plain": [
       "' Daily indicators of oil and gas treatment of the RK\\n\\n           21.10.2019'"
      ]
     },
     "execution_count": 3,
     "metadata": {},
     "output_type": "execute_result"
    }
   ],
   "source": [
    "divs = soup.find_all('div', class_='bl-areas')\n",
    "daily_stats_div = divs[0]\n",
    "print(daily_stats_div)\n",
    "title = daily_stats_div.find('div', class_='bl-areas-title').get_text()\n",
    "title"
   ]
  },
  {
   "cell_type": "code",
   "execution_count": 40,
   "metadata": {},
   "outputs": [
    {
     "data": {
      "text/plain": [
       "'04.07.2019'"
      ]
     },
     "execution_count": 40,
     "metadata": {},
     "output_type": "execute_result"
    }
   ],
   "source": [
    "import re\n",
    "date = None\n",
    "if 'Daily indicators of oil and gas treatment of the RK' in title:\n",
    "    # extract date\n",
    "    date = re.search(\"([0-9]{2}\\.[0-9]{2}\\.[0-9]{4})\", title).group()\n",
    "\n",
    "date"
   ]
  },
  {
   "cell_type": "code",
   "execution_count": 9,
   "metadata": {},
   "outputs": [
    {
     "data": {
      "text/plain": [
       "{'Oil and gas condensate, thousand tons': '267.7',\n",
       " 'Gas production, million cubic meters': '171.0',\n",
       " 'Processing of oil at the refinery of the RK thousand tons': '48.9 \\r\\n      \\n'}"
      ]
     },
     "execution_count": 9,
     "metadata": {},
     "output_type": "execute_result"
    }
   ],
   "source": [
    "results = dict()\n",
    "for stat in daily_stats_div.find_all('li'):\n",
    "    title = stat.find('div', class_='bl-areas-text').get_text()\n",
    "    value = stat.find('div', class_='bl-areas-value').get_text()\n",
    "    results[title] = value\n",
    "\n",
    "results"
   ]
  },
  {
   "cell_type": "code",
   "execution_count": 7,
   "metadata": {},
   "outputs": [
    {
     "data": {
      "text/plain": [
       "'267.7'"
      ]
     },
     "execution_count": 7,
     "metadata": {},
     "output_type": "execute_result"
    }
   ],
   "source": [
    "results['Oil and gas condensate, thousand tons']"
   ]
  },
  {
   "cell_type": "code",
   "execution_count": 47,
   "metadata": {},
   "outputs": [
    {
     "name": "stdout",
     "output_type": "stream",
     "text": [
      "<div class=\"bl-areas\">\n",
      " <div class=\"bl-areas-title\">\n",
      "  <b>\n",
      "   Daily indicators of oil and gas treatment of the RK\n",
      "  </b>\n",
      "  <br/>\n",
      "  04.07.2019\n",
      " </div>\n",
      " <div class=\"values-outer\">\n",
      "  <ul class=\"list-values\">\n",
      "   <li>\n",
      "    <div class=\"bl-areas-text\" style=\"text-align: left;\">\n",
      "     <span class=\"short_text\" id=\"result_box\" lang=\"en\">\n",
      "      <span class=\"\">\n",
      "       Oil and gas condensate, outdoors.\n",
      "      </span>\n",
      "      <span class=\"\">\n",
      "       ton\n",
      "      </span>\n",
      "     </span>\n",
      "    </div>\n",
      "    <div class=\"bl-areas-value\">\n",
      "     256.8\n",
      "    </div>\n",
      "   </li>\n",
      "   <li>\n",
      "    <div class=\"bl-areas-text\">\n",
      "     <span class=\"\" id=\"result_box\" lang=\"en\">\n",
      "      <span class=\"\">\n",
      "       Gas production, million cubic meters.\n",
      "      </span>\n",
      "      <span class=\"\">\n",
      "       m\n",
      "      </span>\n",
      "     </span>\n",
      "    </div>\n",
      "    <div class=\"bl-areas-value\">\n",
      "     160.9\n",
      "    </div>\n",
      "   </li>\n",
      "   <li>\n",
      "    <div class=\"bl-areas-text\">\n",
      "     <span class=\"\" id=\"result_box\" lang=\"en\">\n",
      "      <span class=\"\">\n",
      "       Processing of oil at the refinery of the RK thousand tons\n",
      "      </span>\n",
      "     </span>\n",
      "    </div>\n",
      "    <div class=\"bl-areas-value\">\n",
      "     49.9\n",
      "    </div>\n",
      "   </li>\n",
      "  </ul>\n",
      " </div>\n",
      "</div>\n"
     ]
    }
   ],
   "source": [
    "test = \"\"\"<div class=\"bl-areas\">\n",
    "<div class=\"bl-areas-title\"> <b>Daily indicators of oil and gas treatment of the RK</b>\n",
    "<br/>\n",
    "           04.07.2019</div>\n",
    "<div class=\"values-outer\">\n",
    "<ul class=\"list-values\">\n",
    "<li>\n",
    "<div class=\"bl-areas-text\" style=\"text-align: left;\"><span class=\"short_text\" id=\"result_box\" lang=\"en\"><span class=\"\">Oil and gas condensate, outdoors.</span> <span class=\"\">ton</span></span></div>\n",
    "<div class=\"bl-areas-value\">256.8</div>\n",
    "</li>\n",
    "<li>\n",
    "<div class=\"bl-areas-text\"><span class=\"\" id=\"result_box\" lang=\"en\"><span class=\"\">Gas production, million cubic meters.</span> <span class=\"\">m</span></span></div>\n",
    "<div class=\"bl-areas-value\">160.9</div>\n",
    "</li>\n",
    "<li>\n",
    "<div class=\"bl-areas-text\"><span class=\"\" id=\"result_box\" lang=\"en\"><span class=\"\">Processing of oil at the refinery of the RK thousand tons</span></span></div>\n",
    "<div class=\"bl-areas-value\">49.9</div>\n",
    "</li>\n",
    "</ul>\n",
    "</div>\n",
    "</div>\"\"\"\n",
    "\n",
    "s = BeautifulSoup(test, 'html.parser')\n"
   ]
  },
  {
   "cell_type": "code",
   "execution_count": 48,
   "metadata": {},
   "outputs": [
    {
     "data": {
      "text/plain": [
       "' Daily indicators of oil and gas treatment of the RK\\n\\n           04.07.2019'"
      ]
     },
     "execution_count": 48,
     "metadata": {},
     "output_type": "execute_result"
    }
   ],
   "source": [
    "title = s.find('div', class_='bl-areas-title').get_text()\n",
    "title"
   ]
  },
  {
   "cell_type": "code",
   "execution_count": 62,
   "metadata": {},
   "outputs": [
    {
     "data": {
      "text/plain": [
       "'2019-07-04'"
      ]
     },
     "execution_count": 62,
     "metadata": {},
     "output_type": "execute_result"
    }
   ],
   "source": [
    "new_date = '-'.join(date.split('.')[::-1])\n",
    "new_date"
   ]
  },
  {
   "cell_type": "code",
   "execution_count": 2,
   "metadata": {},
   "outputs": [],
   "source": [
    "from scraper.core.utils import logger\n",
    "import logging\n",
    "logger.level = logging.DEBUG"
   ]
  },
  {
   "cell_type": "code",
   "execution_count": 5,
   "metadata": {},
   "outputs": [
    {
     "name": "stdout",
     "output_type": "stream",
     "text": [
      "2019-10-22 10:03:58,959 - urllib3.connectionpool - DEBUG - Starting new HTTP connection (1): proxy.iea.org:8080\n",
      "2019-10-22 10:03:59,566 - urllib3.connectionpool - DEBUG - http://proxy.iea.org:8080 \"GET http://www.iacng.kz/en/ HTTP/1.1\" 200 None\n",
      "2019-10-22 10:03:59,601 - scraper.jobs.kz_iacng.job - DEBUG - Full load: skipping existing current date file to avoid duplicates: kz_iacng_daily_2019-10-21.html\n",
      "2019-10-22 10:03:59,602 - urllib3.connectionpool - DEBUG - Starting new HTTP connection (1): vipenta:8000\n",
      "2019-10-22 10:03:59,874 - urllib3.connectionpool - DEBUG - http://vipenta:8000 \"GET /dimension/source HTTP/1.1\" 200 659356\n",
      "2019-10-22 10:03:59,894 - scraper.core.utils - INFO - download_and_get_checksum: 4.002571105957031 ms\n",
      "2019-10-22 10:03:59,895 - urllib3.connectionpool - DEBUG - Starting new HTTP connection (1): vipenta:8000\n",
      "2019-10-22 10:03:59,910 - urllib3.connectionpool - DEBUG - http://vipenta:8000 \"GET /dimension/source?code=kz_iacng_daily_2019-07-08 HTTP/1.1\" 200 731\n",
      "2019-10-22 10:03:59,913 - urllib3.connectionpool - DEBUG - Starting new HTTP connection (1): vipenta:8000\n",
      "2019-10-22 10:03:59,925 - urllib3.connectionpool - DEBUG - http://vipenta:8000 \"GET /dimension/source?code=kz_iacng_daily_2019-07-04 HTTP/1.1\" 200 708\n",
      "2019-10-22 10:03:59,928 - urllib3.connectionpool - DEBUG - Starting new HTTP connection (1): vipenta:8000\n",
      "2019-10-22 10:03:59,941 - urllib3.connectionpool - DEBUG - http://vipenta:8000 \"GET /dimension/source?code=kz_iacng_daily_2019-10-21 HTTP/1.1\" 404 3\n",
      "2019-10-22 10:03:59,943 - scraper.core.utils - INFO - rm_sources_up_to_date: 49.036264419555664 ms\n",
      "2019-10-22 10:03:59,943 - scraper.jobs.kz_iacng.job - DEBUG - Transforming data ...\n",
      "2019-10-22 10:03:59,944 - scraper.jobs.kz_iacng.job - DEBUG - Transforming provider ...\n",
      "2019-10-22 10:03:59,945 - scraper.jobs.kz_iacng.job - DEBUG - Adding provider to dynamic_dim: KZ_IACNG\n",
      "2019-10-22 10:03:59,947 - urllib3.connectionpool - DEBUG - Starting new HTTP connection (1): vipenta:8000\n",
      "2019-10-22 10:03:59,961 - urllib3.connectionpool - DEBUG - http://vipenta:8000 \"GET /dimension/provider HTTP/1.1\" 200 3424\n",
      "2019-10-22 10:03:59,962 - scraper.jobs.kz_iacng.job - DEBUG - Reading data from files in parallel ...\n",
      "2019-10-22 10:03:59,964 - scraper.jobs.kz_iacng.job - DEBUG - Getting data from kz_iacng_daily_2019-10-21.html\n",
      "2019-10-22 10:03:59,970 - scraper.jobs.kz_iacng.job - DEBUG - Data read from page: {'Oil and gas condensate, thousand tons': '267.7', 'Gas production, million cubic meters': '171.0', 'Processing of oil at the refinery of the RK thousand tons': '48.9 \\n      \\n'}\n",
      "2019-10-22 10:03:59,982 - scraper.jobs.kz_iacng.job - DEBUG - Concatenating results ...\n",
      "2019-10-22 10:03:59,984 - scraper.jobs.kz_iacng.job - DEBUG - Transforming data frame\n",
      "2019-10-22 10:04:00,003 - urllib3.connectionpool - DEBUG - Starting new HTTP connection (1): vipenta:8000\n",
      "2019-10-22 10:04:00,020 - urllib3.connectionpool - DEBUG - http://vipenta:8000 \"POST /dimension/source HTTP/1.1\" 201 10\n",
      "2019-10-22 10:04:00,021 - root - INFO - 0 items ([]...) inserted to http://vipenta:8000/dimension/source\n",
      "2019-10-22 10:04:00,022 - scraper.core.utils - INFO - insert_new_dynamic_dim: 21.013498306274414 ms\n",
      "2019-10-22 10:04:00,024 - urllib3.connectionpool - DEBUG - Starting new HTTP connection (1): vipenta:8000\n",
      "2019-10-22 10:04:00,241 - urllib3.connectionpool - DEBUG - http://vipenta:8000 \"POST /main/datapoint HTTP/1.1\" 201 10\n",
      "2019-10-22 10:04:00,243 - root - INFO - 0 items ([]...) inserted to http://vipenta:8000/main/datapoint\n",
      "2019-10-22 10:04:00,243 - scraper.core.utils - INFO - upsert: 220.29423713684082 ms\n",
      "2019-10-22 10:04:00,245 - urllib3.connectionpool - DEBUG - Starting new HTTP connection (1): vipenta:8000\n",
      "2019-10-22 10:04:00,260 - urllib3.connectionpool - DEBUG - http://vipenta:8000 \"GET /dimension/source?code=kz_iacng_daily_2019-10-21 HTTP/1.1\" 200 431\n",
      "2019-10-22 10:04:00,263 - urllib3.connectionpool - DEBUG - Starting new HTTP connection (1): vipenta:8000\n",
      "2019-10-22 10:04:00,279 - urllib3.connectionpool - DEBUG - http://vipenta:8000 \"PUT /dimension/source/6801 HTTP/1.1\" 201 10\n",
      "2019-10-22 10:04:00,280 - scraper.core.utils - INFO - update_sources_metadata: 36.02457046508789 ms\n"
     ]
    }
   ],
   "source": [
    "from scraper.jobs.kz_iacng.job import KazakhstanDailyJob\n",
    "\n",
    "kz = KazakhstanDailyJob(full_load=True)\n",
    "kz.run()"
   ]
  },
  {
   "cell_type": "code",
   "execution_count": 50,
   "metadata": {},
   "outputs": [
    {
     "data": {
      "text/plain": [
       "[{'code': 'kz_iacng_daily_2019-07-08',\n",
       "  'url': 'http://www.iacng.kz/en/',\n",
       "  'path': 'kz_iacng_daily_2019-07-08.html',\n",
       "  'long_name': 'KAZAKHSTAN KZ_IACNG Oil&Condensate, Gas amd Refinery Daily Production - 2019-07-08',\n",
       "  'meta_data': {'content': <div class=\"bl-areas\">\n",
       "   <div class=\"bl-areas-title\"> <b>Daily indicators of oil and gas treatment of the RK</b>\n",
       "   <br/>\n",
       "              08.07.2019</div>\n",
       "   <div class=\"values-outer\">\n",
       "   <ul class=\"list-values\">\n",
       "   <li>\n",
       "   <div class=\"bl-areas-text\" style=\"text-align: left;\"><span class=\"short_text\" id=\"result_box\" lang=\"en\"><span class=\"\">Oil and gas condensate, outdoors.</span> <span class=\"\">ton</span></span></div>\n",
       "   <div class=\"bl-areas-value\">260.0</div>\n",
       "   </li>\n",
       "   <li>\n",
       "   <div class=\"bl-areas-text\"><span class=\"\" id=\"result_box\" lang=\"en\"><span class=\"\">Gas production, million cubic meters.</span> <span class=\"\">m</span></span></div>\n",
       "   <div class=\"bl-areas-value\">165.5</div>\n",
       "   </li>\n",
       "   <li>\n",
       "   <div class=\"bl-areas-text\"><span class=\"\" id=\"result_box\" lang=\"en\"><span class=\"\">Processing of oil at the refinery of the RK thousand tons</span></span></div>\n",
       "   <div class=\"bl-areas-value\">36.4</div>\n",
       "   </li>\n",
       "   </ul>\n",
       "   </div>\n",
       "   </div>},\n",
       "  'last_download': '07/09/19 12:19:22',\n",
       "  'checksum': '3220b0df2885687a3babb55468009b78'},\n",
       " {'code': 'kz_iacng_daily_2019-07-04',\n",
       "  'url': 'http://www.iacng.kz/en/',\n",
       "  'path': 'kz_iacng_daily_2019-07-04.html',\n",
       "  'long_name': 'KAZAKHSTAN KZ_IACNG Oil&Condensate, Gas amd Refinery Daily Production - 2019-07-08',\n",
       "  'checksum': 'a245893330d07ae35e60320153fb52f4'}]"
      ]
     },
     "execution_count": 50,
     "metadata": {},
     "output_type": "execute_result"
    }
   ],
   "source": [
    "[vars(source) for source in kz.sources]"
   ]
  },
  {
   "cell_type": "code",
   "execution_count": 44,
   "metadata": {},
   "outputs": [],
   "source": [
    "kz.download_source(kz.sources[0])"
   ]
  },
  {
   "cell_type": "code",
   "execution_count": 6,
   "metadata": {},
   "outputs": [
    {
     "data": {
      "text/plain": [
       "defaultdict(list,\n",
       "            {'source': [{'code': 'kz_iacng_daily_20190709',\n",
       "               'url': 'http://www.iacng.kz/en/',\n",
       "               'path': 'kz_iacng_daily_20190709.html',\n",
       "               'long_name': 'KAZAKHSTAN KZ_IACNG Oil&Condensate, Gas amd Refinery Daily Production - 20190709'},\n",
       "              {'code': 'kz_iacng_daily_20190708',\n",
       "               'url': 'http://www.iacng.kz/en/',\n",
       "               'path': 'kz_iacng_daily_20190708.html',\n",
       "               'long_name': 'KAZAKHSTAN KZ_IACNG Oil&Condensate, Gas amd Refinery Daily Production - 20190709'}],\n",
       "             'provider': [{'code': 'KZ_IACNG',\n",
       "               'long_name': 'Information-Analytical Centre of Oil and Gas - JSC',\n",
       "               'url': 'http://www.iacng.kz/en/'}]})"
      ]
     },
     "execution_count": 6,
     "metadata": {},
     "output_type": "execute_result"
    }
   ],
   "source": [
    "kz.dynamic_dim"
   ]
  },
  {
   "cell_type": "code",
   "execution_count": 46,
   "metadata": {},
   "outputs": [
    {
     "ename": "AttributeError",
     "evalue": "'KazakhstanDailyJob' object has no attribute 'get_data_from_source'",
     "output_type": "error",
     "traceback": [
      "\u001b[1;31m---------------------------------------------------------------------------\u001b[0m",
      "\u001b[1;31mAttributeError\u001b[0m                            Traceback (most recent call last)",
      "\u001b[1;32m<ipython-input-46-a74de6bae2ee>\u001b[0m in \u001b[0;36m<module>\u001b[1;34m()\u001b[0m\n\u001b[1;32m----> 1\u001b[1;33m \u001b[0mdf\u001b[0m \u001b[1;33m=\u001b[0m \u001b[0mkz\u001b[0m\u001b[1;33m.\u001b[0m\u001b[0mget_data_from_source\u001b[0m\u001b[1;33m(\u001b[0m\u001b[0mkz\u001b[0m\u001b[1;33m.\u001b[0m\u001b[0msources\u001b[0m\u001b[1;33m[\u001b[0m\u001b[1;36m0\u001b[0m\u001b[1;33m]\u001b[0m\u001b[1;33m)\u001b[0m\u001b[1;33m\u001b[0m\u001b[1;33m\u001b[0m\u001b[0m\n\u001b[0m\u001b[0;32m      2\u001b[0m \u001b[0mdf\u001b[0m\u001b[1;33m\u001b[0m\u001b[1;33m\u001b[0m\u001b[0m\n",
      "\u001b[1;31mAttributeError\u001b[0m: 'KazakhstanDailyJob' object has no attribute 'get_data_from_source'"
     ]
    }
   ],
   "source": [
    "df = kz.get_data_from_source(kz.sources[0])\n",
    "df"
   ]
  },
  {
   "cell_type": "code",
   "execution_count": 33,
   "metadata": {},
   "outputs": [
    {
     "data": {
      "text/html": [
       "<div>\n",
       "<style scoped>\n",
       "    .dataframe tbody tr th:only-of-type {\n",
       "        vertical-align: middle;\n",
       "    }\n",
       "\n",
       "    .dataframe tbody tr th {\n",
       "        vertical-align: top;\n",
       "    }\n",
       "\n",
       "    .dataframe thead th {\n",
       "        text-align: right;\n",
       "    }\n",
       "</style>\n",
       "<table border=\"1\" class=\"dataframe\">\n",
       "  <thead>\n",
       "    <tr style=\"text-align: right;\">\n",
       "      <th></th>\n",
       "      <th>flow</th>\n",
       "      <th>product</th>\n",
       "      <th>unit</th>\n",
       "      <th>period</th>\n",
       "      <th>value</th>\n",
       "    </tr>\n",
       "  </thead>\n",
       "  <tbody>\n",
       "    <tr>\n",
       "      <th>0</th>\n",
       "      <td>SUPPLY</td>\n",
       "      <td>CRUDEOIL</td>\n",
       "      <td>KBBL</td>\n",
       "      <td>2019-07-08</td>\n",
       "      <td>1.989</td>\n",
       "    </tr>\n",
       "    <tr>\n",
       "      <th>0</th>\n",
       "      <td>SUPPLY</td>\n",
       "      <td>NATGAS</td>\n",
       "      <td>MCM</td>\n",
       "      <td>2019-07-08</td>\n",
       "      <td>165.500</td>\n",
       "    </tr>\n",
       "    <tr>\n",
       "      <th>0</th>\n",
       "      <td>REFINOBS</td>\n",
       "      <td>CRUDEOIL</td>\n",
       "      <td>KBBL</td>\n",
       "      <td>2019-07-08</td>\n",
       "      <td>278.460</td>\n",
       "    </tr>\n",
       "  </tbody>\n",
       "</table>\n",
       "</div>"
      ],
      "text/plain": [
       "       flow   product  unit      period    value\n",
       "0    SUPPLY  CRUDEOIL  KBBL  2019-07-08    1.989\n",
       "0    SUPPLY    NATGAS   MCM  2019-07-08  165.500\n",
       "0  REFINOBS  CRUDEOIL  KBBL  2019-07-08  278.460"
      ]
     },
     "execution_count": 33,
     "metadata": {},
     "output_type": "execute_result"
    }
   ],
   "source": [
    "TON_TO_BBL_RATIO = 7.65\n",
    "\n",
    "def convert_value(x):\n",
    "    \"\"\"\n",
    "    Converts a measure in tons to barrels using Kazakhstan oil density.\n",
    "    :param x: amount in tons\n",
    "    :return: amount in barrels\n",
    "    \"\"\"\n",
    "   \n",
    "    if x['unit'] == 'T':\n",
    "        x['value'] = x['value'] * TON_TO_BBL_RATIO / 1000\n",
    "        x['unit'] = 'KBBL'\n",
    "    elif x['unit'] == 'KT':\n",
    "        x['value'] = x['value'] * TON_TO_BBL_RATIO\n",
    "        x['unit'] = 'KBBL'\n",
    "    else:\n",
    "        x['value']\n",
    "    \n",
    "    return x\n",
    "\n",
    "df.apply(convert_value, axis=1)"
   ]
  },
  {
   "cell_type": "code",
   "execution_count": 22,
   "metadata": {},
   "outputs": [
    {
     "data": {
      "text/plain": [
       "[('__init__',\n",
       "  <bound method KazakhstanDailyJob.__init__ of <scraper.jobs.kz_iacng.job.KazakhstanDailyJob object at 0x00000047E0890208>>),\n",
       " ('download_and_get_checksum',\n",
       "  <bound method Job.download_and_get_checksum of <scraper.jobs.kz_iacng.job.KazakhstanDailyJob object at 0x00000047E0890208>>),\n",
       " ('get_source_from_code',\n",
       "  <bound method Job.get_source_from_code of <scraper.jobs.kz_iacng.job.KazakhstanDailyJob object at 0x00000047E0890208>>),\n",
       " ('get_sources',\n",
       "  <bound method KazakhstanDailyJob.get_sources of <scraper.jobs.kz_iacng.job.KazakhstanDailyJob object at 0x00000047E0890208>>),\n",
       " ('insert_new_dynamic_dim',\n",
       "  <bound method Job.insert_new_dynamic_dim of <scraper.jobs.kz_iacng.job.KazakhstanDailyJob object at 0x00000047E0890208>>),\n",
       " ('remove_existing_dynamic_dim',\n",
       "  <bound method Job.remove_existing_dynamic_dim of <scraper.jobs.kz_iacng.job.KazakhstanDailyJob object at 0x00000047E0890208>>),\n",
       " ('rm_sources_up_to_date',\n",
       "  <bound method Job.rm_sources_up_to_date of <scraper.jobs.kz_iacng.job.KazakhstanDailyJob object at 0x00000047E0890208>>),\n",
       " ('run',\n",
       "  <bound method Job.run of <scraper.jobs.kz_iacng.job.KazakhstanDailyJob object at 0x00000047E0890208>>),\n",
       " ('transform',\n",
       "  <bound method KazakhstanDailyJob.transform of <scraper.jobs.kz_iacng.job.KazakhstanDailyJob object at 0x00000047E0890208>>),\n",
       " ('update_sources_metadata',\n",
       "  <bound method Job.update_sources_metadata of <scraper.jobs.kz_iacng.job.KazakhstanDailyJob object at 0x00000047E0890208>>),\n",
       " ('upsert',\n",
       "  <bound method Job.upsert of <scraper.jobs.kz_iacng.job.KazakhstanDailyJob object at 0x00000047E0890208>>)]"
      ]
     },
     "execution_count": 22,
     "metadata": {},
     "output_type": "execute_result"
    }
   ],
   "source": [
    "import inspect\n",
    "inspect.getmembers(kz, predicate=inspect.ismethod)"
   ]
  },
  {
   "cell_type": "code",
   "execution_count": 47,
   "metadata": {},
   "outputs": [],
   "source": [
    "kz.transform()"
   ]
  },
  {
   "cell_type": "code",
   "execution_count": 48,
   "metadata": {},
   "outputs": [
    {
     "data": {
      "text/plain": [
       "[{'flow': 'SUPPLY',\n",
       "  'product': 'CRUDEOIL',\n",
       "  'unit': 'KBBL',\n",
       "  'period': '2019-07-08',\n",
       "  'value': 1.989,\n",
       "  'provider': 'KZ_IACNG',\n",
       "  'area': 'KAZAKHSTAN',\n",
       "  'frequency': 'Daily',\n",
       "  'original': True},\n",
       " {'flow': 'SUPPLY',\n",
       "  'product': 'NATGAS',\n",
       "  'unit': 'MCM',\n",
       "  'period': '2019-07-08',\n",
       "  'value': 165.5,\n",
       "  'provider': 'KZ_IACNG',\n",
       "  'area': 'KAZAKHSTAN',\n",
       "  'frequency': 'Daily',\n",
       "  'original': True},\n",
       " {'flow': 'REFINOBS',\n",
       "  'product': 'CRUDEOIL',\n",
       "  'unit': 'KBBL',\n",
       "  'period': '2019-07-08',\n",
       "  'value': 278.46,\n",
       "  'provider': 'KZ_IACNG',\n",
       "  'area': 'KAZAKHSTAN',\n",
       "  'frequency': 'Daily',\n",
       "  'original': True},\n",
       " {'flow': 'SUPPLY',\n",
       "  'product': 'CRUDEOIL',\n",
       "  'unit': 'KBBL',\n",
       "  'period': '2019-07-04',\n",
       "  'value': 1.9645200000000003,\n",
       "  'provider': 'KZ_IACNG',\n",
       "  'area': 'KAZAKHSTAN',\n",
       "  'frequency': 'Daily',\n",
       "  'original': True},\n",
       " {'flow': 'SUPPLY',\n",
       "  'product': 'NATGAS',\n",
       "  'unit': 'MCM',\n",
       "  'period': '2019-07-04',\n",
       "  'value': 160.9,\n",
       "  'provider': 'KZ_IACNG',\n",
       "  'area': 'KAZAKHSTAN',\n",
       "  'frequency': 'Daily',\n",
       "  'original': True},\n",
       " {'flow': 'REFINOBS',\n",
       "  'product': 'CRUDEOIL',\n",
       "  'unit': 'KBBL',\n",
       "  'period': '2019-07-04',\n",
       "  'value': 381.735,\n",
       "  'provider': 'KZ_IACNG',\n",
       "  'area': 'KAZAKHSTAN',\n",
       "  'frequency': 'Daily',\n",
       "  'original': True}]"
      ]
     },
     "execution_count": 48,
     "metadata": {},
     "output_type": "execute_result"
    }
   ],
   "source": [
    "kz.data"
   ]
  },
  {
   "cell_type": "code",
   "execution_count": 57,
   "metadata": {},
   "outputs": [
    {
     "name": "stdout",
     "output_type": "stream",
     "text": [
      "2019-07-09\n"
     ]
    }
   ],
   "source": [
    "import datetime\n",
    "print(datetime.datetime.today().strftime('%Y-%m-%d'))\n"
   ]
  },
  {
   "cell_type": "code",
   "execution_count": 59,
   "metadata": {},
   "outputs": [
    {
     "data": {
      "text/plain": [
       "'20190709'"
      ]
     },
     "execution_count": 59,
     "metadata": {},
     "output_type": "execute_result"
    }
   ],
   "source": [
    "path = 'kz_iacng_daily_20190709.html'\n",
    "path.split('.')[0].split('_')[-1]"
   ]
  },
  {
   "cell_type": "code",
   "execution_count": 4,
   "metadata": {},
   "outputs": [
    {
     "data": {
      "text/plain": [
       "80"
      ]
     },
     "execution_count": 4,
     "metadata": {},
     "output_type": "execute_result"
    }
   ],
   "source": [
    "len('KAZAKHSTAN KZ_IACNG Oil&Condensate, Gas amd Refinery Daily Production - 20190709')"
   ]
  },
  {
   "cell_type": "code",
   "execution_count": 19,
   "metadata": {},
   "outputs": [],
   "source": [
    "import pandas as pd\n",
    "dtf = pd.DataFrame(kz.data)\n",
    "dtf.sort_values(by='period', ascending=False)\n",
    "dtf.drop_duplicates(subset=['flow', 'product', 'unit', 'period', 'value'], keep='first', inplace=True)"
   ]
  },
  {
   "cell_type": "code",
   "execution_count": 20,
   "metadata": {},
   "outputs": [
    {
     "data": {
      "text/html": [
       "<div>\n",
       "<style scoped>\n",
       "    .dataframe tbody tr th:only-of-type {\n",
       "        vertical-align: middle;\n",
       "    }\n",
       "\n",
       "    .dataframe tbody tr th {\n",
       "        vertical-align: top;\n",
       "    }\n",
       "\n",
       "    .dataframe thead th {\n",
       "        text-align: right;\n",
       "    }\n",
       "</style>\n",
       "<table border=\"1\" class=\"dataframe\">\n",
       "  <thead>\n",
       "    <tr style=\"text-align: right;\">\n",
       "      <th></th>\n",
       "      <th>area</th>\n",
       "      <th>flow</th>\n",
       "      <th>frequency</th>\n",
       "      <th>original</th>\n",
       "      <th>period</th>\n",
       "      <th>product</th>\n",
       "      <th>provider</th>\n",
       "      <th>source</th>\n",
       "      <th>unit</th>\n",
       "      <th>value</th>\n",
       "    </tr>\n",
       "  </thead>\n",
       "  <tbody>\n",
       "    <tr>\n",
       "      <th>0</th>\n",
       "      <td>KAZAKHSTAN</td>\n",
       "      <td>SUPPLY</td>\n",
       "      <td>Daily</td>\n",
       "      <td>True</td>\n",
       "      <td>2019-07-04</td>\n",
       "      <td>CRUDEOIL</td>\n",
       "      <td>KZ_IACNG</td>\n",
       "      <td>kz_iacng_daily_20190707</td>\n",
       "      <td>KBBL</td>\n",
       "      <td>1.96452</td>\n",
       "    </tr>\n",
       "    <tr>\n",
       "      <th>1</th>\n",
       "      <td>KAZAKHSTAN</td>\n",
       "      <td>SUPPLY</td>\n",
       "      <td>Daily</td>\n",
       "      <td>True</td>\n",
       "      <td>2019-07-04</td>\n",
       "      <td>NATGAS</td>\n",
       "      <td>KZ_IACNG</td>\n",
       "      <td>kz_iacng_daily_20190707</td>\n",
       "      <td>MCM</td>\n",
       "      <td>160.90000</td>\n",
       "    </tr>\n",
       "    <tr>\n",
       "      <th>2</th>\n",
       "      <td>KAZAKHSTAN</td>\n",
       "      <td>REFINOBS</td>\n",
       "      <td>Daily</td>\n",
       "      <td>True</td>\n",
       "      <td>2019-07-04</td>\n",
       "      <td>CRUDEOIL</td>\n",
       "      <td>KZ_IACNG</td>\n",
       "      <td>kz_iacng_daily_20190707</td>\n",
       "      <td>KBBL</td>\n",
       "      <td>381.73500</td>\n",
       "    </tr>\n",
       "  </tbody>\n",
       "</table>\n",
       "</div>"
      ],
      "text/plain": [
       "         area      flow frequency  original      period   product  provider  \\\n",
       "0  KAZAKHSTAN    SUPPLY     Daily      True  2019-07-04  CRUDEOIL  KZ_IACNG   \n",
       "1  KAZAKHSTAN    SUPPLY     Daily      True  2019-07-04    NATGAS  KZ_IACNG   \n",
       "2  KAZAKHSTAN  REFINOBS     Daily      True  2019-07-04  CRUDEOIL  KZ_IACNG   \n",
       "\n",
       "                    source  unit      value  \n",
       "0  kz_iacng_daily_20190707  KBBL    1.96452  \n",
       "1  kz_iacng_daily_20190707   MCM  160.90000  \n",
       "2  kz_iacng_daily_20190707  KBBL  381.73500  "
      ]
     },
     "execution_count": 20,
     "metadata": {},
     "output_type": "execute_result"
    }
   ],
   "source": [
    "dtf"
   ]
  },
  {
   "cell_type": "code",
   "execution_count": 2,
   "metadata": {},
   "outputs": [
    {
     "name": "stdout",
     "output_type": "stream",
     "text": [
      "['toril.bosoni@iea.org', 'Anne.KLOSS@iea.org', 'peg.mackey@iea.org', 'luisfernando.rosa@iea.org']\n"
     ]
    }
   ],
   "source": [
    "MAIL_RECIPIENT = ['luisfernando.rosa@iea.org']\n",
    "NEW_DATA_DAILY_RECIPIENT = ['toril.bosoni@iea.org', 'Anne.KLOSS@iea.org', 'peg.mackey@iea.org'] + MAIL_RECIPIENT\n",
    "print(NEW_DATA_DAILY_RECIPIENT)"
   ]
  },
  {
   "cell_type": "code",
   "execution_count": null,
   "metadata": {},
   "outputs": [],
   "source": []
  }
 ],
 "metadata": {
  "kernelspec": {
   "display_name": "Python 3",
   "language": "python",
   "name": "python3"
  },
  "language_info": {
   "codemirror_mode": {
    "name": "ipython",
    "version": 3
   },
   "file_extension": ".py",
   "mimetype": "text/x-python",
   "name": "python",
   "nbconvert_exporter": "python",
   "pygments_lexer": "ipython3",
   "version": "3.6.5"
  }
 },
 "nbformat": 4,
 "nbformat_minor": 2
}
